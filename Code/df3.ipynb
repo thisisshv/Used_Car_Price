{
 "cells": [
  {
   "cell_type": "markdown",
   "id": "c9e11a33-24b6-4097-adc1-7cd6cf87c3bb",
   "metadata": {},
   "source": [
    "# Dataset 3 Cleaning"
   ]
  },
  {
   "cell_type": "markdown",
   "id": "283ba2d4-5b2a-48d1-9d7c-ab9902591be7",
   "metadata": {},
   "source": [
    "### Importing required libraries"
   ]
  },
  {
   "cell_type": "code",
   "execution_count": 1,
   "id": "0e31f764-f21f-43e4-86dd-6523b45aa928",
   "metadata": {},
   "outputs": [],
   "source": [
    "import numpy as np\n",
    "import pandas as pd\n",
    "import matplotlib.pyplot as plt\n",
    "import seaborn as sns\n",
    "import warnings\n",
    "warnings.filterwarnings(\"ignore\")"
   ]
  },
  {
   "cell_type": "markdown",
   "id": "968315cd-8d1a-4159-b286-ad75d644b121",
   "metadata": {},
   "source": [
    "### Loading data"
   ]
  },
  {
   "cell_type": "code",
   "execution_count": 2,
   "id": "6f9293b0-429e-49e3-8106-f41a3818b3e6",
   "metadata": {},
   "outputs": [
    {
     "data": {
      "text/html": [
       "<div>\n",
       "<style scoped>\n",
       "    .dataframe tbody tr th:only-of-type {\n",
       "        vertical-align: middle;\n",
       "    }\n",
       "\n",
       "    .dataframe tbody tr th {\n",
       "        vertical-align: top;\n",
       "    }\n",
       "\n",
       "    .dataframe thead th {\n",
       "        text-align: right;\n",
       "    }\n",
       "</style>\n",
       "<table border=\"1\" class=\"dataframe\">\n",
       "  <thead>\n",
       "    <tr style=\"text-align: right;\">\n",
       "      <th></th>\n",
       "      <th>S.No.</th>\n",
       "      <th>Name</th>\n",
       "      <th>Location</th>\n",
       "      <th>Year</th>\n",
       "      <th>Kilometers_Driven</th>\n",
       "      <th>Fuel_Type</th>\n",
       "      <th>Transmission</th>\n",
       "      <th>Owner_Type</th>\n",
       "      <th>Mileage</th>\n",
       "      <th>Engine</th>\n",
       "      <th>Power</th>\n",
       "      <th>Seats</th>\n",
       "      <th>New_Price</th>\n",
       "      <th>Price</th>\n",
       "    </tr>\n",
       "  </thead>\n",
       "  <tbody>\n",
       "    <tr>\n",
       "      <th>0</th>\n",
       "      <td>0</td>\n",
       "      <td>Maruti Wagon R LXI CNG</td>\n",
       "      <td>Mumbai</td>\n",
       "      <td>2010</td>\n",
       "      <td>72000</td>\n",
       "      <td>CNG</td>\n",
       "      <td>Manual</td>\n",
       "      <td>First</td>\n",
       "      <td>26.6 km/kg</td>\n",
       "      <td>998 CC</td>\n",
       "      <td>58.16 bhp</td>\n",
       "      <td>5.0</td>\n",
       "      <td>NaN</td>\n",
       "      <td>1.75</td>\n",
       "    </tr>\n",
       "    <tr>\n",
       "      <th>1</th>\n",
       "      <td>1</td>\n",
       "      <td>Hyundai Creta 1.6 CRDi SX Option</td>\n",
       "      <td>Pune</td>\n",
       "      <td>2015</td>\n",
       "      <td>41000</td>\n",
       "      <td>Diesel</td>\n",
       "      <td>Manual</td>\n",
       "      <td>First</td>\n",
       "      <td>19.67 kmpl</td>\n",
       "      <td>1582 CC</td>\n",
       "      <td>126.2 bhp</td>\n",
       "      <td>5.0</td>\n",
       "      <td>NaN</td>\n",
       "      <td>12.50</td>\n",
       "    </tr>\n",
       "    <tr>\n",
       "      <th>2</th>\n",
       "      <td>2</td>\n",
       "      <td>Honda Jazz V</td>\n",
       "      <td>Chennai</td>\n",
       "      <td>2011</td>\n",
       "      <td>46000</td>\n",
       "      <td>Petrol</td>\n",
       "      <td>Manual</td>\n",
       "      <td>First</td>\n",
       "      <td>18.2 kmpl</td>\n",
       "      <td>1199 CC</td>\n",
       "      <td>88.7 bhp</td>\n",
       "      <td>5.0</td>\n",
       "      <td>8.61 Lakh</td>\n",
       "      <td>4.50</td>\n",
       "    </tr>\n",
       "    <tr>\n",
       "      <th>3</th>\n",
       "      <td>3</td>\n",
       "      <td>Maruti Ertiga VDI</td>\n",
       "      <td>Chennai</td>\n",
       "      <td>2012</td>\n",
       "      <td>87000</td>\n",
       "      <td>Diesel</td>\n",
       "      <td>Manual</td>\n",
       "      <td>First</td>\n",
       "      <td>20.77 kmpl</td>\n",
       "      <td>1248 CC</td>\n",
       "      <td>88.76 bhp</td>\n",
       "      <td>7.0</td>\n",
       "      <td>NaN</td>\n",
       "      <td>6.00</td>\n",
       "    </tr>\n",
       "    <tr>\n",
       "      <th>4</th>\n",
       "      <td>4</td>\n",
       "      <td>Audi A4 New 2.0 TDI Multitronic</td>\n",
       "      <td>Coimbatore</td>\n",
       "      <td>2013</td>\n",
       "      <td>40670</td>\n",
       "      <td>Diesel</td>\n",
       "      <td>Automatic</td>\n",
       "      <td>Second</td>\n",
       "      <td>15.2 kmpl</td>\n",
       "      <td>1968 CC</td>\n",
       "      <td>140.8 bhp</td>\n",
       "      <td>5.0</td>\n",
       "      <td>NaN</td>\n",
       "      <td>17.74</td>\n",
       "    </tr>\n",
       "    <tr>\n",
       "      <th>...</th>\n",
       "      <td>...</td>\n",
       "      <td>...</td>\n",
       "      <td>...</td>\n",
       "      <td>...</td>\n",
       "      <td>...</td>\n",
       "      <td>...</td>\n",
       "      <td>...</td>\n",
       "      <td>...</td>\n",
       "      <td>...</td>\n",
       "      <td>...</td>\n",
       "      <td>...</td>\n",
       "      <td>...</td>\n",
       "      <td>...</td>\n",
       "      <td>...</td>\n",
       "    </tr>\n",
       "    <tr>\n",
       "      <th>7248</th>\n",
       "      <td>7248</td>\n",
       "      <td>Volkswagen Vento Diesel Trendline</td>\n",
       "      <td>Hyderabad</td>\n",
       "      <td>2011</td>\n",
       "      <td>89411</td>\n",
       "      <td>Diesel</td>\n",
       "      <td>Manual</td>\n",
       "      <td>First</td>\n",
       "      <td>20.54 kmpl</td>\n",
       "      <td>1598 CC</td>\n",
       "      <td>103.6 bhp</td>\n",
       "      <td>5.0</td>\n",
       "      <td>NaN</td>\n",
       "      <td>NaN</td>\n",
       "    </tr>\n",
       "    <tr>\n",
       "      <th>7249</th>\n",
       "      <td>7249</td>\n",
       "      <td>Volkswagen Polo GT TSI</td>\n",
       "      <td>Mumbai</td>\n",
       "      <td>2015</td>\n",
       "      <td>59000</td>\n",
       "      <td>Petrol</td>\n",
       "      <td>Automatic</td>\n",
       "      <td>First</td>\n",
       "      <td>17.21 kmpl</td>\n",
       "      <td>1197 CC</td>\n",
       "      <td>103.6 bhp</td>\n",
       "      <td>5.0</td>\n",
       "      <td>NaN</td>\n",
       "      <td>NaN</td>\n",
       "    </tr>\n",
       "    <tr>\n",
       "      <th>7250</th>\n",
       "      <td>7250</td>\n",
       "      <td>Nissan Micra Diesel XV</td>\n",
       "      <td>Kolkata</td>\n",
       "      <td>2012</td>\n",
       "      <td>28000</td>\n",
       "      <td>Diesel</td>\n",
       "      <td>Manual</td>\n",
       "      <td>First</td>\n",
       "      <td>23.08 kmpl</td>\n",
       "      <td>1461 CC</td>\n",
       "      <td>63.1 bhp</td>\n",
       "      <td>5.0</td>\n",
       "      <td>NaN</td>\n",
       "      <td>NaN</td>\n",
       "    </tr>\n",
       "    <tr>\n",
       "      <th>7251</th>\n",
       "      <td>7251</td>\n",
       "      <td>Volkswagen Polo GT TSI</td>\n",
       "      <td>Pune</td>\n",
       "      <td>2013</td>\n",
       "      <td>52262</td>\n",
       "      <td>Petrol</td>\n",
       "      <td>Automatic</td>\n",
       "      <td>Third</td>\n",
       "      <td>17.2 kmpl</td>\n",
       "      <td>1197 CC</td>\n",
       "      <td>103.6 bhp</td>\n",
       "      <td>5.0</td>\n",
       "      <td>NaN</td>\n",
       "      <td>NaN</td>\n",
       "    </tr>\n",
       "    <tr>\n",
       "      <th>7252</th>\n",
       "      <td>7252</td>\n",
       "      <td>Mercedes-Benz E-Class 2009-2013 E 220 CDI Avan...</td>\n",
       "      <td>Kochi</td>\n",
       "      <td>2014</td>\n",
       "      <td>72443</td>\n",
       "      <td>Diesel</td>\n",
       "      <td>Automatic</td>\n",
       "      <td>First</td>\n",
       "      <td>10.0 kmpl</td>\n",
       "      <td>2148 CC</td>\n",
       "      <td>170 bhp</td>\n",
       "      <td>5.0</td>\n",
       "      <td>NaN</td>\n",
       "      <td>NaN</td>\n",
       "    </tr>\n",
       "  </tbody>\n",
       "</table>\n",
       "<p>7253 rows × 14 columns</p>\n",
       "</div>"
      ],
      "text/plain": [
       "      S.No.                                               Name    Location  \\\n",
       "0         0                             Maruti Wagon R LXI CNG      Mumbai   \n",
       "1         1                   Hyundai Creta 1.6 CRDi SX Option        Pune   \n",
       "2         2                                       Honda Jazz V     Chennai   \n",
       "3         3                                  Maruti Ertiga VDI     Chennai   \n",
       "4         4                    Audi A4 New 2.0 TDI Multitronic  Coimbatore   \n",
       "...     ...                                                ...         ...   \n",
       "7248   7248                  Volkswagen Vento Diesel Trendline   Hyderabad   \n",
       "7249   7249                             Volkswagen Polo GT TSI      Mumbai   \n",
       "7250   7250                             Nissan Micra Diesel XV     Kolkata   \n",
       "7251   7251                             Volkswagen Polo GT TSI        Pune   \n",
       "7252   7252  Mercedes-Benz E-Class 2009-2013 E 220 CDI Avan...       Kochi   \n",
       "\n",
       "      Year  Kilometers_Driven Fuel_Type Transmission Owner_Type     Mileage  \\\n",
       "0     2010              72000       CNG       Manual      First  26.6 km/kg   \n",
       "1     2015              41000    Diesel       Manual      First  19.67 kmpl   \n",
       "2     2011              46000    Petrol       Manual      First   18.2 kmpl   \n",
       "3     2012              87000    Diesel       Manual      First  20.77 kmpl   \n",
       "4     2013              40670    Diesel    Automatic     Second   15.2 kmpl   \n",
       "...    ...                ...       ...          ...        ...         ...   \n",
       "7248  2011              89411    Diesel       Manual      First  20.54 kmpl   \n",
       "7249  2015              59000    Petrol    Automatic      First  17.21 kmpl   \n",
       "7250  2012              28000    Diesel       Manual      First  23.08 kmpl   \n",
       "7251  2013              52262    Petrol    Automatic      Third   17.2 kmpl   \n",
       "7252  2014              72443    Diesel    Automatic      First   10.0 kmpl   \n",
       "\n",
       "       Engine      Power  Seats  New_Price  Price  \n",
       "0      998 CC  58.16 bhp    5.0        NaN   1.75  \n",
       "1     1582 CC  126.2 bhp    5.0        NaN  12.50  \n",
       "2     1199 CC   88.7 bhp    5.0  8.61 Lakh   4.50  \n",
       "3     1248 CC  88.76 bhp    7.0        NaN   6.00  \n",
       "4     1968 CC  140.8 bhp    5.0        NaN  17.74  \n",
       "...       ...        ...    ...        ...    ...  \n",
       "7248  1598 CC  103.6 bhp    5.0        NaN    NaN  \n",
       "7249  1197 CC  103.6 bhp    5.0        NaN    NaN  \n",
       "7250  1461 CC   63.1 bhp    5.0        NaN    NaN  \n",
       "7251  1197 CC  103.6 bhp    5.0        NaN    NaN  \n",
       "7252  2148 CC    170 bhp    5.0        NaN    NaN  \n",
       "\n",
       "[7253 rows x 14 columns]"
      ]
     },
     "execution_count": 2,
     "metadata": {},
     "output_type": "execute_result"
    }
   ],
   "source": [
    "df_raw = pd.read_csv(\"D:/Code/Projects/Used_Car_Price/Dataset/Extra/used_cars_data_2.csv\")\n",
    "df_raw"
   ]
  },
  {
   "cell_type": "markdown",
   "id": "726e3a6f-c313-47ef-8f7b-3134d767fd7d",
   "metadata": {},
   "source": [
    "### EDA"
   ]
  },
  {
   "cell_type": "code",
   "execution_count": 3,
   "id": "cd9384e9-9a4a-4c0c-8872-814f8599b9ad",
   "metadata": {},
   "outputs": [],
   "source": [
    "# Keeping only required columns\n",
    "df = df_raw[['Name', 'Year', 'Kilometers_Driven', 'Transmission', 'Owner_Type', 'Fuel_Type', 'Price']].copy()\n",
    "\n",
    "# Renaming the columns\n",
    "df.columns = ['Brand & Model', 'Year', 'KmDriven', 'Transmission', 'Owner', 'FuelType', 'Price']"
   ]
  },
  {
   "cell_type": "code",
   "execution_count": 4,
   "id": "91960967-811d-4c82-bf49-9b2706add71b",
   "metadata": {},
   "outputs": [
    {
     "data": {
      "text/html": [
       "<div>\n",
       "<style scoped>\n",
       "    .dataframe tbody tr th:only-of-type {\n",
       "        vertical-align: middle;\n",
       "    }\n",
       "\n",
       "    .dataframe tbody tr th {\n",
       "        vertical-align: top;\n",
       "    }\n",
       "\n",
       "    .dataframe thead th {\n",
       "        text-align: right;\n",
       "    }\n",
       "</style>\n",
       "<table border=\"1\" class=\"dataframe\">\n",
       "  <thead>\n",
       "    <tr style=\"text-align: right;\">\n",
       "      <th></th>\n",
       "      <th>Brand &amp; Model</th>\n",
       "      <th>Year</th>\n",
       "      <th>KmDriven</th>\n",
       "      <th>Transmission</th>\n",
       "      <th>Owner</th>\n",
       "      <th>FuelType</th>\n",
       "      <th>Price</th>\n",
       "    </tr>\n",
       "  </thead>\n",
       "  <tbody>\n",
       "    <tr>\n",
       "      <th>0</th>\n",
       "      <td>Maruti Wagon R LXI CNG</td>\n",
       "      <td>2010</td>\n",
       "      <td>72000</td>\n",
       "      <td>Manual</td>\n",
       "      <td>First</td>\n",
       "      <td>CNG</td>\n",
       "      <td>1.75</td>\n",
       "    </tr>\n",
       "    <tr>\n",
       "      <th>1</th>\n",
       "      <td>Hyundai Creta 1.6 CRDi SX Option</td>\n",
       "      <td>2015</td>\n",
       "      <td>41000</td>\n",
       "      <td>Manual</td>\n",
       "      <td>First</td>\n",
       "      <td>Diesel</td>\n",
       "      <td>12.50</td>\n",
       "    </tr>\n",
       "    <tr>\n",
       "      <th>2</th>\n",
       "      <td>Honda Jazz V</td>\n",
       "      <td>2011</td>\n",
       "      <td>46000</td>\n",
       "      <td>Manual</td>\n",
       "      <td>First</td>\n",
       "      <td>Petrol</td>\n",
       "      <td>4.50</td>\n",
       "    </tr>\n",
       "    <tr>\n",
       "      <th>3</th>\n",
       "      <td>Maruti Ertiga VDI</td>\n",
       "      <td>2012</td>\n",
       "      <td>87000</td>\n",
       "      <td>Manual</td>\n",
       "      <td>First</td>\n",
       "      <td>Diesel</td>\n",
       "      <td>6.00</td>\n",
       "    </tr>\n",
       "    <tr>\n",
       "      <th>4</th>\n",
       "      <td>Audi A4 New 2.0 TDI Multitronic</td>\n",
       "      <td>2013</td>\n",
       "      <td>40670</td>\n",
       "      <td>Automatic</td>\n",
       "      <td>Second</td>\n",
       "      <td>Diesel</td>\n",
       "      <td>17.74</td>\n",
       "    </tr>\n",
       "    <tr>\n",
       "      <th>...</th>\n",
       "      <td>...</td>\n",
       "      <td>...</td>\n",
       "      <td>...</td>\n",
       "      <td>...</td>\n",
       "      <td>...</td>\n",
       "      <td>...</td>\n",
       "      <td>...</td>\n",
       "    </tr>\n",
       "    <tr>\n",
       "      <th>7248</th>\n",
       "      <td>Volkswagen Vento Diesel Trendline</td>\n",
       "      <td>2011</td>\n",
       "      <td>89411</td>\n",
       "      <td>Manual</td>\n",
       "      <td>First</td>\n",
       "      <td>Diesel</td>\n",
       "      <td>NaN</td>\n",
       "    </tr>\n",
       "    <tr>\n",
       "      <th>7249</th>\n",
       "      <td>Volkswagen Polo GT TSI</td>\n",
       "      <td>2015</td>\n",
       "      <td>59000</td>\n",
       "      <td>Automatic</td>\n",
       "      <td>First</td>\n",
       "      <td>Petrol</td>\n",
       "      <td>NaN</td>\n",
       "    </tr>\n",
       "    <tr>\n",
       "      <th>7250</th>\n",
       "      <td>Nissan Micra Diesel XV</td>\n",
       "      <td>2012</td>\n",
       "      <td>28000</td>\n",
       "      <td>Manual</td>\n",
       "      <td>First</td>\n",
       "      <td>Diesel</td>\n",
       "      <td>NaN</td>\n",
       "    </tr>\n",
       "    <tr>\n",
       "      <th>7251</th>\n",
       "      <td>Volkswagen Polo GT TSI</td>\n",
       "      <td>2013</td>\n",
       "      <td>52262</td>\n",
       "      <td>Automatic</td>\n",
       "      <td>Third</td>\n",
       "      <td>Petrol</td>\n",
       "      <td>NaN</td>\n",
       "    </tr>\n",
       "    <tr>\n",
       "      <th>7252</th>\n",
       "      <td>Mercedes-Benz E-Class 2009-2013 E 220 CDI Avan...</td>\n",
       "      <td>2014</td>\n",
       "      <td>72443</td>\n",
       "      <td>Automatic</td>\n",
       "      <td>First</td>\n",
       "      <td>Diesel</td>\n",
       "      <td>NaN</td>\n",
       "    </tr>\n",
       "  </tbody>\n",
       "</table>\n",
       "<p>7253 rows × 7 columns</p>\n",
       "</div>"
      ],
      "text/plain": [
       "                                          Brand & Model  Year  KmDriven  \\\n",
       "0                                Maruti Wagon R LXI CNG  2010     72000   \n",
       "1                      Hyundai Creta 1.6 CRDi SX Option  2015     41000   \n",
       "2                                          Honda Jazz V  2011     46000   \n",
       "3                                     Maruti Ertiga VDI  2012     87000   \n",
       "4                       Audi A4 New 2.0 TDI Multitronic  2013     40670   \n",
       "...                                                 ...   ...       ...   \n",
       "7248                  Volkswagen Vento Diesel Trendline  2011     89411   \n",
       "7249                             Volkswagen Polo GT TSI  2015     59000   \n",
       "7250                             Nissan Micra Diesel XV  2012     28000   \n",
       "7251                             Volkswagen Polo GT TSI  2013     52262   \n",
       "7252  Mercedes-Benz E-Class 2009-2013 E 220 CDI Avan...  2014     72443   \n",
       "\n",
       "     Transmission   Owner FuelType  Price  \n",
       "0          Manual   First      CNG   1.75  \n",
       "1          Manual   First   Diesel  12.50  \n",
       "2          Manual   First   Petrol   4.50  \n",
       "3          Manual   First   Diesel   6.00  \n",
       "4       Automatic  Second   Diesel  17.74  \n",
       "...           ...     ...      ...    ...  \n",
       "7248       Manual   First   Diesel    NaN  \n",
       "7249    Automatic   First   Petrol    NaN  \n",
       "7250       Manual   First   Diesel    NaN  \n",
       "7251    Automatic   Third   Petrol    NaN  \n",
       "7252    Automatic   First   Diesel    NaN  \n",
       "\n",
       "[7253 rows x 7 columns]"
      ]
     },
     "execution_count": 4,
     "metadata": {},
     "output_type": "execute_result"
    }
   ],
   "source": [
    "df"
   ]
  },
  {
   "cell_type": "code",
   "execution_count": 5,
   "id": "be9ed403-b331-40ce-a35b-b50385b94e2f",
   "metadata": {},
   "outputs": [
    {
     "name": "stdout",
     "output_type": "stream",
     "text": [
      "<class 'pandas.core.frame.DataFrame'>\n",
      "RangeIndex: 7253 entries, 0 to 7252\n",
      "Data columns (total 7 columns):\n",
      " #   Column         Non-Null Count  Dtype  \n",
      "---  ------         --------------  -----  \n",
      " 0   Brand & Model  7253 non-null   object \n",
      " 1   Year           7253 non-null   int64  \n",
      " 2   KmDriven       7253 non-null   int64  \n",
      " 3   Transmission   7253 non-null   object \n",
      " 4   Owner          7253 non-null   object \n",
      " 5   FuelType       7253 non-null   object \n",
      " 6   Price          6019 non-null   float64\n",
      "dtypes: float64(1), int64(2), object(4)\n",
      "memory usage: 396.8+ KB\n"
     ]
    }
   ],
   "source": [
    "df.info()"
   ]
  },
  {
   "cell_type": "code",
   "execution_count": 6,
   "id": "1dbb097c-497e-43c4-ac35-6d5451450c7e",
   "metadata": {},
   "outputs": [
    {
     "data": {
      "text/html": [
       "<div>\n",
       "<style scoped>\n",
       "    .dataframe tbody tr th:only-of-type {\n",
       "        vertical-align: middle;\n",
       "    }\n",
       "\n",
       "    .dataframe tbody tr th {\n",
       "        vertical-align: top;\n",
       "    }\n",
       "\n",
       "    .dataframe thead th {\n",
       "        text-align: right;\n",
       "    }\n",
       "</style>\n",
       "<table border=\"1\" class=\"dataframe\">\n",
       "  <thead>\n",
       "    <tr style=\"text-align: right;\">\n",
       "      <th></th>\n",
       "      <th>Year</th>\n",
       "      <th>KmDriven</th>\n",
       "      <th>Price</th>\n",
       "    </tr>\n",
       "  </thead>\n",
       "  <tbody>\n",
       "    <tr>\n",
       "      <th>count</th>\n",
       "      <td>7253.000000</td>\n",
       "      <td>7.253000e+03</td>\n",
       "      <td>6019.000000</td>\n",
       "    </tr>\n",
       "    <tr>\n",
       "      <th>mean</th>\n",
       "      <td>2013.365366</td>\n",
       "      <td>5.869906e+04</td>\n",
       "      <td>9.479468</td>\n",
       "    </tr>\n",
       "    <tr>\n",
       "      <th>std</th>\n",
       "      <td>3.254421</td>\n",
       "      <td>8.442772e+04</td>\n",
       "      <td>11.187917</td>\n",
       "    </tr>\n",
       "    <tr>\n",
       "      <th>min</th>\n",
       "      <td>1996.000000</td>\n",
       "      <td>1.710000e+02</td>\n",
       "      <td>0.440000</td>\n",
       "    </tr>\n",
       "    <tr>\n",
       "      <th>25%</th>\n",
       "      <td>2011.000000</td>\n",
       "      <td>3.400000e+04</td>\n",
       "      <td>3.500000</td>\n",
       "    </tr>\n",
       "    <tr>\n",
       "      <th>50%</th>\n",
       "      <td>2014.000000</td>\n",
       "      <td>5.341600e+04</td>\n",
       "      <td>5.640000</td>\n",
       "    </tr>\n",
       "    <tr>\n",
       "      <th>75%</th>\n",
       "      <td>2016.000000</td>\n",
       "      <td>7.300000e+04</td>\n",
       "      <td>9.950000</td>\n",
       "    </tr>\n",
       "    <tr>\n",
       "      <th>max</th>\n",
       "      <td>2019.000000</td>\n",
       "      <td>6.500000e+06</td>\n",
       "      <td>160.000000</td>\n",
       "    </tr>\n",
       "  </tbody>\n",
       "</table>\n",
       "</div>"
      ],
      "text/plain": [
       "              Year      KmDriven        Price\n",
       "count  7253.000000  7.253000e+03  6019.000000\n",
       "mean   2013.365366  5.869906e+04     9.479468\n",
       "std       3.254421  8.442772e+04    11.187917\n",
       "min    1996.000000  1.710000e+02     0.440000\n",
       "25%    2011.000000  3.400000e+04     3.500000\n",
       "50%    2014.000000  5.341600e+04     5.640000\n",
       "75%    2016.000000  7.300000e+04     9.950000\n",
       "max    2019.000000  6.500000e+06   160.000000"
      ]
     },
     "execution_count": 6,
     "metadata": {},
     "output_type": "execute_result"
    }
   ],
   "source": [
    "df.describe()"
   ]
  },
  {
   "cell_type": "code",
   "execution_count": 7,
   "id": "4d4af368-9b4e-4c6c-bcfc-f71a17887a38",
   "metadata": {},
   "outputs": [
    {
     "data": {
      "text/plain": [
       "Brand & Model       0\n",
       "Year                0\n",
       "KmDriven            0\n",
       "Transmission        0\n",
       "Owner               0\n",
       "FuelType            0\n",
       "Price            1234\n",
       "dtype: int64"
      ]
     },
     "execution_count": 7,
     "metadata": {},
     "output_type": "execute_result"
    }
   ],
   "source": [
    "df.isna().sum()"
   ]
  },
  {
   "cell_type": "code",
   "execution_count": 8,
   "id": "2c276ac6-abfd-46f0-8251-b04e34060ede",
   "metadata": {
    "scrolled": true
   },
   "outputs": [],
   "source": [
    "df.dropna(axis=0, inplace=True)"
   ]
  },
  {
   "cell_type": "code",
   "execution_count": 9,
   "id": "3c0cbc5a-467e-43b6-9c11-404950612040",
   "metadata": {},
   "outputs": [
    {
     "data": {
      "text/plain": [
       "Brand & Model    0\n",
       "Year             0\n",
       "KmDriven         0\n",
       "Transmission     0\n",
       "Owner            0\n",
       "FuelType         0\n",
       "Price            0\n",
       "dtype: int64"
      ]
     },
     "execution_count": 9,
     "metadata": {},
     "output_type": "execute_result"
    }
   ],
   "source": [
    "df.isna().sum()"
   ]
  },
  {
   "cell_type": "code",
   "execution_count": 10,
   "id": "97febf2d-97ee-45e8-969b-6e9cd63d7a9b",
   "metadata": {},
   "outputs": [],
   "source": [
    "# Changing the price format from 1.35L to 135000\n",
    "df['Price'] = df['Price']*100000\n",
    "# Convert to float\n",
    "df['Price'] = df['Price'].astype(float)"
   ]
  },
  {
   "cell_type": "code",
   "execution_count": 11,
   "id": "901e5d15-fb75-40e8-9b7e-50d7a8dd7d81",
   "metadata": {},
   "outputs": [
    {
     "data": {
      "text/html": [
       "<div>\n",
       "<style scoped>\n",
       "    .dataframe tbody tr th:only-of-type {\n",
       "        vertical-align: middle;\n",
       "    }\n",
       "\n",
       "    .dataframe tbody tr th {\n",
       "        vertical-align: top;\n",
       "    }\n",
       "\n",
       "    .dataframe thead th {\n",
       "        text-align: right;\n",
       "    }\n",
       "</style>\n",
       "<table border=\"1\" class=\"dataframe\">\n",
       "  <thead>\n",
       "    <tr style=\"text-align: right;\">\n",
       "      <th></th>\n",
       "      <th>Brand &amp; Model</th>\n",
       "      <th>Year</th>\n",
       "      <th>KmDriven</th>\n",
       "      <th>Transmission</th>\n",
       "      <th>Owner</th>\n",
       "      <th>FuelType</th>\n",
       "      <th>Price</th>\n",
       "    </tr>\n",
       "  </thead>\n",
       "  <tbody>\n",
       "    <tr>\n",
       "      <th>0</th>\n",
       "      <td>Maruti Wagon R LXI CNG</td>\n",
       "      <td>2010</td>\n",
       "      <td>72000</td>\n",
       "      <td>Manual</td>\n",
       "      <td>First</td>\n",
       "      <td>CNG</td>\n",
       "      <td>175000.0</td>\n",
       "    </tr>\n",
       "    <tr>\n",
       "      <th>1</th>\n",
       "      <td>Hyundai Creta 1.6 CRDi SX Option</td>\n",
       "      <td>2015</td>\n",
       "      <td>41000</td>\n",
       "      <td>Manual</td>\n",
       "      <td>First</td>\n",
       "      <td>Diesel</td>\n",
       "      <td>1250000.0</td>\n",
       "    </tr>\n",
       "    <tr>\n",
       "      <th>2</th>\n",
       "      <td>Honda Jazz V</td>\n",
       "      <td>2011</td>\n",
       "      <td>46000</td>\n",
       "      <td>Manual</td>\n",
       "      <td>First</td>\n",
       "      <td>Petrol</td>\n",
       "      <td>450000.0</td>\n",
       "    </tr>\n",
       "    <tr>\n",
       "      <th>3</th>\n",
       "      <td>Maruti Ertiga VDI</td>\n",
       "      <td>2012</td>\n",
       "      <td>87000</td>\n",
       "      <td>Manual</td>\n",
       "      <td>First</td>\n",
       "      <td>Diesel</td>\n",
       "      <td>600000.0</td>\n",
       "    </tr>\n",
       "    <tr>\n",
       "      <th>4</th>\n",
       "      <td>Audi A4 New 2.0 TDI Multitronic</td>\n",
       "      <td>2013</td>\n",
       "      <td>40670</td>\n",
       "      <td>Automatic</td>\n",
       "      <td>Second</td>\n",
       "      <td>Diesel</td>\n",
       "      <td>1774000.0</td>\n",
       "    </tr>\n",
       "    <tr>\n",
       "      <th>...</th>\n",
       "      <td>...</td>\n",
       "      <td>...</td>\n",
       "      <td>...</td>\n",
       "      <td>...</td>\n",
       "      <td>...</td>\n",
       "      <td>...</td>\n",
       "      <td>...</td>\n",
       "    </tr>\n",
       "    <tr>\n",
       "      <th>6014</th>\n",
       "      <td>Maruti Swift VDI</td>\n",
       "      <td>2014</td>\n",
       "      <td>27365</td>\n",
       "      <td>Manual</td>\n",
       "      <td>First</td>\n",
       "      <td>Diesel</td>\n",
       "      <td>475000.0</td>\n",
       "    </tr>\n",
       "    <tr>\n",
       "      <th>6015</th>\n",
       "      <td>Hyundai Xcent 1.1 CRDi S</td>\n",
       "      <td>2015</td>\n",
       "      <td>100000</td>\n",
       "      <td>Manual</td>\n",
       "      <td>First</td>\n",
       "      <td>Diesel</td>\n",
       "      <td>400000.0</td>\n",
       "    </tr>\n",
       "    <tr>\n",
       "      <th>6016</th>\n",
       "      <td>Mahindra Xylo D4 BSIV</td>\n",
       "      <td>2012</td>\n",
       "      <td>55000</td>\n",
       "      <td>Manual</td>\n",
       "      <td>Second</td>\n",
       "      <td>Diesel</td>\n",
       "      <td>290000.0</td>\n",
       "    </tr>\n",
       "    <tr>\n",
       "      <th>6017</th>\n",
       "      <td>Maruti Wagon R VXI</td>\n",
       "      <td>2013</td>\n",
       "      <td>46000</td>\n",
       "      <td>Manual</td>\n",
       "      <td>First</td>\n",
       "      <td>Petrol</td>\n",
       "      <td>265000.0</td>\n",
       "    </tr>\n",
       "    <tr>\n",
       "      <th>6018</th>\n",
       "      <td>Chevrolet Beat Diesel</td>\n",
       "      <td>2011</td>\n",
       "      <td>47000</td>\n",
       "      <td>Manual</td>\n",
       "      <td>First</td>\n",
       "      <td>Diesel</td>\n",
       "      <td>250000.0</td>\n",
       "    </tr>\n",
       "  </tbody>\n",
       "</table>\n",
       "<p>6019 rows × 7 columns</p>\n",
       "</div>"
      ],
      "text/plain": [
       "                         Brand & Model  Year  KmDriven Transmission   Owner  \\\n",
       "0               Maruti Wagon R LXI CNG  2010     72000       Manual   First   \n",
       "1     Hyundai Creta 1.6 CRDi SX Option  2015     41000       Manual   First   \n",
       "2                         Honda Jazz V  2011     46000       Manual   First   \n",
       "3                    Maruti Ertiga VDI  2012     87000       Manual   First   \n",
       "4      Audi A4 New 2.0 TDI Multitronic  2013     40670    Automatic  Second   \n",
       "...                                ...   ...       ...          ...     ...   \n",
       "6014                  Maruti Swift VDI  2014     27365       Manual   First   \n",
       "6015          Hyundai Xcent 1.1 CRDi S  2015    100000       Manual   First   \n",
       "6016             Mahindra Xylo D4 BSIV  2012     55000       Manual  Second   \n",
       "6017                Maruti Wagon R VXI  2013     46000       Manual   First   \n",
       "6018             Chevrolet Beat Diesel  2011     47000       Manual   First   \n",
       "\n",
       "     FuelType      Price  \n",
       "0         CNG   175000.0  \n",
       "1      Diesel  1250000.0  \n",
       "2      Petrol   450000.0  \n",
       "3      Diesel   600000.0  \n",
       "4      Diesel  1774000.0  \n",
       "...       ...        ...  \n",
       "6014   Diesel   475000.0  \n",
       "6015   Diesel   400000.0  \n",
       "6016   Diesel   290000.0  \n",
       "6017   Petrol   265000.0  \n",
       "6018   Diesel   250000.0  \n",
       "\n",
       "[6019 rows x 7 columns]"
      ]
     },
     "execution_count": 11,
     "metadata": {},
     "output_type": "execute_result"
    }
   ],
   "source": [
    "df"
   ]
  },
  {
   "cell_type": "markdown",
   "id": "49153cb7-bc38-4a4e-9e17-d838caeae7c7",
   "metadata": {},
   "source": [
    "#### Splitting the Brand & Model column into seperate Brand and Model columns"
   ]
  },
  {
   "cell_type": "code",
   "execution_count": 12,
   "id": "b707d3ff-cd01-4ba1-a87c-9a9f1f984feb",
   "metadata": {},
   "outputs": [],
   "source": [
    "Brands = ['Mercedes-Benz', 'Force', 'ISUZU', 'Maruti', 'Smart', 'Land', 'Bentley', 'Tata', 'BMW', 'Hyundai', 'Mahindra', 'Audi', 'Isuzu', 'Renault', 'Rolls-Royce', 'Force Motors', 'Opel', 'Maruti Suzuki', 'Bajaj', 'Fiat', 'Chevrolet', 'Nissan', 'Maserati', 'Mini', 'Land Rover', 'Skoda', 'Aston Martin', 'Honda', 'Datsun', 'Ashok', 'Volkswagen', 'Jeep', 'Ssangyong', 'MG', 'Lexus', 'Mitsubishi', 'Jaguar', 'Toyota', 'Kia', 'Mercedes-Benz', 'Ford', 'Lamborghini', 'Porsche', 'Volvo', 'Ambassador']"
   ]
  },
  {
   "cell_type": "code",
   "execution_count": 13,
   "id": "2d4a99a3-6ae4-4cc4-ab45-9bdc17b95c41",
   "metadata": {},
   "outputs": [],
   "source": [
    "Models = ['Vitara Brezza', 'WR-V', 'Versa', 'One', 'KUV 100', 'KWID', 'TUV 300', 'Dzire', 'A Class', 'BR-V', 'EcoSport', 'NuvoSport', 'CR-V', 'S Class', 'B Class', 'D-MAX', 'Xylo', 'Wagon R', 'S Cross', 'EON', 'GLA', 'Quanto', 'Swift', 'Land Cruiser', 'Verito', 'Altroz', 'Invicto', 'Estima', 'Santa Fe', 'Petra', 'Vellfire', 'GL-Class', 'Aveo', 'Fusion', 'Grande', 'Spark', 'Rapid', 'Cayenne', 'E-Class', 'Manza', 'Nano', 'Rexton', 'Yeti', 'Force One', 'Sail U-VA', 'GO', 'XUV300', '3 Series', 'TUV300', 'City', 'Q3', 'Carens', 'Ertiga', 'C-Class', 'Corolla Altis', 'Outlander', '1 Series', 'Cayman', 'A7', 'Punch', 'Eeco', 'RE60', 'WRV', 'CLS', 'Alcazar', 'Fabia', 'Go', 'X-Trail', 'Fronx ', 'Curvv', 'Venture', 'A4', 'Urban Cruiser Hyryder', 'Slavia', 'Micra', 'Classic', 'Sail', 'CLA', 'Lancer', 'ES', 'Fortuner', 'Tiguan', 'Scala', 'Celerio', 'Sumo', 'Octavia', 'Urvan', 'M-Class', 'Innova', 'Gloster', 'XUV700', 'Triber', 'Xenon', 'SL-Class', 'X3', 'Beat', 'Harrier', 'XC60', 'Kicks', 'RX', 'SLK-Class', 'Indica', 'XF', 'Cooper Countryman', 'Elevate', 'Cooper 3', 'A6', 'Corolla', 'A-Star', 'Xylo', 'Sumo Grande', 'Pajero', 'i20', 'Cruze', 'Exter', 'AMG', 'Alto', 'Safari Storme', 'X1', 'Enjoy', 'GO Plus', 'Optra', 'Zest', 'Jimny', 'Glanza', 'E-20', 'Ciaz', 'Esteem', 'Fronx', '7 Series', 'CRV', 'AMG A35', 'Vento', 'Mobilio', 'NX', 'LX', 'Range Rover Evoque', 'Fluence', 'Cooper Clubman', 'Discovery', 'XC90', 'Jetta', 'Captur', 'Aura', 'LS', 'Phantom Drop HeadCoupe', 'Leyland Stile', 'Linea', 'Santro', '1000', 'Laura', 'X4', 'Magnite', 'Amaze', 'R-Class', 'Mustang', 'Cerato', 'Ambassador', 'Evalia', 'Creta', 'Tigor', 'Aspire', 'XE', 'Yaris', 'Bolt', 'Jeep', 'S-Cross', 'Passat', 'X7', 'Venue', 'S90', 'Defender', 'V40', 'TT', 'Avventura', 'Panamera', 'Estilo', 'Ritz', 'Alturas G4', 'Qualis', 'Bolero', 'Cooper', 'S-Presso', '6 Series', 'X5', 'Marshal', 'S80', 'Teana', 'Corsa', 'Taigun', 'Fortwo', 'GLE', 'Etios Liva', 'Boxster', 'Verna', 'SX4', 'GLC', 'Scorpio', 'Trax Cruiser', 'Free Style', 'Gran Turismo', 'Macan', 'Redi GO', 'Captiva', 'Q7', 'Punch ', 'XUV500', 'i10', 'Sonet', 'Hexa', 'Logan', 'Patrol', 'X6', 'Trailblazer', 'Hector', 'Continental', 'Gallardo', 'Zen', 'XL6', 'V-Class', 'Freestyle', 'AMG C43', 'Flying Spur', 'Carnival', 'Accent', 'Etios', 'XJ', 'Range Rover Velar', 'Civic', 'Zen-Estilo', 'Tiago', 'Compass', 'Gurkha', 'A3', 'Lodgy', 'Pulse', 'A-Class', 'G-Class', 'Kiger', 'Beetle', 'Indigo', 'Virtus', '718 Boxster', 'Elite', 'Endeavour', '2 Series', 'Nexon', 'Fiesta', 'Xcent', 'Terrano', 'Seltos', 'Range Rover', 'KUV100', 'Q5', 'Kwid', 'Ikon', 'Polo', 'Safari', 'Elantra', 'BRV', 'Gypsy', 'Sunny', 'Rover', 'Cooper 5', 'Omni', 'XC40', 'Nuvosport', 'Camry', 'Jazz', 'RS5', 'Cooper S', 'Ecosport', 'S60', 'Cooper Convertible', 'Phantom Series II', 'Duster', 'Innova Hycross', 'Punto', 'Sonata', 'Brio', 'A8', 'Vitara-Brezza', 'Thar', '800', 'Wrangler', 'Superb', 'Baleno', '5 Series', 'Marazzo', 'Ignis', 'Grand Vitara', 'MUX', 'Tavera', 'Freelander 2', 'Innova Crysta', 'Kushaq', 'Getz', 'Urban Cross', 'S-Class', 'Wagon-R', 'Tucson', 'Kodiaq', 'B-Class', 'Koleos', 'Ameo', 'Astor', 'Siena', 'Figo', 'D-Max', 'Accord', 'Hi-Lander', 'GLS', 'Swift Dzire', 'A5', 'Etios Cross', 'Eon', 'Cedia', 'Montero', 'Vanquish', 'Meridian', 'Z4', 'F']"
   ]
  },
  {
   "cell_type": "code",
   "execution_count": 14,
   "id": "c42d4716-f62d-4892-92ed-6504f04f27b8",
   "metadata": {},
   "outputs": [],
   "source": [
    "# Function to extract Brand and Model\n",
    "def extract_brand_model(car):\n",
    "    for brand in Brands:\n",
    "        if brand in car:\n",
    "            # Extract the model by removing the brand name\n",
    "            model_part = car.replace(brand, '').strip()\n",
    "            # Check if the remaining part contains a valid model\n",
    "            for model in Models:\n",
    "                if model in model_part:\n",
    "                    return brand, model.strip()\n",
    "    return None, None"
   ]
  },
  {
   "cell_type": "code",
   "execution_count": 15,
   "id": "0c3f000f-7878-4c01-b9cb-b1ff0ac20c55",
   "metadata": {},
   "outputs": [],
   "source": [
    "# Apply the function to create new columns\n",
    "df[['Brand', 'Model']] = df['Brand & Model'].apply(lambda x: pd.Series(extract_brand_model(x)))"
   ]
  },
  {
   "cell_type": "code",
   "execution_count": 16,
   "id": "399e6d01-a001-4333-901d-4b0fae64624e",
   "metadata": {},
   "outputs": [
    {
     "data": {
      "text/html": [
       "<div>\n",
       "<style scoped>\n",
       "    .dataframe tbody tr th:only-of-type {\n",
       "        vertical-align: middle;\n",
       "    }\n",
       "\n",
       "    .dataframe tbody tr th {\n",
       "        vertical-align: top;\n",
       "    }\n",
       "\n",
       "    .dataframe thead th {\n",
       "        text-align: right;\n",
       "    }\n",
       "</style>\n",
       "<table border=\"1\" class=\"dataframe\">\n",
       "  <thead>\n",
       "    <tr style=\"text-align: right;\">\n",
       "      <th></th>\n",
       "      <th>Brand &amp; Model</th>\n",
       "      <th>Year</th>\n",
       "      <th>KmDriven</th>\n",
       "      <th>Transmission</th>\n",
       "      <th>Owner</th>\n",
       "      <th>FuelType</th>\n",
       "      <th>Price</th>\n",
       "      <th>Brand</th>\n",
       "      <th>Model</th>\n",
       "    </tr>\n",
       "  </thead>\n",
       "  <tbody>\n",
       "    <tr>\n",
       "      <th>0</th>\n",
       "      <td>Maruti Wagon R LXI CNG</td>\n",
       "      <td>2010</td>\n",
       "      <td>72000</td>\n",
       "      <td>Manual</td>\n",
       "      <td>First</td>\n",
       "      <td>CNG</td>\n",
       "      <td>175000.0</td>\n",
       "      <td>Maruti</td>\n",
       "      <td>Wagon R</td>\n",
       "    </tr>\n",
       "    <tr>\n",
       "      <th>1</th>\n",
       "      <td>Hyundai Creta 1.6 CRDi SX Option</td>\n",
       "      <td>2015</td>\n",
       "      <td>41000</td>\n",
       "      <td>Manual</td>\n",
       "      <td>First</td>\n",
       "      <td>Diesel</td>\n",
       "      <td>1250000.0</td>\n",
       "      <td>Hyundai</td>\n",
       "      <td>Creta</td>\n",
       "    </tr>\n",
       "    <tr>\n",
       "      <th>2</th>\n",
       "      <td>Honda Jazz V</td>\n",
       "      <td>2011</td>\n",
       "      <td>46000</td>\n",
       "      <td>Manual</td>\n",
       "      <td>First</td>\n",
       "      <td>Petrol</td>\n",
       "      <td>450000.0</td>\n",
       "      <td>Honda</td>\n",
       "      <td>Jazz</td>\n",
       "    </tr>\n",
       "    <tr>\n",
       "      <th>3</th>\n",
       "      <td>Maruti Ertiga VDI</td>\n",
       "      <td>2012</td>\n",
       "      <td>87000</td>\n",
       "      <td>Manual</td>\n",
       "      <td>First</td>\n",
       "      <td>Diesel</td>\n",
       "      <td>600000.0</td>\n",
       "      <td>Maruti</td>\n",
       "      <td>Ertiga</td>\n",
       "    </tr>\n",
       "    <tr>\n",
       "      <th>4</th>\n",
       "      <td>Audi A4 New 2.0 TDI Multitronic</td>\n",
       "      <td>2013</td>\n",
       "      <td>40670</td>\n",
       "      <td>Automatic</td>\n",
       "      <td>Second</td>\n",
       "      <td>Diesel</td>\n",
       "      <td>1774000.0</td>\n",
       "      <td>Audi</td>\n",
       "      <td>A4</td>\n",
       "    </tr>\n",
       "    <tr>\n",
       "      <th>...</th>\n",
       "      <td>...</td>\n",
       "      <td>...</td>\n",
       "      <td>...</td>\n",
       "      <td>...</td>\n",
       "      <td>...</td>\n",
       "      <td>...</td>\n",
       "      <td>...</td>\n",
       "      <td>...</td>\n",
       "      <td>...</td>\n",
       "    </tr>\n",
       "    <tr>\n",
       "      <th>6014</th>\n",
       "      <td>Maruti Swift VDI</td>\n",
       "      <td>2014</td>\n",
       "      <td>27365</td>\n",
       "      <td>Manual</td>\n",
       "      <td>First</td>\n",
       "      <td>Diesel</td>\n",
       "      <td>475000.0</td>\n",
       "      <td>Maruti</td>\n",
       "      <td>Swift</td>\n",
       "    </tr>\n",
       "    <tr>\n",
       "      <th>6015</th>\n",
       "      <td>Hyundai Xcent 1.1 CRDi S</td>\n",
       "      <td>2015</td>\n",
       "      <td>100000</td>\n",
       "      <td>Manual</td>\n",
       "      <td>First</td>\n",
       "      <td>Diesel</td>\n",
       "      <td>400000.0</td>\n",
       "      <td>Hyundai</td>\n",
       "      <td>Xcent</td>\n",
       "    </tr>\n",
       "    <tr>\n",
       "      <th>6016</th>\n",
       "      <td>Mahindra Xylo D4 BSIV</td>\n",
       "      <td>2012</td>\n",
       "      <td>55000</td>\n",
       "      <td>Manual</td>\n",
       "      <td>Second</td>\n",
       "      <td>Diesel</td>\n",
       "      <td>290000.0</td>\n",
       "      <td>Mahindra</td>\n",
       "      <td>Xylo</td>\n",
       "    </tr>\n",
       "    <tr>\n",
       "      <th>6017</th>\n",
       "      <td>Maruti Wagon R VXI</td>\n",
       "      <td>2013</td>\n",
       "      <td>46000</td>\n",
       "      <td>Manual</td>\n",
       "      <td>First</td>\n",
       "      <td>Petrol</td>\n",
       "      <td>265000.0</td>\n",
       "      <td>Maruti</td>\n",
       "      <td>Wagon R</td>\n",
       "    </tr>\n",
       "    <tr>\n",
       "      <th>6018</th>\n",
       "      <td>Chevrolet Beat Diesel</td>\n",
       "      <td>2011</td>\n",
       "      <td>47000</td>\n",
       "      <td>Manual</td>\n",
       "      <td>First</td>\n",
       "      <td>Diesel</td>\n",
       "      <td>250000.0</td>\n",
       "      <td>Chevrolet</td>\n",
       "      <td>Beat</td>\n",
       "    </tr>\n",
       "  </tbody>\n",
       "</table>\n",
       "<p>6019 rows × 9 columns</p>\n",
       "</div>"
      ],
      "text/plain": [
       "                         Brand & Model  Year  KmDriven Transmission   Owner  \\\n",
       "0               Maruti Wagon R LXI CNG  2010     72000       Manual   First   \n",
       "1     Hyundai Creta 1.6 CRDi SX Option  2015     41000       Manual   First   \n",
       "2                         Honda Jazz V  2011     46000       Manual   First   \n",
       "3                    Maruti Ertiga VDI  2012     87000       Manual   First   \n",
       "4      Audi A4 New 2.0 TDI Multitronic  2013     40670    Automatic  Second   \n",
       "...                                ...   ...       ...          ...     ...   \n",
       "6014                  Maruti Swift VDI  2014     27365       Manual   First   \n",
       "6015          Hyundai Xcent 1.1 CRDi S  2015    100000       Manual   First   \n",
       "6016             Mahindra Xylo D4 BSIV  2012     55000       Manual  Second   \n",
       "6017                Maruti Wagon R VXI  2013     46000       Manual   First   \n",
       "6018             Chevrolet Beat Diesel  2011     47000       Manual   First   \n",
       "\n",
       "     FuelType      Price      Brand    Model  \n",
       "0         CNG   175000.0     Maruti  Wagon R  \n",
       "1      Diesel  1250000.0    Hyundai    Creta  \n",
       "2      Petrol   450000.0      Honda     Jazz  \n",
       "3      Diesel   600000.0     Maruti   Ertiga  \n",
       "4      Diesel  1774000.0       Audi       A4  \n",
       "...       ...        ...        ...      ...  \n",
       "6014   Diesel   475000.0     Maruti    Swift  \n",
       "6015   Diesel   400000.0    Hyundai    Xcent  \n",
       "6016   Diesel   290000.0   Mahindra     Xylo  \n",
       "6017   Petrol   265000.0     Maruti  Wagon R  \n",
       "6018   Diesel   250000.0  Chevrolet     Beat  \n",
       "\n",
       "[6019 rows x 9 columns]"
      ]
     },
     "execution_count": 16,
     "metadata": {},
     "output_type": "execute_result"
    }
   ],
   "source": [
    "df"
   ]
  },
  {
   "cell_type": "code",
   "execution_count": 17,
   "id": "f4dfe702-b968-4100-8cdf-e2159e2f47aa",
   "metadata": {},
   "outputs": [
    {
     "data": {
      "text/plain": [
       "Brand & Model    0\n",
       "Year             0\n",
       "KmDriven         0\n",
       "Transmission     0\n",
       "Owner            0\n",
       "FuelType         0\n",
       "Price            0\n",
       "Brand            0\n",
       "Model            0\n",
       "dtype: int64"
      ]
     },
     "execution_count": 17,
     "metadata": {},
     "output_type": "execute_result"
    }
   ],
   "source": [
    "df.isna().sum()"
   ]
  },
  {
   "cell_type": "code",
   "execution_count": 18,
   "id": "1ff0bff7-401d-4317-8075-dfc52f37d438",
   "metadata": {},
   "outputs": [
    {
     "data": {
      "text/html": [
       "<div>\n",
       "<style scoped>\n",
       "    .dataframe tbody tr th:only-of-type {\n",
       "        vertical-align: middle;\n",
       "    }\n",
       "\n",
       "    .dataframe tbody tr th {\n",
       "        vertical-align: top;\n",
       "    }\n",
       "\n",
       "    .dataframe thead th {\n",
       "        text-align: right;\n",
       "    }\n",
       "</style>\n",
       "<table border=\"1\" class=\"dataframe\">\n",
       "  <thead>\n",
       "    <tr style=\"text-align: right;\">\n",
       "      <th></th>\n",
       "      <th>Brand &amp; Model</th>\n",
       "      <th>Year</th>\n",
       "      <th>KmDriven</th>\n",
       "      <th>Transmission</th>\n",
       "      <th>Owner</th>\n",
       "      <th>FuelType</th>\n",
       "      <th>Price</th>\n",
       "      <th>Brand</th>\n",
       "      <th>Model</th>\n",
       "    </tr>\n",
       "  </thead>\n",
       "  <tbody>\n",
       "  </tbody>\n",
       "</table>\n",
       "</div>"
      ],
      "text/plain": [
       "Empty DataFrame\n",
       "Columns: [Brand & Model, Year, KmDriven, Transmission, Owner, FuelType, Price, Brand, Model]\n",
       "Index: []"
      ]
     },
     "execution_count": 18,
     "metadata": {},
     "output_type": "execute_result"
    }
   ],
   "source": [
    "# Create a DataFrame for unmatched rows\n",
    "unmatched = df[(df['Brand'].isnull()) | (df['Model'].isnull())]\n",
    "unmatched"
   ]
  },
  {
   "cell_type": "markdown",
   "id": "c3429b73-ba8c-40c8-a4f8-460266c2a8dc",
   "metadata": {},
   "source": [
    "###### Made changes in the Brand and Model list above and kept repeating (We will clean the name formats after this)"
   ]
  },
  {
   "cell_type": "code",
   "execution_count": 19,
   "id": "c6414780-ee3e-4fbc-88c6-28d23123080d",
   "metadata": {},
   "outputs": [],
   "source": [
    "from datetime import datetime\n",
    "\n",
    "# Get the current month and year\n",
    "current_month = datetime.today().month\n",
    "current_year = datetime.today().year\n",
    "\n",
    "# Calculate the age of the car in months\n",
    "df['Age'] = (current_year - df['Year']) * 12 + (current_month)"
   ]
  },
  {
   "cell_type": "code",
   "execution_count": 20,
   "id": "a95579ff-d1ad-4c46-97c6-f23a7aa3a2e9",
   "metadata": {},
   "outputs": [],
   "source": [
    "# Keeping only necessary columns\n",
    "\n",
    "df = df [['Brand', 'Model', 'Age', 'KmDriven', 'Transmission', 'Owner', 'FuelType', 'Price']]"
   ]
  },
  {
   "cell_type": "code",
   "execution_count": 21,
   "id": "0b9be0f1-c8d6-4ebe-bf0e-28dfb2d636b9",
   "metadata": {},
   "outputs": [
    {
     "data": {
      "text/html": [
       "<div>\n",
       "<style scoped>\n",
       "    .dataframe tbody tr th:only-of-type {\n",
       "        vertical-align: middle;\n",
       "    }\n",
       "\n",
       "    .dataframe tbody tr th {\n",
       "        vertical-align: top;\n",
       "    }\n",
       "\n",
       "    .dataframe thead th {\n",
       "        text-align: right;\n",
       "    }\n",
       "</style>\n",
       "<table border=\"1\" class=\"dataframe\">\n",
       "  <thead>\n",
       "    <tr style=\"text-align: right;\">\n",
       "      <th></th>\n",
       "      <th>Brand</th>\n",
       "      <th>Model</th>\n",
       "      <th>Age</th>\n",
       "      <th>KmDriven</th>\n",
       "      <th>Transmission</th>\n",
       "      <th>Owner</th>\n",
       "      <th>FuelType</th>\n",
       "      <th>Price</th>\n",
       "    </tr>\n",
       "  </thead>\n",
       "  <tbody>\n",
       "    <tr>\n",
       "      <th>0</th>\n",
       "      <td>Maruti</td>\n",
       "      <td>Wagon R</td>\n",
       "      <td>181</td>\n",
       "      <td>72000</td>\n",
       "      <td>Manual</td>\n",
       "      <td>First</td>\n",
       "      <td>CNG</td>\n",
       "      <td>175000.0</td>\n",
       "    </tr>\n",
       "    <tr>\n",
       "      <th>1</th>\n",
       "      <td>Hyundai</td>\n",
       "      <td>Creta</td>\n",
       "      <td>121</td>\n",
       "      <td>41000</td>\n",
       "      <td>Manual</td>\n",
       "      <td>First</td>\n",
       "      <td>Diesel</td>\n",
       "      <td>1250000.0</td>\n",
       "    </tr>\n",
       "    <tr>\n",
       "      <th>2</th>\n",
       "      <td>Honda</td>\n",
       "      <td>Jazz</td>\n",
       "      <td>169</td>\n",
       "      <td>46000</td>\n",
       "      <td>Manual</td>\n",
       "      <td>First</td>\n",
       "      <td>Petrol</td>\n",
       "      <td>450000.0</td>\n",
       "    </tr>\n",
       "    <tr>\n",
       "      <th>3</th>\n",
       "      <td>Maruti</td>\n",
       "      <td>Ertiga</td>\n",
       "      <td>157</td>\n",
       "      <td>87000</td>\n",
       "      <td>Manual</td>\n",
       "      <td>First</td>\n",
       "      <td>Diesel</td>\n",
       "      <td>600000.0</td>\n",
       "    </tr>\n",
       "    <tr>\n",
       "      <th>4</th>\n",
       "      <td>Audi</td>\n",
       "      <td>A4</td>\n",
       "      <td>145</td>\n",
       "      <td>40670</td>\n",
       "      <td>Automatic</td>\n",
       "      <td>Second</td>\n",
       "      <td>Diesel</td>\n",
       "      <td>1774000.0</td>\n",
       "    </tr>\n",
       "    <tr>\n",
       "      <th>...</th>\n",
       "      <td>...</td>\n",
       "      <td>...</td>\n",
       "      <td>...</td>\n",
       "      <td>...</td>\n",
       "      <td>...</td>\n",
       "      <td>...</td>\n",
       "      <td>...</td>\n",
       "      <td>...</td>\n",
       "    </tr>\n",
       "    <tr>\n",
       "      <th>6014</th>\n",
       "      <td>Maruti</td>\n",
       "      <td>Swift</td>\n",
       "      <td>133</td>\n",
       "      <td>27365</td>\n",
       "      <td>Manual</td>\n",
       "      <td>First</td>\n",
       "      <td>Diesel</td>\n",
       "      <td>475000.0</td>\n",
       "    </tr>\n",
       "    <tr>\n",
       "      <th>6015</th>\n",
       "      <td>Hyundai</td>\n",
       "      <td>Xcent</td>\n",
       "      <td>121</td>\n",
       "      <td>100000</td>\n",
       "      <td>Manual</td>\n",
       "      <td>First</td>\n",
       "      <td>Diesel</td>\n",
       "      <td>400000.0</td>\n",
       "    </tr>\n",
       "    <tr>\n",
       "      <th>6016</th>\n",
       "      <td>Mahindra</td>\n",
       "      <td>Xylo</td>\n",
       "      <td>157</td>\n",
       "      <td>55000</td>\n",
       "      <td>Manual</td>\n",
       "      <td>Second</td>\n",
       "      <td>Diesel</td>\n",
       "      <td>290000.0</td>\n",
       "    </tr>\n",
       "    <tr>\n",
       "      <th>6017</th>\n",
       "      <td>Maruti</td>\n",
       "      <td>Wagon R</td>\n",
       "      <td>145</td>\n",
       "      <td>46000</td>\n",
       "      <td>Manual</td>\n",
       "      <td>First</td>\n",
       "      <td>Petrol</td>\n",
       "      <td>265000.0</td>\n",
       "    </tr>\n",
       "    <tr>\n",
       "      <th>6018</th>\n",
       "      <td>Chevrolet</td>\n",
       "      <td>Beat</td>\n",
       "      <td>169</td>\n",
       "      <td>47000</td>\n",
       "      <td>Manual</td>\n",
       "      <td>First</td>\n",
       "      <td>Diesel</td>\n",
       "      <td>250000.0</td>\n",
       "    </tr>\n",
       "  </tbody>\n",
       "</table>\n",
       "<p>6019 rows × 8 columns</p>\n",
       "</div>"
      ],
      "text/plain": [
       "          Brand    Model  Age  KmDriven Transmission   Owner FuelType  \\\n",
       "0        Maruti  Wagon R  181     72000       Manual   First      CNG   \n",
       "1       Hyundai    Creta  121     41000       Manual   First   Diesel   \n",
       "2         Honda     Jazz  169     46000       Manual   First   Petrol   \n",
       "3        Maruti   Ertiga  157     87000       Manual   First   Diesel   \n",
       "4          Audi       A4  145     40670    Automatic  Second   Diesel   \n",
       "...         ...      ...  ...       ...          ...     ...      ...   \n",
       "6014     Maruti    Swift  133     27365       Manual   First   Diesel   \n",
       "6015    Hyundai    Xcent  121    100000       Manual   First   Diesel   \n",
       "6016   Mahindra     Xylo  157     55000       Manual  Second   Diesel   \n",
       "6017     Maruti  Wagon R  145     46000       Manual   First   Petrol   \n",
       "6018  Chevrolet     Beat  169     47000       Manual   First   Diesel   \n",
       "\n",
       "          Price  \n",
       "0      175000.0  \n",
       "1     1250000.0  \n",
       "2      450000.0  \n",
       "3      600000.0  \n",
       "4     1774000.0  \n",
       "...         ...  \n",
       "6014   475000.0  \n",
       "6015   400000.0  \n",
       "6016   290000.0  \n",
       "6017   265000.0  \n",
       "6018   250000.0  \n",
       "\n",
       "[6019 rows x 8 columns]"
      ]
     },
     "execution_count": 21,
     "metadata": {},
     "output_type": "execute_result"
    }
   ],
   "source": [
    "df"
   ]
  },
  {
   "cell_type": "code",
   "execution_count": 22,
   "id": "1299b01b-f566-4edd-9492-dd4105f4f054",
   "metadata": {},
   "outputs": [],
   "source": [
    "df['Owner'] = df['Owner'].str.lower()"
   ]
  },
  {
   "cell_type": "code",
   "execution_count": 23,
   "id": "6e62ef05-bd05-4786-9bc4-f1a701605150",
   "metadata": {},
   "outputs": [
    {
     "data": {
      "text/html": [
       "<div>\n",
       "<style scoped>\n",
       "    .dataframe tbody tr th:only-of-type {\n",
       "        vertical-align: middle;\n",
       "    }\n",
       "\n",
       "    .dataframe tbody tr th {\n",
       "        vertical-align: top;\n",
       "    }\n",
       "\n",
       "    .dataframe thead th {\n",
       "        text-align: right;\n",
       "    }\n",
       "</style>\n",
       "<table border=\"1\" class=\"dataframe\">\n",
       "  <thead>\n",
       "    <tr style=\"text-align: right;\">\n",
       "      <th></th>\n",
       "      <th>Brand</th>\n",
       "      <th>Model</th>\n",
       "      <th>Age</th>\n",
       "      <th>KmDriven</th>\n",
       "      <th>Transmission</th>\n",
       "      <th>Owner</th>\n",
       "      <th>FuelType</th>\n",
       "      <th>Price</th>\n",
       "    </tr>\n",
       "  </thead>\n",
       "  <tbody>\n",
       "    <tr>\n",
       "      <th>0</th>\n",
       "      <td>Maruti</td>\n",
       "      <td>Wagon R</td>\n",
       "      <td>181</td>\n",
       "      <td>72000</td>\n",
       "      <td>Manual</td>\n",
       "      <td>first</td>\n",
       "      <td>CNG</td>\n",
       "      <td>175000.0</td>\n",
       "    </tr>\n",
       "    <tr>\n",
       "      <th>1</th>\n",
       "      <td>Hyundai</td>\n",
       "      <td>Creta</td>\n",
       "      <td>121</td>\n",
       "      <td>41000</td>\n",
       "      <td>Manual</td>\n",
       "      <td>first</td>\n",
       "      <td>Diesel</td>\n",
       "      <td>1250000.0</td>\n",
       "    </tr>\n",
       "    <tr>\n",
       "      <th>2</th>\n",
       "      <td>Honda</td>\n",
       "      <td>Jazz</td>\n",
       "      <td>169</td>\n",
       "      <td>46000</td>\n",
       "      <td>Manual</td>\n",
       "      <td>first</td>\n",
       "      <td>Petrol</td>\n",
       "      <td>450000.0</td>\n",
       "    </tr>\n",
       "    <tr>\n",
       "      <th>3</th>\n",
       "      <td>Maruti</td>\n",
       "      <td>Ertiga</td>\n",
       "      <td>157</td>\n",
       "      <td>87000</td>\n",
       "      <td>Manual</td>\n",
       "      <td>first</td>\n",
       "      <td>Diesel</td>\n",
       "      <td>600000.0</td>\n",
       "    </tr>\n",
       "    <tr>\n",
       "      <th>4</th>\n",
       "      <td>Audi</td>\n",
       "      <td>A4</td>\n",
       "      <td>145</td>\n",
       "      <td>40670</td>\n",
       "      <td>Automatic</td>\n",
       "      <td>second</td>\n",
       "      <td>Diesel</td>\n",
       "      <td>1774000.0</td>\n",
       "    </tr>\n",
       "  </tbody>\n",
       "</table>\n",
       "</div>"
      ],
      "text/plain": [
       "     Brand    Model  Age  KmDriven Transmission   Owner FuelType      Price\n",
       "0   Maruti  Wagon R  181     72000       Manual   first      CNG   175000.0\n",
       "1  Hyundai    Creta  121     41000       Manual   first   Diesel  1250000.0\n",
       "2    Honda     Jazz  169     46000       Manual   first   Petrol   450000.0\n",
       "3   Maruti   Ertiga  157     87000       Manual   first   Diesel   600000.0\n",
       "4     Audi       A4  145     40670    Automatic  second   Diesel  1774000.0"
      ]
     },
     "execution_count": 23,
     "metadata": {},
     "output_type": "execute_result"
    }
   ],
   "source": [
    "df.head()"
   ]
  },
  {
   "cell_type": "code",
   "execution_count": 24,
   "id": "f16fee6d-3672-49fa-b261-8a545c6bd544",
   "metadata": {},
   "outputs": [
    {
     "data": {
      "text/plain": [
       "np.int64(8)"
      ]
     },
     "execution_count": 24,
     "metadata": {},
     "output_type": "execute_result"
    }
   ],
   "source": [
    "df.duplicated().sum()"
   ]
  },
  {
   "cell_type": "code",
   "execution_count": 25,
   "id": "e391f6ef-542c-45d0-bbee-ef9c6a9aef5b",
   "metadata": {
    "scrolled": true
   },
   "outputs": [
    {
     "data": {
      "text/html": [
       "<div>\n",
       "<style scoped>\n",
       "    .dataframe tbody tr th:only-of-type {\n",
       "        vertical-align: middle;\n",
       "    }\n",
       "\n",
       "    .dataframe tbody tr th {\n",
       "        vertical-align: top;\n",
       "    }\n",
       "\n",
       "    .dataframe thead th {\n",
       "        text-align: right;\n",
       "    }\n",
       "</style>\n",
       "<table border=\"1\" class=\"dataframe\">\n",
       "  <thead>\n",
       "    <tr style=\"text-align: right;\">\n",
       "      <th></th>\n",
       "      <th>Brand</th>\n",
       "      <th>Model</th>\n",
       "      <th>Age</th>\n",
       "      <th>KmDriven</th>\n",
       "      <th>Transmission</th>\n",
       "      <th>Owner</th>\n",
       "      <th>FuelType</th>\n",
       "      <th>Price</th>\n",
       "    </tr>\n",
       "  </thead>\n",
       "  <tbody>\n",
       "    <tr>\n",
       "      <th>0</th>\n",
       "      <td>Maruti</td>\n",
       "      <td>Wagon R</td>\n",
       "      <td>181</td>\n",
       "      <td>72000</td>\n",
       "      <td>Manual</td>\n",
       "      <td>first</td>\n",
       "      <td>CNG</td>\n",
       "      <td>175000.0</td>\n",
       "    </tr>\n",
       "    <tr>\n",
       "      <th>1</th>\n",
       "      <td>Hyundai</td>\n",
       "      <td>Creta</td>\n",
       "      <td>121</td>\n",
       "      <td>41000</td>\n",
       "      <td>Manual</td>\n",
       "      <td>first</td>\n",
       "      <td>Diesel</td>\n",
       "      <td>1250000.0</td>\n",
       "    </tr>\n",
       "    <tr>\n",
       "      <th>2</th>\n",
       "      <td>Honda</td>\n",
       "      <td>Jazz</td>\n",
       "      <td>169</td>\n",
       "      <td>46000</td>\n",
       "      <td>Manual</td>\n",
       "      <td>first</td>\n",
       "      <td>Petrol</td>\n",
       "      <td>450000.0</td>\n",
       "    </tr>\n",
       "    <tr>\n",
       "      <th>3</th>\n",
       "      <td>Maruti</td>\n",
       "      <td>Ertiga</td>\n",
       "      <td>157</td>\n",
       "      <td>87000</td>\n",
       "      <td>Manual</td>\n",
       "      <td>first</td>\n",
       "      <td>Diesel</td>\n",
       "      <td>600000.0</td>\n",
       "    </tr>\n",
       "    <tr>\n",
       "      <th>4</th>\n",
       "      <td>Audi</td>\n",
       "      <td>A4</td>\n",
       "      <td>145</td>\n",
       "      <td>40670</td>\n",
       "      <td>Automatic</td>\n",
       "      <td>second</td>\n",
       "      <td>Diesel</td>\n",
       "      <td>1774000.0</td>\n",
       "    </tr>\n",
       "    <tr>\n",
       "      <th>...</th>\n",
       "      <td>...</td>\n",
       "      <td>...</td>\n",
       "      <td>...</td>\n",
       "      <td>...</td>\n",
       "      <td>...</td>\n",
       "      <td>...</td>\n",
       "      <td>...</td>\n",
       "      <td>...</td>\n",
       "    </tr>\n",
       "    <tr>\n",
       "      <th>6014</th>\n",
       "      <td>Maruti</td>\n",
       "      <td>Swift</td>\n",
       "      <td>133</td>\n",
       "      <td>27365</td>\n",
       "      <td>Manual</td>\n",
       "      <td>first</td>\n",
       "      <td>Diesel</td>\n",
       "      <td>475000.0</td>\n",
       "    </tr>\n",
       "    <tr>\n",
       "      <th>6015</th>\n",
       "      <td>Hyundai</td>\n",
       "      <td>Xcent</td>\n",
       "      <td>121</td>\n",
       "      <td>100000</td>\n",
       "      <td>Manual</td>\n",
       "      <td>first</td>\n",
       "      <td>Diesel</td>\n",
       "      <td>400000.0</td>\n",
       "    </tr>\n",
       "    <tr>\n",
       "      <th>6016</th>\n",
       "      <td>Mahindra</td>\n",
       "      <td>Xylo</td>\n",
       "      <td>157</td>\n",
       "      <td>55000</td>\n",
       "      <td>Manual</td>\n",
       "      <td>second</td>\n",
       "      <td>Diesel</td>\n",
       "      <td>290000.0</td>\n",
       "    </tr>\n",
       "    <tr>\n",
       "      <th>6017</th>\n",
       "      <td>Maruti</td>\n",
       "      <td>Wagon R</td>\n",
       "      <td>145</td>\n",
       "      <td>46000</td>\n",
       "      <td>Manual</td>\n",
       "      <td>first</td>\n",
       "      <td>Petrol</td>\n",
       "      <td>265000.0</td>\n",
       "    </tr>\n",
       "    <tr>\n",
       "      <th>6018</th>\n",
       "      <td>Chevrolet</td>\n",
       "      <td>Beat</td>\n",
       "      <td>169</td>\n",
       "      <td>47000</td>\n",
       "      <td>Manual</td>\n",
       "      <td>first</td>\n",
       "      <td>Diesel</td>\n",
       "      <td>250000.0</td>\n",
       "    </tr>\n",
       "  </tbody>\n",
       "</table>\n",
       "<p>6011 rows × 8 columns</p>\n",
       "</div>"
      ],
      "text/plain": [
       "          Brand    Model  Age  KmDriven Transmission   Owner FuelType  \\\n",
       "0        Maruti  Wagon R  181     72000       Manual   first      CNG   \n",
       "1       Hyundai    Creta  121     41000       Manual   first   Diesel   \n",
       "2         Honda     Jazz  169     46000       Manual   first   Petrol   \n",
       "3        Maruti   Ertiga  157     87000       Manual   first   Diesel   \n",
       "4          Audi       A4  145     40670    Automatic  second   Diesel   \n",
       "...         ...      ...  ...       ...          ...     ...      ...   \n",
       "6014     Maruti    Swift  133     27365       Manual   first   Diesel   \n",
       "6015    Hyundai    Xcent  121    100000       Manual   first   Diesel   \n",
       "6016   Mahindra     Xylo  157     55000       Manual  second   Diesel   \n",
       "6017     Maruti  Wagon R  145     46000       Manual   first   Petrol   \n",
       "6018  Chevrolet     Beat  169     47000       Manual   first   Diesel   \n",
       "\n",
       "          Price  \n",
       "0      175000.0  \n",
       "1     1250000.0  \n",
       "2      450000.0  \n",
       "3      600000.0  \n",
       "4     1774000.0  \n",
       "...         ...  \n",
       "6014   475000.0  \n",
       "6015   400000.0  \n",
       "6016   290000.0  \n",
       "6017   265000.0  \n",
       "6018   250000.0  \n",
       "\n",
       "[6011 rows x 8 columns]"
      ]
     },
     "execution_count": 25,
     "metadata": {},
     "output_type": "execute_result"
    }
   ],
   "source": [
    "# Dropping duplicate values\n",
    "\n",
    "df = df.drop_duplicates()\n",
    "df"
   ]
  },
  {
   "cell_type": "markdown",
   "id": "d4193d59-9002-4a30-a843-5f30a4607e21",
   "metadata": {},
   "source": [
    "#### Correcting the names of different models"
   ]
  },
  {
   "cell_type": "code",
   "execution_count": 26,
   "id": "48ec6487-a004-4fd5-99c9-2d3b21f373e1",
   "metadata": {},
   "outputs": [
    {
     "data": {
      "text/plain": [
       "array(['Maruti', 'Hyundai', 'Honda', 'Audi', 'Nissan', 'Toyota',\n",
       "       'Volkswagen', 'Tata', 'Land', 'Mitsubishi', 'Renault',\n",
       "       'Mercedes-Benz', 'BMW', 'Mahindra', 'Ford', 'Porsche', 'Datsun',\n",
       "       'Jaguar', 'Volvo', 'Chevrolet', 'Skoda', 'Mini', 'Fiat', 'Jeep',\n",
       "       'Smart', 'Ambassador', 'Isuzu', 'ISUZU', 'Force', 'Bentley',\n",
       "       'Lamborghini'], dtype=object)"
      ]
     },
     "execution_count": 26,
     "metadata": {},
     "output_type": "execute_result"
    }
   ],
   "source": [
    "df['Brand'].unique()"
   ]
  },
  {
   "cell_type": "code",
   "execution_count": 27,
   "id": "817fcdba-0533-4fc2-af4b-645ccb1ac6da",
   "metadata": {},
   "outputs": [
    {
     "data": {
      "text/plain": [
       "31"
      ]
     },
     "execution_count": 27,
     "metadata": {},
     "output_type": "execute_result"
    }
   ],
   "source": [
    "df['Brand'].nunique()"
   ]
  },
  {
   "cell_type": "markdown",
   "id": "bd11ad8e-2142-401e-b4d9-b6fd00890779",
   "metadata": {},
   "source": [
    "##### 1. Lamborghini"
   ]
  },
  {
   "cell_type": "code",
   "execution_count": 28,
   "id": "b3f46526-a3f1-45ae-a8c2-6ec626043604",
   "metadata": {},
   "outputs": [
    {
     "data": {
      "text/plain": [
       "array(['Gallardo'], dtype=object)"
      ]
     },
     "execution_count": 28,
     "metadata": {},
     "output_type": "execute_result"
    }
   ],
   "source": [
    "df[df['Brand'] == 'Lamborghini']['Model'].unique()"
   ]
  },
  {
   "cell_type": "markdown",
   "id": "4669a910-45d2-4911-9dcf-0b6091503789",
   "metadata": {},
   "source": [
    "##### 2. Honda"
   ]
  },
  {
   "cell_type": "code",
   "execution_count": 29,
   "id": "c012e60f-ecfc-4ab8-b493-96f8a2091f48",
   "metadata": {},
   "outputs": [
    {
     "data": {
      "text/plain": [
       "array(['Jazz', 'City', 'Amaze', 'WRV', 'Brio', 'Civic', 'CR-V', 'Accord',\n",
       "       'BRV', 'BR-V', 'Mobilio', 'WR-V'], dtype=object)"
      ]
     },
     "execution_count": 29,
     "metadata": {},
     "output_type": "execute_result"
    }
   ],
   "source": [
    "df[df['Brand'] == 'Honda']['Model'].unique()"
   ]
  },
  {
   "cell_type": "code",
   "execution_count": 30,
   "id": "a3536481-6da5-447a-bc1a-85c4eb00554c",
   "metadata": {},
   "outputs": [],
   "source": [
    "df.replace('BR-V', 'BRV', inplace=True)\n",
    "df.replace('WR-V', 'WRV', inplace=True)\n",
    "df.replace('CR-V', 'CRV', inplace=True)"
   ]
  },
  {
   "cell_type": "code",
   "execution_count": 31,
   "id": "946b5faa-b57b-4191-9446-2debc724efb3",
   "metadata": {},
   "outputs": [
    {
     "data": {
      "text/plain": [
       "array(['Jazz', 'City', 'Amaze', 'WRV', 'Brio', 'Civic', 'CRV', 'Accord',\n",
       "       'BRV', 'Mobilio'], dtype=object)"
      ]
     },
     "execution_count": 31,
     "metadata": {},
     "output_type": "execute_result"
    }
   ],
   "source": [
    "df[df['Brand'] == 'Honda']['Model'].unique()"
   ]
  },
  {
   "cell_type": "markdown",
   "id": "a2974394-6b31-48d3-9489-841f406dd4e7",
   "metadata": {},
   "source": [
    "##### 3. Tata"
   ]
  },
  {
   "cell_type": "code",
   "execution_count": 32,
   "id": "c4481417-9f81-4840-8478-2b56208dffad",
   "metadata": {},
   "outputs": [
    {
     "data": {
      "text/plain": [
       "array(['Indica', 'Nano', 'Zest', 'LX', 'Sumo', 'LS', 'Manza', 'Xenon',\n",
       "       'Safari Storme', 'Indigo', 'Safari', 'GLE', 'Hexa', 'Tiago',\n",
       "       'Tigor', 'XE', 'Bolt', 'Venture', 'Nexon', 'Classic', 'X4'],\n",
       "      dtype=object)"
      ]
     },
     "execution_count": 32,
     "metadata": {},
     "output_type": "execute_result"
    }
   ],
   "source": [
    "df[df['Brand'] == 'Tata']['Model'].unique()"
   ]
  },
  {
   "cell_type": "code",
   "execution_count": 33,
   "id": "c61bb4d6-44a8-4d2a-8014-9931bdef49c1",
   "metadata": {},
   "outputs": [],
   "source": [
    "# X4 is a car from BMW not Tata\n",
    "df.loc[df['Model'] == 'X4', 'Brand'] = 'BMW'\n",
    "df.loc[df['Model'] == 'GLE', 'Brand'] = 'Mercedes-Benz'\n",
    "df.loc[df['Model'] == 'LX', 'Brand'] = 'Lexus'\n",
    "df.loc[df['Model'] == 'LS', 'Brand'] = 'Lexus'\n",
    "df.loc[df['Model'] == 'XE', 'Brand'] = 'Jaguar'\n",
    "df.loc[df['Model'] == 'Classic', 'Brand'] = 'Ambassador'"
   ]
  },
  {
   "cell_type": "code",
   "execution_count": 34,
   "id": "86484a73-766c-403d-9409-28224f46a26e",
   "metadata": {},
   "outputs": [
    {
     "data": {
      "text/plain": [
       "array(['Indica', 'Nano', 'Zest', 'Sumo', 'Manza', 'Xenon',\n",
       "       'Safari Storme', 'Indigo', 'Safari', 'Hexa', 'Tiago', 'Tigor',\n",
       "       'Bolt', 'Venture', 'Nexon'], dtype=object)"
      ]
     },
     "execution_count": 34,
     "metadata": {},
     "output_type": "execute_result"
    }
   ],
   "source": [
    "df[df['Brand'] == 'Tata']['Model'].unique()"
   ]
  },
  {
   "cell_type": "markdown",
   "id": "ce55394e-3a30-4479-a4dc-8c33f2ce45c0",
   "metadata": {},
   "source": [
    "##### 4. Maruti Suzuki"
   ]
  },
  {
   "cell_type": "code",
   "execution_count": 35,
   "id": "14381636-d787-4f31-ae03-92daaec68e74",
   "metadata": {},
   "outputs": [],
   "source": [
    "df.replace('Maruti', 'Maruti Suzuki', inplace=True)"
   ]
  },
  {
   "cell_type": "code",
   "execution_count": 36,
   "id": "325c6708-9471-4f2c-bac5-891c7ef649c4",
   "metadata": {},
   "outputs": [
    {
     "data": {
      "text/plain": [
       "array(['Wagon R', 'Ertiga', 'Ciaz', 'Swift', 'S Cross', 'Alto',\n",
       "       'Vitara Brezza', 'Estilo', 'Ritz', 'Omni', 'Eeco', 'Baleno', 'GO',\n",
       "       'A-Star', 'Zen', 'Dzire', 'Celerio', '800', 'S-Cross', 'Esteem',\n",
       "       'Ignis', 'Grand Vitara', '1000', 'Versa'], dtype=object)"
      ]
     },
     "execution_count": 36,
     "metadata": {},
     "output_type": "execute_result"
    }
   ],
   "source": [
    "df[df['Brand'] == 'Maruti Suzuki']['Model'].unique()"
   ]
  },
  {
   "cell_type": "code",
   "execution_count": 37,
   "id": "94458406-99ac-4a19-8522-cb1e0ae91e64",
   "metadata": {},
   "outputs": [],
   "source": [
    "df.loc[df['Model'] == 'GO', 'Brand'] = 'Datsun'\n",
    "\n",
    "df.replace('Wagon R', 'Wagon-R', inplace=True)\n",
    "df.replace('S Cross', 'S-Cross', inplace=True)\n",
    "df.replace('Vitara Brezza', 'Vitara-Brezza', inplace=True)\n",
    "df.replace('Estilo', 'Zen-Estilo', inplace=True)\n",
    "df.replace('Dzire', 'Swift Dzire', inplace=True)\n",
    "df.replace('Versa', 'Eeco', inplace=True)"
   ]
  },
  {
   "cell_type": "code",
   "execution_count": 38,
   "id": "ee951334-f30b-4add-bc6f-30e721539c8b",
   "metadata": {},
   "outputs": [
    {
     "data": {
      "text/plain": [
       "array(['Wagon-R', 'Ertiga', 'Ciaz', 'Swift', 'S-Cross', 'Alto',\n",
       "       'Vitara-Brezza', 'Zen-Estilo', 'Ritz', 'Omni', 'Eeco', 'Baleno',\n",
       "       'A-Star', 'Zen', 'Swift Dzire', 'Celerio', '800', 'Esteem',\n",
       "       'Ignis', 'Grand Vitara', '1000'], dtype=object)"
      ]
     },
     "execution_count": 38,
     "metadata": {},
     "output_type": "execute_result"
    }
   ],
   "source": [
    "df[df['Brand'] == 'Maruti Suzuki']['Model'].unique()"
   ]
  },
  {
   "cell_type": "markdown",
   "id": "4f80a1d3-c2e1-43dd-9abb-f6cc56812edb",
   "metadata": {},
   "source": [
    "##### 5. Toyota"
   ]
  },
  {
   "cell_type": "code",
   "execution_count": 39,
   "id": "c5ccd91b-e9d3-4097-b837-dae57438dfeb",
   "metadata": {},
   "outputs": [
    {
     "data": {
      "text/plain": [
       "array(['Innova', 'Corolla Altis', 'Fortuner', 'Etios Liva', 'Corolla',\n",
       "       'Etios', 'Camry', 'Qualis', 'Z4'], dtype=object)"
      ]
     },
     "execution_count": 39,
     "metadata": {},
     "output_type": "execute_result"
    }
   ],
   "source": [
    "df[df['Brand'] == 'Toyota']['Model'].unique()"
   ]
  },
  {
   "cell_type": "code",
   "execution_count": 40,
   "id": "3b3cffc3-398e-45c9-9e37-4fb942cd868d",
   "metadata": {},
   "outputs": [],
   "source": [
    "df.loc[df['Model'] == 'Z4', 'Brand'] = 'BMW'\n",
    "\n",
    "df.replace('Corolla Altis', 'Corolla', inplace=True)"
   ]
  },
  {
   "cell_type": "code",
   "execution_count": 41,
   "id": "0f67ac38-89ed-44ec-8b41-19ce7df0e22e",
   "metadata": {},
   "outputs": [
    {
     "data": {
      "text/plain": [
       "array(['Innova', 'Corolla', 'Fortuner', 'Etios Liva', 'Etios', 'Camry',\n",
       "       'Qualis'], dtype=object)"
      ]
     },
     "execution_count": 41,
     "metadata": {},
     "output_type": "execute_result"
    }
   ],
   "source": [
    "df[df['Brand'] == 'Toyota']['Model'].unique()"
   ]
  },
  {
   "cell_type": "markdown",
   "id": "5a3fb057-be47-410d-82b0-c933a7bcd3a4",
   "metadata": {},
   "source": [
    "##### 6. Volkswagen"
   ]
  },
  {
   "cell_type": "code",
   "execution_count": 42,
   "id": "d5301452-3abc-43a1-999a-0aa7e00ae0a0",
   "metadata": {},
   "outputs": [
    {
     "data": {
      "text/plain": [
       "array(['Vento', 'Polo', 'Jetta', 'Passat', 'Ameo', 'Beetle', 'Tiguan'],\n",
       "      dtype=object)"
      ]
     },
     "execution_count": 42,
     "metadata": {},
     "output_type": "execute_result"
    }
   ],
   "source": [
    "df[df['Brand'] == 'Volkswagen']['Model'].unique()"
   ]
  },
  {
   "cell_type": "markdown",
   "id": "ba1d3e2c-c921-4396-b421-e89c026b6383",
   "metadata": {},
   "source": [
    "##### 7. BMW"
   ]
  },
  {
   "cell_type": "code",
   "execution_count": 43,
   "id": "2b1d416c-5e10-4a90-af51-ef1b14b39eca",
   "metadata": {},
   "outputs": [],
   "source": [
    "df.replace('Bmw', 'BMW', inplace=True)"
   ]
  },
  {
   "cell_type": "code",
   "execution_count": 44,
   "id": "105836f7-cfd9-48b0-b6d3-3eccc84799ba",
   "metadata": {},
   "outputs": [
    {
     "data": {
      "text/plain": [
       "array(['3 Series', '5 Series', '1 Series', 'X5', 'X1', 'X3', '6 Series',\n",
       "       'X4', '7 Series', 'X6', 'Z4'], dtype=object)"
      ]
     },
     "execution_count": 44,
     "metadata": {},
     "output_type": "execute_result"
    }
   ],
   "source": [
    "df[df['Brand'] == 'BMW']['Model'].unique()"
   ]
  },
  {
   "cell_type": "markdown",
   "id": "4ca4e035-6c38-4f68-a3f3-2c7bde5a5acc",
   "metadata": {},
   "source": [
    "##### 8. Ford"
   ]
  },
  {
   "cell_type": "code",
   "execution_count": 45,
   "id": "a86dae85-9df3-4492-82fd-cb212809e816",
   "metadata": {
    "scrolled": true
   },
   "outputs": [
    {
     "data": {
      "text/plain": [
       "array(['Figo', 'Fiesta', 'Ecosport', 'EcoSport', 'Endeavour', 'NX',\n",
       "       'Ikon', 'Aspire', 'Freestyle', 'Mustang', 'Fusion'], dtype=object)"
      ]
     },
     "execution_count": 45,
     "metadata": {},
     "output_type": "execute_result"
    }
   ],
   "source": [
    "df[df['Brand'] == 'Ford']['Model'].unique()"
   ]
  },
  {
   "cell_type": "code",
   "execution_count": 46,
   "id": "5bfab7d3-85c5-4f23-a317-574d8998a1ca",
   "metadata": {},
   "outputs": [],
   "source": [
    "df.loc[df['Model'] == 'NX', 'Brand'] = 'Lexus'\n",
    "\n",
    "df.replace('EcoSport', 'Ecosport', inplace=True)"
   ]
  },
  {
   "cell_type": "code",
   "execution_count": 47,
   "id": "93a46dd6-2046-471f-9480-aa753243d667",
   "metadata": {
    "scrolled": true
   },
   "outputs": [
    {
     "data": {
      "text/plain": [
       "array(['Figo', 'Fiesta', 'Ecosport', 'Endeavour', 'Ikon', 'Aspire',\n",
       "       'Freestyle', 'Mustang', 'Fusion'], dtype=object)"
      ]
     },
     "execution_count": 47,
     "metadata": {},
     "output_type": "execute_result"
    }
   ],
   "source": [
    "df[df['Brand'] == 'Ford']['Model'].unique()"
   ]
  },
  {
   "cell_type": "markdown",
   "id": "dde3d88b-6da4-4a81-99ac-c50721585e67",
   "metadata": {},
   "source": [
    "##### 9. Mercedes-Benz"
   ]
  },
  {
   "cell_type": "code",
   "execution_count": 48,
   "id": "816eae2f-a1c3-447b-9a1d-32707bb33243",
   "metadata": {},
   "outputs": [
    {
     "data": {
      "text/plain": [
       "array(['C-Class', 'M-Class', 'B Class', 'AMG', 'S Class', 'GLC',\n",
       "       'E-Class', 'GLE', 'A Class', 'GL-Class', 'SLK-Class', 'CLA',\n",
       "       'R-Class', 'CLS', 'S-Class', 'SL-Class'], dtype=object)"
      ]
     },
     "execution_count": 48,
     "metadata": {},
     "output_type": "execute_result"
    }
   ],
   "source": [
    "df[df['Brand'] == 'Mercedes-Benz']['Model'].unique()"
   ]
  },
  {
   "cell_type": "code",
   "execution_count": 49,
   "id": "e6c97ba8-96ac-4fdb-b30d-26b1d9187c6e",
   "metadata": {},
   "outputs": [],
   "source": [
    "df.replace('B Class', 'B-Class', inplace=True)\n",
    "df.replace('S Class', 'S-Class', inplace=True)\n",
    "df.replace('A Class', 'A-Class', inplace=True)"
   ]
  },
  {
   "cell_type": "code",
   "execution_count": 50,
   "id": "2aa95686-b44b-4a95-81a0-325a7454bc1d",
   "metadata": {},
   "outputs": [
    {
     "data": {
      "text/plain": [
       "array(['C-Class', 'M-Class', 'B-Class', 'AMG', 'S-Class', 'GLC',\n",
       "       'E-Class', 'GLE', 'A-Class', 'GL-Class', 'SLK-Class', 'CLA',\n",
       "       'R-Class', 'CLS', 'SL-Class'], dtype=object)"
      ]
     },
     "execution_count": 50,
     "metadata": {},
     "output_type": "execute_result"
    }
   ],
   "source": [
    "df[df['Brand'] == 'Mercedes-Benz']['Model'].unique()"
   ]
  },
  {
   "cell_type": "markdown",
   "id": "b49b0188-ba37-40f4-8d37-c18a708eae65",
   "metadata": {},
   "source": [
    "##### 10. Hyundai"
   ]
  },
  {
   "cell_type": "code",
   "execution_count": 51,
   "id": "7a4cdd05-57bc-4a6d-8442-5a81d2569dc3",
   "metadata": {
    "scrolled": true
   },
   "outputs": [
    {
     "data": {
      "text/plain": [
       "array(['Creta', 'EON', 'i20', 'Elantra', 'Xcent', 'i10', 'Santro',\n",
       "       'Verna', 'Santa Fe', 'Accent', 'Getz', 'Sonata', 'Tucson'],\n",
       "      dtype=object)"
      ]
     },
     "execution_count": 51,
     "metadata": {},
     "output_type": "execute_result"
    }
   ],
   "source": [
    "df[df['Brand'] == 'Hyundai']['Model'].unique()"
   ]
  },
  {
   "cell_type": "code",
   "execution_count": 52,
   "id": "0d6dd36f-a0fd-47da-9621-23f36e9c3d75",
   "metadata": {},
   "outputs": [],
   "source": [
    "df.replace('EON', 'Eon', inplace=True)\n",
    "df.replace('Santa', 'Santa Fe', inplace=True)"
   ]
  },
  {
   "cell_type": "code",
   "execution_count": 53,
   "id": "4130da83-bebc-4796-aab7-6d68c495fa15",
   "metadata": {
    "scrolled": true
   },
   "outputs": [
    {
     "data": {
      "text/plain": [
       "array(['Creta', 'Eon', 'i20', 'Elantra', 'Xcent', 'i10', 'Santro',\n",
       "       'Verna', 'Santa Fe', 'Accent', 'Getz', 'Sonata', 'Tucson'],\n",
       "      dtype=object)"
      ]
     },
     "execution_count": 53,
     "metadata": {},
     "output_type": "execute_result"
    }
   ],
   "source": [
    "df[df['Brand'] == 'Hyundai']['Model'].unique()"
   ]
  },
  {
   "cell_type": "markdown",
   "id": "afeb7eca-7e8f-4cc3-8ca2-8d9a8cffdf0f",
   "metadata": {},
   "source": [
    "##### 11. Audi"
   ]
  },
  {
   "cell_type": "code",
   "execution_count": 54,
   "id": "96fb4303-7d0d-471f-a785-3f8eb97fcc63",
   "metadata": {},
   "outputs": [
    {
     "data": {
      "text/plain": [
       "array(['A4', 'A6', 'RS5', 'Q3', 'A8', 'Q7', 'A3', 'Q5', 'TT', 'A7'],\n",
       "      dtype=object)"
      ]
     },
     "execution_count": 54,
     "metadata": {},
     "output_type": "execute_result"
    }
   ],
   "source": [
    "df[df['Brand'] == 'Audi']['Model'].unique()"
   ]
  },
  {
   "cell_type": "markdown",
   "id": "c878375b-e3e9-43b5-9053-f90cf7dc8db8",
   "metadata": {},
   "source": [
    "##### 12. Volvo"
   ]
  },
  {
   "cell_type": "code",
   "execution_count": 55,
   "id": "0fe2e927-5c68-4956-985d-41ce8f0d8e44",
   "metadata": {},
   "outputs": [
    {
     "data": {
      "text/plain": [
       "array(['V40', 'S80', 'XC60', 'S60', 'XC90'], dtype=object)"
      ]
     },
     "execution_count": 55,
     "metadata": {},
     "output_type": "execute_result"
    }
   ],
   "source": [
    "df[df['Brand'] == 'Volvo']['Model'].unique()"
   ]
  },
  {
   "cell_type": "markdown",
   "id": "deff94e9-c19f-44de-a91c-b649a3779c30",
   "metadata": {},
   "source": [
    "##### 13. Skoda"
   ]
  },
  {
   "cell_type": "code",
   "execution_count": 56,
   "id": "75584eed-21cd-4121-9c36-d0c5c6a562cd",
   "metadata": {},
   "outputs": [
    {
     "data": {
      "text/plain": [
       "array(['Rapid', 'Superb', 'Laura', 'Fabia', 'Octavia', 'Yeti'],\n",
       "      dtype=object)"
      ]
     },
     "execution_count": 56,
     "metadata": {},
     "output_type": "execute_result"
    }
   ],
   "source": [
    "df[df['Brand'] == 'Skoda']['Model'].unique()"
   ]
  },
  {
   "cell_type": "markdown",
   "id": "cea0cc47-dbc7-45c4-93a0-bbc2776339a2",
   "metadata": {},
   "source": [
    "##### 14. Mahindra"
   ]
  },
  {
   "cell_type": "code",
   "execution_count": 57,
   "id": "66d2b599-4d17-4bdb-b187-f628d42182fc",
   "metadata": {},
   "outputs": [
    {
     "data": {
      "text/plain": [
       "array(['Rexton', 'KUV 100', 'Thar', 'XUV500', 'Scorpio', 'NuvoSport',\n",
       "       'Verito', 'Logan', 'Quanto', 'Xylo', 'Bolero', 'XUV300', 'TUV 300',\n",
       "       'Jeep'], dtype=object)"
      ]
     },
     "execution_count": 57,
     "metadata": {},
     "output_type": "execute_result"
    }
   ],
   "source": [
    "df[df['Brand'] == 'Mahindra']['Model'].unique()"
   ]
  },
  {
   "cell_type": "code",
   "execution_count": 58,
   "id": "301bdf42-8b50-4cac-b659-625148eb2cda",
   "metadata": {},
   "outputs": [],
   "source": [
    "df.loc[df['Model'] == 'Rexton', 'Brand'] = 'Ssangyong'\n",
    "df.loc[df['Model'] == 'Logan', 'Brand'] = 'Renault'\n",
    "\n",
    "df.replace('NuvoSport', 'Nuvosport', inplace=True)\n",
    "df.replace('KUV 100', 'KUV100', inplace=True)\n",
    "df.replace('TUV 300', 'TUV300', inplace=True)"
   ]
  },
  {
   "cell_type": "code",
   "execution_count": 59,
   "id": "10465eb9-9394-4e02-ad62-976c72dc654a",
   "metadata": {},
   "outputs": [
    {
     "data": {
      "text/plain": [
       "array(['KUV100', 'Thar', 'XUV500', 'Scorpio', 'Nuvosport', 'Verito',\n",
       "       'Quanto', 'Xylo', 'Bolero', 'XUV300', 'TUV300', 'Jeep'],\n",
       "      dtype=object)"
      ]
     },
     "execution_count": 59,
     "metadata": {},
     "output_type": "execute_result"
    }
   ],
   "source": [
    "df[df['Brand'] == 'Mahindra']['Model'].unique()"
   ]
  },
  {
   "cell_type": "markdown",
   "id": "62e89d7f-0000-46ca-9cec-1fbb73aa150d",
   "metadata": {},
   "source": [
    "##### 15. Renault"
   ]
  },
  {
   "cell_type": "code",
   "execution_count": 60,
   "id": "44de0e27-2228-48e5-b748-4128dcf74080",
   "metadata": {},
   "outputs": [
    {
     "data": {
      "text/plain": [
       "array(['Duster', 'KWID', 'Lodgy', 'RX', 'Logan', 'Koleos', 'Captur',\n",
       "       'Scala', 'Pulse', 'Fluence'], dtype=object)"
      ]
     },
     "execution_count": 60,
     "metadata": {},
     "output_type": "execute_result"
    }
   ],
   "source": [
    "df[df['Brand'] == 'Renault']['Model'].unique()"
   ]
  },
  {
   "cell_type": "code",
   "execution_count": 61,
   "id": "bf73a98e-b905-46e0-80bc-9b89f57fcf2d",
   "metadata": {},
   "outputs": [],
   "source": [
    "df.loc[df['Model'] == 'RX', 'Brand'] = 'Lexus'\n",
    "\n",
    "df.replace('KWID', 'Kwid', inplace=True)"
   ]
  },
  {
   "cell_type": "code",
   "execution_count": 62,
   "id": "21187e60-d8bc-4d98-8274-12b25514d34c",
   "metadata": {},
   "outputs": [
    {
     "data": {
      "text/plain": [
       "array(['Duster', 'Kwid', 'Lodgy', 'Logan', 'Koleos', 'Captur', 'Scala',\n",
       "       'Pulse', 'Fluence'], dtype=object)"
      ]
     },
     "execution_count": 62,
     "metadata": {},
     "output_type": "execute_result"
    }
   ],
   "source": [
    "df[df['Brand'] == 'Renault']['Model'].unique()"
   ]
  },
  {
   "cell_type": "markdown",
   "id": "94e668fb-39f4-4a5c-8b36-c36bc5b2092b",
   "metadata": {},
   "source": [
    "##### 16. Ssangyong"
   ]
  },
  {
   "cell_type": "code",
   "execution_count": 63,
   "id": "d6567aa9-7678-4570-8473-ce9175b56927",
   "metadata": {},
   "outputs": [
    {
     "data": {
      "text/plain": [
       "array(['Rexton'], dtype=object)"
      ]
     },
     "execution_count": 63,
     "metadata": {},
     "output_type": "execute_result"
    }
   ],
   "source": [
    "df[df['Brand'] == 'Ssangyong']['Model'].unique()"
   ]
  },
  {
   "cell_type": "markdown",
   "id": "409bb4ae-b7f5-40d0-b476-e5ccbd055788",
   "metadata": {},
   "source": [
    "##### 17. Mini"
   ]
  },
  {
   "cell_type": "code",
   "execution_count": 64,
   "id": "e68e061e-7d21-4d88-bf6a-35be36c4ac95",
   "metadata": {},
   "outputs": [
    {
     "data": {
      "text/plain": [
       "array(['Cooper', 'Cooper Countryman', 'Cooper 3'], dtype=object)"
      ]
     },
     "execution_count": 64,
     "metadata": {},
     "output_type": "execute_result"
    }
   ],
   "source": [
    "df[df['Brand'] == 'Mini']['Model'].unique()"
   ]
  },
  {
   "cell_type": "markdown",
   "id": "545cdf1f-e08b-4619-8b45-760ac442304c",
   "metadata": {},
   "source": [
    "##### 18. Chevrolet"
   ]
  },
  {
   "cell_type": "code",
   "execution_count": 65,
   "id": "5e353b56-1422-42a7-8ef0-36da1bd7fbe7",
   "metadata": {},
   "outputs": [
    {
     "data": {
      "text/plain": [
       "array(['Beat', 'Optra', 'Spark', 'Enjoy', 'Sail', 'Aveo', 'Cruze',\n",
       "       'Captiva', 'Tavera'], dtype=object)"
      ]
     },
     "execution_count": 65,
     "metadata": {},
     "output_type": "execute_result"
    }
   ],
   "source": [
    "df[df['Brand'] == 'Chevrolet']['Model'].unique()"
   ]
  },
  {
   "cell_type": "markdown",
   "id": "aed6a5b2-c0f2-4a87-90c5-bdeb03930184",
   "metadata": {},
   "source": [
    "##### 19. Jaguar"
   ]
  },
  {
   "cell_type": "code",
   "execution_count": 66,
   "id": "26a9c620-f94a-406c-91d3-9e37278f5ca0",
   "metadata": {},
   "outputs": [
    {
     "data": {
      "text/plain": [
       "array(['XF', 'XE', 'XJ', 'F'], dtype=object)"
      ]
     },
     "execution_count": 66,
     "metadata": {},
     "output_type": "execute_result"
    }
   ],
   "source": [
    "df[df['Brand'] == 'Jaguar']['Model'].unique()"
   ]
  },
  {
   "cell_type": "markdown",
   "id": "708ddc9c-97e3-4a87-a4ed-06455fd23e72",
   "metadata": {},
   "source": [
    "##### 20. Fiat"
   ]
  },
  {
   "cell_type": "code",
   "execution_count": 67,
   "id": "480e6c8b-1b34-49aa-a85c-0e9f8709378d",
   "metadata": {},
   "outputs": [
    {
     "data": {
      "text/plain": [
       "array(['Grande', 'Linea', 'Avventura', 'Petra', 'Punto'], dtype=object)"
      ]
     },
     "execution_count": 67,
     "metadata": {},
     "output_type": "execute_result"
    }
   ],
   "source": [
    "df[df['Brand'] == 'Fiat']['Model'].unique()"
   ]
  },
  {
   "cell_type": "code",
   "execution_count": 68,
   "id": "6013b64b-9232-4080-bc04-b7bad7ffca3c",
   "metadata": {},
   "outputs": [],
   "source": [
    "df.replace('Grande', 'Punto', inplace=True)"
   ]
  },
  {
   "cell_type": "code",
   "execution_count": 69,
   "id": "a731dcf5-ec9f-4283-adad-8a1b853f8909",
   "metadata": {},
   "outputs": [
    {
     "data": {
      "text/plain": [
       "array(['Punto', 'Linea', 'Avventura', 'Petra'], dtype=object)"
      ]
     },
     "execution_count": 69,
     "metadata": {},
     "output_type": "execute_result"
    }
   ],
   "source": [
    "df[df['Brand'] == 'Fiat']['Model'].unique()"
   ]
  },
  {
   "cell_type": "markdown",
   "id": "68637eb0-0a40-4d73-96c5-d8852d91ca7b",
   "metadata": {},
   "source": [
    "##### 21. Porsche"
   ]
  },
  {
   "cell_type": "code",
   "execution_count": 70,
   "id": "90204ce6-f943-4349-9909-3e4d0f005976",
   "metadata": {},
   "outputs": [
    {
     "data": {
      "text/plain": [
       "array(['Cayenne', 'Cayman', 'Boxster', 'Panamera'], dtype=object)"
      ]
     },
     "execution_count": 70,
     "metadata": {},
     "output_type": "execute_result"
    }
   ],
   "source": [
    "df[df['Brand'] == 'Porsche']['Model'].unique()"
   ]
  },
  {
   "cell_type": "code",
   "execution_count": 71,
   "id": "a7165eb7-6698-4fcf-ada3-f85aa19c1659",
   "metadata": {},
   "outputs": [],
   "source": [
    "df.replace('Boxster', '718 Boxster', inplace=True)"
   ]
  },
  {
   "cell_type": "code",
   "execution_count": 72,
   "id": "52e4e0d4-b3be-4644-a63d-5291f654f992",
   "metadata": {},
   "outputs": [
    {
     "data": {
      "text/plain": [
       "array(['Cayenne', 'Cayman', '718 Boxster', 'Panamera'], dtype=object)"
      ]
     },
     "execution_count": 72,
     "metadata": {},
     "output_type": "execute_result"
    }
   ],
   "source": [
    "df[df['Brand'] == 'Porsche']['Model'].unique()"
   ]
  },
  {
   "cell_type": "markdown",
   "id": "088ff758-0bb6-438f-a170-4660813991a3",
   "metadata": {},
   "source": [
    "##### 22. Nissan"
   ]
  },
  {
   "cell_type": "code",
   "execution_count": 73,
   "id": "e188bb04-242e-4056-9309-90c9be18ec6c",
   "metadata": {},
   "outputs": [
    {
     "data": {
      "text/plain": [
       "array(['Micra', 'X-Trail', 'Terrano', 'Teana', 'Sunny', 'Evalia'],\n",
       "      dtype=object)"
      ]
     },
     "execution_count": 73,
     "metadata": {},
     "output_type": "execute_result"
    }
   ],
   "source": [
    "df[df['Brand'] == 'Nissan']['Model'].unique()"
   ]
  },
  {
   "cell_type": "markdown",
   "id": "10ff7844-a6a8-4c03-a466-a99b600f5f9a",
   "metadata": {},
   "source": [
    "##### 23. Force Motors"
   ]
  },
  {
   "cell_type": "code",
   "execution_count": 74,
   "id": "99002c16-cf6a-4495-9ae0-be55743e5953",
   "metadata": {},
   "outputs": [],
   "source": [
    "df.replace('Force', 'Force Motors', inplace=True)"
   ]
  },
  {
   "cell_type": "code",
   "execution_count": 75,
   "id": "eb11db2c-b46f-472f-870b-a9ed9bb5794c",
   "metadata": {},
   "outputs": [
    {
     "data": {
      "text/plain": [
       "array(['One'], dtype=object)"
      ]
     },
     "execution_count": 75,
     "metadata": {},
     "output_type": "execute_result"
    }
   ],
   "source": [
    "df[df['Brand'] == 'Force Motors']['Model'].unique()"
   ]
  },
  {
   "cell_type": "code",
   "execution_count": 76,
   "id": "26012ccb-cd77-40ed-9f91-43836228e280",
   "metadata": {},
   "outputs": [],
   "source": [
    "df.replace('One', 'Force One', inplace=True)"
   ]
  },
  {
   "cell_type": "code",
   "execution_count": 77,
   "id": "0930894f-4e03-4a8a-831c-8cc5ba018fbc",
   "metadata": {},
   "outputs": [
    {
     "data": {
      "text/plain": [
       "array(['Force One'], dtype=object)"
      ]
     },
     "execution_count": 77,
     "metadata": {},
     "output_type": "execute_result"
    }
   ],
   "source": [
    "df[df['Brand'] == 'Force Motors']['Model'].unique()"
   ]
  },
  {
   "cell_type": "markdown",
   "id": "eb5182dc-a576-4834-9bcf-fde66d3baec2",
   "metadata": {},
   "source": [
    "##### 24. Mitsubishi"
   ]
  },
  {
   "cell_type": "code",
   "execution_count": 78,
   "id": "14ccd8d0-f8a8-41ad-b512-23f6bc38f914",
   "metadata": {},
   "outputs": [
    {
     "data": {
      "text/plain": [
       "array(['Pajero', 'Cedia', 'Outlander', 'Lancer'], dtype=object)"
      ]
     },
     "execution_count": 78,
     "metadata": {},
     "output_type": "execute_result"
    }
   ],
   "source": [
    "df[df['Brand'] == 'Mitsubishi']['Model'].unique()"
   ]
  },
  {
   "cell_type": "markdown",
   "id": "c7dd8035-5050-4e38-b4f1-ce9b8eec0f8b",
   "metadata": {},
   "source": [
    "##### 25. Isuzu"
   ]
  },
  {
   "cell_type": "code",
   "execution_count": 79,
   "id": "11b7d2c8-fde5-4f3c-9f6f-5fd2416b2896",
   "metadata": {},
   "outputs": [],
   "source": [
    "df.replace('ISUZU', 'Isuzu', inplace=True)"
   ]
  },
  {
   "cell_type": "code",
   "execution_count": 80,
   "id": "d698db4d-6b53-4bc8-b642-7f942ff54906",
   "metadata": {},
   "outputs": [
    {
     "data": {
      "text/plain": [
       "array(['MUX', 'D-MAX'], dtype=object)"
      ]
     },
     "execution_count": 80,
     "metadata": {},
     "output_type": "execute_result"
    }
   ],
   "source": [
    "df[df['Brand'] == 'Isuzu']['Model'].unique()"
   ]
  },
  {
   "cell_type": "code",
   "execution_count": 81,
   "id": "9058f3ab-7e95-421e-a070-76dcdfe04e7e",
   "metadata": {},
   "outputs": [],
   "source": [
    "df.replace('D-MAX', 'D-Max', inplace=True)"
   ]
  },
  {
   "cell_type": "code",
   "execution_count": 82,
   "id": "f91addb6-d864-4c98-95c2-640e7d4bb0f1",
   "metadata": {},
   "outputs": [
    {
     "data": {
      "text/plain": [
       "array(['MUX', 'D-Max'], dtype=object)"
      ]
     },
     "execution_count": 82,
     "metadata": {},
     "output_type": "execute_result"
    }
   ],
   "source": [
    "df[df['Brand'] == 'Isuzu']['Model'].unique()"
   ]
  },
  {
   "cell_type": "markdown",
   "id": "62ed7022-0b10-4733-af81-11a95b043d9b",
   "metadata": {},
   "source": [
    "##### 26.Datsun"
   ]
  },
  {
   "cell_type": "code",
   "execution_count": 83,
   "id": "c2486dc3-2dc2-409d-bc90-5f92334f1a11",
   "metadata": {},
   "outputs": [
    {
     "data": {
      "text/plain": [
       "array(['GO'], dtype=object)"
      ]
     },
     "execution_count": 83,
     "metadata": {},
     "output_type": "execute_result"
    }
   ],
   "source": [
    "df[df['Brand'] == 'Datsun']['Model'].unique()"
   ]
  },
  {
   "cell_type": "code",
   "execution_count": 84,
   "id": "461f902e-126d-4750-8669-50bb0b5be820",
   "metadata": {},
   "outputs": [],
   "source": [
    "df.replace('GO', 'Go', inplace=True)"
   ]
  },
  {
   "cell_type": "code",
   "execution_count": 85,
   "id": "6611023a-9e2b-41ab-b060-44b7f4743f28",
   "metadata": {},
   "outputs": [
    {
     "data": {
      "text/plain": [
       "array(['Go'], dtype=object)"
      ]
     },
     "execution_count": 85,
     "metadata": {},
     "output_type": "execute_result"
    }
   ],
   "source": [
    "df[df['Brand'] == 'Datsun']['Model'].unique()"
   ]
  },
  {
   "cell_type": "markdown",
   "id": "5c5cce36-b4e5-4cd2-a39e-94c0a1720dbb",
   "metadata": {},
   "source": [
    "##### 27. Ambassador"
   ]
  },
  {
   "cell_type": "code",
   "execution_count": 86,
   "id": "7fa5570e-229f-4b19-afb5-4f4f00a43efa",
   "metadata": {},
   "outputs": [
    {
     "data": {
      "text/plain": [
       "array(['Classic'], dtype=object)"
      ]
     },
     "execution_count": 86,
     "metadata": {},
     "output_type": "execute_result"
    }
   ],
   "source": [
    "df[df['Brand'] == 'Ambassador']['Model'].unique()"
   ]
  },
  {
   "cell_type": "markdown",
   "id": "837725ba-f958-428b-9e3b-58c46344e7b9",
   "metadata": {},
   "source": [
    "##### 28. Bentley"
   ]
  },
  {
   "cell_type": "code",
   "execution_count": 87,
   "id": "9c87539c-d16e-4453-b7d3-5032bce966d2",
   "metadata": {},
   "outputs": [
    {
     "data": {
      "text/plain": [
       "array(['Continental'], dtype=object)"
      ]
     },
     "execution_count": 87,
     "metadata": {},
     "output_type": "execute_result"
    }
   ],
   "source": [
    "df[df['Brand'] == 'Bentley']['Model'].unique()"
   ]
  },
  {
   "cell_type": "markdown",
   "id": "48c2e624-8dd0-4ee9-91af-2f35a8e62c45",
   "metadata": {},
   "source": [
    "##### 29. Smart"
   ]
  },
  {
   "cell_type": "code",
   "execution_count": 88,
   "id": "6d1f4a40-deec-45ca-8f11-6195326444c9",
   "metadata": {},
   "outputs": [
    {
     "data": {
      "text/plain": [
       "array(['Fortwo'], dtype=object)"
      ]
     },
     "execution_count": 88,
     "metadata": {},
     "output_type": "execute_result"
    }
   ],
   "source": [
    "df[df['Brand'] == 'Smart']['Model'].unique()"
   ]
  },
  {
   "cell_type": "markdown",
   "id": "3b23e4ca-ea36-435e-94e5-ad671167b59e",
   "metadata": {},
   "source": [
    "##### 30. Land Rover"
   ]
  },
  {
   "cell_type": "code",
   "execution_count": 89,
   "id": "03f4151e-1752-42da-af97-9fe37f17e306",
   "metadata": {},
   "outputs": [],
   "source": [
    "df.replace('Land', 'Land Rover', inplace=True)"
   ]
  },
  {
   "cell_type": "code",
   "execution_count": 90,
   "id": "d06b8d6c-7c95-4cab-991f-3bce1cf41c65",
   "metadata": {},
   "outputs": [
    {
     "data": {
      "text/plain": [
       "array(['Range Rover', 'Rover', 'Range Rover Evoque', 'Discovery'],\n",
       "      dtype=object)"
      ]
     },
     "execution_count": 90,
     "metadata": {},
     "output_type": "execute_result"
    }
   ],
   "source": [
    "df[df['Brand'] == 'Land Rover']['Model'].unique()"
   ]
  },
  {
   "cell_type": "code",
   "execution_count": 91,
   "id": "df52c823-2a4a-4104-88c2-85b46508b2a9",
   "metadata": {},
   "outputs": [],
   "source": [
    "df.replace('Rover', 'Range Rover', inplace=True)"
   ]
  },
  {
   "cell_type": "code",
   "execution_count": 92,
   "id": "40690202-975e-4e6a-88fc-197061497c59",
   "metadata": {},
   "outputs": [
    {
     "data": {
      "text/plain": [
       "array(['Range Rover', 'Range Rover Evoque', 'Discovery'], dtype=object)"
      ]
     },
     "execution_count": 92,
     "metadata": {},
     "output_type": "execute_result"
    }
   ],
   "source": [
    "df[df['Brand'] == 'Land Rover']['Model'].unique()"
   ]
  },
  {
   "cell_type": "markdown",
   "id": "81c03237-c8f8-48b6-9aeb-dd58ff95acfb",
   "metadata": {},
   "source": [
    "##### 31. Lexus"
   ]
  },
  {
   "cell_type": "code",
   "execution_count": 93,
   "id": "c402e943-7bae-4125-8c2f-98e28d407c26",
   "metadata": {},
   "outputs": [
    {
     "data": {
      "text/plain": [
       "array(['LX', 'LS', 'RX', 'NX'], dtype=object)"
      ]
     },
     "execution_count": 93,
     "metadata": {},
     "output_type": "execute_result"
    }
   ],
   "source": [
    "df[df['Brand'] == 'Lexus']['Model'].unique()"
   ]
  },
  {
   "cell_type": "markdown",
   "id": "39e7cbad-a214-4d7d-854b-5f1f694100c4",
   "metadata": {},
   "source": [
    "##### 32. Jeep"
   ]
  },
  {
   "cell_type": "code",
   "execution_count": 94,
   "id": "404aadfa-f69a-4c87-a5af-b63773375e37",
   "metadata": {},
   "outputs": [
    {
     "data": {
      "text/plain": [
       "array(['Compass'], dtype=object)"
      ]
     },
     "execution_count": 94,
     "metadata": {},
     "output_type": "execute_result"
    }
   ],
   "source": [
    "df[df['Brand'] == 'Jeep']['Model'].unique()"
   ]
  },
  {
   "cell_type": "markdown",
   "id": "22d6608f-a6b4-4eb5-a6cf-c29b52487026",
   "metadata": {},
   "source": [
    "#### Saving the cleaned dataset for further use"
   ]
  },
  {
   "cell_type": "code",
   "execution_count": 95,
   "id": "d1029ef4-5ce7-4b3d-beb9-3a24adf9e7c5",
   "metadata": {},
   "outputs": [
    {
     "data": {
      "text/plain": [
       "(6011, 8)"
      ]
     },
     "execution_count": 95,
     "metadata": {},
     "output_type": "execute_result"
    }
   ],
   "source": [
    "df.shape"
   ]
  },
  {
   "cell_type": "code",
   "execution_count": 96,
   "id": "3ebab357-c794-42db-9059-7a009acd50ce",
   "metadata": {},
   "outputs": [],
   "source": [
    "df.to_csv('../Dataset/Used_Car_Df3.csv', index=False)"
   ]
  },
  {
   "cell_type": "code",
   "execution_count": null,
   "id": "e1a6cddd-5690-407a-af22-0fbf0c8fa686",
   "metadata": {},
   "outputs": [],
   "source": []
  }
 ],
 "metadata": {
  "kernelspec": {
   "display_name": "Python 3 (ipykernel)",
   "language": "python",
   "name": "python3"
  },
  "language_info": {
   "codemirror_mode": {
    "name": "ipython",
    "version": 3
   },
   "file_extension": ".py",
   "mimetype": "text/x-python",
   "name": "python",
   "nbconvert_exporter": "python",
   "pygments_lexer": "ipython3",
   "version": "3.12.6"
  }
 },
 "nbformat": 4,
 "nbformat_minor": 5
}
