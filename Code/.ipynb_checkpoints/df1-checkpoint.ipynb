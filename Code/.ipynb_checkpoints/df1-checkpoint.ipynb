{
 "cells": [
  {
   "cell_type": "markdown",
   "id": "c9e11a33-24b6-4097-adc1-7cd6cf87c3bb",
   "metadata": {},
   "source": [
    "# Dataset 1 Cleaning"
   ]
  },
  {
   "cell_type": "markdown",
   "id": "283ba2d4-5b2a-48d1-9d7c-ab9902591be7",
   "metadata": {},
   "source": [
    "### Importing required libraries"
   ]
  },
  {
   "cell_type": "code",
   "execution_count": 1,
   "id": "0e31f764-f21f-43e4-86dd-6523b45aa928",
   "metadata": {},
   "outputs": [],
   "source": [
    "import numpy as np\n",
    "import pandas as pd\n",
    "import matplotlib.pyplot as plt\n",
    "import seaborn as sns\n",
    "import warnings\n",
    "warnings.filterwarnings(\"ignore\")"
   ]
  },
  {
   "cell_type": "markdown",
   "id": "968315cd-8d1a-4159-b286-ad75d644b121",
   "metadata": {},
   "source": [
    "### Loading data"
   ]
  },
  {
   "cell_type": "code",
   "execution_count": 2,
   "id": "6f9293b0-429e-49e3-8106-f41a3818b3e6",
   "metadata": {},
   "outputs": [
    {
     "data": {
      "text/html": [
       "<div>\n",
       "<style scoped>\n",
       "    .dataframe tbody tr th:only-of-type {\n",
       "        vertical-align: middle;\n",
       "    }\n",
       "\n",
       "    .dataframe tbody tr th {\n",
       "        vertical-align: top;\n",
       "    }\n",
       "\n",
       "    .dataframe thead th {\n",
       "        text-align: right;\n",
       "    }\n",
       "</style>\n",
       "<table border=\"1\" class=\"dataframe\">\n",
       "  <thead>\n",
       "    <tr style=\"text-align: right;\">\n",
       "      <th></th>\n",
       "      <th>Brand</th>\n",
       "      <th>model</th>\n",
       "      <th>Year</th>\n",
       "      <th>Age</th>\n",
       "      <th>kmDriven</th>\n",
       "      <th>Transmission</th>\n",
       "      <th>Owner</th>\n",
       "      <th>FuelType</th>\n",
       "      <th>PostedDate</th>\n",
       "      <th>AdditionInfo</th>\n",
       "      <th>AskPrice</th>\n",
       "    </tr>\n",
       "  </thead>\n",
       "  <tbody>\n",
       "    <tr>\n",
       "      <th>0</th>\n",
       "      <td>Honda</td>\n",
       "      <td>City</td>\n",
       "      <td>2001</td>\n",
       "      <td>23</td>\n",
       "      <td>98,000 km</td>\n",
       "      <td>Manual</td>\n",
       "      <td>second</td>\n",
       "      <td>Petrol</td>\n",
       "      <td>Nov-24</td>\n",
       "      <td>Honda City v teck in mint condition, valid gen...</td>\n",
       "      <td>₹ 1,95,000</td>\n",
       "    </tr>\n",
       "    <tr>\n",
       "      <th>1</th>\n",
       "      <td>Toyota</td>\n",
       "      <td>Innova</td>\n",
       "      <td>2009</td>\n",
       "      <td>15</td>\n",
       "      <td>190000.0 km</td>\n",
       "      <td>Manual</td>\n",
       "      <td>second</td>\n",
       "      <td>Diesel</td>\n",
       "      <td>Jul-24</td>\n",
       "      <td>Toyota Innova 2.5 G (Diesel) 7 Seater, 2009, D...</td>\n",
       "      <td>₹ 3,75,000</td>\n",
       "    </tr>\n",
       "    <tr>\n",
       "      <th>2</th>\n",
       "      <td>Volkswagen</td>\n",
       "      <td>VentoTest</td>\n",
       "      <td>2010</td>\n",
       "      <td>14</td>\n",
       "      <td>77,246 km</td>\n",
       "      <td>Manual</td>\n",
       "      <td>first</td>\n",
       "      <td>Diesel</td>\n",
       "      <td>Nov-24</td>\n",
       "      <td>Volkswagen Vento 2010-2013 Diesel Breeze, 2010...</td>\n",
       "      <td>₹ 1,84,999</td>\n",
       "    </tr>\n",
       "    <tr>\n",
       "      <th>3</th>\n",
       "      <td>Maruti Suzuki</td>\n",
       "      <td>Swift</td>\n",
       "      <td>2017</td>\n",
       "      <td>7</td>\n",
       "      <td>83,500 km</td>\n",
       "      <td>Manual</td>\n",
       "      <td>second</td>\n",
       "      <td>Diesel</td>\n",
       "      <td>Nov-24</td>\n",
       "      <td>Maruti Suzuki Swift 2017 Diesel Good Condition</td>\n",
       "      <td>₹ 5,65,000</td>\n",
       "    </tr>\n",
       "    <tr>\n",
       "      <th>4</th>\n",
       "      <td>Maruti Suzuki</td>\n",
       "      <td>Baleno</td>\n",
       "      <td>2019</td>\n",
       "      <td>5</td>\n",
       "      <td>45,000 km</td>\n",
       "      <td>Automatic</td>\n",
       "      <td>first</td>\n",
       "      <td>Petrol</td>\n",
       "      <td>Nov-24</td>\n",
       "      <td>Maruti Suzuki Baleno Alpha CVT, 2019, Petrol</td>\n",
       "      <td>₹ 6,85,000</td>\n",
       "    </tr>\n",
       "    <tr>\n",
       "      <th>...</th>\n",
       "      <td>...</td>\n",
       "      <td>...</td>\n",
       "      <td>...</td>\n",
       "      <td>...</td>\n",
       "      <td>...</td>\n",
       "      <td>...</td>\n",
       "      <td>...</td>\n",
       "      <td>...</td>\n",
       "      <td>...</td>\n",
       "      <td>...</td>\n",
       "      <td>...</td>\n",
       "    </tr>\n",
       "    <tr>\n",
       "      <th>9577</th>\n",
       "      <td>Skoda</td>\n",
       "      <td>Octavia</td>\n",
       "      <td>2014</td>\n",
       "      <td>10</td>\n",
       "      <td>105,904 km</td>\n",
       "      <td>Automatic</td>\n",
       "      <td>second</td>\n",
       "      <td>Diesel</td>\n",
       "      <td>Oct-24</td>\n",
       "      <td>Skoda Octavia 1.9 Elegance TDI, 2014, Diesel</td>\n",
       "      <td>₹ 10,40,000</td>\n",
       "    </tr>\n",
       "    <tr>\n",
       "      <th>9578</th>\n",
       "      <td>Maruti Suzuki</td>\n",
       "      <td>Alto-800</td>\n",
       "      <td>2020</td>\n",
       "      <td>4</td>\n",
       "      <td>55,000 km</td>\n",
       "      <td>Manual</td>\n",
       "      <td>first</td>\n",
       "      <td>Hybrid/CNG</td>\n",
       "      <td>Nov-24</td>\n",
       "      <td>Maruti Suzuki Alto 800 CNG LXI Optional, 2020,...</td>\n",
       "      <td>₹ 3,75,000</td>\n",
       "    </tr>\n",
       "    <tr>\n",
       "      <th>9579</th>\n",
       "      <td>Maruti Suzuki</td>\n",
       "      <td>Ritz</td>\n",
       "      <td>2013</td>\n",
       "      <td>11</td>\n",
       "      <td>92,000 km</td>\n",
       "      <td>Manual</td>\n",
       "      <td>first</td>\n",
       "      <td>Diesel</td>\n",
       "      <td>Nov-24</td>\n",
       "      <td>Maruti Suzuki Ritz VDi, 2013, Diesel</td>\n",
       "      <td>₹ 4,15,000</td>\n",
       "    </tr>\n",
       "    <tr>\n",
       "      <th>9580</th>\n",
       "      <td>Hyundai</td>\n",
       "      <td>Verna</td>\n",
       "      <td>2019</td>\n",
       "      <td>5</td>\n",
       "      <td>72,000 km</td>\n",
       "      <td>Automatic</td>\n",
       "      <td>first</td>\n",
       "      <td>Petrol</td>\n",
       "      <td>Oct-24</td>\n",
       "      <td>Hyundai Verna VTVT 1.6 AT SX Option, 2019, Petrol</td>\n",
       "      <td>₹ 8,55,000</td>\n",
       "    </tr>\n",
       "    <tr>\n",
       "      <th>9581</th>\n",
       "      <td>Hyundai</td>\n",
       "      <td>New i20</td>\n",
       "      <td>2021</td>\n",
       "      <td>3</td>\n",
       "      <td>83,228 km</td>\n",
       "      <td>Manual</td>\n",
       "      <td>second</td>\n",
       "      <td>Petrol</td>\n",
       "      <td>Nov-24</td>\n",
       "      <td>Hyundai New i20 1.2 Asta IVT, 2021, Petrol</td>\n",
       "      <td>₹ 6,99,000</td>\n",
       "    </tr>\n",
       "  </tbody>\n",
       "</table>\n",
       "<p>9582 rows × 11 columns</p>\n",
       "</div>"
      ],
      "text/plain": [
       "              Brand      model  Year  Age     kmDriven Transmission   Owner  \\\n",
       "0             Honda       City  2001   23    98,000 km       Manual  second   \n",
       "1            Toyota     Innova  2009   15  190000.0 km       Manual  second   \n",
       "2        Volkswagen  VentoTest  2010   14    77,246 km       Manual   first   \n",
       "3     Maruti Suzuki      Swift  2017    7    83,500 km       Manual  second   \n",
       "4     Maruti Suzuki     Baleno  2019    5    45,000 km    Automatic   first   \n",
       "...             ...        ...   ...  ...          ...          ...     ...   \n",
       "9577          Skoda    Octavia  2014   10   105,904 km    Automatic  second   \n",
       "9578  Maruti Suzuki   Alto-800  2020    4    55,000 km       Manual   first   \n",
       "9579  Maruti Suzuki       Ritz  2013   11    92,000 km       Manual   first   \n",
       "9580        Hyundai      Verna  2019    5    72,000 km    Automatic   first   \n",
       "9581        Hyundai    New i20  2021    3    83,228 km       Manual  second   \n",
       "\n",
       "        FuelType PostedDate  \\\n",
       "0         Petrol     Nov-24   \n",
       "1         Diesel     Jul-24   \n",
       "2         Diesel     Nov-24   \n",
       "3         Diesel     Nov-24   \n",
       "4         Petrol     Nov-24   \n",
       "...          ...        ...   \n",
       "9577      Diesel     Oct-24   \n",
       "9578  Hybrid/CNG     Nov-24   \n",
       "9579      Diesel     Nov-24   \n",
       "9580      Petrol     Oct-24   \n",
       "9581      Petrol     Nov-24   \n",
       "\n",
       "                                           AdditionInfo     AskPrice  \n",
       "0     Honda City v teck in mint condition, valid gen...   ₹ 1,95,000  \n",
       "1     Toyota Innova 2.5 G (Diesel) 7 Seater, 2009, D...   ₹ 3,75,000  \n",
       "2     Volkswagen Vento 2010-2013 Diesel Breeze, 2010...   ₹ 1,84,999  \n",
       "3        Maruti Suzuki Swift 2017 Diesel Good Condition   ₹ 5,65,000  \n",
       "4          Maruti Suzuki Baleno Alpha CVT, 2019, Petrol   ₹ 6,85,000  \n",
       "...                                                 ...          ...  \n",
       "9577       Skoda Octavia 1.9 Elegance TDI, 2014, Diesel  ₹ 10,40,000  \n",
       "9578  Maruti Suzuki Alto 800 CNG LXI Optional, 2020,...   ₹ 3,75,000  \n",
       "9579               Maruti Suzuki Ritz VDi, 2013, Diesel   ₹ 4,15,000  \n",
       "9580  Hyundai Verna VTVT 1.6 AT SX Option, 2019, Petrol   ₹ 8,55,000  \n",
       "9581         Hyundai New i20 1.2 Asta IVT, 2021, Petrol   ₹ 6,99,000  \n",
       "\n",
       "[9582 rows x 11 columns]"
      ]
     },
     "execution_count": 2,
     "metadata": {},
     "output_type": "execute_result"
    }
   ],
   "source": [
    "df = pd.read_csv(\"D:/Code/Projects/Used_Car_Price/Dataset/Extra/used_car_dataset.csv\")\n",
    "df"
   ]
  },
  {
   "cell_type": "markdown",
   "id": "726e3a6f-c313-47ef-8f7b-3134d767fd7d",
   "metadata": {},
   "source": [
    "### EDA"
   ]
  },
  {
   "cell_type": "code",
   "execution_count": 3,
   "id": "be9ed403-b331-40ce-a35b-b50385b94e2f",
   "metadata": {},
   "outputs": [
    {
     "name": "stdout",
     "output_type": "stream",
     "text": [
      "<class 'pandas.core.frame.DataFrame'>\n",
      "RangeIndex: 9582 entries, 0 to 9581\n",
      "Data columns (total 11 columns):\n",
      " #   Column        Non-Null Count  Dtype \n",
      "---  ------        --------------  ----- \n",
      " 0   Brand         9582 non-null   object\n",
      " 1   model         9582 non-null   object\n",
      " 2   Year          9582 non-null   int64 \n",
      " 3   Age           9582 non-null   int64 \n",
      " 4   kmDriven      9535 non-null   object\n",
      " 5   Transmission  9582 non-null   object\n",
      " 6   Owner         9582 non-null   object\n",
      " 7   FuelType      9582 non-null   object\n",
      " 8   PostedDate    9582 non-null   object\n",
      " 9   AdditionInfo  9582 non-null   object\n",
      " 10  AskPrice      9582 non-null   object\n",
      "dtypes: int64(2), object(9)\n",
      "memory usage: 823.6+ KB\n"
     ]
    }
   ],
   "source": [
    "df.info()"
   ]
  },
  {
   "cell_type": "code",
   "execution_count": 4,
   "id": "1dbb097c-497e-43c4-ac35-6d5451450c7e",
   "metadata": {},
   "outputs": [
    {
     "data": {
      "text/html": [
       "<div>\n",
       "<style scoped>\n",
       "    .dataframe tbody tr th:only-of-type {\n",
       "        vertical-align: middle;\n",
       "    }\n",
       "\n",
       "    .dataframe tbody tr th {\n",
       "        vertical-align: top;\n",
       "    }\n",
       "\n",
       "    .dataframe thead th {\n",
       "        text-align: right;\n",
       "    }\n",
       "</style>\n",
       "<table border=\"1\" class=\"dataframe\">\n",
       "  <thead>\n",
       "    <tr style=\"text-align: right;\">\n",
       "      <th></th>\n",
       "      <th>Year</th>\n",
       "      <th>Age</th>\n",
       "    </tr>\n",
       "  </thead>\n",
       "  <tbody>\n",
       "    <tr>\n",
       "      <th>count</th>\n",
       "      <td>9582.000000</td>\n",
       "      <td>9582.000000</td>\n",
       "    </tr>\n",
       "    <tr>\n",
       "      <th>mean</th>\n",
       "      <td>2016.361094</td>\n",
       "      <td>7.638906</td>\n",
       "    </tr>\n",
       "    <tr>\n",
       "      <th>std</th>\n",
       "      <td>4.087226</td>\n",
       "      <td>4.087226</td>\n",
       "    </tr>\n",
       "    <tr>\n",
       "      <th>min</th>\n",
       "      <td>1986.000000</td>\n",
       "      <td>0.000000</td>\n",
       "    </tr>\n",
       "    <tr>\n",
       "      <th>25%</th>\n",
       "      <td>2014.000000</td>\n",
       "      <td>5.000000</td>\n",
       "    </tr>\n",
       "    <tr>\n",
       "      <th>50%</th>\n",
       "      <td>2017.000000</td>\n",
       "      <td>7.000000</td>\n",
       "    </tr>\n",
       "    <tr>\n",
       "      <th>75%</th>\n",
       "      <td>2019.000000</td>\n",
       "      <td>10.000000</td>\n",
       "    </tr>\n",
       "    <tr>\n",
       "      <th>max</th>\n",
       "      <td>2024.000000</td>\n",
       "      <td>38.000000</td>\n",
       "    </tr>\n",
       "  </tbody>\n",
       "</table>\n",
       "</div>"
      ],
      "text/plain": [
       "              Year          Age\n",
       "count  9582.000000  9582.000000\n",
       "mean   2016.361094     7.638906\n",
       "std       4.087226     4.087226\n",
       "min    1986.000000     0.000000\n",
       "25%    2014.000000     5.000000\n",
       "50%    2017.000000     7.000000\n",
       "75%    2019.000000    10.000000\n",
       "max    2024.000000    38.000000"
      ]
     },
     "execution_count": 4,
     "metadata": {},
     "output_type": "execute_result"
    }
   ],
   "source": [
    "df.describe()"
   ]
  },
  {
   "cell_type": "code",
   "execution_count": 5,
   "id": "9c2cae10-5031-4541-a661-794ef147b426",
   "metadata": {},
   "outputs": [
    {
     "data": {
      "text/plain": [
       "Brand            0\n",
       "model            0\n",
       "Year             0\n",
       "Age              0\n",
       "kmDriven        47\n",
       "Transmission     0\n",
       "Owner            0\n",
       "FuelType         0\n",
       "PostedDate       0\n",
       "AdditionInfo     0\n",
       "AskPrice         0\n",
       "dtype: int64"
      ]
     },
     "execution_count": 5,
     "metadata": {},
     "output_type": "execute_result"
    }
   ],
   "source": [
    "df.isna().sum()"
   ]
  },
  {
   "cell_type": "code",
   "execution_count": 6,
   "id": "af9413f7-783d-4e54-b21b-ab11be36a25e",
   "metadata": {},
   "outputs": [
    {
     "name": "stdout",
     "output_type": "stream",
     "text": [
      "<class 'pandas.core.frame.DataFrame'>\n",
      "RangeIndex: 9582 entries, 0 to 9581\n",
      "Data columns (total 11 columns):\n",
      " #   Column        Non-Null Count  Dtype \n",
      "---  ------        --------------  ----- \n",
      " 0   Brand         9582 non-null   object\n",
      " 1   model         9582 non-null   object\n",
      " 2   Year          9582 non-null   int64 \n",
      " 3   Age           9582 non-null   int64 \n",
      " 4   kmDriven      9535 non-null   object\n",
      " 5   Transmission  9582 non-null   object\n",
      " 6   Owner         9582 non-null   object\n",
      " 7   FuelType      9582 non-null   object\n",
      " 8   PostedDate    9582 non-null   object\n",
      " 9   AdditionInfo  9582 non-null   object\n",
      " 10  AskPrice      9582 non-null   object\n",
      "dtypes: int64(2), object(9)\n",
      "memory usage: 823.6+ KB\n"
     ]
    }
   ],
   "source": [
    "df.info()"
   ]
  },
  {
   "cell_type": "code",
   "execution_count": 7,
   "id": "97febf2d-97ee-45e8-969b-6e9cd63d7a9b",
   "metadata": {},
   "outputs": [],
   "source": [
    "# Removing ₹ sign\n",
    "df['AskPrice'] = df['AskPrice'].str.replace('₹', '', regex=False)\n",
    "# Removing commas\n",
    "df['AskPrice'] = df['AskPrice'].str.replace(',', '', regex=False)\n",
    "# Convert to float\n",
    "df['AskPrice'] = df['AskPrice'].astype(float)"
   ]
  },
  {
   "cell_type": "code",
   "execution_count": 8,
   "id": "7f7d652c-c421-4235-ab75-571cbfd0793c",
   "metadata": {},
   "outputs": [],
   "source": [
    "# Removing km\n",
    "df['kmDriven'] = df['kmDriven'].str.replace('km', '', regex=False)\n",
    "# Removing commas\n",
    "df['kmDriven'] = df['kmDriven'].str.replace(',', '', regex=False)\n",
    "# Comvert to int\n",
    "df['kmDriven'] = df['kmDriven'].astype(float)"
   ]
  },
  {
   "cell_type": "code",
   "execution_count": 9,
   "id": "bfd9855e-d96d-4d41-84e3-8fdf1ce87c7c",
   "metadata": {},
   "outputs": [
    {
     "data": {
      "text/html": [
       "<div>\n",
       "<style scoped>\n",
       "    .dataframe tbody tr th:only-of-type {\n",
       "        vertical-align: middle;\n",
       "    }\n",
       "\n",
       "    .dataframe tbody tr th {\n",
       "        vertical-align: top;\n",
       "    }\n",
       "\n",
       "    .dataframe thead th {\n",
       "        text-align: right;\n",
       "    }\n",
       "</style>\n",
       "<table border=\"1\" class=\"dataframe\">\n",
       "  <thead>\n",
       "    <tr style=\"text-align: right;\">\n",
       "      <th></th>\n",
       "      <th>Brand</th>\n",
       "      <th>model</th>\n",
       "      <th>Year</th>\n",
       "      <th>Age</th>\n",
       "      <th>kmDriven</th>\n",
       "      <th>Transmission</th>\n",
       "      <th>Owner</th>\n",
       "      <th>FuelType</th>\n",
       "      <th>PostedDate</th>\n",
       "      <th>AdditionInfo</th>\n",
       "      <th>AskPrice</th>\n",
       "    </tr>\n",
       "  </thead>\n",
       "  <tbody>\n",
       "    <tr>\n",
       "      <th>0</th>\n",
       "      <td>Honda</td>\n",
       "      <td>City</td>\n",
       "      <td>2001</td>\n",
       "      <td>276</td>\n",
       "      <td>98000.0</td>\n",
       "      <td>Manual</td>\n",
       "      <td>second</td>\n",
       "      <td>Petrol</td>\n",
       "      <td>Nov-24</td>\n",
       "      <td>Honda City v teck in mint condition, valid gen...</td>\n",
       "      <td>195000.0</td>\n",
       "    </tr>\n",
       "    <tr>\n",
       "      <th>1</th>\n",
       "      <td>Toyota</td>\n",
       "      <td>Innova</td>\n",
       "      <td>2009</td>\n",
       "      <td>180</td>\n",
       "      <td>190000.0</td>\n",
       "      <td>Manual</td>\n",
       "      <td>second</td>\n",
       "      <td>Diesel</td>\n",
       "      <td>Jul-24</td>\n",
       "      <td>Toyota Innova 2.5 G (Diesel) 7 Seater, 2009, D...</td>\n",
       "      <td>375000.0</td>\n",
       "    </tr>\n",
       "    <tr>\n",
       "      <th>2</th>\n",
       "      <td>Volkswagen</td>\n",
       "      <td>VentoTest</td>\n",
       "      <td>2010</td>\n",
       "      <td>168</td>\n",
       "      <td>77246.0</td>\n",
       "      <td>Manual</td>\n",
       "      <td>first</td>\n",
       "      <td>Diesel</td>\n",
       "      <td>Nov-24</td>\n",
       "      <td>Volkswagen Vento 2010-2013 Diesel Breeze, 2010...</td>\n",
       "      <td>184999.0</td>\n",
       "    </tr>\n",
       "    <tr>\n",
       "      <th>3</th>\n",
       "      <td>Maruti Suzuki</td>\n",
       "      <td>Swift</td>\n",
       "      <td>2017</td>\n",
       "      <td>84</td>\n",
       "      <td>83500.0</td>\n",
       "      <td>Manual</td>\n",
       "      <td>second</td>\n",
       "      <td>Diesel</td>\n",
       "      <td>Nov-24</td>\n",
       "      <td>Maruti Suzuki Swift 2017 Diesel Good Condition</td>\n",
       "      <td>565000.0</td>\n",
       "    </tr>\n",
       "    <tr>\n",
       "      <th>4</th>\n",
       "      <td>Maruti Suzuki</td>\n",
       "      <td>Baleno</td>\n",
       "      <td>2019</td>\n",
       "      <td>60</td>\n",
       "      <td>45000.0</td>\n",
       "      <td>Automatic</td>\n",
       "      <td>first</td>\n",
       "      <td>Petrol</td>\n",
       "      <td>Nov-24</td>\n",
       "      <td>Maruti Suzuki Baleno Alpha CVT, 2019, Petrol</td>\n",
       "      <td>685000.0</td>\n",
       "    </tr>\n",
       "    <tr>\n",
       "      <th>...</th>\n",
       "      <td>...</td>\n",
       "      <td>...</td>\n",
       "      <td>...</td>\n",
       "      <td>...</td>\n",
       "      <td>...</td>\n",
       "      <td>...</td>\n",
       "      <td>...</td>\n",
       "      <td>...</td>\n",
       "      <td>...</td>\n",
       "      <td>...</td>\n",
       "      <td>...</td>\n",
       "    </tr>\n",
       "    <tr>\n",
       "      <th>9577</th>\n",
       "      <td>Skoda</td>\n",
       "      <td>Octavia</td>\n",
       "      <td>2014</td>\n",
       "      <td>120</td>\n",
       "      <td>105904.0</td>\n",
       "      <td>Automatic</td>\n",
       "      <td>second</td>\n",
       "      <td>Diesel</td>\n",
       "      <td>Oct-24</td>\n",
       "      <td>Skoda Octavia 1.9 Elegance TDI, 2014, Diesel</td>\n",
       "      <td>1040000.0</td>\n",
       "    </tr>\n",
       "    <tr>\n",
       "      <th>9578</th>\n",
       "      <td>Maruti Suzuki</td>\n",
       "      <td>Alto-800</td>\n",
       "      <td>2020</td>\n",
       "      <td>48</td>\n",
       "      <td>55000.0</td>\n",
       "      <td>Manual</td>\n",
       "      <td>first</td>\n",
       "      <td>Hybrid/CNG</td>\n",
       "      <td>Nov-24</td>\n",
       "      <td>Maruti Suzuki Alto 800 CNG LXI Optional, 2020,...</td>\n",
       "      <td>375000.0</td>\n",
       "    </tr>\n",
       "    <tr>\n",
       "      <th>9579</th>\n",
       "      <td>Maruti Suzuki</td>\n",
       "      <td>Ritz</td>\n",
       "      <td>2013</td>\n",
       "      <td>132</td>\n",
       "      <td>92000.0</td>\n",
       "      <td>Manual</td>\n",
       "      <td>first</td>\n",
       "      <td>Diesel</td>\n",
       "      <td>Nov-24</td>\n",
       "      <td>Maruti Suzuki Ritz VDi, 2013, Diesel</td>\n",
       "      <td>415000.0</td>\n",
       "    </tr>\n",
       "    <tr>\n",
       "      <th>9580</th>\n",
       "      <td>Hyundai</td>\n",
       "      <td>Verna</td>\n",
       "      <td>2019</td>\n",
       "      <td>60</td>\n",
       "      <td>72000.0</td>\n",
       "      <td>Automatic</td>\n",
       "      <td>first</td>\n",
       "      <td>Petrol</td>\n",
       "      <td>Oct-24</td>\n",
       "      <td>Hyundai Verna VTVT 1.6 AT SX Option, 2019, Petrol</td>\n",
       "      <td>855000.0</td>\n",
       "    </tr>\n",
       "    <tr>\n",
       "      <th>9581</th>\n",
       "      <td>Hyundai</td>\n",
       "      <td>New i20</td>\n",
       "      <td>2021</td>\n",
       "      <td>36</td>\n",
       "      <td>83228.0</td>\n",
       "      <td>Manual</td>\n",
       "      <td>second</td>\n",
       "      <td>Petrol</td>\n",
       "      <td>Nov-24</td>\n",
       "      <td>Hyundai New i20 1.2 Asta IVT, 2021, Petrol</td>\n",
       "      <td>699000.0</td>\n",
       "    </tr>\n",
       "  </tbody>\n",
       "</table>\n",
       "<p>9582 rows × 11 columns</p>\n",
       "</div>"
      ],
      "text/plain": [
       "              Brand      model  Year  Age  kmDriven Transmission   Owner  \\\n",
       "0             Honda       City  2001  276   98000.0       Manual  second   \n",
       "1            Toyota     Innova  2009  180  190000.0       Manual  second   \n",
       "2        Volkswagen  VentoTest  2010  168   77246.0       Manual   first   \n",
       "3     Maruti Suzuki      Swift  2017   84   83500.0       Manual  second   \n",
       "4     Maruti Suzuki     Baleno  2019   60   45000.0    Automatic   first   \n",
       "...             ...        ...   ...  ...       ...          ...     ...   \n",
       "9577          Skoda    Octavia  2014  120  105904.0    Automatic  second   \n",
       "9578  Maruti Suzuki   Alto-800  2020   48   55000.0       Manual   first   \n",
       "9579  Maruti Suzuki       Ritz  2013  132   92000.0       Manual   first   \n",
       "9580        Hyundai      Verna  2019   60   72000.0    Automatic   first   \n",
       "9581        Hyundai    New i20  2021   36   83228.0       Manual  second   \n",
       "\n",
       "        FuelType PostedDate  \\\n",
       "0         Petrol     Nov-24   \n",
       "1         Diesel     Jul-24   \n",
       "2         Diesel     Nov-24   \n",
       "3         Diesel     Nov-24   \n",
       "4         Petrol     Nov-24   \n",
       "...          ...        ...   \n",
       "9577      Diesel     Oct-24   \n",
       "9578  Hybrid/CNG     Nov-24   \n",
       "9579      Diesel     Nov-24   \n",
       "9580      Petrol     Oct-24   \n",
       "9581      Petrol     Nov-24   \n",
       "\n",
       "                                           AdditionInfo   AskPrice  \n",
       "0     Honda City v teck in mint condition, valid gen...   195000.0  \n",
       "1     Toyota Innova 2.5 G (Diesel) 7 Seater, 2009, D...   375000.0  \n",
       "2     Volkswagen Vento 2010-2013 Diesel Breeze, 2010...   184999.0  \n",
       "3        Maruti Suzuki Swift 2017 Diesel Good Condition   565000.0  \n",
       "4          Maruti Suzuki Baleno Alpha CVT, 2019, Petrol   685000.0  \n",
       "...                                                 ...        ...  \n",
       "9577       Skoda Octavia 1.9 Elegance TDI, 2014, Diesel  1040000.0  \n",
       "9578  Maruti Suzuki Alto 800 CNG LXI Optional, 2020,...   375000.0  \n",
       "9579               Maruti Suzuki Ritz VDi, 2013, Diesel   415000.0  \n",
       "9580  Hyundai Verna VTVT 1.6 AT SX Option, 2019, Petrol   855000.0  \n",
       "9581         Hyundai New i20 1.2 Asta IVT, 2021, Petrol   699000.0  \n",
       "\n",
       "[9582 rows x 11 columns]"
      ]
     },
     "execution_count": 9,
     "metadata": {},
     "output_type": "execute_result"
    }
   ],
   "source": [
    "# Changing Age from years to month for better accuracy\n",
    "df['Age'] = df['Age']*12\n",
    "df"
   ]
  },
  {
   "cell_type": "code",
   "execution_count": 10,
   "id": "f8e8811b-0353-48f1-8ae5-a9cdb3a2f2a7",
   "metadata": {},
   "outputs": [
    {
     "data": {
      "text/html": [
       "<div>\n",
       "<style scoped>\n",
       "    .dataframe tbody tr th:only-of-type {\n",
       "        vertical-align: middle;\n",
       "    }\n",
       "\n",
       "    .dataframe tbody tr th {\n",
       "        vertical-align: top;\n",
       "    }\n",
       "\n",
       "    .dataframe thead th {\n",
       "        text-align: right;\n",
       "    }\n",
       "</style>\n",
       "<table border=\"1\" class=\"dataframe\">\n",
       "  <thead>\n",
       "    <tr style=\"text-align: right;\">\n",
       "      <th></th>\n",
       "      <th>Brand</th>\n",
       "      <th>model</th>\n",
       "      <th>Age</th>\n",
       "      <th>kmDriven</th>\n",
       "      <th>Transmission</th>\n",
       "      <th>Owner</th>\n",
       "      <th>FuelType</th>\n",
       "      <th>AskPrice</th>\n",
       "    </tr>\n",
       "  </thead>\n",
       "  <tbody>\n",
       "    <tr>\n",
       "      <th>0</th>\n",
       "      <td>Honda</td>\n",
       "      <td>City</td>\n",
       "      <td>276</td>\n",
       "      <td>98000.0</td>\n",
       "      <td>Manual</td>\n",
       "      <td>second</td>\n",
       "      <td>Petrol</td>\n",
       "      <td>195000.0</td>\n",
       "    </tr>\n",
       "    <tr>\n",
       "      <th>1</th>\n",
       "      <td>Toyota</td>\n",
       "      <td>Innova</td>\n",
       "      <td>180</td>\n",
       "      <td>190000.0</td>\n",
       "      <td>Manual</td>\n",
       "      <td>second</td>\n",
       "      <td>Diesel</td>\n",
       "      <td>375000.0</td>\n",
       "    </tr>\n",
       "    <tr>\n",
       "      <th>2</th>\n",
       "      <td>Volkswagen</td>\n",
       "      <td>VentoTest</td>\n",
       "      <td>168</td>\n",
       "      <td>77246.0</td>\n",
       "      <td>Manual</td>\n",
       "      <td>first</td>\n",
       "      <td>Diesel</td>\n",
       "      <td>184999.0</td>\n",
       "    </tr>\n",
       "    <tr>\n",
       "      <th>3</th>\n",
       "      <td>Maruti Suzuki</td>\n",
       "      <td>Swift</td>\n",
       "      <td>84</td>\n",
       "      <td>83500.0</td>\n",
       "      <td>Manual</td>\n",
       "      <td>second</td>\n",
       "      <td>Diesel</td>\n",
       "      <td>565000.0</td>\n",
       "    </tr>\n",
       "    <tr>\n",
       "      <th>4</th>\n",
       "      <td>Maruti Suzuki</td>\n",
       "      <td>Baleno</td>\n",
       "      <td>60</td>\n",
       "      <td>45000.0</td>\n",
       "      <td>Automatic</td>\n",
       "      <td>first</td>\n",
       "      <td>Petrol</td>\n",
       "      <td>685000.0</td>\n",
       "    </tr>\n",
       "    <tr>\n",
       "      <th>...</th>\n",
       "      <td>...</td>\n",
       "      <td>...</td>\n",
       "      <td>...</td>\n",
       "      <td>...</td>\n",
       "      <td>...</td>\n",
       "      <td>...</td>\n",
       "      <td>...</td>\n",
       "      <td>...</td>\n",
       "    </tr>\n",
       "    <tr>\n",
       "      <th>9577</th>\n",
       "      <td>Skoda</td>\n",
       "      <td>Octavia</td>\n",
       "      <td>120</td>\n",
       "      <td>105904.0</td>\n",
       "      <td>Automatic</td>\n",
       "      <td>second</td>\n",
       "      <td>Diesel</td>\n",
       "      <td>1040000.0</td>\n",
       "    </tr>\n",
       "    <tr>\n",
       "      <th>9578</th>\n",
       "      <td>Maruti Suzuki</td>\n",
       "      <td>Alto-800</td>\n",
       "      <td>48</td>\n",
       "      <td>55000.0</td>\n",
       "      <td>Manual</td>\n",
       "      <td>first</td>\n",
       "      <td>Hybrid/CNG</td>\n",
       "      <td>375000.0</td>\n",
       "    </tr>\n",
       "    <tr>\n",
       "      <th>9579</th>\n",
       "      <td>Maruti Suzuki</td>\n",
       "      <td>Ritz</td>\n",
       "      <td>132</td>\n",
       "      <td>92000.0</td>\n",
       "      <td>Manual</td>\n",
       "      <td>first</td>\n",
       "      <td>Diesel</td>\n",
       "      <td>415000.0</td>\n",
       "    </tr>\n",
       "    <tr>\n",
       "      <th>9580</th>\n",
       "      <td>Hyundai</td>\n",
       "      <td>Verna</td>\n",
       "      <td>60</td>\n",
       "      <td>72000.0</td>\n",
       "      <td>Automatic</td>\n",
       "      <td>first</td>\n",
       "      <td>Petrol</td>\n",
       "      <td>855000.0</td>\n",
       "    </tr>\n",
       "    <tr>\n",
       "      <th>9581</th>\n",
       "      <td>Hyundai</td>\n",
       "      <td>New i20</td>\n",
       "      <td>36</td>\n",
       "      <td>83228.0</td>\n",
       "      <td>Manual</td>\n",
       "      <td>second</td>\n",
       "      <td>Petrol</td>\n",
       "      <td>699000.0</td>\n",
       "    </tr>\n",
       "  </tbody>\n",
       "</table>\n",
       "<p>9582 rows × 8 columns</p>\n",
       "</div>"
      ],
      "text/plain": [
       "              Brand      model  Age  kmDriven Transmission   Owner  \\\n",
       "0             Honda       City  276   98000.0       Manual  second   \n",
       "1            Toyota     Innova  180  190000.0       Manual  second   \n",
       "2        Volkswagen  VentoTest  168   77246.0       Manual   first   \n",
       "3     Maruti Suzuki      Swift   84   83500.0       Manual  second   \n",
       "4     Maruti Suzuki     Baleno   60   45000.0    Automatic   first   \n",
       "...             ...        ...  ...       ...          ...     ...   \n",
       "9577          Skoda    Octavia  120  105904.0    Automatic  second   \n",
       "9578  Maruti Suzuki   Alto-800   48   55000.0       Manual   first   \n",
       "9579  Maruti Suzuki       Ritz  132   92000.0       Manual   first   \n",
       "9580        Hyundai      Verna   60   72000.0    Automatic   first   \n",
       "9581        Hyundai    New i20   36   83228.0       Manual  second   \n",
       "\n",
       "        FuelType   AskPrice  \n",
       "0         Petrol   195000.0  \n",
       "1         Diesel   375000.0  \n",
       "2         Diesel   184999.0  \n",
       "3         Diesel   565000.0  \n",
       "4         Petrol   685000.0  \n",
       "...          ...        ...  \n",
       "9577      Diesel  1040000.0  \n",
       "9578  Hybrid/CNG   375000.0  \n",
       "9579      Diesel   415000.0  \n",
       "9580      Petrol   855000.0  \n",
       "9581      Petrol   699000.0  \n",
       "\n",
       "[9582 rows x 8 columns]"
      ]
     },
     "execution_count": 10,
     "metadata": {},
     "output_type": "execute_result"
    }
   ],
   "source": [
    "# Dropping unnecessary columns\n",
    "df = df.drop(['Year', 'PostedDate', 'AdditionInfo'], axis=1)\n",
    "df"
   ]
  },
  {
   "cell_type": "code",
   "execution_count": 11,
   "id": "88c63cbd-5161-4231-9580-a59ea01f9cb2",
   "metadata": {},
   "outputs": [],
   "source": [
    "df = df.rename(columns={'model':'Model'})\n",
    "df = df.rename(columns={'kmDriven':'KmDriven'})\n",
    "df = df.rename(columns={'AskPrice':'Price'})"
   ]
  },
  {
   "cell_type": "code",
   "execution_count": 12,
   "id": "6c4999ef-300a-4770-9e8d-cc52f8a0d870",
   "metadata": {},
   "outputs": [
    {
     "name": "stdout",
     "output_type": "stream",
     "text": [
      "<class 'pandas.core.frame.DataFrame'>\n",
      "RangeIndex: 9582 entries, 0 to 9581\n",
      "Data columns (total 8 columns):\n",
      " #   Column        Non-Null Count  Dtype  \n",
      "---  ------        --------------  -----  \n",
      " 0   Brand         9582 non-null   object \n",
      " 1   Model         9582 non-null   object \n",
      " 2   Age           9582 non-null   int64  \n",
      " 3   KmDriven      9535 non-null   float64\n",
      " 4   Transmission  9582 non-null   object \n",
      " 5   Owner         9582 non-null   object \n",
      " 6   FuelType      9582 non-null   object \n",
      " 7   Price         9582 non-null   float64\n",
      "dtypes: float64(2), int64(1), object(5)\n",
      "memory usage: 599.0+ KB\n"
     ]
    }
   ],
   "source": [
    "df.info()"
   ]
  },
  {
   "cell_type": "code",
   "execution_count": 13,
   "id": "f16fee6d-3672-49fa-b261-8a545c6bd544",
   "metadata": {},
   "outputs": [
    {
     "data": {
      "text/plain": [
       "np.int64(821)"
      ]
     },
     "execution_count": 13,
     "metadata": {},
     "output_type": "execute_result"
    }
   ],
   "source": [
    "df.duplicated().sum()"
   ]
  },
  {
   "cell_type": "code",
   "execution_count": 14,
   "id": "e391f6ef-542c-45d0-bbee-ef9c6a9aef5b",
   "metadata": {},
   "outputs": [
    {
     "data": {
      "text/html": [
       "<div>\n",
       "<style scoped>\n",
       "    .dataframe tbody tr th:only-of-type {\n",
       "        vertical-align: middle;\n",
       "    }\n",
       "\n",
       "    .dataframe tbody tr th {\n",
       "        vertical-align: top;\n",
       "    }\n",
       "\n",
       "    .dataframe thead th {\n",
       "        text-align: right;\n",
       "    }\n",
       "</style>\n",
       "<table border=\"1\" class=\"dataframe\">\n",
       "  <thead>\n",
       "    <tr style=\"text-align: right;\">\n",
       "      <th></th>\n",
       "      <th>Brand</th>\n",
       "      <th>Model</th>\n",
       "      <th>Age</th>\n",
       "      <th>KmDriven</th>\n",
       "      <th>Transmission</th>\n",
       "      <th>Owner</th>\n",
       "      <th>FuelType</th>\n",
       "      <th>Price</th>\n",
       "    </tr>\n",
       "  </thead>\n",
       "  <tbody>\n",
       "    <tr>\n",
       "      <th>0</th>\n",
       "      <td>Honda</td>\n",
       "      <td>City</td>\n",
       "      <td>276</td>\n",
       "      <td>98000.0</td>\n",
       "      <td>Manual</td>\n",
       "      <td>second</td>\n",
       "      <td>Petrol</td>\n",
       "      <td>195000.0</td>\n",
       "    </tr>\n",
       "    <tr>\n",
       "      <th>1</th>\n",
       "      <td>Toyota</td>\n",
       "      <td>Innova</td>\n",
       "      <td>180</td>\n",
       "      <td>190000.0</td>\n",
       "      <td>Manual</td>\n",
       "      <td>second</td>\n",
       "      <td>Diesel</td>\n",
       "      <td>375000.0</td>\n",
       "    </tr>\n",
       "    <tr>\n",
       "      <th>2</th>\n",
       "      <td>Volkswagen</td>\n",
       "      <td>VentoTest</td>\n",
       "      <td>168</td>\n",
       "      <td>77246.0</td>\n",
       "      <td>Manual</td>\n",
       "      <td>first</td>\n",
       "      <td>Diesel</td>\n",
       "      <td>184999.0</td>\n",
       "    </tr>\n",
       "    <tr>\n",
       "      <th>3</th>\n",
       "      <td>Maruti Suzuki</td>\n",
       "      <td>Swift</td>\n",
       "      <td>84</td>\n",
       "      <td>83500.0</td>\n",
       "      <td>Manual</td>\n",
       "      <td>second</td>\n",
       "      <td>Diesel</td>\n",
       "      <td>565000.0</td>\n",
       "    </tr>\n",
       "    <tr>\n",
       "      <th>4</th>\n",
       "      <td>Maruti Suzuki</td>\n",
       "      <td>Baleno</td>\n",
       "      <td>60</td>\n",
       "      <td>45000.0</td>\n",
       "      <td>Automatic</td>\n",
       "      <td>first</td>\n",
       "      <td>Petrol</td>\n",
       "      <td>685000.0</td>\n",
       "    </tr>\n",
       "    <tr>\n",
       "      <th>...</th>\n",
       "      <td>...</td>\n",
       "      <td>...</td>\n",
       "      <td>...</td>\n",
       "      <td>...</td>\n",
       "      <td>...</td>\n",
       "      <td>...</td>\n",
       "      <td>...</td>\n",
       "      <td>...</td>\n",
       "    </tr>\n",
       "    <tr>\n",
       "      <th>9576</th>\n",
       "      <td>Porsche</td>\n",
       "      <td>Cayenne</td>\n",
       "      <td>12</td>\n",
       "      <td>7700.0</td>\n",
       "      <td>Automatic</td>\n",
       "      <td>first</td>\n",
       "      <td>Petrol</td>\n",
       "      <td>13600000.0</td>\n",
       "    </tr>\n",
       "    <tr>\n",
       "      <th>9578</th>\n",
       "      <td>Maruti Suzuki</td>\n",
       "      <td>Alto-800</td>\n",
       "      <td>48</td>\n",
       "      <td>55000.0</td>\n",
       "      <td>Manual</td>\n",
       "      <td>first</td>\n",
       "      <td>Hybrid/CNG</td>\n",
       "      <td>375000.0</td>\n",
       "    </tr>\n",
       "    <tr>\n",
       "      <th>9579</th>\n",
       "      <td>Maruti Suzuki</td>\n",
       "      <td>Ritz</td>\n",
       "      <td>132</td>\n",
       "      <td>92000.0</td>\n",
       "      <td>Manual</td>\n",
       "      <td>first</td>\n",
       "      <td>Diesel</td>\n",
       "      <td>415000.0</td>\n",
       "    </tr>\n",
       "    <tr>\n",
       "      <th>9580</th>\n",
       "      <td>Hyundai</td>\n",
       "      <td>Verna</td>\n",
       "      <td>60</td>\n",
       "      <td>72000.0</td>\n",
       "      <td>Automatic</td>\n",
       "      <td>first</td>\n",
       "      <td>Petrol</td>\n",
       "      <td>855000.0</td>\n",
       "    </tr>\n",
       "    <tr>\n",
       "      <th>9581</th>\n",
       "      <td>Hyundai</td>\n",
       "      <td>New i20</td>\n",
       "      <td>36</td>\n",
       "      <td>83228.0</td>\n",
       "      <td>Manual</td>\n",
       "      <td>second</td>\n",
       "      <td>Petrol</td>\n",
       "      <td>699000.0</td>\n",
       "    </tr>\n",
       "  </tbody>\n",
       "</table>\n",
       "<p>8761 rows × 8 columns</p>\n",
       "</div>"
      ],
      "text/plain": [
       "              Brand      Model  Age  KmDriven Transmission   Owner  \\\n",
       "0             Honda       City  276   98000.0       Manual  second   \n",
       "1            Toyota     Innova  180  190000.0       Manual  second   \n",
       "2        Volkswagen  VentoTest  168   77246.0       Manual   first   \n",
       "3     Maruti Suzuki      Swift   84   83500.0       Manual  second   \n",
       "4     Maruti Suzuki     Baleno   60   45000.0    Automatic   first   \n",
       "...             ...        ...  ...       ...          ...     ...   \n",
       "9576        Porsche    Cayenne   12    7700.0    Automatic   first   \n",
       "9578  Maruti Suzuki   Alto-800   48   55000.0       Manual   first   \n",
       "9579  Maruti Suzuki       Ritz  132   92000.0       Manual   first   \n",
       "9580        Hyundai      Verna   60   72000.0    Automatic   first   \n",
       "9581        Hyundai    New i20   36   83228.0       Manual  second   \n",
       "\n",
       "        FuelType       Price  \n",
       "0         Petrol    195000.0  \n",
       "1         Diesel    375000.0  \n",
       "2         Diesel    184999.0  \n",
       "3         Diesel    565000.0  \n",
       "4         Petrol    685000.0  \n",
       "...          ...         ...  \n",
       "9576      Petrol  13600000.0  \n",
       "9578  Hybrid/CNG    375000.0  \n",
       "9579      Diesel    415000.0  \n",
       "9580      Petrol    855000.0  \n",
       "9581      Petrol    699000.0  \n",
       "\n",
       "[8761 rows x 8 columns]"
      ]
     },
     "execution_count": 14,
     "metadata": {},
     "output_type": "execute_result"
    }
   ],
   "source": [
    "# Dropping duplicate values\n",
    "\n",
    "df = df.drop_duplicates()\n",
    "df"
   ]
  },
  {
   "cell_type": "code",
   "execution_count": 15,
   "id": "f5d3a384-702e-48c8-aa58-cc2504426c75",
   "metadata": {},
   "outputs": [
    {
     "data": {
      "text/plain": [
       "np.int64(0)"
      ]
     },
     "execution_count": 15,
     "metadata": {},
     "output_type": "execute_result"
    }
   ],
   "source": [
    "df.duplicated().sum()"
   ]
  },
  {
   "cell_type": "code",
   "execution_count": 16,
   "id": "04f20bdc-0254-4167-b0e1-e642a64ddda0",
   "metadata": {},
   "outputs": [
    {
     "name": "stdout",
     "output_type": "stream",
     "text": [
      "<class 'pandas.core.frame.DataFrame'>\n",
      "Index: 8761 entries, 0 to 9581\n",
      "Data columns (total 8 columns):\n",
      " #   Column        Non-Null Count  Dtype  \n",
      "---  ------        --------------  -----  \n",
      " 0   Brand         8761 non-null   object \n",
      " 1   Model         8761 non-null   object \n",
      " 2   Age           8761 non-null   int64  \n",
      " 3   KmDriven      8715 non-null   float64\n",
      " 4   Transmission  8761 non-null   object \n",
      " 5   Owner         8761 non-null   object \n",
      " 6   FuelType      8761 non-null   object \n",
      " 7   Price         8761 non-null   float64\n",
      "dtypes: float64(2), int64(1), object(5)\n",
      "memory usage: 616.0+ KB\n"
     ]
    }
   ],
   "source": [
    "df.info()"
   ]
  },
  {
   "cell_type": "code",
   "execution_count": 17,
   "id": "64d953ec-60f3-4d40-aeb8-069decf58da6",
   "metadata": {},
   "outputs": [
    {
     "data": {
      "text/html": [
       "<div>\n",
       "<style scoped>\n",
       "    .dataframe tbody tr th:only-of-type {\n",
       "        vertical-align: middle;\n",
       "    }\n",
       "\n",
       "    .dataframe tbody tr th {\n",
       "        vertical-align: top;\n",
       "    }\n",
       "\n",
       "    .dataframe thead th {\n",
       "        text-align: right;\n",
       "    }\n",
       "</style>\n",
       "<table border=\"1\" class=\"dataframe\">\n",
       "  <thead>\n",
       "    <tr style=\"text-align: right;\">\n",
       "      <th></th>\n",
       "      <th>Brand</th>\n",
       "      <th>Model</th>\n",
       "      <th>Age</th>\n",
       "      <th>KmDriven</th>\n",
       "      <th>Transmission</th>\n",
       "      <th>Owner</th>\n",
       "      <th>FuelType</th>\n",
       "      <th>Price</th>\n",
       "    </tr>\n",
       "  </thead>\n",
       "  <tbody>\n",
       "    <tr>\n",
       "      <th>0</th>\n",
       "      <td>Honda</td>\n",
       "      <td>City</td>\n",
       "      <td>276</td>\n",
       "      <td>98000.0</td>\n",
       "      <td>Manual</td>\n",
       "      <td>second</td>\n",
       "      <td>Petrol</td>\n",
       "      <td>195000.0</td>\n",
       "    </tr>\n",
       "    <tr>\n",
       "      <th>1</th>\n",
       "      <td>Toyota</td>\n",
       "      <td>Innova</td>\n",
       "      <td>180</td>\n",
       "      <td>190000.0</td>\n",
       "      <td>Manual</td>\n",
       "      <td>second</td>\n",
       "      <td>Diesel</td>\n",
       "      <td>375000.0</td>\n",
       "    </tr>\n",
       "    <tr>\n",
       "      <th>2</th>\n",
       "      <td>Volkswagen</td>\n",
       "      <td>VentoTest</td>\n",
       "      <td>168</td>\n",
       "      <td>77246.0</td>\n",
       "      <td>Manual</td>\n",
       "      <td>first</td>\n",
       "      <td>Diesel</td>\n",
       "      <td>184999.0</td>\n",
       "    </tr>\n",
       "    <tr>\n",
       "      <th>3</th>\n",
       "      <td>Maruti Suzuki</td>\n",
       "      <td>Swift</td>\n",
       "      <td>84</td>\n",
       "      <td>83500.0</td>\n",
       "      <td>Manual</td>\n",
       "      <td>second</td>\n",
       "      <td>Diesel</td>\n",
       "      <td>565000.0</td>\n",
       "    </tr>\n",
       "    <tr>\n",
       "      <th>4</th>\n",
       "      <td>Maruti Suzuki</td>\n",
       "      <td>Baleno</td>\n",
       "      <td>60</td>\n",
       "      <td>45000.0</td>\n",
       "      <td>Automatic</td>\n",
       "      <td>first</td>\n",
       "      <td>Petrol</td>\n",
       "      <td>685000.0</td>\n",
       "    </tr>\n",
       "    <tr>\n",
       "      <th>...</th>\n",
       "      <td>...</td>\n",
       "      <td>...</td>\n",
       "      <td>...</td>\n",
       "      <td>...</td>\n",
       "      <td>...</td>\n",
       "      <td>...</td>\n",
       "      <td>...</td>\n",
       "      <td>...</td>\n",
       "    </tr>\n",
       "    <tr>\n",
       "      <th>9576</th>\n",
       "      <td>Porsche</td>\n",
       "      <td>Cayenne</td>\n",
       "      <td>12</td>\n",
       "      <td>7700.0</td>\n",
       "      <td>Automatic</td>\n",
       "      <td>first</td>\n",
       "      <td>Petrol</td>\n",
       "      <td>13600000.0</td>\n",
       "    </tr>\n",
       "    <tr>\n",
       "      <th>9578</th>\n",
       "      <td>Maruti Suzuki</td>\n",
       "      <td>Alto-800</td>\n",
       "      <td>48</td>\n",
       "      <td>55000.0</td>\n",
       "      <td>Manual</td>\n",
       "      <td>first</td>\n",
       "      <td>Hybrid/CNG</td>\n",
       "      <td>375000.0</td>\n",
       "    </tr>\n",
       "    <tr>\n",
       "      <th>9579</th>\n",
       "      <td>Maruti Suzuki</td>\n",
       "      <td>Ritz</td>\n",
       "      <td>132</td>\n",
       "      <td>92000.0</td>\n",
       "      <td>Manual</td>\n",
       "      <td>first</td>\n",
       "      <td>Diesel</td>\n",
       "      <td>415000.0</td>\n",
       "    </tr>\n",
       "    <tr>\n",
       "      <th>9580</th>\n",
       "      <td>Hyundai</td>\n",
       "      <td>Verna</td>\n",
       "      <td>60</td>\n",
       "      <td>72000.0</td>\n",
       "      <td>Automatic</td>\n",
       "      <td>first</td>\n",
       "      <td>Petrol</td>\n",
       "      <td>855000.0</td>\n",
       "    </tr>\n",
       "    <tr>\n",
       "      <th>9581</th>\n",
       "      <td>Hyundai</td>\n",
       "      <td>New i20</td>\n",
       "      <td>36</td>\n",
       "      <td>83228.0</td>\n",
       "      <td>Manual</td>\n",
       "      <td>second</td>\n",
       "      <td>Petrol</td>\n",
       "      <td>699000.0</td>\n",
       "    </tr>\n",
       "  </tbody>\n",
       "</table>\n",
       "<p>8761 rows × 8 columns</p>\n",
       "</div>"
      ],
      "text/plain": [
       "              Brand      Model  Age  KmDriven Transmission   Owner  \\\n",
       "0             Honda       City  276   98000.0       Manual  second   \n",
       "1            Toyota     Innova  180  190000.0       Manual  second   \n",
       "2        Volkswagen  VentoTest  168   77246.0       Manual   first   \n",
       "3     Maruti Suzuki      Swift   84   83500.0       Manual  second   \n",
       "4     Maruti Suzuki     Baleno   60   45000.0    Automatic   first   \n",
       "...             ...        ...  ...       ...          ...     ...   \n",
       "9576        Porsche    Cayenne   12    7700.0    Automatic   first   \n",
       "9578  Maruti Suzuki   Alto-800   48   55000.0       Manual   first   \n",
       "9579  Maruti Suzuki       Ritz  132   92000.0       Manual   first   \n",
       "9580        Hyundai      Verna   60   72000.0    Automatic   first   \n",
       "9581        Hyundai    New i20   36   83228.0       Manual  second   \n",
       "\n",
       "        FuelType       Price  \n",
       "0         Petrol    195000.0  \n",
       "1         Diesel    375000.0  \n",
       "2         Diesel    184999.0  \n",
       "3         Diesel    565000.0  \n",
       "4         Petrol    685000.0  \n",
       "...          ...         ...  \n",
       "9576      Petrol  13600000.0  \n",
       "9578  Hybrid/CNG    375000.0  \n",
       "9579      Diesel    415000.0  \n",
       "9580      Petrol    855000.0  \n",
       "9581      Petrol    699000.0  \n",
       "\n",
       "[8761 rows x 8 columns]"
      ]
     },
     "execution_count": 17,
     "metadata": {},
     "output_type": "execute_result"
    }
   ],
   "source": [
    "df"
   ]
  },
  {
   "cell_type": "markdown",
   "id": "a95786a9-f261-47d9-837e-9bb5858b37d4",
   "metadata": {},
   "source": [
    "#### Correcting the names of different models"
   ]
  },
  {
   "cell_type": "code",
   "execution_count": 18,
   "id": "48ec6487-a004-4fd5-99c9-2d3b21f373e1",
   "metadata": {},
   "outputs": [
    {
     "data": {
      "text/plain": [
       "array(['Honda', 'Toyota', 'Volkswagen', 'Maruti Suzuki', 'BMW', 'Ford',\n",
       "       'Kia', 'Mercedes-Benz', 'Hyundai', 'Audi', 'Renault', 'MG',\n",
       "       'Volvo', 'Skoda', 'Tata', 'Mahindra', 'Mini', 'Land Rover', 'Jeep',\n",
       "       'Chevrolet', 'Jaguar', 'Fiat', 'Aston Martin', 'Porsche', 'Nissan',\n",
       "       'Force', 'Mitsubishi', 'Lexus', 'Isuzu', 'Datsun', 'Ambassador',\n",
       "       'Rolls-Royce', 'ICML', 'Bajaj', 'Opel', 'Ashok', 'Bentley',\n",
       "       'Ssangyong', 'Maserati'], dtype=object)"
      ]
     },
     "execution_count": 18,
     "metadata": {},
     "output_type": "execute_result"
    }
   ],
   "source": [
    "df['Brand'].unique()"
   ]
  },
  {
   "cell_type": "code",
   "execution_count": 19,
   "id": "c14c1cad-9d1e-4a26-8250-fecbb5621cc8",
   "metadata": {},
   "outputs": [
    {
     "data": {
      "text/plain": [
       "39"
      ]
     },
     "execution_count": 19,
     "metadata": {},
     "output_type": "execute_result"
    }
   ],
   "source": [
    "df['Brand'].nunique()"
   ]
  },
  {
   "cell_type": "markdown",
   "id": "4669a910-45d2-4911-9dcf-0b6091503789",
   "metadata": {},
   "source": [
    "##### 1. Honda"
   ]
  },
  {
   "cell_type": "code",
   "execution_count": 20,
   "id": "c012e60f-ecfc-4ab8-b493-96f8a2091f48",
   "metadata": {},
   "outputs": [
    {
     "data": {
      "text/plain": [
       "array(['City', 'BRV', 'Brio', 'City ZX', 'WRV', 'Amaze', 'Jazz',\n",
       "       'City Hybrid eHEV', 'CRV', 'Civic', 'Accord', 'Mobilio', 'WR-V',\n",
       "       'CR-V', 'New Accord', 'Elevate'], dtype=object)"
      ]
     },
     "execution_count": 20,
     "metadata": {},
     "output_type": "execute_result"
    }
   ],
   "source": [
    "df[df['Brand'] == 'Honda']['Model'].unique()"
   ]
  },
  {
   "cell_type": "code",
   "execution_count": 21,
   "id": "a3536481-6da5-447a-bc1a-85c4eb00554c",
   "metadata": {},
   "outputs": [],
   "source": [
    "df.replace('New Accord', 'Accord', inplace=True)\n",
    "df.replace('City ZX', 'City', inplace=True)\n",
    "df.replace('City Hybrid eHEV', 'City', inplace=True)\n",
    "df.replace('WR-V', 'WRV', inplace=True)\n",
    "df.replace('CR-V', 'CRV', inplace=True)"
   ]
  },
  {
   "cell_type": "code",
   "execution_count": 22,
   "id": "c45ead90-8466-473b-bba4-a84482654c97",
   "metadata": {},
   "outputs": [
    {
     "data": {
      "text/plain": [
       "array(['City', 'BRV', 'Brio', 'WRV', 'Amaze', 'Jazz', 'CRV', 'Civic',\n",
       "       'Accord', 'Mobilio', 'Elevate'], dtype=object)"
      ]
     },
     "execution_count": 22,
     "metadata": {},
     "output_type": "execute_result"
    }
   ],
   "source": [
    "df[df['Brand'] == 'Honda']['Model'].unique()"
   ]
  },
  {
   "cell_type": "markdown",
   "id": "a2974394-6b31-48d3-9489-841f406dd4e7",
   "metadata": {},
   "source": [
    "##### 2. Tata"
   ]
  },
  {
   "cell_type": "code",
   "execution_count": 23,
   "id": "c4481417-9f81-4840-8478-2b56208dffad",
   "metadata": {},
   "outputs": [
    {
     "data": {
      "text/plain": [
       "array(['Safari', 'Nexon', 'Indigo Ecs', 'Harrier', 'Zest', 'Altroz',\n",
       "       'Hexa', 'Bolt', 'Tiago', 'Indigo Marina', 'Nano Genx', 'Manza',\n",
       "       'Tigor', 'Indigo Cs', 'Nano', 'Punch', 'Indica Vista',\n",
       "       'Safari Storme', 'Indica Ev2', 'Indica', 'Punch ', 'Tiago Nrg',\n",
       "       'Sumo Grande MK II', 'Sumo Gold', 'Indica V2', 'Sumo Victa',\n",
       "       'Xenon XT', 'tata-punch', 'Venture', 'H5x', 'Sumo', 'Vista Tech',\n",
       "       'Curvv'], dtype=object)"
      ]
     },
     "execution_count": 23,
     "metadata": {},
     "output_type": "execute_result"
    }
   ],
   "source": [
    "df[df['Brand'] == 'Tata']['Model'].unique()"
   ]
  },
  {
   "cell_type": "code",
   "execution_count": 24,
   "id": "c61bb4d6-44a8-4d2a-8014-9931bdef49c1",
   "metadata": {},
   "outputs": [],
   "source": [
    "df.replace('Indigo Ecs', 'Indigo', inplace=True)\n",
    "df.replace('Indica Vista', 'Indica', inplace=True)\n",
    "df.replace('tata-punch', 'Punch', inplace=True)\n",
    "df.replace('Indica Ev2', 'Indica', inplace=True)\n",
    "df.replace('Indica V2', 'Indica', inplace=True)\n",
    "df.replace('Nano Genx', 'Nano', inplace=True)\n",
    "df.replace('Sumo Grande MK II', 'Sumo Grande', inplace=True)\n",
    "df.replace('Indigo Cs', 'Indigo', inplace=True)\n",
    "df.replace('H5x', 'Harrier', inplace=True)\n",
    "df.replace('Indigo Marina', 'Indigo', inplace=True)\n",
    "df.replace('Sumo Victa', 'Sumo', inplace=True)\n",
    "df.replace('Sumo Gold', 'Sumo', inplace=True)\n",
    "df.replace('Xenon XT', 'Xenon', inplace=True)\n",
    "df.replace('Vista Tech', 'Vista', inplace=True)\n",
    "df.replace('Vista', 'Indica', inplace=True)\n",
    "df.replace('Tiago Nrg', 'Tiago', inplace=True)\n",
    "df.replace('Sumo Grande', 'Sumo', inplace=True)\n",
    "df.replace('Safari Storme', 'Safari', inplace=True)"
   ]
  },
  {
   "cell_type": "code",
   "execution_count": 25,
   "id": "0ba5dba3-2cce-4068-a081-ae343ce07f05",
   "metadata": {},
   "outputs": [
    {
     "data": {
      "text/plain": [
       "array(['Safari', 'Nexon', 'Indigo', 'Harrier', 'Zest', 'Altroz', 'Hexa',\n",
       "       'Bolt', 'Tiago', 'Nano', 'Manza', 'Tigor', 'Punch', 'Indica',\n",
       "       'Punch ', 'Sumo', 'Xenon', 'Venture', 'Curvv'], dtype=object)"
      ]
     },
     "execution_count": 25,
     "metadata": {},
     "output_type": "execute_result"
    }
   ],
   "source": [
    "df[df['Brand'] == 'Tata']['Model'].unique()"
   ]
  },
  {
   "cell_type": "markdown",
   "id": "ce55394e-3a30-4479-a4dc-8c33f2ce45c0",
   "metadata": {},
   "source": [
    "##### 3. Maruti Suzuki"
   ]
  },
  {
   "cell_type": "code",
   "execution_count": 26,
   "id": "325c6708-9471-4f2c-bac5-891c7ef649c4",
   "metadata": {},
   "outputs": [
    {
     "data": {
      "text/plain": [
       "array(['Swift', 'Baleno', 'maruti-suzuki-dzire', 'Alto-K10',\n",
       "       'Swift-Dzire', 'Ertiga', 'Celerio', 'Vitara-Brezza', 'Ciaz',\n",
       "       'Wagon-R', 'Ignis', 'Ritz', 'Eeco', 'Swift Dzire', 'Sx4',\n",
       "       'Alto-800', 'Alto K10', 'Omni', 'S-Presso', 'Alto', 'Dzire',\n",
       "       'Grand Vitara', 'A-Star', 'Alto 800', 'maruti-suzuki-brezza',\n",
       "       'Swift-Dzire-Tour', 'XL6', 'Wagon R', 'S-Cross', 'Gypsy', 'Brezza',\n",
       "       'Zen-Estilo', 'Estilo', ' Wagon R', 'Celerio-X', 'S-Cross1',\n",
       "       '1000', 'Fronx', '800', 'Wagon-R-1-0', 'Esteem', 'Jimny',\n",
       "       'Vitara Brezza', 'Celerio X', 'Zen Estilo', 'Wagon R 1.0',\n",
       "       'New-gen Swift', 'SX4', 'Wagon-R-Stingray', 'Baleno-RS', 'Invicto',\n",
       "       'Stingray', 'Fronx '], dtype=object)"
      ]
     },
     "execution_count": 26,
     "metadata": {},
     "output_type": "execute_result"
    }
   ],
   "source": [
    "df[df['Brand'] == 'Maruti Suzuki']['Model'].unique()"
   ]
  },
  {
   "cell_type": "code",
   "execution_count": 27,
   "id": "94458406-99ac-4a19-8522-cb1e0ae91e64",
   "metadata": {},
   "outputs": [],
   "source": [
    "df.replace('maruti-suzuki-dzire', 'Swift Dzire', inplace=True)\n",
    "df.replace('Swift-Dzire-Tour', 'Swift Dzire', inplace=True)\n",
    "df.replace('Swift-Dzire', 'Swift Dzire', inplace=True)\n",
    "df.replace('Alto K10', 'Alto', inplace=True)\n",
    "df.replace('Alto 800', 'Alto', inplace=True)\n",
    "df.replace(' Wagon R', 'WagonR', inplace=True)\n",
    "df.replace('Wagon R', 'WagonR', inplace=True)\n",
    "df.replace('Alto-800', 'Alto', inplace=True)\n",
    "df.replace('Celerio-X', 'Celerio', inplace=True)\n",
    "df.replace('S-Cross1', 'S-Cross', inplace=True)\n",
    "df.replace('Wagon R 1.0', 'WagonR', inplace=True)\n",
    "df.replace('New-gen Swift', 'Swift', inplace=True)\n",
    "df.replace('Baleno-RS', 'Baleno', inplace=True)\n",
    "df.replace('maruti-suzuki-brezza', 'Vitara-Brezza', inplace=True)\n",
    "df.replace('Brezza', 'Vitara-Brezza', inplace=True)\n",
    "df.replace('Vitara Brezza', 'Vitara-Brezza', inplace=True)\n",
    "df.replace('Wagon-R-1-0', 'WagonR', inplace=True)\n",
    "df.replace('Wagon-R-Stingray', 'WagonR', inplace=True)\n",
    "df.replace('Stingray', 'WagonR', inplace=True)\n",
    "df.replace('Dzire', 'Swift Dzire', inplace=True)\n",
    "df.replace('Alto-K10', 'Alto', inplace=True)\n",
    "df.replace('Celerio X', 'Celerio', inplace=True)\n",
    "df.replace('Estilo', 'Zen-Estilo', inplace=True)\n",
    "df.replace('Zen Estilo', 'Zen-Estilo', inplace=True)\n",
    "df.replace('Sx4', 'SX4', inplace=True)\n",
    "df.replace('Wagon R', 'WagonR', inplace=True)\n",
    "df.replace('Wagon-R', 'WagonR', inplace=True)"
   ]
  },
  {
   "cell_type": "code",
   "execution_count": 28,
   "id": "f04b33bb-38c2-4c93-a3fa-8b8353662fb6",
   "metadata": {},
   "outputs": [
    {
     "data": {
      "text/plain": [
       "array(['Swift', 'Baleno', 'Swift Dzire', 'Alto', 'Ertiga', 'Celerio',\n",
       "       'Vitara-Brezza', 'Ciaz', 'WagonR', 'Ignis', 'Ritz', 'Eeco', 'SX4',\n",
       "       'Omni', 'S-Presso', 'Grand Vitara', 'A-Star', 'XL6', 'S-Cross',\n",
       "       'Gypsy', 'Zen-Estilo', '1000', 'Fronx', '800', 'Esteem', 'Jimny',\n",
       "       'Invicto', 'Fronx '], dtype=object)"
      ]
     },
     "execution_count": 28,
     "metadata": {},
     "output_type": "execute_result"
    }
   ],
   "source": [
    "df[df['Brand'] == 'Maruti Suzuki']['Model'].unique()"
   ]
  },
  {
   "cell_type": "markdown",
   "id": "4f80a1d3-c2e1-43dd-9abb-f6cc56812edb",
   "metadata": {},
   "source": [
    "##### 4. Toyota"
   ]
  },
  {
   "cell_type": "code",
   "execution_count": 29,
   "id": "c5ccd91b-e9d3-4097-b837-dae57438dfeb",
   "metadata": {},
   "outputs": [
    {
     "data": {
      "text/plain": [
       "array(['Innova', 'Corolla', 'Innova Crysta', '2.8 Legender 4X2',\n",
       "       'Fortuner', 'Etios', 'Camry', 'Glanza', 'Etios Liva',\n",
       "       'Innova Hycross', 'Corolla Altis', 'Urban Cruiser', 'VELLFIRE',\n",
       "       'Land Cruiser', 'Etios Cross', 'Yaris', 'Urban Cruiser Hyryder',\n",
       "       'Land Cruiser Prado', 'Estima'], dtype=object)"
      ]
     },
     "execution_count": 29,
     "metadata": {},
     "output_type": "execute_result"
    }
   ],
   "source": [
    "df[df['Brand'] == 'Toyota']['Model'].unique()"
   ]
  },
  {
   "cell_type": "code",
   "execution_count": 30,
   "id": "3b3cffc3-398e-45c9-9e37-4fb942cd868d",
   "metadata": {},
   "outputs": [],
   "source": [
    "df.replace('Innova Crysta', 'Innova', inplace=True)\n",
    "df.replace('Innova Hycross', 'Innova', inplace=True)\n",
    "df.replace('VELLFIRE', 'Vellfire', inplace=True)\n",
    "df.replace('Urban Cruiser', 'Urban Cruiser Hyryder', inplace=True)\n",
    "df.replace('2.8 Legender 4X2', 'Fortuner', inplace=True)\n",
    "df.replace('Land Cruiser Prado', 'Land Cruiser', inplace=True)\n",
    "df.replace('Corolla Altis', 'Corolla', inplace=True)"
   ]
  },
  {
   "cell_type": "code",
   "execution_count": 31,
   "id": "402cd27a-822c-4b72-bb8d-1535300d00db",
   "metadata": {},
   "outputs": [
    {
     "data": {
      "text/plain": [
       "array(['Innova', 'Corolla', 'Fortuner', 'Etios', 'Camry', 'Glanza',\n",
       "       'Etios Liva', 'Urban Cruiser Hyryder', 'Vellfire', 'Land Cruiser',\n",
       "       'Etios Cross', 'Yaris', 'Estima'], dtype=object)"
      ]
     },
     "execution_count": 31,
     "metadata": {},
     "output_type": "execute_result"
    }
   ],
   "source": [
    "df[df['Brand'] == 'Toyota']['Model'].unique()"
   ]
  },
  {
   "cell_type": "markdown",
   "id": "5a3fb057-be47-410d-82b0-c933a7bcd3a4",
   "metadata": {},
   "source": [
    "##### 5. Volkswagen"
   ]
  },
  {
   "cell_type": "code",
   "execution_count": 32,
   "id": "d5301452-3abc-43a1-999a-0aa7e00ae0a0",
   "metadata": {},
   "outputs": [
    {
     "data": {
      "text/plain": [
       "array(['VentoTest', 'Polo', 'CrossPolo', 'Vento', 'Tiguan', 'Polo GTI',\n",
       "       'Virtus', 'Passat', 'Ameo', 'Jetta', 'Taigun', 'Beetle',\n",
       "       'Tiguan All Space', 'GTI'], dtype=object)"
      ]
     },
     "execution_count": 32,
     "metadata": {},
     "output_type": "execute_result"
    }
   ],
   "source": [
    "df[df['Brand'] == 'Volkswagen']['Model'].unique()"
   ]
  },
  {
   "cell_type": "code",
   "execution_count": 33,
   "id": "094119b1-e5c0-47c0-a155-4d0eb67ca0ca",
   "metadata": {},
   "outputs": [],
   "source": [
    "df.replace('VentoTest', 'Vento', inplace=True)\n",
    "df.replace('CrossPolo', 'Polo', inplace=True)\n",
    "df.replace('Polo GTI', 'Polo', inplace=True)\n",
    "df.replace('GTI', 'Polo', inplace=True)\n",
    "df.replace('Tiguan All Space', 'Tiguan', inplace=True)"
   ]
  },
  {
   "cell_type": "code",
   "execution_count": 34,
   "id": "47145f17-1663-4fc3-b084-f9bee5da4e01",
   "metadata": {},
   "outputs": [
    {
     "data": {
      "text/plain": [
       "array(['Vento', 'Polo', 'Tiguan', 'Virtus', 'Passat', 'Ameo', 'Jetta',\n",
       "       'Taigun', 'Beetle'], dtype=object)"
      ]
     },
     "execution_count": 34,
     "metadata": {},
     "output_type": "execute_result"
    }
   ],
   "source": [
    "df[df['Brand'] == 'Volkswagen']['Model'].unique()"
   ]
  },
  {
   "cell_type": "markdown",
   "id": "ba1d3e2c-c921-4396-b421-e89c026b6383",
   "metadata": {},
   "source": [
    "##### 6. BMW"
   ]
  },
  {
   "cell_type": "code",
   "execution_count": 35,
   "id": "105836f7-cfd9-48b0-b6d3-3eccc84799ba",
   "metadata": {},
   "outputs": [
    {
     "data": {
      "text/plain": [
       "array(['X3', '5 Series', '3 Series GT', 'X1', 'X5', '7 Series',\n",
       "       '3 Series', '6 Series GT', 'X7', 'Z4', 'X4', '2 Series',\n",
       "       '1 Series', '6 Series', '3 Series Gran Limousine', 'X6',\n",
       "       '5 Series Gt', 'M340i', 'X5 M'], dtype=object)"
      ]
     },
     "execution_count": 35,
     "metadata": {},
     "output_type": "execute_result"
    }
   ],
   "source": [
    "df[df['Brand'] == 'BMW']['Model'].unique()"
   ]
  },
  {
   "cell_type": "code",
   "execution_count": 36,
   "id": "da48abf5-d85d-4c77-90ad-6a52c4eda3d6",
   "metadata": {},
   "outputs": [],
   "source": [
    "df.replace('X5 M', 'X5', inplace=True)\n",
    "df.replace('6 Series GT', '6 Series', inplace=True)\n",
    "df.replace('3 Series GT', '3 Series', inplace=True)\n",
    "df.replace('3 Series Gran Limousine', '3 Series', inplace=True)\n",
    "df.replace('M340i', '3 Series', inplace=True)\n",
    "df.replace('5 Series Gt', '5 Series', inplace=True)"
   ]
  },
  {
   "cell_type": "code",
   "execution_count": 37,
   "id": "14dc2f05-5302-403a-8c94-dbd0177d19a7",
   "metadata": {},
   "outputs": [
    {
     "data": {
      "text/plain": [
       "array(['X3', '5 Series', '3 Series', 'X1', 'X5', '7 Series', '6 Series',\n",
       "       'X7', 'Z4', 'X4', '2 Series', '1 Series', 'X6'], dtype=object)"
      ]
     },
     "execution_count": 37,
     "metadata": {},
     "output_type": "execute_result"
    }
   ],
   "source": [
    "df[df['Brand'] == 'BMW']['Model'].unique()"
   ]
  },
  {
   "cell_type": "markdown",
   "id": "4ca4e035-6c38-4f68-a3f3-2c7bde5a5acc",
   "metadata": {},
   "source": [
    "##### 7. Ford"
   ]
  },
  {
   "cell_type": "code",
   "execution_count": 38,
   "id": "a86dae85-9df3-4492-82fd-cb212809e816",
   "metadata": {},
   "outputs": [
    {
     "data": {
      "text/plain": [
       "array(['Ecosport', 'Endeavour', 'Figo', 'Figo Aspire', 'Fiesta Classic',\n",
       "       'Fiesta', 'Aspire', 'Mustang', 'Free Style', 'Ikon'], dtype=object)"
      ]
     },
     "execution_count": 38,
     "metadata": {},
     "output_type": "execute_result"
    }
   ],
   "source": [
    "df[df['Brand'] == 'Ford']['Model'].unique()"
   ]
  },
  {
   "cell_type": "code",
   "execution_count": 39,
   "id": "d3d73180-05c2-4cfa-903d-e023365b6020",
   "metadata": {},
   "outputs": [],
   "source": [
    "df.replace('Figo Aspire', 'Aspire', inplace=True)\n",
    "df.replace('Fiesta Classic', 'Fiesta', inplace=True)\n",
    "df.replace('Free Style', 'Freestyle', inplace=True)"
   ]
  },
  {
   "cell_type": "code",
   "execution_count": 40,
   "id": "c03b06ca-e08e-4068-9fc8-e05759a338c1",
   "metadata": {},
   "outputs": [
    {
     "data": {
      "text/plain": [
       "array(['Ecosport', 'Endeavour', 'Figo', 'Aspire', 'Fiesta', 'Mustang',\n",
       "       'Freestyle', 'Ikon'], dtype=object)"
      ]
     },
     "execution_count": 40,
     "metadata": {},
     "output_type": "execute_result"
    }
   ],
   "source": [
    "df[df['Brand'] == 'Ford']['Model'].unique()"
   ]
  },
  {
   "cell_type": "markdown",
   "id": "405f0513-9196-4e10-9c29-5259770db556",
   "metadata": {},
   "source": [
    "##### 8. Kia"
   ]
  },
  {
   "cell_type": "code",
   "execution_count": 41,
   "id": "4793456d-b171-46a8-9b3d-01234cd6d401",
   "metadata": {},
   "outputs": [
    {
     "data": {
      "text/plain": [
       "array(['Carnival', 'Seltos', 'Carens', 'Sonet', 'CERATO'], dtype=object)"
      ]
     },
     "execution_count": 41,
     "metadata": {},
     "output_type": "execute_result"
    }
   ],
   "source": [
    "df[df['Brand'] == 'Kia']['Model'].unique()"
   ]
  },
  {
   "cell_type": "code",
   "execution_count": 42,
   "id": "efd29106-b00f-4172-94db-7eec89ba0b07",
   "metadata": {},
   "outputs": [],
   "source": [
    "df.replace('CERATO', 'Cerato', inplace=True)"
   ]
  },
  {
   "cell_type": "code",
   "execution_count": 43,
   "id": "8a7e4a8c-7f71-4f37-9dd2-f868609f4e49",
   "metadata": {},
   "outputs": [
    {
     "data": {
      "text/plain": [
       "array(['Carnival', 'Seltos', 'Carens', 'Sonet', 'Cerato'], dtype=object)"
      ]
     },
     "execution_count": 43,
     "metadata": {},
     "output_type": "execute_result"
    }
   ],
   "source": [
    "df[df['Brand'] == 'Kia']['Model'].unique()"
   ]
  },
  {
   "cell_type": "markdown",
   "id": "dde3d88b-6da4-4a81-99ac-c50721585e67",
   "metadata": {},
   "source": [
    "##### 9. Mercedes-Benz"
   ]
  },
  {
   "cell_type": "code",
   "execution_count": 44,
   "id": "816eae2f-a1c3-447b-9a1d-32707bb33243",
   "metadata": {},
   "outputs": [
    {
     "data": {
      "text/plain": [
       "array(['GLE COUPE', 'E-Class', 'C-Class', 'GLS', 'GLA Class', 'GLC Coupe',\n",
       "       'M-Class', 'G', 'CLA', 'S-Class', 'GL-Class', 'GLC', 'G Class',\n",
       "       'CLS-Class', 'G-Class', 'GLE', 'GLC Class', 'V-Class', 'C Class',\n",
       "       'GLA', 'GLE Class', 'AMG GLE Coupe', 'B Class',\n",
       "       'A-Class Limousine', 'AMG C 43', 'SLK-Class', 'AMG A35', 'A Class',\n",
       "       'SL-Class', 'A-class Limousine', 'AMG'], dtype=object)"
      ]
     },
     "execution_count": 44,
     "metadata": {},
     "output_type": "execute_result"
    }
   ],
   "source": [
    "df[df['Brand'] == 'Mercedes-Benz']['Model'].unique()"
   ]
  },
  {
   "cell_type": "code",
   "execution_count": 45,
   "id": "e6c97ba8-96ac-4fdb-b30d-26b1d9187c6e",
   "metadata": {},
   "outputs": [],
   "source": [
    "df.replace('GLE COUPE', 'GLE', inplace=True)\n",
    "df.replace('GLE Class', 'GLE', inplace=True)\n",
    "df.replace('GLE Coupe', 'GLE', inplace=True)\n",
    "df.replace('AMG GLE Coupe', 'GLE', inplace=True)\n",
    "df.replace('GLA Class', 'GLA', inplace=True)\n",
    "df.replace('GLC Coupe', 'GLC', inplace=True)\n",
    "df.replace('GLC Class', 'GLC', inplace=True)\n",
    "df.replace('G', 'G-Class', inplace=True)\n",
    "df.replace('G Class', 'G-Class', inplace=True)\n",
    "df.replace('CLS-Class', 'CLS', inplace=True)\n",
    "df.replace('B Class', 'B-Class', inplace=True)\n",
    "df.replace('A-Class Limousine', 'A-Class', inplace=True)\n",
    "df.replace('A-class Limousine', 'A-Class', inplace=True)\n",
    "df.replace('A Class', 'A-Class', inplace=True)\n",
    "df.replace('C Class', 'C-Class', inplace=True)\n",
    "df.replace('AMG C 43', 'AMG C43', inplace=True)"
   ]
  },
  {
   "cell_type": "code",
   "execution_count": 46,
   "id": "785ce709-7d9b-401c-988e-b2bd1fb44c4d",
   "metadata": {},
   "outputs": [
    {
     "data": {
      "text/plain": [
       "array(['GLE', 'E-Class', 'C-Class', 'GLS', 'GLA', 'GLC', 'M-Class',\n",
       "       'G-Class', 'CLA', 'S-Class', 'GL-Class', 'CLS', 'V-Class',\n",
       "       'B-Class', 'A-Class', 'AMG C43', 'SLK-Class', 'AMG A35',\n",
       "       'SL-Class', 'AMG'], dtype=object)"
      ]
     },
     "execution_count": 46,
     "metadata": {},
     "output_type": "execute_result"
    }
   ],
   "source": [
    "df[df['Brand'] == 'Mercedes-Benz']['Model'].unique()"
   ]
  },
  {
   "cell_type": "markdown",
   "id": "b49b0188-ba37-40f4-8d37-c18a708eae65",
   "metadata": {},
   "source": [
    "##### 10. Hyundai"
   ]
  },
  {
   "cell_type": "code",
   "execution_count": 47,
   "id": "7a4cdd05-57bc-4a6d-8442-5a81d2569dc3",
   "metadata": {
    "scrolled": true
   },
   "outputs": [
    {
     "data": {
      "text/plain": [
       "array(['Xcent', 'Venue', 'Creta', 'Alcazar', 'i20', 'Verna', 'Eon', 'i10',\n",
       "       'Grand i10', 'Getz Prime', 'Grand i10 Nios', 'Tucson', 'Santa Fe',\n",
       "       'Creta Facelift', 'New i20', 'Elite i20', 'Santro Xing', 'Elantra',\n",
       "       'Sonata Embera', 'Fluidic Verna', 'Santro', 'i20 Active', 'Accent',\n",
       "       'Sonata', 'Aura', 'EON', 'i20 N Line', 'Venue N Line',\n",
       "       'New Santro', 'New Elantra', 'Xcent Prime', 'Grand i10 Prime',\n",
       "       'Getz', 'Exter', 'Accent Hatchback'], dtype=object)"
      ]
     },
     "execution_count": 47,
     "metadata": {},
     "output_type": "execute_result"
    }
   ],
   "source": [
    "df[df['Brand'] == 'Hyundai']['Model'].unique()"
   ]
  },
  {
   "cell_type": "code",
   "execution_count": 48,
   "id": "0d6dd36f-a0fd-47da-9621-23f36e9c3d75",
   "metadata": {},
   "outputs": [],
   "source": [
    "df.replace('Xcent Prime', 'Xcent', inplace=True)\n",
    "df.replace('Venue N Line', 'Venue', inplace=True)\n",
    "df.replace('Creta Facelift', 'Creta', inplace=True)\n",
    "df.replace('New i20', 'i20', inplace=True)\n",
    "df.replace('Elite i20', 'i20', inplace=True)\n",
    "df.replace('i20 Active', 'i20', inplace=True)\n",
    "df.replace('i20 N Line', 'i20', inplace=True)\n",
    "df.replace('Fluidic Verna', 'Verna', inplace=True)\n",
    "df.replace('EON', 'Eon', inplace=True)\n",
    "df.replace('Grand i10', 'i10', inplace=True)\n",
    "df.replace('Grand i10 Nios', 'i10', inplace=True)\n",
    "df.replace('Grand i10 Prime', 'i10', inplace=True)\n",
    "df.replace('Getz Prime', 'Getz', inplace=True)\n",
    "df.replace('Santro Xing', 'Santro', inplace=True)\n",
    "df.replace('New Santro', 'Santro', inplace=True)\n",
    "df.replace('New Elantra', 'Elantra', inplace=True)\n",
    "df.replace('Sonata Embera', 'Sonata', inplace=True)\n",
    "df.replace('Accent Hatchback', 'Accent', inplace=True)"
   ]
  },
  {
   "cell_type": "code",
   "execution_count": 49,
   "id": "7ab82338-165b-4f1d-88e1-4024a91d7442",
   "metadata": {},
   "outputs": [
    {
     "data": {
      "text/plain": [
       "array(['Xcent', 'Venue', 'Creta', 'Alcazar', 'i20', 'Verna', 'Eon', 'i10',\n",
       "       'Getz', 'Tucson', 'Santa Fe', 'Santro', 'Elantra', 'Sonata',\n",
       "       'Accent', 'Aura', 'Exter'], dtype=object)"
      ]
     },
     "execution_count": 49,
     "metadata": {},
     "output_type": "execute_result"
    }
   ],
   "source": [
    "df[df['Brand'] == 'Hyundai']['Model'].unique()"
   ]
  },
  {
   "cell_type": "markdown",
   "id": "afeb7eca-7e8f-4cc3-8ca2-8d9a8cffdf0f",
   "metadata": {},
   "source": [
    "##### 11. Audi"
   ]
  },
  {
   "cell_type": "code",
   "execution_count": 50,
   "id": "96fb4303-7d0d-471f-a785-3f8eb97fcc63",
   "metadata": {},
   "outputs": [
    {
     "data": {
      "text/plain": [
       "array(['A3', 'A4', 'Q7', 'Q3', 'A6', 'A8 L', 'Q5', 'A5', 'A3 Cabriolet',\n",
       "       '2.9 Sportback'], dtype=object)"
      ]
     },
     "execution_count": 50,
     "metadata": {},
     "output_type": "execute_result"
    }
   ],
   "source": [
    "df[df['Brand'] == 'Audi']['Model'].unique()"
   ]
  },
  {
   "cell_type": "code",
   "execution_count": 51,
   "id": "0d672715-070f-4fef-98b7-81e2bbde21b0",
   "metadata": {},
   "outputs": [],
   "source": [
    "df.replace('A3 Cabriolet', 'A3', inplace=True)\n",
    "df.replace('A8 L', 'A8', inplace=True)\n",
    "df.replace('2.9 Sportback', 'RS5', inplace=True)"
   ]
  },
  {
   "cell_type": "code",
   "execution_count": 52,
   "id": "78b77e09-a334-4e32-a08c-e433baf774eb",
   "metadata": {},
   "outputs": [
    {
     "data": {
      "text/plain": [
       "array(['A3', 'A4', 'Q7', 'Q3', 'A6', 'A8', 'Q5', 'A5', 'RS5'],\n",
       "      dtype=object)"
      ]
     },
     "execution_count": 52,
     "metadata": {},
     "output_type": "execute_result"
    }
   ],
   "source": [
    "df[df['Brand'] == 'Audi']['Model'].unique()"
   ]
  },
  {
   "cell_type": "markdown",
   "id": "0c4b366f-b362-4606-858f-dfdcc2d8684e",
   "metadata": {},
   "source": [
    "##### 12. MG"
   ]
  },
  {
   "cell_type": "code",
   "execution_count": 53,
   "id": "f2a29bef-a490-4fab-8e9c-883fbe1e537c",
   "metadata": {},
   "outputs": [
    {
     "data": {
      "text/plain": [
       "array(['Hector', 'Hector Plus', 'ASTOR', 'Gloster'], dtype=object)"
      ]
     },
     "execution_count": 53,
     "metadata": {},
     "output_type": "execute_result"
    }
   ],
   "source": [
    "df[df['Brand'] == 'MG']['Model'].unique()"
   ]
  },
  {
   "cell_type": "code",
   "execution_count": 54,
   "id": "5afaeacf-f8d2-4ccf-a28a-c7004ce38c4d",
   "metadata": {},
   "outputs": [],
   "source": [
    "df.replace('Hector Plus', 'Hector', inplace=True)\n",
    "df.replace('ASTOR', 'Astor', inplace=True)"
   ]
  },
  {
   "cell_type": "code",
   "execution_count": 55,
   "id": "d8c493bf-9290-40b7-badb-6d1365f2e2c1",
   "metadata": {},
   "outputs": [
    {
     "data": {
      "text/plain": [
       "array(['Hector', 'Astor', 'Gloster'], dtype=object)"
      ]
     },
     "execution_count": 55,
     "metadata": {},
     "output_type": "execute_result"
    }
   ],
   "source": [
    "df[df['Brand'] == 'MG']['Model'].unique()"
   ]
  },
  {
   "cell_type": "markdown",
   "id": "c878375b-e3e9-43b5-9053-f90cf7dc8db8",
   "metadata": {},
   "source": [
    "##### 13. Volvo"
   ]
  },
  {
   "cell_type": "code",
   "execution_count": 56,
   "id": "0fe2e927-5c68-4956-985d-41ce8f0d8e44",
   "metadata": {},
   "outputs": [
    {
     "data": {
      "text/plain": [
       "array(['S90', 'XC 90', 'V40 Cross Country', 'XC40', 'XC60',\n",
       "       'S60 Cross Country', 'S60', 'S 80', 'S80', 'XC90'], dtype=object)"
      ]
     },
     "execution_count": 56,
     "metadata": {},
     "output_type": "execute_result"
    }
   ],
   "source": [
    "df[df['Brand'] == 'Volvo']['Model'].unique()"
   ]
  },
  {
   "cell_type": "code",
   "execution_count": 57,
   "id": "74ea4340-0197-40cc-9b3b-bebc87582953",
   "metadata": {},
   "outputs": [],
   "source": [
    "df.replace('XC 90', 'XC90', inplace=True)\n",
    "df.replace('V40 Cross Country', 'V40', inplace=True)\n",
    "df.replace('S60 Cross Country', 'S60', inplace=True)\n",
    "df.replace('S 80', 'S80', inplace=True)"
   ]
  },
  {
   "cell_type": "code",
   "execution_count": 58,
   "id": "40ffc256-6442-4bed-97d6-2e8c20cce245",
   "metadata": {},
   "outputs": [
    {
     "data": {
      "text/plain": [
       "array(['S90', 'XC90', 'V40', 'XC40', 'XC60', 'S60', 'S80'], dtype=object)"
      ]
     },
     "execution_count": 58,
     "metadata": {},
     "output_type": "execute_result"
    }
   ],
   "source": [
    "df[df['Brand'] == 'Volvo']['Model'].unique()"
   ]
  },
  {
   "cell_type": "markdown",
   "id": "deff94e9-c19f-44de-a91c-b649a3779c30",
   "metadata": {},
   "source": [
    "##### 14. Skoda"
   ]
  },
  {
   "cell_type": "code",
   "execution_count": 59,
   "id": "75584eed-21cd-4121-9c36-d0c5c6a562cd",
   "metadata": {},
   "outputs": [
    {
     "data": {
      "text/plain": [
       "array(['Kushaq', 'Kodiaq', 'Rapid', 'Octavia', 'Superb', 'Slavia',\n",
       "       'Laura', 'Fabia'], dtype=object)"
      ]
     },
     "execution_count": 59,
     "metadata": {},
     "output_type": "execute_result"
    }
   ],
   "source": [
    "df[df['Brand'] == 'Skoda']['Model'].unique()"
   ]
  },
  {
   "cell_type": "markdown",
   "id": "cea0cc47-dbc7-45c4-93a0-bbc2776339a2",
   "metadata": {},
   "source": [
    "##### 15. Mahindra"
   ]
  },
  {
   "cell_type": "code",
   "execution_count": 60,
   "id": "66d2b599-4d17-4bdb-b187-f628d42182fc",
   "metadata": {},
   "outputs": [
    {
     "data": {
      "text/plain": [
       "array(['Bolero Power Plus', 'XUV500', 'Scorpio-N', 'Thar', 'Bolero',\n",
       "       'TUV', 'XUV700', 'Alturas G4', 'Scorpio', 'KUV 100', 'Bolero Neo',\n",
       "       'Xylo', 'Jeep', 'Scorpio Classic', 'Renault Logan',\n",
       "       'Bolero Neo Plus', 'Scorpio N', 'XUV 300', 'Verito', 'Marazzo',\n",
       "       'Marshal', 'TUV 300', 'XUV300', 'KUV100 NXT', 'Quanto',\n",
       "       'TUV 300-plus', 'E-20', 'Ssangyong-Rexton', 'Nuvosport', 'Rexton',\n",
       "       'Ssangyong Rexton'], dtype=object)"
      ]
     },
     "execution_count": 60,
     "metadata": {},
     "output_type": "execute_result"
    }
   ],
   "source": [
    "df[df['Brand'] == 'Mahindra']['Model'].unique()"
   ]
  },
  {
   "cell_type": "code",
   "execution_count": 61,
   "id": "301bdf42-8b50-4cac-b659-625148eb2cda",
   "metadata": {},
   "outputs": [],
   "source": [
    "df.loc[df['Model'] == 'Ssangyong Rexton', 'Brand'] = 'Ssangyong'\n",
    "df.loc[df['Model'] == 'Ssangyong-Rexton', 'Brand'] = 'Ssangyong'\n",
    "df.loc[df['Model'] == 'Rexton', 'Brand'] = 'Ssangyong'\n",
    "df.loc[df['Model'] == 'Renault Logan', 'Brand'] = 'Renault'\n",
    "\n",
    "df.replace('Bolero Power Plus', 'Bolero', inplace=True)\n",
    "df.replace('Bolero Neo', 'Bolero', inplace=True)\n",
    "df.replace('Bolero Neo Plus', 'Bolero', inplace=True)\n",
    "df.replace('Scorpio-N', 'Scorpio', inplace=True)\n",
    "df.replace('Scorpio N', 'Scorpio', inplace=True)\n",
    "df.replace('Scorpio Classic', 'Scorpio', inplace=True)\n",
    "df.replace('TUV', 'TUV300', inplace=True)\n",
    "df.replace('TUV 300', 'TUV300', inplace=True)\n",
    "df.replace('TUV 300-plus', 'TUV300', inplace=True)\n",
    "df.replace('KUV 100', 'KUV100', inplace=True)\n",
    "df.replace('XUV 300', 'XUV300', inplace=True)\n",
    "df.replace('KUV100 NXT', 'KUV100', inplace=True)"
   ]
  },
  {
   "cell_type": "code",
   "execution_count": 62,
   "id": "a8f1313b-799c-454f-8dec-1bbac38ef401",
   "metadata": {},
   "outputs": [
    {
     "data": {
      "text/plain": [
       "array(['Bolero', 'XUV500', 'Scorpio', 'Thar', 'TUV300', 'XUV700',\n",
       "       'Alturas G4', 'KUV100', 'Xylo', 'Jeep', 'XUV300', 'Verito',\n",
       "       'Marazzo', 'Marshal', 'Quanto', 'E-20', 'Nuvosport'], dtype=object)"
      ]
     },
     "execution_count": 62,
     "metadata": {},
     "output_type": "execute_result"
    }
   ],
   "source": [
    "df[df['Brand'] == 'Mahindra']['Model'].unique()"
   ]
  },
  {
   "cell_type": "markdown",
   "id": "62e89d7f-0000-46ca-9cec-1fbb73aa150d",
   "metadata": {},
   "source": [
    "##### 16. Renault"
   ]
  },
  {
   "cell_type": "code",
   "execution_count": 63,
   "id": "44de0e27-2228-48e5-b748-4128dcf74080",
   "metadata": {},
   "outputs": [
    {
     "data": {
      "text/plain": [
       "array(['KWID', 'Duster', 'Scala', 'Captur', 'Triber', 'Renault Logan',\n",
       "       'Lodgy', 'Kiger', 'Fluence', 'Pulse', 'New Duster'], dtype=object)"
      ]
     },
     "execution_count": 63,
     "metadata": {},
     "output_type": "execute_result"
    }
   ],
   "source": [
    "df[df['Brand'] == 'Renault']['Model'].unique()"
   ]
  },
  {
   "cell_type": "code",
   "execution_count": 64,
   "id": "bf73a98e-b905-46e0-80bc-9b89f57fcf2d",
   "metadata": {},
   "outputs": [],
   "source": [
    "df.loc[df['Model'] == 'Renault Logan', 'Model'] = 'Logan'\n",
    "\n",
    "df.replace('KWID', 'Kwid', inplace=True)\n",
    "df.replace('Renault Logan', 'Logan', inplace=True)\n",
    "df.replace('New Duster', 'Duster', inplace=True)"
   ]
  },
  {
   "cell_type": "code",
   "execution_count": 65,
   "id": "dc9f7174-4652-42bd-abcd-ee2df30cc287",
   "metadata": {},
   "outputs": [
    {
     "data": {
      "text/plain": [
       "array(['Kwid', 'Duster', 'Scala', 'Captur', 'Triber', 'Logan', 'Lodgy',\n",
       "       'Kiger', 'Fluence', 'Pulse'], dtype=object)"
      ]
     },
     "execution_count": 65,
     "metadata": {},
     "output_type": "execute_result"
    }
   ],
   "source": [
    "df[df['Brand'] == 'Renault']['Model'].unique()"
   ]
  },
  {
   "cell_type": "markdown",
   "id": "94e668fb-39f4-4a5c-8b36-c36bc5b2092b",
   "metadata": {},
   "source": [
    "##### 17. Ssangyong"
   ]
  },
  {
   "cell_type": "code",
   "execution_count": 66,
   "id": "d6567aa9-7678-4570-8473-ce9175b56927",
   "metadata": {},
   "outputs": [
    {
     "data": {
      "text/plain": [
       "array(['Ssangyong-Rexton', 'Rexton', 'Ssangyong Rexton'], dtype=object)"
      ]
     },
     "execution_count": 66,
     "metadata": {},
     "output_type": "execute_result"
    }
   ],
   "source": [
    "df[df['Brand'] == 'Ssangyong']['Model'].unique()"
   ]
  },
  {
   "cell_type": "code",
   "execution_count": 67,
   "id": "85576ed4-15bd-4dc4-b5e1-d3d340ca9bf0",
   "metadata": {},
   "outputs": [],
   "source": [
    "df.replace('Ssangyong-Rexton', 'Rexton', inplace=True)\n",
    "df.replace('Ssangyong Rexton', 'Rexton', inplace=True)"
   ]
  },
  {
   "cell_type": "code",
   "execution_count": 68,
   "id": "0bf102aa-bb66-4123-a43e-176a5de54845",
   "metadata": {},
   "outputs": [
    {
     "data": {
      "text/plain": [
       "array(['Rexton'], dtype=object)"
      ]
     },
     "execution_count": 68,
     "metadata": {},
     "output_type": "execute_result"
    }
   ],
   "source": [
    "df[df['Brand'] == 'Ssangyong']['Model'].unique()"
   ]
  },
  {
   "cell_type": "markdown",
   "id": "409bb4ae-b7f5-40d0-b476-e5ccbd055788",
   "metadata": {},
   "source": [
    "##### 18. Mini"
   ]
  },
  {
   "cell_type": "code",
   "execution_count": 69,
   "id": "e68e061e-7d21-4d88-bf6a-35be36c4ac95",
   "metadata": {},
   "outputs": [
    {
     "data": {
      "text/plain": [
       "array(['Cooper 3 DOOR', 'Cooper 5 DOOR', 'Cooper S', 'Cooper Convertible',\n",
       "       '3 DOOR', 'Cooper', 'Cooper Countryman', 'Countryman',\n",
       "       'Cooper Clubman', '5 DOOR'], dtype=object)"
      ]
     },
     "execution_count": 69,
     "metadata": {},
     "output_type": "execute_result"
    }
   ],
   "source": [
    "df[df['Brand'] == 'Mini']['Model'].unique()"
   ]
  },
  {
   "cell_type": "code",
   "execution_count": 70,
   "id": "497bc00f-fbb3-42ff-8dd5-729a2ab5061b",
   "metadata": {},
   "outputs": [],
   "source": [
    "df.replace('Cooper 3 DOOR', 'Cooper 3', inplace=True)\n",
    "df.replace('Cooper 5 DOOR', 'Cooper 5', inplace=True)\n",
    "df.replace('3 DOOR', 'Cooper 3', inplace=True)\n",
    "df.replace('Countryman', 'Cooper Countryman', inplace=True)\n",
    "df.replace('5 DOOR', 'Cooper 5', inplace=True)"
   ]
  },
  {
   "cell_type": "code",
   "execution_count": 71,
   "id": "bc7bc703-e403-4f51-a85a-20e4bfbc96f6",
   "metadata": {},
   "outputs": [
    {
     "data": {
      "text/plain": [
       "array(['Cooper 3', 'Cooper 5', 'Cooper S', 'Cooper Convertible', 'Cooper',\n",
       "       'Cooper Countryman', 'Cooper Clubman'], dtype=object)"
      ]
     },
     "execution_count": 71,
     "metadata": {},
     "output_type": "execute_result"
    }
   ],
   "source": [
    "df[df['Brand'] == 'Mini']['Model'].unique()"
   ]
  },
  {
   "cell_type": "markdown",
   "id": "0ade7b09-b557-49d6-8157-16b7140d99d0",
   "metadata": {},
   "source": [
    "##### 19. Land Rover"
   ]
  },
  {
   "cell_type": "code",
   "execution_count": 72,
   "id": "7e625e85-e8bb-48ac-9d61-8d8221628f1b",
   "metadata": {},
   "outputs": [
    {
     "data": {
      "text/plain": [
       "array(['Range Rover Evoque', 'Discovery Sport', 'Range Rover', 'Defender',\n",
       "       'Range Rover Sport', 'Range Rover Velar', 'Freelander 2',\n",
       "       'Discovery'], dtype=object)"
      ]
     },
     "execution_count": 72,
     "metadata": {},
     "output_type": "execute_result"
    }
   ],
   "source": [
    "df[df['Brand'] == 'Land Rover']['Model'].unique()"
   ]
  },
  {
   "cell_type": "code",
   "execution_count": 73,
   "id": "a7a0084b-17d8-4987-8e58-b496fe96de23",
   "metadata": {},
   "outputs": [],
   "source": [
    "df.replace('Discovery Sport', 'Discovery', inplace=True)\n",
    "df.replace('Range Rover Sport', 'Discovery', inplace=True)"
   ]
  },
  {
   "cell_type": "code",
   "execution_count": 74,
   "id": "286e52bf-a47a-4457-89ab-33c2d4e941e6",
   "metadata": {},
   "outputs": [
    {
     "data": {
      "text/plain": [
       "array(['Range Rover Evoque', 'Discovery', 'Range Rover', 'Defender',\n",
       "       'Range Rover Velar', 'Freelander 2'], dtype=object)"
      ]
     },
     "execution_count": 74,
     "metadata": {},
     "output_type": "execute_result"
    }
   ],
   "source": [
    "df[df['Brand'] == 'Land Rover']['Model'].unique()"
   ]
  },
  {
   "cell_type": "markdown",
   "id": "545cdf1f-e08b-4619-8b45-760ac442304c",
   "metadata": {},
   "source": [
    "##### 20. Chevrolet"
   ]
  },
  {
   "cell_type": "code",
   "execution_count": 75,
   "id": "5e353b56-1422-42a7-8ef0-36da1bd7fbe7",
   "metadata": {},
   "outputs": [
    {
     "data": {
      "text/plain": [
       "array(['Cruze', 'Enjoy', 'Optra', 'Tavera', 'Beat', 'Spark', 'Sail U-VA',\n",
       "       'Sail', 'OptraSRV', 'Trailblazer', 'Optra Magnum', 'Captiva'],\n",
       "      dtype=object)"
      ]
     },
     "execution_count": 75,
     "metadata": {},
     "output_type": "execute_result"
    }
   ],
   "source": [
    "df[df['Brand'] == 'Chevrolet']['Model'].unique()"
   ]
  },
  {
   "cell_type": "code",
   "execution_count": 76,
   "id": "443588c2-b630-4b8d-8ecd-0b09647b5864",
   "metadata": {},
   "outputs": [],
   "source": [
    "df.replace('OptraSRV', 'Optra', inplace=True)\n",
    "df.replace('Optra Magnum', 'Optra', inplace=True)"
   ]
  },
  {
   "cell_type": "code",
   "execution_count": 77,
   "id": "74c9faab-88c9-430b-8086-22087e05521e",
   "metadata": {},
   "outputs": [
    {
     "data": {
      "text/plain": [
       "array(['Cruze', 'Enjoy', 'Optra', 'Tavera', 'Beat', 'Spark', 'Sail U-VA',\n",
       "       'Sail', 'Trailblazer', 'Captiva'], dtype=object)"
      ]
     },
     "execution_count": 77,
     "metadata": {},
     "output_type": "execute_result"
    }
   ],
   "source": [
    "df[df['Brand'] == 'Chevrolet']['Model'].unique()"
   ]
  },
  {
   "cell_type": "markdown",
   "id": "aed6a5b2-c0f2-4a87-90c5-bdeb03930184",
   "metadata": {},
   "source": [
    "##### 21. Jaguar"
   ]
  },
  {
   "cell_type": "code",
   "execution_count": 78,
   "id": "26a9c620-f94a-406c-91d3-9e37278f5ca0",
   "metadata": {},
   "outputs": [
    {
     "data": {
      "text/plain": [
       "array(['XF', 'XJ', 'XE', 'F-Pace', 'Others'], dtype=object)"
      ]
     },
     "execution_count": 78,
     "metadata": {},
     "output_type": "execute_result"
    }
   ],
   "source": [
    "df[df['Brand'] == 'Jaguar']['Model'].unique()"
   ]
  },
  {
   "cell_type": "markdown",
   "id": "708ddc9c-97e3-4a87-a4ed-06455fd23e72",
   "metadata": {},
   "source": [
    "##### 22. Fiat"
   ]
  },
  {
   "cell_type": "code",
   "execution_count": 79,
   "id": "480e6c8b-1b34-49aa-a85c-0e9f8709378d",
   "metadata": {},
   "outputs": [
    {
     "data": {
      "text/plain": [
       "array(['Linea', 'Punto', 'Punto EVO', 'Grand Punto', 'Punto Pure',\n",
       "       'Avventura', 'Urban Cross'], dtype=object)"
      ]
     },
     "execution_count": 79,
     "metadata": {},
     "output_type": "execute_result"
    }
   ],
   "source": [
    "df[df['Brand'] == 'Fiat']['Model'].unique()"
   ]
  },
  {
   "cell_type": "code",
   "execution_count": 80,
   "id": "a334366e-74c0-48f2-994f-ba0d752001d1",
   "metadata": {},
   "outputs": [],
   "source": [
    "df.replace('Punto EVO', 'Punto', inplace=True)\n",
    "df.replace('Grand Punto', 'Punto', inplace=True)\n",
    "df.replace('Punto Pure', 'Punto', inplace=True)"
   ]
  },
  {
   "cell_type": "code",
   "execution_count": 81,
   "id": "1bb1dc25-9955-4eaa-8501-d7f0ef389be0",
   "metadata": {},
   "outputs": [
    {
     "data": {
      "text/plain": [
       "array(['Linea', 'Punto', 'Avventura', 'Urban Cross'], dtype=object)"
      ]
     },
     "execution_count": 81,
     "metadata": {},
     "output_type": "execute_result"
    }
   ],
   "source": [
    "df[df['Brand'] == 'Fiat']['Model'].unique()"
   ]
  },
  {
   "cell_type": "markdown",
   "id": "a77da11c-b8af-4fb5-b4f5-169a4202b657",
   "metadata": {},
   "source": [
    "##### 23. Aston Martin"
   ]
  },
  {
   "cell_type": "code",
   "execution_count": 82,
   "id": "cdf04d72-8388-4ff4-a82b-cf550acb9167",
   "metadata": {},
   "outputs": [
    {
     "data": {
      "text/plain": [
       "array(['Vanquish'], dtype=object)"
      ]
     },
     "execution_count": 82,
     "metadata": {},
     "output_type": "execute_result"
    }
   ],
   "source": [
    "df[df['Brand'] == 'Aston Martin']['Model'].unique()"
   ]
  },
  {
   "cell_type": "markdown",
   "id": "68637eb0-0a40-4d73-96c5-d8852d91ca7b",
   "metadata": {},
   "source": [
    "##### 24. Porsche"
   ]
  },
  {
   "cell_type": "code",
   "execution_count": 83,
   "id": "90204ce6-f943-4349-9909-3e4d0f005976",
   "metadata": {},
   "outputs": [
    {
     "data": {
      "text/plain": [
       "array(['Macan', '718', 'Boxster', 'Cayenne', 'Cayenne Coupe', 'Panamera',\n",
       "       'Cayman'], dtype=object)"
      ]
     },
     "execution_count": 83,
     "metadata": {},
     "output_type": "execute_result"
    }
   ],
   "source": [
    "df[df['Brand'] == 'Porsche']['Model'].unique()"
   ]
  },
  {
   "cell_type": "code",
   "execution_count": 84,
   "id": "a7165eb7-6698-4fcf-ada3-f85aa19c1659",
   "metadata": {},
   "outputs": [],
   "source": [
    "df.replace('Cayenne Coupe', 'Cayenne', inplace=True)\n",
    "df.replace('Boxster', '718 Boxster', inplace=True)\n",
    "df.replace('718', '718 Boxster', inplace=True)"
   ]
  },
  {
   "cell_type": "code",
   "execution_count": 85,
   "id": "f8eb415a-4f2e-4e8b-9f4e-04a7cde559bd",
   "metadata": {},
   "outputs": [
    {
     "data": {
      "text/plain": [
       "array(['Macan', '718 Boxster', 'Cayenne', 'Panamera', 'Cayman'],\n",
       "      dtype=object)"
      ]
     },
     "execution_count": 85,
     "metadata": {},
     "output_type": "execute_result"
    }
   ],
   "source": [
    "df[df['Brand'] == 'Porsche']['Model'].unique()"
   ]
  },
  {
   "cell_type": "markdown",
   "id": "088ff758-0bb6-438f-a170-4660813991a3",
   "metadata": {},
   "source": [
    "##### 25. Nissan"
   ]
  },
  {
   "cell_type": "code",
   "execution_count": 86,
   "id": "e188bb04-242e-4056-9309-90c9be18ec6c",
   "metadata": {},
   "outputs": [
    {
     "data": {
      "text/plain": [
       "array(['Terrano', 'MICRA PRIMO', 'Micra', 'Kicks', 'PATROL', 'Sunny',\n",
       "       'Magnite', 'Micra Active', 'Teana', 'Urvan'], dtype=object)"
      ]
     },
     "execution_count": 86,
     "metadata": {},
     "output_type": "execute_result"
    }
   ],
   "source": [
    "df[df['Brand'] == 'Nissan']['Model'].unique()"
   ]
  },
  {
   "cell_type": "code",
   "execution_count": 87,
   "id": "465574d0-cfbd-4ada-9744-6f53b55387ff",
   "metadata": {},
   "outputs": [],
   "source": [
    "df.replace('MICRA PRIMO', 'Micra', inplace=True)\n",
    "df.replace('Micra Active', 'Micra', inplace=True)\n",
    "df.replace('PATROL', 'Patrol', inplace=True)"
   ]
  },
  {
   "cell_type": "code",
   "execution_count": 88,
   "id": "6986cfe5-353b-404e-b977-cca8a52494bb",
   "metadata": {},
   "outputs": [
    {
     "data": {
      "text/plain": [
       "array(['Terrano', 'Micra', 'Kicks', 'Patrol', 'Sunny', 'Magnite', 'Teana',\n",
       "       'Urvan'], dtype=object)"
      ]
     },
     "execution_count": 88,
     "metadata": {},
     "output_type": "execute_result"
    }
   ],
   "source": [
    "df[df['Brand'] == 'Nissan']['Model'].unique()"
   ]
  },
  {
   "cell_type": "markdown",
   "id": "10ff7844-a6a8-4c03-a466-a99b600f5f9a",
   "metadata": {},
   "source": [
    "##### 26. Force Motors"
   ]
  },
  {
   "cell_type": "code",
   "execution_count": 89,
   "id": "99002c16-cf6a-4495-9ae0-be55743e5953",
   "metadata": {},
   "outputs": [],
   "source": [
    "df.replace('Force', 'Force Motors', inplace=True)"
   ]
  },
  {
   "cell_type": "code",
   "execution_count": 90,
   "id": "eb11db2c-b46f-472f-870b-a9ed9bb5794c",
   "metadata": {},
   "outputs": [
    {
     "data": {
      "text/plain": [
       "array(['Motors FM Gurkha', 'Motors FM Trax Cruiser',\n",
       "       'Motors FM Force One Test'], dtype=object)"
      ]
     },
     "execution_count": 90,
     "metadata": {},
     "output_type": "execute_result"
    }
   ],
   "source": [
    "df[df['Brand'] == 'Force Motors']['Model'].unique()"
   ]
  },
  {
   "cell_type": "code",
   "execution_count": 91,
   "id": "26012ccb-cd77-40ed-9f91-43836228e280",
   "metadata": {},
   "outputs": [],
   "source": [
    "df.replace('Motors FM Gurkha', 'Gurkha', inplace=True)\n",
    "df.replace('Motors FM Trax Cruiser', 'Trax Cruiser', inplace=True)\n",
    "df.replace('Motors FM Force One Test', 'Force One', inplace=True)"
   ]
  },
  {
   "cell_type": "code",
   "execution_count": 92,
   "id": "a0bcefca-eae3-4a9c-a4c5-078897ebbb5b",
   "metadata": {},
   "outputs": [
    {
     "data": {
      "text/plain": [
       "array(['Gurkha', 'Trax Cruiser', 'Force One'], dtype=object)"
      ]
     },
     "execution_count": 92,
     "metadata": {},
     "output_type": "execute_result"
    }
   ],
   "source": [
    "df[df['Brand'] == 'Force Motors']['Model'].unique()"
   ]
  },
  {
   "cell_type": "markdown",
   "id": "eb5182dc-a576-4834-9bcf-fde66d3baec2",
   "metadata": {},
   "source": [
    "##### 27. Mitsubishi"
   ]
  },
  {
   "cell_type": "code",
   "execution_count": 93,
   "id": "14ccd8d0-f8a8-41ad-b512-23f6bc38f914",
   "metadata": {},
   "outputs": [
    {
     "data": {
      "text/plain": [
       "array(['Pajero Sport', 'Cedia', 'Outlander', 'Lancer'], dtype=object)"
      ]
     },
     "execution_count": 93,
     "metadata": {},
     "output_type": "execute_result"
    }
   ],
   "source": [
    "df[df['Brand'] == 'Mitsubishi']['Model'].unique()"
   ]
  },
  {
   "cell_type": "markdown",
   "id": "ad9ce831-5167-4e60-89b7-f299db8bc1f8",
   "metadata": {},
   "source": [
    "##### 28. Lexus"
   ]
  },
  {
   "cell_type": "code",
   "execution_count": 94,
   "id": "8790de71-8848-4edd-a5d5-929a2d25cea5",
   "metadata": {},
   "outputs": [
    {
     "data": {
      "text/plain": [
       "array(['ES', 'LX', 'NX', 'LS', 'RX'], dtype=object)"
      ]
     },
     "execution_count": 94,
     "metadata": {},
     "output_type": "execute_result"
    }
   ],
   "source": [
    "df[df['Brand'] == 'Lexus']['Model'].unique()"
   ]
  },
  {
   "cell_type": "markdown",
   "id": "c7dd8035-5050-4e38-b4f1-ce9b8eec0f8b",
   "metadata": {},
   "source": [
    "##### 29. Isuzu"
   ]
  },
  {
   "cell_type": "code",
   "execution_count": 95,
   "id": "d698db4d-6b53-4bc8-b642-7f942ff54906",
   "metadata": {},
   "outputs": [
    {
     "data": {
      "text/plain": [
       "array(['MAX', 'D-Max V-Cross', 'MUX', 'Hi-Lande Isuzu Hi-Lander'],\n",
       "      dtype=object)"
      ]
     },
     "execution_count": 95,
     "metadata": {},
     "output_type": "execute_result"
    }
   ],
   "source": [
    "df[df['Brand'] == 'Isuzu']['Model'].unique()"
   ]
  },
  {
   "cell_type": "code",
   "execution_count": 96,
   "id": "db971682-0dcb-4530-a54a-eda915563edc",
   "metadata": {},
   "outputs": [],
   "source": [
    "df.replace('MAX', 'D-Max', inplace=True)\n",
    "df.replace('D-Max V-Cross', 'D-Max', inplace=True)\n",
    "df.replace('Hi-Lande Isuzu Hi-Lander', 'Hi-Lander', inplace=True)"
   ]
  },
  {
   "cell_type": "code",
   "execution_count": 97,
   "id": "e770bcdf-95b8-4439-88a3-a7f63f95e123",
   "metadata": {},
   "outputs": [
    {
     "data": {
      "text/plain": [
       "array(['D-Max', 'MUX', 'Hi-Lander'], dtype=object)"
      ]
     },
     "execution_count": 97,
     "metadata": {},
     "output_type": "execute_result"
    }
   ],
   "source": [
    "df[df['Brand'] == 'Isuzu']['Model'].unique()"
   ]
  },
  {
   "cell_type": "markdown",
   "id": "62ed7022-0b10-4733-af81-11a95b043d9b",
   "metadata": {},
   "source": [
    "##### 30. Datsun"
   ]
  },
  {
   "cell_type": "code",
   "execution_count": 98,
   "id": "c2486dc3-2dc2-409d-bc90-5f92334f1a11",
   "metadata": {},
   "outputs": [
    {
     "data": {
      "text/plain": [
       "array(['RediGO', 'Redi Go', 'GO', 'GO Plus'], dtype=object)"
      ]
     },
     "execution_count": 98,
     "metadata": {},
     "output_type": "execute_result"
    }
   ],
   "source": [
    "df[df['Brand'] == 'Datsun']['Model'].unique()"
   ]
  },
  {
   "cell_type": "code",
   "execution_count": 99,
   "id": "63458f2a-e7f8-4c6e-a889-00c81fe2e73d",
   "metadata": {},
   "outputs": [],
   "source": [
    "df.replace('RediGO', 'Redi GO', inplace=True)\n",
    "df.replace('Redi Go', 'Redi GO', inplace=True)"
   ]
  },
  {
   "cell_type": "code",
   "execution_count": 100,
   "id": "321a06ba-1e32-4ff9-8909-47d4a76ec2f7",
   "metadata": {},
   "outputs": [
    {
     "data": {
      "text/plain": [
       "array(['Redi GO', 'GO', 'GO Plus'], dtype=object)"
      ]
     },
     "execution_count": 100,
     "metadata": {},
     "output_type": "execute_result"
    }
   ],
   "source": [
    "df[df['Brand'] == 'Datsun']['Model'].unique()"
   ]
  },
  {
   "cell_type": "markdown",
   "id": "5c5cce36-b4e5-4cd2-a39e-94c0a1720dbb",
   "metadata": {},
   "source": [
    "##### 31. Ambassador"
   ]
  },
  {
   "cell_type": "code",
   "execution_count": 101,
   "id": "7fa5570e-229f-4b19-afb5-4f4f00a43efa",
   "metadata": {},
   "outputs": [
    {
     "data": {
      "text/plain": [
       "array(['Ambassador'], dtype=object)"
      ]
     },
     "execution_count": 101,
     "metadata": {},
     "output_type": "execute_result"
    }
   ],
   "source": [
    "df[df['Brand'] == 'Ambassador']['Model'].unique()"
   ]
  },
  {
   "cell_type": "markdown",
   "id": "3f51daf0-8575-45cb-834b-1648f3a902e8",
   "metadata": {},
   "source": [
    "##### 32. Rolls-Royce"
   ]
  },
  {
   "cell_type": "code",
   "execution_count": 102,
   "id": "c954af8a-e2f2-4d32-acad-6c0cbbac3137",
   "metadata": {},
   "outputs": [
    {
     "data": {
      "text/plain": [
       "array(['Phantom Series II', 'Phantom Drop HeadCoupe'], dtype=object)"
      ]
     },
     "execution_count": 102,
     "metadata": {},
     "output_type": "execute_result"
    }
   ],
   "source": [
    "df[df['Brand'] == 'Rolls-Royce']['Model'].unique()"
   ]
  },
  {
   "cell_type": "code",
   "execution_count": 103,
   "id": "1fe133af-09ba-4ab7-bb86-eae86976ad4a",
   "metadata": {},
   "outputs": [],
   "source": [
    "df.replace('Phantom Series II', 'Phantom', inplace=True)\n",
    "df.replace('Phantom Drop HeadCoupe', 'Phantom', inplace=True)"
   ]
  },
  {
   "cell_type": "code",
   "execution_count": 104,
   "id": "747f6476-cfce-4a33-aa3f-3bcac2bfd60a",
   "metadata": {},
   "outputs": [
    {
     "data": {
      "text/plain": [
       "array(['Phantom'], dtype=object)"
      ]
     },
     "execution_count": 104,
     "metadata": {},
     "output_type": "execute_result"
    }
   ],
   "source": [
    "df[df['Brand'] == 'Rolls-Royce']['Model'].unique()"
   ]
  },
  {
   "cell_type": "markdown",
   "id": "da0bbf8e-e644-4443-be0a-5f3a258bdfef",
   "metadata": {},
   "source": [
    "##### 33. Bajaj"
   ]
  },
  {
   "cell_type": "code",
   "execution_count": 105,
   "id": "2c7b6069-d958-40dd-a527-fcf7b1ce4c5d",
   "metadata": {},
   "outputs": [
    {
     "data": {
      "text/plain": [
       "array(['RE60'], dtype=object)"
      ]
     },
     "execution_count": 105,
     "metadata": {},
     "output_type": "execute_result"
    }
   ],
   "source": [
    "df[df['Brand'] == 'Bajaj']['Model'].unique()"
   ]
  },
  {
   "cell_type": "markdown",
   "id": "8fe56271-77fb-4d67-b939-70923cf2e4aa",
   "metadata": {},
   "source": [
    "##### 34. Opel"
   ]
  },
  {
   "cell_type": "code",
   "execution_count": 106,
   "id": "5862741c-b3a9-46fb-899e-c032baa86c79",
   "metadata": {},
   "outputs": [
    {
     "data": {
      "text/plain": [
       "array(['Corsa'], dtype=object)"
      ]
     },
     "execution_count": 106,
     "metadata": {},
     "output_type": "execute_result"
    }
   ],
   "source": [
    "df[df['Brand'] == 'Opel']['Model'].unique()"
   ]
  },
  {
   "cell_type": "markdown",
   "id": "a95f741c-ba02-4e2d-a90d-38b09b3e63b9",
   "metadata": {},
   "source": [
    "##### 35. Ashok"
   ]
  },
  {
   "cell_type": "code",
   "execution_count": 107,
   "id": "2add7ba9-3f7a-43a9-ac3d-3cfc4199b148",
   "metadata": {},
   "outputs": [
    {
     "data": {
      "text/plain": [
       "array(['Leyland Stile'], dtype=object)"
      ]
     },
     "execution_count": 107,
     "metadata": {},
     "output_type": "execute_result"
    }
   ],
   "source": [
    "df[df['Brand'] == 'Ashok']['Model'].unique()"
   ]
  },
  {
   "cell_type": "markdown",
   "id": "837725ba-f958-428b-9e3b-58c46344e7b9",
   "metadata": {},
   "source": [
    "##### 36. Bentley"
   ]
  },
  {
   "cell_type": "code",
   "execution_count": 108,
   "id": "9c87539c-d16e-4453-b7d3-5032bce966d2",
   "metadata": {},
   "outputs": [
    {
     "data": {
      "text/plain": [
       "array(['Flying Spur'], dtype=object)"
      ]
     },
     "execution_count": 108,
     "metadata": {},
     "output_type": "execute_result"
    }
   ],
   "source": [
    "df[df['Brand'] == 'Bentley']['Model'].unique()"
   ]
  },
  {
   "cell_type": "markdown",
   "id": "72411613-734c-4c85-811f-f85548ab9d7e",
   "metadata": {},
   "source": [
    "##### 37. Maserati"
   ]
  },
  {
   "cell_type": "code",
   "execution_count": 109,
   "id": "a5f6fbd4-3bd6-47cb-96fe-647baf4de70c",
   "metadata": {},
   "outputs": [
    {
     "data": {
      "text/plain": [
       "array(['Gran Turismo'], dtype=object)"
      ]
     },
     "execution_count": 109,
     "metadata": {},
     "output_type": "execute_result"
    }
   ],
   "source": [
    "df[df['Brand'] == 'Maserati']['Model'].unique()"
   ]
  },
  {
   "cell_type": "markdown",
   "id": "f13db8a9-cf32-4381-9168-3ce580f43841",
   "metadata": {},
   "source": [
    "##### 38. ICML"
   ]
  },
  {
   "cell_type": "code",
   "execution_count": 110,
   "id": "9c83cd70-7110-490e-9361-4f780db6bbc8",
   "metadata": {},
   "outputs": [
    {
     "data": {
      "text/plain": [
       "array(['Rhino Rx'], dtype=object)"
      ]
     },
     "execution_count": 110,
     "metadata": {},
     "output_type": "execute_result"
    }
   ],
   "source": [
    "df[df['Brand'] == 'ICML']['Model'].unique()"
   ]
  },
  {
   "cell_type": "markdown",
   "id": "f54799f9-2942-4f1c-bd8b-37860e3f8f18",
   "metadata": {},
   "source": [
    "##### 39. Jeep"
   ]
  },
  {
   "cell_type": "code",
   "execution_count": 111,
   "id": "2e5fc97c-3d46-4e67-a4b1-fed534a1cc91",
   "metadata": {},
   "outputs": [
    {
     "data": {
      "text/plain": [
       "array(['Compass', 'Meridian', 'Wrangler'], dtype=object)"
      ]
     },
     "execution_count": 111,
     "metadata": {},
     "output_type": "execute_result"
    }
   ],
   "source": [
    "df[df['Brand'] == 'Jeep']['Model'].unique()"
   ]
  },
  {
   "cell_type": "markdown",
   "id": "0506fd19-3d7d-4fab-abe1-2351e02d756f",
   "metadata": {},
   "source": [
    "### Saving the cleaned dataset for further use"
   ]
  },
  {
   "cell_type": "code",
   "execution_count": 112,
   "id": "6a90caf5-095a-45f6-919a-b6ebeb560c45",
   "metadata": {},
   "outputs": [
    {
     "data": {
      "text/plain": [
       "(8761, 8)"
      ]
     },
     "execution_count": 112,
     "metadata": {},
     "output_type": "execute_result"
    }
   ],
   "source": [
    "df.shape"
   ]
  },
  {
   "cell_type": "code",
   "execution_count": 113,
   "id": "a7c6724c-805d-4770-b174-d36663399f01",
   "metadata": {},
   "outputs": [
    {
     "data": {
      "text/html": [
       "<div>\n",
       "<style scoped>\n",
       "    .dataframe tbody tr th:only-of-type {\n",
       "        vertical-align: middle;\n",
       "    }\n",
       "\n",
       "    .dataframe tbody tr th {\n",
       "        vertical-align: top;\n",
       "    }\n",
       "\n",
       "    .dataframe thead th {\n",
       "        text-align: right;\n",
       "    }\n",
       "</style>\n",
       "<table border=\"1\" class=\"dataframe\">\n",
       "  <thead>\n",
       "    <tr style=\"text-align: right;\">\n",
       "      <th></th>\n",
       "      <th>Brand</th>\n",
       "      <th>Model</th>\n",
       "      <th>Age</th>\n",
       "      <th>KmDriven</th>\n",
       "      <th>Transmission</th>\n",
       "      <th>Owner</th>\n",
       "      <th>FuelType</th>\n",
       "      <th>Price</th>\n",
       "    </tr>\n",
       "  </thead>\n",
       "  <tbody>\n",
       "    <tr>\n",
       "      <th>0</th>\n",
       "      <td>Honda</td>\n",
       "      <td>City</td>\n",
       "      <td>276</td>\n",
       "      <td>98000.0</td>\n",
       "      <td>Manual</td>\n",
       "      <td>second</td>\n",
       "      <td>Petrol</td>\n",
       "      <td>195000.0</td>\n",
       "    </tr>\n",
       "    <tr>\n",
       "      <th>1</th>\n",
       "      <td>Toyota</td>\n",
       "      <td>Innova</td>\n",
       "      <td>180</td>\n",
       "      <td>190000.0</td>\n",
       "      <td>Manual</td>\n",
       "      <td>second</td>\n",
       "      <td>Diesel</td>\n",
       "      <td>375000.0</td>\n",
       "    </tr>\n",
       "    <tr>\n",
       "      <th>2</th>\n",
       "      <td>Volkswagen</td>\n",
       "      <td>Vento</td>\n",
       "      <td>168</td>\n",
       "      <td>77246.0</td>\n",
       "      <td>Manual</td>\n",
       "      <td>first</td>\n",
       "      <td>Diesel</td>\n",
       "      <td>184999.0</td>\n",
       "    </tr>\n",
       "    <tr>\n",
       "      <th>3</th>\n",
       "      <td>Maruti Suzuki</td>\n",
       "      <td>Swift</td>\n",
       "      <td>84</td>\n",
       "      <td>83500.0</td>\n",
       "      <td>Manual</td>\n",
       "      <td>second</td>\n",
       "      <td>Diesel</td>\n",
       "      <td>565000.0</td>\n",
       "    </tr>\n",
       "    <tr>\n",
       "      <th>4</th>\n",
       "      <td>Maruti Suzuki</td>\n",
       "      <td>Baleno</td>\n",
       "      <td>60</td>\n",
       "      <td>45000.0</td>\n",
       "      <td>Automatic</td>\n",
       "      <td>first</td>\n",
       "      <td>Petrol</td>\n",
       "      <td>685000.0</td>\n",
       "    </tr>\n",
       "    <tr>\n",
       "      <th>...</th>\n",
       "      <td>...</td>\n",
       "      <td>...</td>\n",
       "      <td>...</td>\n",
       "      <td>...</td>\n",
       "      <td>...</td>\n",
       "      <td>...</td>\n",
       "      <td>...</td>\n",
       "      <td>...</td>\n",
       "    </tr>\n",
       "    <tr>\n",
       "      <th>9576</th>\n",
       "      <td>Porsche</td>\n",
       "      <td>Cayenne</td>\n",
       "      <td>12</td>\n",
       "      <td>7700.0</td>\n",
       "      <td>Automatic</td>\n",
       "      <td>first</td>\n",
       "      <td>Petrol</td>\n",
       "      <td>13600000.0</td>\n",
       "    </tr>\n",
       "    <tr>\n",
       "      <th>9578</th>\n",
       "      <td>Maruti Suzuki</td>\n",
       "      <td>Alto</td>\n",
       "      <td>48</td>\n",
       "      <td>55000.0</td>\n",
       "      <td>Manual</td>\n",
       "      <td>first</td>\n",
       "      <td>Hybrid/CNG</td>\n",
       "      <td>375000.0</td>\n",
       "    </tr>\n",
       "    <tr>\n",
       "      <th>9579</th>\n",
       "      <td>Maruti Suzuki</td>\n",
       "      <td>Ritz</td>\n",
       "      <td>132</td>\n",
       "      <td>92000.0</td>\n",
       "      <td>Manual</td>\n",
       "      <td>first</td>\n",
       "      <td>Diesel</td>\n",
       "      <td>415000.0</td>\n",
       "    </tr>\n",
       "    <tr>\n",
       "      <th>9580</th>\n",
       "      <td>Hyundai</td>\n",
       "      <td>Verna</td>\n",
       "      <td>60</td>\n",
       "      <td>72000.0</td>\n",
       "      <td>Automatic</td>\n",
       "      <td>first</td>\n",
       "      <td>Petrol</td>\n",
       "      <td>855000.0</td>\n",
       "    </tr>\n",
       "    <tr>\n",
       "      <th>9581</th>\n",
       "      <td>Hyundai</td>\n",
       "      <td>i20</td>\n",
       "      <td>36</td>\n",
       "      <td>83228.0</td>\n",
       "      <td>Manual</td>\n",
       "      <td>second</td>\n",
       "      <td>Petrol</td>\n",
       "      <td>699000.0</td>\n",
       "    </tr>\n",
       "  </tbody>\n",
       "</table>\n",
       "<p>8761 rows × 8 columns</p>\n",
       "</div>"
      ],
      "text/plain": [
       "              Brand    Model  Age  KmDriven Transmission   Owner    FuelType  \\\n",
       "0             Honda     City  276   98000.0       Manual  second      Petrol   \n",
       "1            Toyota   Innova  180  190000.0       Manual  second      Diesel   \n",
       "2        Volkswagen    Vento  168   77246.0       Manual   first      Diesel   \n",
       "3     Maruti Suzuki    Swift   84   83500.0       Manual  second      Diesel   \n",
       "4     Maruti Suzuki   Baleno   60   45000.0    Automatic   first      Petrol   \n",
       "...             ...      ...  ...       ...          ...     ...         ...   \n",
       "9576        Porsche  Cayenne   12    7700.0    Automatic   first      Petrol   \n",
       "9578  Maruti Suzuki     Alto   48   55000.0       Manual   first  Hybrid/CNG   \n",
       "9579  Maruti Suzuki     Ritz  132   92000.0       Manual   first      Diesel   \n",
       "9580        Hyundai    Verna   60   72000.0    Automatic   first      Petrol   \n",
       "9581        Hyundai      i20   36   83228.0       Manual  second      Petrol   \n",
       "\n",
       "           Price  \n",
       "0       195000.0  \n",
       "1       375000.0  \n",
       "2       184999.0  \n",
       "3       565000.0  \n",
       "4       685000.0  \n",
       "...          ...  \n",
       "9576  13600000.0  \n",
       "9578    375000.0  \n",
       "9579    415000.0  \n",
       "9580    855000.0  \n",
       "9581    699000.0  \n",
       "\n",
       "[8761 rows x 8 columns]"
      ]
     },
     "execution_count": 113,
     "metadata": {},
     "output_type": "execute_result"
    }
   ],
   "source": [
    "df"
   ]
  },
  {
   "cell_type": "code",
   "execution_count": 114,
   "id": "a94234c2-4587-4ead-9314-19b0968bf64c",
   "metadata": {},
   "outputs": [],
   "source": [
    "df.to_csv('../Dataset/Used_Car_Df1.csv', index=False)"
   ]
  },
  {
   "cell_type": "code",
   "execution_count": null,
   "id": "ef9a4e8e-ac7e-4c63-b2ab-3d5fdbe7159a",
   "metadata": {},
   "outputs": [],
   "source": []
  }
 ],
 "metadata": {
  "kernelspec": {
   "display_name": "Python 3 (ipykernel)",
   "language": "python",
   "name": "python3"
  },
  "language_info": {
   "codemirror_mode": {
    "name": "ipython",
    "version": 3
   },
   "file_extension": ".py",
   "mimetype": "text/x-python",
   "name": "python",
   "nbconvert_exporter": "python",
   "pygments_lexer": "ipython3",
   "version": "3.12.6"
  }
 },
 "nbformat": 4,
 "nbformat_minor": 5
}
