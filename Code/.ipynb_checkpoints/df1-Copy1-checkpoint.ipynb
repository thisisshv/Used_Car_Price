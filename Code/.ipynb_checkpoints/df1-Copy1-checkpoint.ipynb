{
 "cells": [
  {
   "cell_type": "markdown",
   "id": "c9e11a33-24b6-4097-adc1-7cd6cf87c3bb",
   "metadata": {},
   "source": [
    "# Dataset 1 Cleaning"
   ]
  },
  {
   "cell_type": "markdown",
   "id": "283ba2d4-5b2a-48d1-9d7c-ab9902591be7",
   "metadata": {},
   "source": [
    "### Importing required libraries"
   ]
  },
  {
   "cell_type": "code",
   "execution_count": 649,
   "id": "0e31f764-f21f-43e4-86dd-6523b45aa928",
   "metadata": {},
   "outputs": [],
   "source": [
    "import numpy as np\n",
    "import pandas as pd\n",
    "import matplotlib.pyplot as plt\n",
    "import seaborn as sns\n",
    "import warnings\n",
    "warnings.filterwarnings(\"ignore\")"
   ]
  },
  {
   "cell_type": "markdown",
   "id": "968315cd-8d1a-4159-b286-ad75d644b121",
   "metadata": {},
   "source": [
    "### Loading data"
   ]
  },
  {
   "cell_type": "code",
   "execution_count": 650,
   "id": "6f9293b0-429e-49e3-8106-f41a3818b3e6",
   "metadata": {},
   "outputs": [
    {
     "data": {
      "text/html": [
       "<div>\n",
       "<style scoped>\n",
       "    .dataframe tbody tr th:only-of-type {\n",
       "        vertical-align: middle;\n",
       "    }\n",
       "\n",
       "    .dataframe tbody tr th {\n",
       "        vertical-align: top;\n",
       "    }\n",
       "\n",
       "    .dataframe thead th {\n",
       "        text-align: right;\n",
       "    }\n",
       "</style>\n",
       "<table border=\"1\" class=\"dataframe\">\n",
       "  <thead>\n",
       "    <tr style=\"text-align: right;\">\n",
       "      <th></th>\n",
       "      <th>Brand</th>\n",
       "      <th>model</th>\n",
       "      <th>Year</th>\n",
       "      <th>Age</th>\n",
       "      <th>kmDriven</th>\n",
       "      <th>Transmission</th>\n",
       "      <th>Owner</th>\n",
       "      <th>FuelType</th>\n",
       "      <th>PostedDate</th>\n",
       "      <th>AdditionInfo</th>\n",
       "      <th>AskPrice</th>\n",
       "    </tr>\n",
       "  </thead>\n",
       "  <tbody>\n",
       "    <tr>\n",
       "      <th>0</th>\n",
       "      <td>Honda</td>\n",
       "      <td>City</td>\n",
       "      <td>2001</td>\n",
       "      <td>23</td>\n",
       "      <td>98,000 km</td>\n",
       "      <td>Manual</td>\n",
       "      <td>second</td>\n",
       "      <td>Petrol</td>\n",
       "      <td>Nov-24</td>\n",
       "      <td>Honda City v teck in mint condition, valid gen...</td>\n",
       "      <td>₹ 1,95,000</td>\n",
       "    </tr>\n",
       "    <tr>\n",
       "      <th>1</th>\n",
       "      <td>Toyota</td>\n",
       "      <td>Innova</td>\n",
       "      <td>2009</td>\n",
       "      <td>15</td>\n",
       "      <td>190000.0 km</td>\n",
       "      <td>Manual</td>\n",
       "      <td>second</td>\n",
       "      <td>Diesel</td>\n",
       "      <td>Jul-24</td>\n",
       "      <td>Toyota Innova 2.5 G (Diesel) 7 Seater, 2009, D...</td>\n",
       "      <td>₹ 3,75,000</td>\n",
       "    </tr>\n",
       "    <tr>\n",
       "      <th>2</th>\n",
       "      <td>Volkswagen</td>\n",
       "      <td>VentoTest</td>\n",
       "      <td>2010</td>\n",
       "      <td>14</td>\n",
       "      <td>77,246 km</td>\n",
       "      <td>Manual</td>\n",
       "      <td>first</td>\n",
       "      <td>Diesel</td>\n",
       "      <td>Nov-24</td>\n",
       "      <td>Volkswagen Vento 2010-2013 Diesel Breeze, 2010...</td>\n",
       "      <td>₹ 1,84,999</td>\n",
       "    </tr>\n",
       "    <tr>\n",
       "      <th>3</th>\n",
       "      <td>Maruti Suzuki</td>\n",
       "      <td>Swift</td>\n",
       "      <td>2017</td>\n",
       "      <td>7</td>\n",
       "      <td>83,500 km</td>\n",
       "      <td>Manual</td>\n",
       "      <td>second</td>\n",
       "      <td>Diesel</td>\n",
       "      <td>Nov-24</td>\n",
       "      <td>Maruti Suzuki Swift 2017 Diesel Good Condition</td>\n",
       "      <td>₹ 5,65,000</td>\n",
       "    </tr>\n",
       "    <tr>\n",
       "      <th>4</th>\n",
       "      <td>Maruti Suzuki</td>\n",
       "      <td>Baleno</td>\n",
       "      <td>2019</td>\n",
       "      <td>5</td>\n",
       "      <td>45,000 km</td>\n",
       "      <td>Automatic</td>\n",
       "      <td>first</td>\n",
       "      <td>Petrol</td>\n",
       "      <td>Nov-24</td>\n",
       "      <td>Maruti Suzuki Baleno Alpha CVT, 2019, Petrol</td>\n",
       "      <td>₹ 6,85,000</td>\n",
       "    </tr>\n",
       "    <tr>\n",
       "      <th>...</th>\n",
       "      <td>...</td>\n",
       "      <td>...</td>\n",
       "      <td>...</td>\n",
       "      <td>...</td>\n",
       "      <td>...</td>\n",
       "      <td>...</td>\n",
       "      <td>...</td>\n",
       "      <td>...</td>\n",
       "      <td>...</td>\n",
       "      <td>...</td>\n",
       "      <td>...</td>\n",
       "    </tr>\n",
       "    <tr>\n",
       "      <th>9577</th>\n",
       "      <td>Skoda</td>\n",
       "      <td>Octavia</td>\n",
       "      <td>2014</td>\n",
       "      <td>10</td>\n",
       "      <td>105,904 km</td>\n",
       "      <td>Automatic</td>\n",
       "      <td>second</td>\n",
       "      <td>Diesel</td>\n",
       "      <td>Oct-24</td>\n",
       "      <td>Skoda Octavia 1.9 Elegance TDI, 2014, Diesel</td>\n",
       "      <td>₹ 10,40,000</td>\n",
       "    </tr>\n",
       "    <tr>\n",
       "      <th>9578</th>\n",
       "      <td>Maruti Suzuki</td>\n",
       "      <td>Alto-800</td>\n",
       "      <td>2020</td>\n",
       "      <td>4</td>\n",
       "      <td>55,000 km</td>\n",
       "      <td>Manual</td>\n",
       "      <td>first</td>\n",
       "      <td>Hybrid/CNG</td>\n",
       "      <td>Nov-24</td>\n",
       "      <td>Maruti Suzuki Alto 800 CNG LXI Optional, 2020,...</td>\n",
       "      <td>₹ 3,75,000</td>\n",
       "    </tr>\n",
       "    <tr>\n",
       "      <th>9579</th>\n",
       "      <td>Maruti Suzuki</td>\n",
       "      <td>Ritz</td>\n",
       "      <td>2013</td>\n",
       "      <td>11</td>\n",
       "      <td>92,000 km</td>\n",
       "      <td>Manual</td>\n",
       "      <td>first</td>\n",
       "      <td>Diesel</td>\n",
       "      <td>Nov-24</td>\n",
       "      <td>Maruti Suzuki Ritz VDi, 2013, Diesel</td>\n",
       "      <td>₹ 4,15,000</td>\n",
       "    </tr>\n",
       "    <tr>\n",
       "      <th>9580</th>\n",
       "      <td>Hyundai</td>\n",
       "      <td>Verna</td>\n",
       "      <td>2019</td>\n",
       "      <td>5</td>\n",
       "      <td>72,000 km</td>\n",
       "      <td>Automatic</td>\n",
       "      <td>first</td>\n",
       "      <td>Petrol</td>\n",
       "      <td>Oct-24</td>\n",
       "      <td>Hyundai Verna VTVT 1.6 AT SX Option, 2019, Petrol</td>\n",
       "      <td>₹ 8,55,000</td>\n",
       "    </tr>\n",
       "    <tr>\n",
       "      <th>9581</th>\n",
       "      <td>Hyundai</td>\n",
       "      <td>New i20</td>\n",
       "      <td>2021</td>\n",
       "      <td>3</td>\n",
       "      <td>83,228 km</td>\n",
       "      <td>Manual</td>\n",
       "      <td>second</td>\n",
       "      <td>Petrol</td>\n",
       "      <td>Nov-24</td>\n",
       "      <td>Hyundai New i20 1.2 Asta IVT, 2021, Petrol</td>\n",
       "      <td>₹ 6,99,000</td>\n",
       "    </tr>\n",
       "  </tbody>\n",
       "</table>\n",
       "<p>9582 rows × 11 columns</p>\n",
       "</div>"
      ],
      "text/plain": [
       "              Brand      model  Year  Age     kmDriven Transmission   Owner  \\\n",
       "0             Honda       City  2001   23    98,000 km       Manual  second   \n",
       "1            Toyota     Innova  2009   15  190000.0 km       Manual  second   \n",
       "2        Volkswagen  VentoTest  2010   14    77,246 km       Manual   first   \n",
       "3     Maruti Suzuki      Swift  2017    7    83,500 km       Manual  second   \n",
       "4     Maruti Suzuki     Baleno  2019    5    45,000 km    Automatic   first   \n",
       "...             ...        ...   ...  ...          ...          ...     ...   \n",
       "9577          Skoda    Octavia  2014   10   105,904 km    Automatic  second   \n",
       "9578  Maruti Suzuki   Alto-800  2020    4    55,000 km       Manual   first   \n",
       "9579  Maruti Suzuki       Ritz  2013   11    92,000 km       Manual   first   \n",
       "9580        Hyundai      Verna  2019    5    72,000 km    Automatic   first   \n",
       "9581        Hyundai    New i20  2021    3    83,228 km       Manual  second   \n",
       "\n",
       "        FuelType PostedDate  \\\n",
       "0         Petrol     Nov-24   \n",
       "1         Diesel     Jul-24   \n",
       "2         Diesel     Nov-24   \n",
       "3         Diesel     Nov-24   \n",
       "4         Petrol     Nov-24   \n",
       "...          ...        ...   \n",
       "9577      Diesel     Oct-24   \n",
       "9578  Hybrid/CNG     Nov-24   \n",
       "9579      Diesel     Nov-24   \n",
       "9580      Petrol     Oct-24   \n",
       "9581      Petrol     Nov-24   \n",
       "\n",
       "                                           AdditionInfo     AskPrice  \n",
       "0     Honda City v teck in mint condition, valid gen...   ₹ 1,95,000  \n",
       "1     Toyota Innova 2.5 G (Diesel) 7 Seater, 2009, D...   ₹ 3,75,000  \n",
       "2     Volkswagen Vento 2010-2013 Diesel Breeze, 2010...   ₹ 1,84,999  \n",
       "3        Maruti Suzuki Swift 2017 Diesel Good Condition   ₹ 5,65,000  \n",
       "4          Maruti Suzuki Baleno Alpha CVT, 2019, Petrol   ₹ 6,85,000  \n",
       "...                                                 ...          ...  \n",
       "9577       Skoda Octavia 1.9 Elegance TDI, 2014, Diesel  ₹ 10,40,000  \n",
       "9578  Maruti Suzuki Alto 800 CNG LXI Optional, 2020,...   ₹ 3,75,000  \n",
       "9579               Maruti Suzuki Ritz VDi, 2013, Diesel   ₹ 4,15,000  \n",
       "9580  Hyundai Verna VTVT 1.6 AT SX Option, 2019, Petrol   ₹ 8,55,000  \n",
       "9581         Hyundai New i20 1.2 Asta IVT, 2021, Petrol   ₹ 6,99,000  \n",
       "\n",
       "[9582 rows x 11 columns]"
      ]
     },
     "execution_count": 650,
     "metadata": {},
     "output_type": "execute_result"
    }
   ],
   "source": [
    "df = pd.read_csv(\"D:/Code/Projects/Used_Car_Price/Dataset/used_car_dataset.csv\")\n",
    "df"
   ]
  },
  {
   "cell_type": "markdown",
   "id": "726e3a6f-c313-47ef-8f7b-3134d767fd7d",
   "metadata": {},
   "source": [
    "### EDA"
   ]
  },
  {
   "cell_type": "code",
   "execution_count": 651,
   "id": "be9ed403-b331-40ce-a35b-b50385b94e2f",
   "metadata": {},
   "outputs": [
    {
     "name": "stdout",
     "output_type": "stream",
     "text": [
      "<class 'pandas.core.frame.DataFrame'>\n",
      "RangeIndex: 9582 entries, 0 to 9581\n",
      "Data columns (total 11 columns):\n",
      " #   Column        Non-Null Count  Dtype \n",
      "---  ------        --------------  ----- \n",
      " 0   Brand         9582 non-null   object\n",
      " 1   model         9582 non-null   object\n",
      " 2   Year          9582 non-null   int64 \n",
      " 3   Age           9582 non-null   int64 \n",
      " 4   kmDriven      9535 non-null   object\n",
      " 5   Transmission  9582 non-null   object\n",
      " 6   Owner         9582 non-null   object\n",
      " 7   FuelType      9582 non-null   object\n",
      " 8   PostedDate    9582 non-null   object\n",
      " 9   AdditionInfo  9582 non-null   object\n",
      " 10  AskPrice      9582 non-null   object\n",
      "dtypes: int64(2), object(9)\n",
      "memory usage: 823.6+ KB\n"
     ]
    }
   ],
   "source": [
    "df.info()"
   ]
  },
  {
   "cell_type": "code",
   "execution_count": 652,
   "id": "1dbb097c-497e-43c4-ac35-6d5451450c7e",
   "metadata": {},
   "outputs": [
    {
     "data": {
      "text/html": [
       "<div>\n",
       "<style scoped>\n",
       "    .dataframe tbody tr th:only-of-type {\n",
       "        vertical-align: middle;\n",
       "    }\n",
       "\n",
       "    .dataframe tbody tr th {\n",
       "        vertical-align: top;\n",
       "    }\n",
       "\n",
       "    .dataframe thead th {\n",
       "        text-align: right;\n",
       "    }\n",
       "</style>\n",
       "<table border=\"1\" class=\"dataframe\">\n",
       "  <thead>\n",
       "    <tr style=\"text-align: right;\">\n",
       "      <th></th>\n",
       "      <th>Year</th>\n",
       "      <th>Age</th>\n",
       "    </tr>\n",
       "  </thead>\n",
       "  <tbody>\n",
       "    <tr>\n",
       "      <th>count</th>\n",
       "      <td>9582.000000</td>\n",
       "      <td>9582.000000</td>\n",
       "    </tr>\n",
       "    <tr>\n",
       "      <th>mean</th>\n",
       "      <td>2016.361094</td>\n",
       "      <td>7.638906</td>\n",
       "    </tr>\n",
       "    <tr>\n",
       "      <th>std</th>\n",
       "      <td>4.087226</td>\n",
       "      <td>4.087226</td>\n",
       "    </tr>\n",
       "    <tr>\n",
       "      <th>min</th>\n",
       "      <td>1986.000000</td>\n",
       "      <td>0.000000</td>\n",
       "    </tr>\n",
       "    <tr>\n",
       "      <th>25%</th>\n",
       "      <td>2014.000000</td>\n",
       "      <td>5.000000</td>\n",
       "    </tr>\n",
       "    <tr>\n",
       "      <th>50%</th>\n",
       "      <td>2017.000000</td>\n",
       "      <td>7.000000</td>\n",
       "    </tr>\n",
       "    <tr>\n",
       "      <th>75%</th>\n",
       "      <td>2019.000000</td>\n",
       "      <td>10.000000</td>\n",
       "    </tr>\n",
       "    <tr>\n",
       "      <th>max</th>\n",
       "      <td>2024.000000</td>\n",
       "      <td>38.000000</td>\n",
       "    </tr>\n",
       "  </tbody>\n",
       "</table>\n",
       "</div>"
      ],
      "text/plain": [
       "              Year          Age\n",
       "count  9582.000000  9582.000000\n",
       "mean   2016.361094     7.638906\n",
       "std       4.087226     4.087226\n",
       "min    1986.000000     0.000000\n",
       "25%    2014.000000     5.000000\n",
       "50%    2017.000000     7.000000\n",
       "75%    2019.000000    10.000000\n",
       "max    2024.000000    38.000000"
      ]
     },
     "execution_count": 652,
     "metadata": {},
     "output_type": "execute_result"
    }
   ],
   "source": [
    "df.describe()"
   ]
  },
  {
   "cell_type": "code",
   "execution_count": 653,
   "id": "b33e7db8-9b20-4144-84c7-990e6bc252b1",
   "metadata": {},
   "outputs": [
    {
     "data": {
      "text/html": [
       "<div>\n",
       "<style scoped>\n",
       "    .dataframe tbody tr th:only-of-type {\n",
       "        vertical-align: middle;\n",
       "    }\n",
       "\n",
       "    .dataframe tbody tr th {\n",
       "        vertical-align: top;\n",
       "    }\n",
       "\n",
       "    .dataframe thead th {\n",
       "        text-align: right;\n",
       "    }\n",
       "</style>\n",
       "<table border=\"1\" class=\"dataframe\">\n",
       "  <thead>\n",
       "    <tr style=\"text-align: right;\">\n",
       "      <th></th>\n",
       "      <th>Brand</th>\n",
       "      <th>model</th>\n",
       "      <th>Year</th>\n",
       "      <th>Age</th>\n",
       "      <th>kmDriven</th>\n",
       "      <th>Transmission</th>\n",
       "      <th>Owner</th>\n",
       "      <th>FuelType</th>\n",
       "      <th>PostedDate</th>\n",
       "      <th>AdditionInfo</th>\n",
       "      <th>AskPrice</th>\n",
       "    </tr>\n",
       "  </thead>\n",
       "  <tbody>\n",
       "    <tr>\n",
       "      <th>0</th>\n",
       "      <td>Honda</td>\n",
       "      <td>City</td>\n",
       "      <td>2001</td>\n",
       "      <td>23</td>\n",
       "      <td>98,000 km</td>\n",
       "      <td>Manual</td>\n",
       "      <td>second</td>\n",
       "      <td>Petrol</td>\n",
       "      <td>Nov-24</td>\n",
       "      <td>Honda City v teck in mint condition, valid gen...</td>\n",
       "      <td>₹ 1,95,000</td>\n",
       "    </tr>\n",
       "    <tr>\n",
       "      <th>1</th>\n",
       "      <td>Toyota</td>\n",
       "      <td>Innova</td>\n",
       "      <td>2009</td>\n",
       "      <td>15</td>\n",
       "      <td>190000.0 km</td>\n",
       "      <td>Manual</td>\n",
       "      <td>second</td>\n",
       "      <td>Diesel</td>\n",
       "      <td>Jul-24</td>\n",
       "      <td>Toyota Innova 2.5 G (Diesel) 7 Seater, 2009, D...</td>\n",
       "      <td>₹ 3,75,000</td>\n",
       "    </tr>\n",
       "    <tr>\n",
       "      <th>2</th>\n",
       "      <td>Volkswagen</td>\n",
       "      <td>VentoTest</td>\n",
       "      <td>2010</td>\n",
       "      <td>14</td>\n",
       "      <td>77,246 km</td>\n",
       "      <td>Manual</td>\n",
       "      <td>first</td>\n",
       "      <td>Diesel</td>\n",
       "      <td>Nov-24</td>\n",
       "      <td>Volkswagen Vento 2010-2013 Diesel Breeze, 2010...</td>\n",
       "      <td>₹ 1,84,999</td>\n",
       "    </tr>\n",
       "    <tr>\n",
       "      <th>3</th>\n",
       "      <td>Maruti Suzuki</td>\n",
       "      <td>Swift</td>\n",
       "      <td>2017</td>\n",
       "      <td>7</td>\n",
       "      <td>83,500 km</td>\n",
       "      <td>Manual</td>\n",
       "      <td>second</td>\n",
       "      <td>Diesel</td>\n",
       "      <td>Nov-24</td>\n",
       "      <td>Maruti Suzuki Swift 2017 Diesel Good Condition</td>\n",
       "      <td>₹ 5,65,000</td>\n",
       "    </tr>\n",
       "    <tr>\n",
       "      <th>4</th>\n",
       "      <td>Maruti Suzuki</td>\n",
       "      <td>Baleno</td>\n",
       "      <td>2019</td>\n",
       "      <td>5</td>\n",
       "      <td>45,000 km</td>\n",
       "      <td>Automatic</td>\n",
       "      <td>first</td>\n",
       "      <td>Petrol</td>\n",
       "      <td>Nov-24</td>\n",
       "      <td>Maruti Suzuki Baleno Alpha CVT, 2019, Petrol</td>\n",
       "      <td>₹ 6,85,000</td>\n",
       "    </tr>\n",
       "    <tr>\n",
       "      <th>...</th>\n",
       "      <td>...</td>\n",
       "      <td>...</td>\n",
       "      <td>...</td>\n",
       "      <td>...</td>\n",
       "      <td>...</td>\n",
       "      <td>...</td>\n",
       "      <td>...</td>\n",
       "      <td>...</td>\n",
       "      <td>...</td>\n",
       "      <td>...</td>\n",
       "      <td>...</td>\n",
       "    </tr>\n",
       "    <tr>\n",
       "      <th>9577</th>\n",
       "      <td>Skoda</td>\n",
       "      <td>Octavia</td>\n",
       "      <td>2014</td>\n",
       "      <td>10</td>\n",
       "      <td>105,904 km</td>\n",
       "      <td>Automatic</td>\n",
       "      <td>second</td>\n",
       "      <td>Diesel</td>\n",
       "      <td>Oct-24</td>\n",
       "      <td>Skoda Octavia 1.9 Elegance TDI, 2014, Diesel</td>\n",
       "      <td>₹ 10,40,000</td>\n",
       "    </tr>\n",
       "    <tr>\n",
       "      <th>9578</th>\n",
       "      <td>Maruti Suzuki</td>\n",
       "      <td>Alto-800</td>\n",
       "      <td>2020</td>\n",
       "      <td>4</td>\n",
       "      <td>55,000 km</td>\n",
       "      <td>Manual</td>\n",
       "      <td>first</td>\n",
       "      <td>Hybrid/CNG</td>\n",
       "      <td>Nov-24</td>\n",
       "      <td>Maruti Suzuki Alto 800 CNG LXI Optional, 2020,...</td>\n",
       "      <td>₹ 3,75,000</td>\n",
       "    </tr>\n",
       "    <tr>\n",
       "      <th>9579</th>\n",
       "      <td>Maruti Suzuki</td>\n",
       "      <td>Ritz</td>\n",
       "      <td>2013</td>\n",
       "      <td>11</td>\n",
       "      <td>92,000 km</td>\n",
       "      <td>Manual</td>\n",
       "      <td>first</td>\n",
       "      <td>Diesel</td>\n",
       "      <td>Nov-24</td>\n",
       "      <td>Maruti Suzuki Ritz VDi, 2013, Diesel</td>\n",
       "      <td>₹ 4,15,000</td>\n",
       "    </tr>\n",
       "    <tr>\n",
       "      <th>9580</th>\n",
       "      <td>Hyundai</td>\n",
       "      <td>Verna</td>\n",
       "      <td>2019</td>\n",
       "      <td>5</td>\n",
       "      <td>72,000 km</td>\n",
       "      <td>Automatic</td>\n",
       "      <td>first</td>\n",
       "      <td>Petrol</td>\n",
       "      <td>Oct-24</td>\n",
       "      <td>Hyundai Verna VTVT 1.6 AT SX Option, 2019, Petrol</td>\n",
       "      <td>₹ 8,55,000</td>\n",
       "    </tr>\n",
       "    <tr>\n",
       "      <th>9581</th>\n",
       "      <td>Hyundai</td>\n",
       "      <td>New i20</td>\n",
       "      <td>2021</td>\n",
       "      <td>3</td>\n",
       "      <td>83,228 km</td>\n",
       "      <td>Manual</td>\n",
       "      <td>second</td>\n",
       "      <td>Petrol</td>\n",
       "      <td>Nov-24</td>\n",
       "      <td>Hyundai New i20 1.2 Asta IVT, 2021, Petrol</td>\n",
       "      <td>₹ 6,99,000</td>\n",
       "    </tr>\n",
       "  </tbody>\n",
       "</table>\n",
       "<p>9535 rows × 11 columns</p>\n",
       "</div>"
      ],
      "text/plain": [
       "              Brand      model  Year  Age     kmDriven Transmission   Owner  \\\n",
       "0             Honda       City  2001   23    98,000 km       Manual  second   \n",
       "1            Toyota     Innova  2009   15  190000.0 km       Manual  second   \n",
       "2        Volkswagen  VentoTest  2010   14    77,246 km       Manual   first   \n",
       "3     Maruti Suzuki      Swift  2017    7    83,500 km       Manual  second   \n",
       "4     Maruti Suzuki     Baleno  2019    5    45,000 km    Automatic   first   \n",
       "...             ...        ...   ...  ...          ...          ...     ...   \n",
       "9577          Skoda    Octavia  2014   10   105,904 km    Automatic  second   \n",
       "9578  Maruti Suzuki   Alto-800  2020    4    55,000 km       Manual   first   \n",
       "9579  Maruti Suzuki       Ritz  2013   11    92,000 km       Manual   first   \n",
       "9580        Hyundai      Verna  2019    5    72,000 km    Automatic   first   \n",
       "9581        Hyundai    New i20  2021    3    83,228 km       Manual  second   \n",
       "\n",
       "        FuelType PostedDate  \\\n",
       "0         Petrol     Nov-24   \n",
       "1         Diesel     Jul-24   \n",
       "2         Diesel     Nov-24   \n",
       "3         Diesel     Nov-24   \n",
       "4         Petrol     Nov-24   \n",
       "...          ...        ...   \n",
       "9577      Diesel     Oct-24   \n",
       "9578  Hybrid/CNG     Nov-24   \n",
       "9579      Diesel     Nov-24   \n",
       "9580      Petrol     Oct-24   \n",
       "9581      Petrol     Nov-24   \n",
       "\n",
       "                                           AdditionInfo     AskPrice  \n",
       "0     Honda City v teck in mint condition, valid gen...   ₹ 1,95,000  \n",
       "1     Toyota Innova 2.5 G (Diesel) 7 Seater, 2009, D...   ₹ 3,75,000  \n",
       "2     Volkswagen Vento 2010-2013 Diesel Breeze, 2010...   ₹ 1,84,999  \n",
       "3        Maruti Suzuki Swift 2017 Diesel Good Condition   ₹ 5,65,000  \n",
       "4          Maruti Suzuki Baleno Alpha CVT, 2019, Petrol   ₹ 6,85,000  \n",
       "...                                                 ...          ...  \n",
       "9577       Skoda Octavia 1.9 Elegance TDI, 2014, Diesel  ₹ 10,40,000  \n",
       "9578  Maruti Suzuki Alto 800 CNG LXI Optional, 2020,...   ₹ 3,75,000  \n",
       "9579               Maruti Suzuki Ritz VDi, 2013, Diesel   ₹ 4,15,000  \n",
       "9580  Hyundai Verna VTVT 1.6 AT SX Option, 2019, Petrol   ₹ 8,55,000  \n",
       "9581         Hyundai New i20 1.2 Asta IVT, 2021, Petrol   ₹ 6,99,000  \n",
       "\n",
       "[9535 rows x 11 columns]"
      ]
     },
     "execution_count": 653,
     "metadata": {},
     "output_type": "execute_result"
    }
   ],
   "source": [
    "# Dropping rows with null value\n",
    "\n",
    "df = df.dropna(axis=0)\n",
    "df"
   ]
  },
  {
   "cell_type": "code",
   "execution_count": 654,
   "id": "7a77fa38-8678-459b-ba6d-68a918b282ed",
   "metadata": {},
   "outputs": [
    {
     "data": {
      "text/plain": [
       "Brand           0\n",
       "model           0\n",
       "Year            0\n",
       "Age             0\n",
       "kmDriven        0\n",
       "Transmission    0\n",
       "Owner           0\n",
       "FuelType        0\n",
       "PostedDate      0\n",
       "AdditionInfo    0\n",
       "AskPrice        0\n",
       "dtype: int64"
      ]
     },
     "execution_count": 654,
     "metadata": {},
     "output_type": "execute_result"
    }
   ],
   "source": [
    "df.isna().sum()"
   ]
  },
  {
   "cell_type": "code",
   "execution_count": 655,
   "id": "af9413f7-783d-4e54-b21b-ab11be36a25e",
   "metadata": {},
   "outputs": [
    {
     "name": "stdout",
     "output_type": "stream",
     "text": [
      "<class 'pandas.core.frame.DataFrame'>\n",
      "Index: 9535 entries, 0 to 9581\n",
      "Data columns (total 11 columns):\n",
      " #   Column        Non-Null Count  Dtype \n",
      "---  ------        --------------  ----- \n",
      " 0   Brand         9535 non-null   object\n",
      " 1   model         9535 non-null   object\n",
      " 2   Year          9535 non-null   int64 \n",
      " 3   Age           9535 non-null   int64 \n",
      " 4   kmDriven      9535 non-null   object\n",
      " 5   Transmission  9535 non-null   object\n",
      " 6   Owner         9535 non-null   object\n",
      " 7   FuelType      9535 non-null   object\n",
      " 8   PostedDate    9535 non-null   object\n",
      " 9   AdditionInfo  9535 non-null   object\n",
      " 10  AskPrice      9535 non-null   object\n",
      "dtypes: int64(2), object(9)\n",
      "memory usage: 893.9+ KB\n"
     ]
    }
   ],
   "source": [
    "df.info()"
   ]
  },
  {
   "cell_type": "code",
   "execution_count": 656,
   "id": "97febf2d-97ee-45e8-969b-6e9cd63d7a9b",
   "metadata": {},
   "outputs": [],
   "source": [
    "# Removing ₹ sign\n",
    "df['AskPrice'] = df['AskPrice'].str.replace('₹', '', regex=False)\n",
    "# Removing commas\n",
    "df['AskPrice'] = df['AskPrice'].str.replace(',', '', regex=False)\n",
    "# Convert to float\n",
    "df['AskPrice'] = df['AskPrice'].astype(float)"
   ]
  },
  {
   "cell_type": "code",
   "execution_count": 657,
   "id": "7f7d652c-c421-4235-ab75-571cbfd0793c",
   "metadata": {},
   "outputs": [],
   "source": [
    "# Removing km\n",
    "df['kmDriven'] = df['kmDriven'].str.replace('km', '', regex=False)\n",
    "# Removing commas\n",
    "df['kmDriven'] = df['kmDriven'].str.replace(',', '', regex=False)\n",
    "# Comvert to int\n",
    "df['kmDriven'] = df['kmDriven'].astype(float)"
   ]
  },
  {
   "cell_type": "code",
   "execution_count": 658,
   "id": "bfd9855e-d96d-4d41-84e3-8fdf1ce87c7c",
   "metadata": {},
   "outputs": [
    {
     "data": {
      "text/html": [
       "<div>\n",
       "<style scoped>\n",
       "    .dataframe tbody tr th:only-of-type {\n",
       "        vertical-align: middle;\n",
       "    }\n",
       "\n",
       "    .dataframe tbody tr th {\n",
       "        vertical-align: top;\n",
       "    }\n",
       "\n",
       "    .dataframe thead th {\n",
       "        text-align: right;\n",
       "    }\n",
       "</style>\n",
       "<table border=\"1\" class=\"dataframe\">\n",
       "  <thead>\n",
       "    <tr style=\"text-align: right;\">\n",
       "      <th></th>\n",
       "      <th>Brand</th>\n",
       "      <th>model</th>\n",
       "      <th>Year</th>\n",
       "      <th>Age</th>\n",
       "      <th>kmDriven</th>\n",
       "      <th>Transmission</th>\n",
       "      <th>Owner</th>\n",
       "      <th>FuelType</th>\n",
       "      <th>PostedDate</th>\n",
       "      <th>AdditionInfo</th>\n",
       "      <th>AskPrice</th>\n",
       "    </tr>\n",
       "  </thead>\n",
       "  <tbody>\n",
       "    <tr>\n",
       "      <th>0</th>\n",
       "      <td>Honda</td>\n",
       "      <td>City</td>\n",
       "      <td>2001</td>\n",
       "      <td>276</td>\n",
       "      <td>98000.0</td>\n",
       "      <td>Manual</td>\n",
       "      <td>second</td>\n",
       "      <td>Petrol</td>\n",
       "      <td>Nov-24</td>\n",
       "      <td>Honda City v teck in mint condition, valid gen...</td>\n",
       "      <td>195000.0</td>\n",
       "    </tr>\n",
       "    <tr>\n",
       "      <th>1</th>\n",
       "      <td>Toyota</td>\n",
       "      <td>Innova</td>\n",
       "      <td>2009</td>\n",
       "      <td>180</td>\n",
       "      <td>190000.0</td>\n",
       "      <td>Manual</td>\n",
       "      <td>second</td>\n",
       "      <td>Diesel</td>\n",
       "      <td>Jul-24</td>\n",
       "      <td>Toyota Innova 2.5 G (Diesel) 7 Seater, 2009, D...</td>\n",
       "      <td>375000.0</td>\n",
       "    </tr>\n",
       "    <tr>\n",
       "      <th>2</th>\n",
       "      <td>Volkswagen</td>\n",
       "      <td>VentoTest</td>\n",
       "      <td>2010</td>\n",
       "      <td>168</td>\n",
       "      <td>77246.0</td>\n",
       "      <td>Manual</td>\n",
       "      <td>first</td>\n",
       "      <td>Diesel</td>\n",
       "      <td>Nov-24</td>\n",
       "      <td>Volkswagen Vento 2010-2013 Diesel Breeze, 2010...</td>\n",
       "      <td>184999.0</td>\n",
       "    </tr>\n",
       "    <tr>\n",
       "      <th>3</th>\n",
       "      <td>Maruti Suzuki</td>\n",
       "      <td>Swift</td>\n",
       "      <td>2017</td>\n",
       "      <td>84</td>\n",
       "      <td>83500.0</td>\n",
       "      <td>Manual</td>\n",
       "      <td>second</td>\n",
       "      <td>Diesel</td>\n",
       "      <td>Nov-24</td>\n",
       "      <td>Maruti Suzuki Swift 2017 Diesel Good Condition</td>\n",
       "      <td>565000.0</td>\n",
       "    </tr>\n",
       "    <tr>\n",
       "      <th>4</th>\n",
       "      <td>Maruti Suzuki</td>\n",
       "      <td>Baleno</td>\n",
       "      <td>2019</td>\n",
       "      <td>60</td>\n",
       "      <td>45000.0</td>\n",
       "      <td>Automatic</td>\n",
       "      <td>first</td>\n",
       "      <td>Petrol</td>\n",
       "      <td>Nov-24</td>\n",
       "      <td>Maruti Suzuki Baleno Alpha CVT, 2019, Petrol</td>\n",
       "      <td>685000.0</td>\n",
       "    </tr>\n",
       "    <tr>\n",
       "      <th>...</th>\n",
       "      <td>...</td>\n",
       "      <td>...</td>\n",
       "      <td>...</td>\n",
       "      <td>...</td>\n",
       "      <td>...</td>\n",
       "      <td>...</td>\n",
       "      <td>...</td>\n",
       "      <td>...</td>\n",
       "      <td>...</td>\n",
       "      <td>...</td>\n",
       "      <td>...</td>\n",
       "    </tr>\n",
       "    <tr>\n",
       "      <th>9577</th>\n",
       "      <td>Skoda</td>\n",
       "      <td>Octavia</td>\n",
       "      <td>2014</td>\n",
       "      <td>120</td>\n",
       "      <td>105904.0</td>\n",
       "      <td>Automatic</td>\n",
       "      <td>second</td>\n",
       "      <td>Diesel</td>\n",
       "      <td>Oct-24</td>\n",
       "      <td>Skoda Octavia 1.9 Elegance TDI, 2014, Diesel</td>\n",
       "      <td>1040000.0</td>\n",
       "    </tr>\n",
       "    <tr>\n",
       "      <th>9578</th>\n",
       "      <td>Maruti Suzuki</td>\n",
       "      <td>Alto-800</td>\n",
       "      <td>2020</td>\n",
       "      <td>48</td>\n",
       "      <td>55000.0</td>\n",
       "      <td>Manual</td>\n",
       "      <td>first</td>\n",
       "      <td>Hybrid/CNG</td>\n",
       "      <td>Nov-24</td>\n",
       "      <td>Maruti Suzuki Alto 800 CNG LXI Optional, 2020,...</td>\n",
       "      <td>375000.0</td>\n",
       "    </tr>\n",
       "    <tr>\n",
       "      <th>9579</th>\n",
       "      <td>Maruti Suzuki</td>\n",
       "      <td>Ritz</td>\n",
       "      <td>2013</td>\n",
       "      <td>132</td>\n",
       "      <td>92000.0</td>\n",
       "      <td>Manual</td>\n",
       "      <td>first</td>\n",
       "      <td>Diesel</td>\n",
       "      <td>Nov-24</td>\n",
       "      <td>Maruti Suzuki Ritz VDi, 2013, Diesel</td>\n",
       "      <td>415000.0</td>\n",
       "    </tr>\n",
       "    <tr>\n",
       "      <th>9580</th>\n",
       "      <td>Hyundai</td>\n",
       "      <td>Verna</td>\n",
       "      <td>2019</td>\n",
       "      <td>60</td>\n",
       "      <td>72000.0</td>\n",
       "      <td>Automatic</td>\n",
       "      <td>first</td>\n",
       "      <td>Petrol</td>\n",
       "      <td>Oct-24</td>\n",
       "      <td>Hyundai Verna VTVT 1.6 AT SX Option, 2019, Petrol</td>\n",
       "      <td>855000.0</td>\n",
       "    </tr>\n",
       "    <tr>\n",
       "      <th>9581</th>\n",
       "      <td>Hyundai</td>\n",
       "      <td>New i20</td>\n",
       "      <td>2021</td>\n",
       "      <td>36</td>\n",
       "      <td>83228.0</td>\n",
       "      <td>Manual</td>\n",
       "      <td>second</td>\n",
       "      <td>Petrol</td>\n",
       "      <td>Nov-24</td>\n",
       "      <td>Hyundai New i20 1.2 Asta IVT, 2021, Petrol</td>\n",
       "      <td>699000.0</td>\n",
       "    </tr>\n",
       "  </tbody>\n",
       "</table>\n",
       "<p>9535 rows × 11 columns</p>\n",
       "</div>"
      ],
      "text/plain": [
       "              Brand      model  Year  Age  kmDriven Transmission   Owner  \\\n",
       "0             Honda       City  2001  276   98000.0       Manual  second   \n",
       "1            Toyota     Innova  2009  180  190000.0       Manual  second   \n",
       "2        Volkswagen  VentoTest  2010  168   77246.0       Manual   first   \n",
       "3     Maruti Suzuki      Swift  2017   84   83500.0       Manual  second   \n",
       "4     Maruti Suzuki     Baleno  2019   60   45000.0    Automatic   first   \n",
       "...             ...        ...   ...  ...       ...          ...     ...   \n",
       "9577          Skoda    Octavia  2014  120  105904.0    Automatic  second   \n",
       "9578  Maruti Suzuki   Alto-800  2020   48   55000.0       Manual   first   \n",
       "9579  Maruti Suzuki       Ritz  2013  132   92000.0       Manual   first   \n",
       "9580        Hyundai      Verna  2019   60   72000.0    Automatic   first   \n",
       "9581        Hyundai    New i20  2021   36   83228.0       Manual  second   \n",
       "\n",
       "        FuelType PostedDate  \\\n",
       "0         Petrol     Nov-24   \n",
       "1         Diesel     Jul-24   \n",
       "2         Diesel     Nov-24   \n",
       "3         Diesel     Nov-24   \n",
       "4         Petrol     Nov-24   \n",
       "...          ...        ...   \n",
       "9577      Diesel     Oct-24   \n",
       "9578  Hybrid/CNG     Nov-24   \n",
       "9579      Diesel     Nov-24   \n",
       "9580      Petrol     Oct-24   \n",
       "9581      Petrol     Nov-24   \n",
       "\n",
       "                                           AdditionInfo   AskPrice  \n",
       "0     Honda City v teck in mint condition, valid gen...   195000.0  \n",
       "1     Toyota Innova 2.5 G (Diesel) 7 Seater, 2009, D...   375000.0  \n",
       "2     Volkswagen Vento 2010-2013 Diesel Breeze, 2010...   184999.0  \n",
       "3        Maruti Suzuki Swift 2017 Diesel Good Condition   565000.0  \n",
       "4          Maruti Suzuki Baleno Alpha CVT, 2019, Petrol   685000.0  \n",
       "...                                                 ...        ...  \n",
       "9577       Skoda Octavia 1.9 Elegance TDI, 2014, Diesel  1040000.0  \n",
       "9578  Maruti Suzuki Alto 800 CNG LXI Optional, 2020,...   375000.0  \n",
       "9579               Maruti Suzuki Ritz VDi, 2013, Diesel   415000.0  \n",
       "9580  Hyundai Verna VTVT 1.6 AT SX Option, 2019, Petrol   855000.0  \n",
       "9581         Hyundai New i20 1.2 Asta IVT, 2021, Petrol   699000.0  \n",
       "\n",
       "[9535 rows x 11 columns]"
      ]
     },
     "execution_count": 658,
     "metadata": {},
     "output_type": "execute_result"
    }
   ],
   "source": [
    "# Changing Age from years to month for better accuracy\n",
    "df['Age'] = df['Age']*12\n",
    "df"
   ]
  },
  {
   "cell_type": "code",
   "execution_count": 659,
   "id": "f8e8811b-0353-48f1-8ae5-a9cdb3a2f2a7",
   "metadata": {},
   "outputs": [
    {
     "data": {
      "text/html": [
       "<div>\n",
       "<style scoped>\n",
       "    .dataframe tbody tr th:only-of-type {\n",
       "        vertical-align: middle;\n",
       "    }\n",
       "\n",
       "    .dataframe tbody tr th {\n",
       "        vertical-align: top;\n",
       "    }\n",
       "\n",
       "    .dataframe thead th {\n",
       "        text-align: right;\n",
       "    }\n",
       "</style>\n",
       "<table border=\"1\" class=\"dataframe\">\n",
       "  <thead>\n",
       "    <tr style=\"text-align: right;\">\n",
       "      <th></th>\n",
       "      <th>Brand</th>\n",
       "      <th>model</th>\n",
       "      <th>Age</th>\n",
       "      <th>kmDriven</th>\n",
       "      <th>Transmission</th>\n",
       "      <th>Owner</th>\n",
       "      <th>FuelType</th>\n",
       "      <th>AskPrice</th>\n",
       "    </tr>\n",
       "  </thead>\n",
       "  <tbody>\n",
       "    <tr>\n",
       "      <th>0</th>\n",
       "      <td>Honda</td>\n",
       "      <td>City</td>\n",
       "      <td>276</td>\n",
       "      <td>98000.0</td>\n",
       "      <td>Manual</td>\n",
       "      <td>second</td>\n",
       "      <td>Petrol</td>\n",
       "      <td>195000.0</td>\n",
       "    </tr>\n",
       "    <tr>\n",
       "      <th>1</th>\n",
       "      <td>Toyota</td>\n",
       "      <td>Innova</td>\n",
       "      <td>180</td>\n",
       "      <td>190000.0</td>\n",
       "      <td>Manual</td>\n",
       "      <td>second</td>\n",
       "      <td>Diesel</td>\n",
       "      <td>375000.0</td>\n",
       "    </tr>\n",
       "    <tr>\n",
       "      <th>2</th>\n",
       "      <td>Volkswagen</td>\n",
       "      <td>VentoTest</td>\n",
       "      <td>168</td>\n",
       "      <td>77246.0</td>\n",
       "      <td>Manual</td>\n",
       "      <td>first</td>\n",
       "      <td>Diesel</td>\n",
       "      <td>184999.0</td>\n",
       "    </tr>\n",
       "    <tr>\n",
       "      <th>3</th>\n",
       "      <td>Maruti Suzuki</td>\n",
       "      <td>Swift</td>\n",
       "      <td>84</td>\n",
       "      <td>83500.0</td>\n",
       "      <td>Manual</td>\n",
       "      <td>second</td>\n",
       "      <td>Diesel</td>\n",
       "      <td>565000.0</td>\n",
       "    </tr>\n",
       "    <tr>\n",
       "      <th>4</th>\n",
       "      <td>Maruti Suzuki</td>\n",
       "      <td>Baleno</td>\n",
       "      <td>60</td>\n",
       "      <td>45000.0</td>\n",
       "      <td>Automatic</td>\n",
       "      <td>first</td>\n",
       "      <td>Petrol</td>\n",
       "      <td>685000.0</td>\n",
       "    </tr>\n",
       "    <tr>\n",
       "      <th>...</th>\n",
       "      <td>...</td>\n",
       "      <td>...</td>\n",
       "      <td>...</td>\n",
       "      <td>...</td>\n",
       "      <td>...</td>\n",
       "      <td>...</td>\n",
       "      <td>...</td>\n",
       "      <td>...</td>\n",
       "    </tr>\n",
       "    <tr>\n",
       "      <th>9577</th>\n",
       "      <td>Skoda</td>\n",
       "      <td>Octavia</td>\n",
       "      <td>120</td>\n",
       "      <td>105904.0</td>\n",
       "      <td>Automatic</td>\n",
       "      <td>second</td>\n",
       "      <td>Diesel</td>\n",
       "      <td>1040000.0</td>\n",
       "    </tr>\n",
       "    <tr>\n",
       "      <th>9578</th>\n",
       "      <td>Maruti Suzuki</td>\n",
       "      <td>Alto-800</td>\n",
       "      <td>48</td>\n",
       "      <td>55000.0</td>\n",
       "      <td>Manual</td>\n",
       "      <td>first</td>\n",
       "      <td>Hybrid/CNG</td>\n",
       "      <td>375000.0</td>\n",
       "    </tr>\n",
       "    <tr>\n",
       "      <th>9579</th>\n",
       "      <td>Maruti Suzuki</td>\n",
       "      <td>Ritz</td>\n",
       "      <td>132</td>\n",
       "      <td>92000.0</td>\n",
       "      <td>Manual</td>\n",
       "      <td>first</td>\n",
       "      <td>Diesel</td>\n",
       "      <td>415000.0</td>\n",
       "    </tr>\n",
       "    <tr>\n",
       "      <th>9580</th>\n",
       "      <td>Hyundai</td>\n",
       "      <td>Verna</td>\n",
       "      <td>60</td>\n",
       "      <td>72000.0</td>\n",
       "      <td>Automatic</td>\n",
       "      <td>first</td>\n",
       "      <td>Petrol</td>\n",
       "      <td>855000.0</td>\n",
       "    </tr>\n",
       "    <tr>\n",
       "      <th>9581</th>\n",
       "      <td>Hyundai</td>\n",
       "      <td>New i20</td>\n",
       "      <td>36</td>\n",
       "      <td>83228.0</td>\n",
       "      <td>Manual</td>\n",
       "      <td>second</td>\n",
       "      <td>Petrol</td>\n",
       "      <td>699000.0</td>\n",
       "    </tr>\n",
       "  </tbody>\n",
       "</table>\n",
       "<p>9535 rows × 8 columns</p>\n",
       "</div>"
      ],
      "text/plain": [
       "              Brand      model  Age  kmDriven Transmission   Owner  \\\n",
       "0             Honda       City  276   98000.0       Manual  second   \n",
       "1            Toyota     Innova  180  190000.0       Manual  second   \n",
       "2        Volkswagen  VentoTest  168   77246.0       Manual   first   \n",
       "3     Maruti Suzuki      Swift   84   83500.0       Manual  second   \n",
       "4     Maruti Suzuki     Baleno   60   45000.0    Automatic   first   \n",
       "...             ...        ...  ...       ...          ...     ...   \n",
       "9577          Skoda    Octavia  120  105904.0    Automatic  second   \n",
       "9578  Maruti Suzuki   Alto-800   48   55000.0       Manual   first   \n",
       "9579  Maruti Suzuki       Ritz  132   92000.0       Manual   first   \n",
       "9580        Hyundai      Verna   60   72000.0    Automatic   first   \n",
       "9581        Hyundai    New i20   36   83228.0       Manual  second   \n",
       "\n",
       "        FuelType   AskPrice  \n",
       "0         Petrol   195000.0  \n",
       "1         Diesel   375000.0  \n",
       "2         Diesel   184999.0  \n",
       "3         Diesel   565000.0  \n",
       "4         Petrol   685000.0  \n",
       "...          ...        ...  \n",
       "9577      Diesel  1040000.0  \n",
       "9578  Hybrid/CNG   375000.0  \n",
       "9579      Diesel   415000.0  \n",
       "9580      Petrol   855000.0  \n",
       "9581      Petrol   699000.0  \n",
       "\n",
       "[9535 rows x 8 columns]"
      ]
     },
     "execution_count": 659,
     "metadata": {},
     "output_type": "execute_result"
    }
   ],
   "source": [
    "# Dropping unnecessary columns\n",
    "df = df.drop(['Year', 'PostedDate', 'AdditionInfo'], axis=1)\n",
    "df"
   ]
  },
  {
   "cell_type": "code",
   "execution_count": 660,
   "id": "88c63cbd-5161-4231-9580-a59ea01f9cb2",
   "metadata": {},
   "outputs": [],
   "source": [
    "df = df.rename(columns={'model':'Model'})\n",
    "df = df.rename(columns={'kmDriven':'KmDriven'})\n",
    "df = df.rename(columns={'AskPrice':'Price'})"
   ]
  },
  {
   "cell_type": "code",
   "execution_count": 661,
   "id": "6c4999ef-300a-4770-9e8d-cc52f8a0d870",
   "metadata": {},
   "outputs": [
    {
     "name": "stdout",
     "output_type": "stream",
     "text": [
      "<class 'pandas.core.frame.DataFrame'>\n",
      "Index: 9535 entries, 0 to 9581\n",
      "Data columns (total 8 columns):\n",
      " #   Column        Non-Null Count  Dtype  \n",
      "---  ------        --------------  -----  \n",
      " 0   Brand         9535 non-null   object \n",
      " 1   Model         9535 non-null   object \n",
      " 2   Age           9535 non-null   int64  \n",
      " 3   KmDriven      9535 non-null   float64\n",
      " 4   Transmission  9535 non-null   object \n",
      " 5   Owner         9535 non-null   object \n",
      " 6   FuelType      9535 non-null   object \n",
      " 7   Price         9535 non-null   float64\n",
      "dtypes: float64(2), int64(1), object(5)\n",
      "memory usage: 670.4+ KB\n"
     ]
    }
   ],
   "source": [
    "df.info()"
   ]
  },
  {
   "cell_type": "code",
   "execution_count": 662,
   "id": "f16fee6d-3672-49fa-b261-8a545c6bd544",
   "metadata": {},
   "outputs": [
    {
     "data": {
      "text/plain": [
       "np.int64(820)"
      ]
     },
     "execution_count": 662,
     "metadata": {},
     "output_type": "execute_result"
    }
   ],
   "source": [
    "df.duplicated().sum()"
   ]
  },
  {
   "cell_type": "code",
   "execution_count": 663,
   "id": "e391f6ef-542c-45d0-bbee-ef9c6a9aef5b",
   "metadata": {},
   "outputs": [
    {
     "data": {
      "text/html": [
       "<div>\n",
       "<style scoped>\n",
       "    .dataframe tbody tr th:only-of-type {\n",
       "        vertical-align: middle;\n",
       "    }\n",
       "\n",
       "    .dataframe tbody tr th {\n",
       "        vertical-align: top;\n",
       "    }\n",
       "\n",
       "    .dataframe thead th {\n",
       "        text-align: right;\n",
       "    }\n",
       "</style>\n",
       "<table border=\"1\" class=\"dataframe\">\n",
       "  <thead>\n",
       "    <tr style=\"text-align: right;\">\n",
       "      <th></th>\n",
       "      <th>Brand</th>\n",
       "      <th>Model</th>\n",
       "      <th>Age</th>\n",
       "      <th>KmDriven</th>\n",
       "      <th>Transmission</th>\n",
       "      <th>Owner</th>\n",
       "      <th>FuelType</th>\n",
       "      <th>Price</th>\n",
       "    </tr>\n",
       "  </thead>\n",
       "  <tbody>\n",
       "    <tr>\n",
       "      <th>0</th>\n",
       "      <td>Honda</td>\n",
       "      <td>City</td>\n",
       "      <td>276</td>\n",
       "      <td>98000.0</td>\n",
       "      <td>Manual</td>\n",
       "      <td>second</td>\n",
       "      <td>Petrol</td>\n",
       "      <td>195000.0</td>\n",
       "    </tr>\n",
       "    <tr>\n",
       "      <th>1</th>\n",
       "      <td>Toyota</td>\n",
       "      <td>Innova</td>\n",
       "      <td>180</td>\n",
       "      <td>190000.0</td>\n",
       "      <td>Manual</td>\n",
       "      <td>second</td>\n",
       "      <td>Diesel</td>\n",
       "      <td>375000.0</td>\n",
       "    </tr>\n",
       "    <tr>\n",
       "      <th>2</th>\n",
       "      <td>Volkswagen</td>\n",
       "      <td>VentoTest</td>\n",
       "      <td>168</td>\n",
       "      <td>77246.0</td>\n",
       "      <td>Manual</td>\n",
       "      <td>first</td>\n",
       "      <td>Diesel</td>\n",
       "      <td>184999.0</td>\n",
       "    </tr>\n",
       "    <tr>\n",
       "      <th>3</th>\n",
       "      <td>Maruti Suzuki</td>\n",
       "      <td>Swift</td>\n",
       "      <td>84</td>\n",
       "      <td>83500.0</td>\n",
       "      <td>Manual</td>\n",
       "      <td>second</td>\n",
       "      <td>Diesel</td>\n",
       "      <td>565000.0</td>\n",
       "    </tr>\n",
       "    <tr>\n",
       "      <th>4</th>\n",
       "      <td>Maruti Suzuki</td>\n",
       "      <td>Baleno</td>\n",
       "      <td>60</td>\n",
       "      <td>45000.0</td>\n",
       "      <td>Automatic</td>\n",
       "      <td>first</td>\n",
       "      <td>Petrol</td>\n",
       "      <td>685000.0</td>\n",
       "    </tr>\n",
       "    <tr>\n",
       "      <th>...</th>\n",
       "      <td>...</td>\n",
       "      <td>...</td>\n",
       "      <td>...</td>\n",
       "      <td>...</td>\n",
       "      <td>...</td>\n",
       "      <td>...</td>\n",
       "      <td>...</td>\n",
       "      <td>...</td>\n",
       "    </tr>\n",
       "    <tr>\n",
       "      <th>9576</th>\n",
       "      <td>Porsche</td>\n",
       "      <td>Cayenne</td>\n",
       "      <td>12</td>\n",
       "      <td>7700.0</td>\n",
       "      <td>Automatic</td>\n",
       "      <td>first</td>\n",
       "      <td>Petrol</td>\n",
       "      <td>13600000.0</td>\n",
       "    </tr>\n",
       "    <tr>\n",
       "      <th>9578</th>\n",
       "      <td>Maruti Suzuki</td>\n",
       "      <td>Alto-800</td>\n",
       "      <td>48</td>\n",
       "      <td>55000.0</td>\n",
       "      <td>Manual</td>\n",
       "      <td>first</td>\n",
       "      <td>Hybrid/CNG</td>\n",
       "      <td>375000.0</td>\n",
       "    </tr>\n",
       "    <tr>\n",
       "      <th>9579</th>\n",
       "      <td>Maruti Suzuki</td>\n",
       "      <td>Ritz</td>\n",
       "      <td>132</td>\n",
       "      <td>92000.0</td>\n",
       "      <td>Manual</td>\n",
       "      <td>first</td>\n",
       "      <td>Diesel</td>\n",
       "      <td>415000.0</td>\n",
       "    </tr>\n",
       "    <tr>\n",
       "      <th>9580</th>\n",
       "      <td>Hyundai</td>\n",
       "      <td>Verna</td>\n",
       "      <td>60</td>\n",
       "      <td>72000.0</td>\n",
       "      <td>Automatic</td>\n",
       "      <td>first</td>\n",
       "      <td>Petrol</td>\n",
       "      <td>855000.0</td>\n",
       "    </tr>\n",
       "    <tr>\n",
       "      <th>9581</th>\n",
       "      <td>Hyundai</td>\n",
       "      <td>New i20</td>\n",
       "      <td>36</td>\n",
       "      <td>83228.0</td>\n",
       "      <td>Manual</td>\n",
       "      <td>second</td>\n",
       "      <td>Petrol</td>\n",
       "      <td>699000.0</td>\n",
       "    </tr>\n",
       "  </tbody>\n",
       "</table>\n",
       "<p>8715 rows × 8 columns</p>\n",
       "</div>"
      ],
      "text/plain": [
       "              Brand      Model  Age  KmDriven Transmission   Owner  \\\n",
       "0             Honda       City  276   98000.0       Manual  second   \n",
       "1            Toyota     Innova  180  190000.0       Manual  second   \n",
       "2        Volkswagen  VentoTest  168   77246.0       Manual   first   \n",
       "3     Maruti Suzuki      Swift   84   83500.0       Manual  second   \n",
       "4     Maruti Suzuki     Baleno   60   45000.0    Automatic   first   \n",
       "...             ...        ...  ...       ...          ...     ...   \n",
       "9576        Porsche    Cayenne   12    7700.0    Automatic   first   \n",
       "9578  Maruti Suzuki   Alto-800   48   55000.0       Manual   first   \n",
       "9579  Maruti Suzuki       Ritz  132   92000.0       Manual   first   \n",
       "9580        Hyundai      Verna   60   72000.0    Automatic   first   \n",
       "9581        Hyundai    New i20   36   83228.0       Manual  second   \n",
       "\n",
       "        FuelType       Price  \n",
       "0         Petrol    195000.0  \n",
       "1         Diesel    375000.0  \n",
       "2         Diesel    184999.0  \n",
       "3         Diesel    565000.0  \n",
       "4         Petrol    685000.0  \n",
       "...          ...         ...  \n",
       "9576      Petrol  13600000.0  \n",
       "9578  Hybrid/CNG    375000.0  \n",
       "9579      Diesel    415000.0  \n",
       "9580      Petrol    855000.0  \n",
       "9581      Petrol    699000.0  \n",
       "\n",
       "[8715 rows x 8 columns]"
      ]
     },
     "execution_count": 663,
     "metadata": {},
     "output_type": "execute_result"
    }
   ],
   "source": [
    "# Dropping duplicate values\n",
    "\n",
    "df = df.drop_duplicates()\n",
    "df"
   ]
  },
  {
   "cell_type": "code",
   "execution_count": 664,
   "id": "04f20bdc-0254-4167-b0e1-e642a64ddda0",
   "metadata": {},
   "outputs": [
    {
     "name": "stdout",
     "output_type": "stream",
     "text": [
      "<class 'pandas.core.frame.DataFrame'>\n",
      "Index: 8715 entries, 0 to 9581\n",
      "Data columns (total 8 columns):\n",
      " #   Column        Non-Null Count  Dtype  \n",
      "---  ------        --------------  -----  \n",
      " 0   Brand         8715 non-null   object \n",
      " 1   Model         8715 non-null   object \n",
      " 2   Age           8715 non-null   int64  \n",
      " 3   KmDriven      8715 non-null   float64\n",
      " 4   Transmission  8715 non-null   object \n",
      " 5   Owner         8715 non-null   object \n",
      " 6   FuelType      8715 non-null   object \n",
      " 7   Price         8715 non-null   float64\n",
      "dtypes: float64(2), int64(1), object(5)\n",
      "memory usage: 612.8+ KB\n"
     ]
    }
   ],
   "source": [
    "df.info()"
   ]
  },
  {
   "cell_type": "code",
   "execution_count": 665,
   "id": "64d953ec-60f3-4d40-aeb8-069decf58da6",
   "metadata": {},
   "outputs": [
    {
     "data": {
      "text/html": [
       "<div>\n",
       "<style scoped>\n",
       "    .dataframe tbody tr th:only-of-type {\n",
       "        vertical-align: middle;\n",
       "    }\n",
       "\n",
       "    .dataframe tbody tr th {\n",
       "        vertical-align: top;\n",
       "    }\n",
       "\n",
       "    .dataframe thead th {\n",
       "        text-align: right;\n",
       "    }\n",
       "</style>\n",
       "<table border=\"1\" class=\"dataframe\">\n",
       "  <thead>\n",
       "    <tr style=\"text-align: right;\">\n",
       "      <th></th>\n",
       "      <th>Brand</th>\n",
       "      <th>Model</th>\n",
       "      <th>Age</th>\n",
       "      <th>KmDriven</th>\n",
       "      <th>Transmission</th>\n",
       "      <th>Owner</th>\n",
       "      <th>FuelType</th>\n",
       "      <th>Price</th>\n",
       "    </tr>\n",
       "  </thead>\n",
       "  <tbody>\n",
       "    <tr>\n",
       "      <th>0</th>\n",
       "      <td>Honda</td>\n",
       "      <td>City</td>\n",
       "      <td>276</td>\n",
       "      <td>98000.0</td>\n",
       "      <td>Manual</td>\n",
       "      <td>second</td>\n",
       "      <td>Petrol</td>\n",
       "      <td>195000.0</td>\n",
       "    </tr>\n",
       "    <tr>\n",
       "      <th>1</th>\n",
       "      <td>Toyota</td>\n",
       "      <td>Innova</td>\n",
       "      <td>180</td>\n",
       "      <td>190000.0</td>\n",
       "      <td>Manual</td>\n",
       "      <td>second</td>\n",
       "      <td>Diesel</td>\n",
       "      <td>375000.0</td>\n",
       "    </tr>\n",
       "    <tr>\n",
       "      <th>2</th>\n",
       "      <td>Volkswagen</td>\n",
       "      <td>VentoTest</td>\n",
       "      <td>168</td>\n",
       "      <td>77246.0</td>\n",
       "      <td>Manual</td>\n",
       "      <td>first</td>\n",
       "      <td>Diesel</td>\n",
       "      <td>184999.0</td>\n",
       "    </tr>\n",
       "    <tr>\n",
       "      <th>3</th>\n",
       "      <td>Maruti Suzuki</td>\n",
       "      <td>Swift</td>\n",
       "      <td>84</td>\n",
       "      <td>83500.0</td>\n",
       "      <td>Manual</td>\n",
       "      <td>second</td>\n",
       "      <td>Diesel</td>\n",
       "      <td>565000.0</td>\n",
       "    </tr>\n",
       "    <tr>\n",
       "      <th>4</th>\n",
       "      <td>Maruti Suzuki</td>\n",
       "      <td>Baleno</td>\n",
       "      <td>60</td>\n",
       "      <td>45000.0</td>\n",
       "      <td>Automatic</td>\n",
       "      <td>first</td>\n",
       "      <td>Petrol</td>\n",
       "      <td>685000.0</td>\n",
       "    </tr>\n",
       "    <tr>\n",
       "      <th>...</th>\n",
       "      <td>...</td>\n",
       "      <td>...</td>\n",
       "      <td>...</td>\n",
       "      <td>...</td>\n",
       "      <td>...</td>\n",
       "      <td>...</td>\n",
       "      <td>...</td>\n",
       "      <td>...</td>\n",
       "    </tr>\n",
       "    <tr>\n",
       "      <th>9576</th>\n",
       "      <td>Porsche</td>\n",
       "      <td>Cayenne</td>\n",
       "      <td>12</td>\n",
       "      <td>7700.0</td>\n",
       "      <td>Automatic</td>\n",
       "      <td>first</td>\n",
       "      <td>Petrol</td>\n",
       "      <td>13600000.0</td>\n",
       "    </tr>\n",
       "    <tr>\n",
       "      <th>9578</th>\n",
       "      <td>Maruti Suzuki</td>\n",
       "      <td>Alto-800</td>\n",
       "      <td>48</td>\n",
       "      <td>55000.0</td>\n",
       "      <td>Manual</td>\n",
       "      <td>first</td>\n",
       "      <td>Hybrid/CNG</td>\n",
       "      <td>375000.0</td>\n",
       "    </tr>\n",
       "    <tr>\n",
       "      <th>9579</th>\n",
       "      <td>Maruti Suzuki</td>\n",
       "      <td>Ritz</td>\n",
       "      <td>132</td>\n",
       "      <td>92000.0</td>\n",
       "      <td>Manual</td>\n",
       "      <td>first</td>\n",
       "      <td>Diesel</td>\n",
       "      <td>415000.0</td>\n",
       "    </tr>\n",
       "    <tr>\n",
       "      <th>9580</th>\n",
       "      <td>Hyundai</td>\n",
       "      <td>Verna</td>\n",
       "      <td>60</td>\n",
       "      <td>72000.0</td>\n",
       "      <td>Automatic</td>\n",
       "      <td>first</td>\n",
       "      <td>Petrol</td>\n",
       "      <td>855000.0</td>\n",
       "    </tr>\n",
       "    <tr>\n",
       "      <th>9581</th>\n",
       "      <td>Hyundai</td>\n",
       "      <td>New i20</td>\n",
       "      <td>36</td>\n",
       "      <td>83228.0</td>\n",
       "      <td>Manual</td>\n",
       "      <td>second</td>\n",
       "      <td>Petrol</td>\n",
       "      <td>699000.0</td>\n",
       "    </tr>\n",
       "  </tbody>\n",
       "</table>\n",
       "<p>8715 rows × 8 columns</p>\n",
       "</div>"
      ],
      "text/plain": [
       "              Brand      Model  Age  KmDriven Transmission   Owner  \\\n",
       "0             Honda       City  276   98000.0       Manual  second   \n",
       "1            Toyota     Innova  180  190000.0       Manual  second   \n",
       "2        Volkswagen  VentoTest  168   77246.0       Manual   first   \n",
       "3     Maruti Suzuki      Swift   84   83500.0       Manual  second   \n",
       "4     Maruti Suzuki     Baleno   60   45000.0    Automatic   first   \n",
       "...             ...        ...  ...       ...          ...     ...   \n",
       "9576        Porsche    Cayenne   12    7700.0    Automatic   first   \n",
       "9578  Maruti Suzuki   Alto-800   48   55000.0       Manual   first   \n",
       "9579  Maruti Suzuki       Ritz  132   92000.0       Manual   first   \n",
       "9580        Hyundai      Verna   60   72000.0    Automatic   first   \n",
       "9581        Hyundai    New i20   36   83228.0       Manual  second   \n",
       "\n",
       "        FuelType       Price  \n",
       "0         Petrol    195000.0  \n",
       "1         Diesel    375000.0  \n",
       "2         Diesel    184999.0  \n",
       "3         Diesel    565000.0  \n",
       "4         Petrol    685000.0  \n",
       "...          ...         ...  \n",
       "9576      Petrol  13600000.0  \n",
       "9578  Hybrid/CNG    375000.0  \n",
       "9579      Diesel    415000.0  \n",
       "9580      Petrol    855000.0  \n",
       "9581      Petrol    699000.0  \n",
       "\n",
       "[8715 rows x 8 columns]"
      ]
     },
     "execution_count": 665,
     "metadata": {},
     "output_type": "execute_result"
    }
   ],
   "source": [
    "df"
   ]
  },
  {
   "cell_type": "markdown",
   "id": "6f4bf58c-741f-4b74-8c39-d4830f14347e",
   "metadata": {},
   "source": [
    "#### Removal of outliers"
   ]
  },
  {
   "cell_type": "code",
   "execution_count": 666,
   "id": "a167a3d2-fe8f-4cbc-80ef-a09baef1f18e",
   "metadata": {},
   "outputs": [
    {
     "data": {
      "text/plain": [
       "Text(0.5, 1.0, 'Price Distribution')"
      ]
     },
     "execution_count": 666,
     "metadata": {},
     "output_type": "execute_result"
    },
    {
     "data": {
      "image/png": "[encoded data removed]",
      "text/plain": [
       "<Figure size 700x400 with 1 Axes>"
      ]
     },
     "metadata": {},
     "output_type": "display_data"
    }
   ],
   "source": [
    "plt.figure(figsize=(7,4))\n",
    "sns.distplot(df['Price'])\n",
    "plt.title('Price Distribution')"
   ]
  },
  {
   "cell_type": "code",
   "execution_count": 667,
   "id": "37f2e6d7-4bbe-4e14-9ff3-5d11c6eb72ae",
   "metadata": {},
   "outputs": [
    {
     "data": {
      "text/plain": [
       "np.float64(724000.0)"
      ]
     },
     "execution_count": 667,
     "metadata": {},
     "output_type": "execute_result"
    }
   ],
   "source": [
    "q1 = df['Price'].quantile(0.25)\n",
    "q3 = df['Price'].quantile(0.75)\n",
    "\n",
    "iqr = q3-q1\n",
    "iqr"
   ]
  },
  {
   "cell_type": "code",
   "execution_count": 668,
   "id": "d9a2d719-bc42-406d-964d-26f6b8aa328a",
   "metadata": {},
   "outputs": [],
   "source": [
    "# Removing outliers with formula\n",
    "\n",
    "upper_bound = q3+(1.5*iqr)\n",
    "lower_bound = q1-(1.5*iqr)\n",
    "\n",
    "df_new = df[(df['Price'] > lower_bound) & (df['Price'] < upper_bound)]"
   ]
  },
  {
   "cell_type": "code",
   "execution_count": 669,
   "id": "c1880cbc-c1dd-4dcf-b563-ad985c154a93",
   "metadata": {},
   "outputs": [
    {
     "data": {
      "text/plain": [
       "Text(0.5, 1.0, 'Price Distribution After')"
      ]
     },
     "execution_count": 669,
     "metadata": {},
     "output_type": "execute_result"
    },
    {
     "data": {
      "image/png": "[encoded data removed]",
      "text/plain": [
       "<Figure size 1600x400 with 2 Axes>"
      ]
     },
     "metadata": {},
     "output_type": "display_data"
    }
   ],
   "source": [
    "plt.figure(figsize=(16,4))\n",
    "\n",
    "plt.subplot(1,2,1)\n",
    "sns.distplot(df['Price'])\n",
    "plt.title('Price Distribution Before')\n",
    "\n",
    "plt.subplot(1,2,2)\n",
    "sns.distplot(df_new['Price'])\n",
    "plt.title('Price Distribution After')"
   ]
  },
  {
   "cell_type": "code",
   "execution_count": 670,
   "id": "97026d4f-314e-4c0a-be26-6687893d72b7",
   "metadata": {},
   "outputs": [
    {
     "data": {
      "text/plain": [
       "Text(0.5, 1.0, 'Age Distribution')"
      ]
     },
     "execution_count": 670,
     "metadata": {},
     "output_type": "execute_result"
    },
    {
     "data": {
      "image/png": "[encoded data removed]",
      "text/plain": [
       "<Figure size 700x400 with 1 Axes>"
      ]
     },
     "metadata": {},
     "output_type": "display_data"
    }
   ],
   "source": [
    "plt.figure(figsize=(7,4))\n",
    "sns.distplot(df['Age'])\n",
    "plt.title('Age Distribution')"
   ]
  },
  {
   "cell_type": "markdown",
   "id": "0a9ea392-68dd-448a-94b4-c314d423e3f7",
   "metadata": {},
   "source": [
    "##### It is good"
   ]
  },
  {
   "cell_type": "code",
   "execution_count": 671,
   "id": "16501cb2-918f-4b9e-8cb7-8b751081149f",
   "metadata": {},
   "outputs": [
    {
     "data": {
      "text/plain": [
       "Text(0.5, 1.0, 'KmDriven Distribution')"
      ]
     },
     "execution_count": 671,
     "metadata": {},
     "output_type": "execute_result"
    },
    {
     "data": {
      "image/png": "[encoded data removed]",
      "text/plain": [
       "<Figure size 700x400 with 1 Axes>"
      ]
     },
     "metadata": {},
     "output_type": "display_data"
    }
   ],
   "source": [
    "plt.figure(figsize=(7,4))\n",
    "sns.distplot(df['KmDriven'])\n",
    "plt.title('KmDriven Distribution')"
   ]
  },
  {
   "cell_type": "code",
   "execution_count": 672,
   "id": "72801ac3-ffa3-4bf7-8c37-3d6fd6e59faa",
   "metadata": {},
   "outputs": [
    {
     "data": {
      "text/plain": [
       "np.float64(43000.0)"
      ]
     },
     "execution_count": 672,
     "metadata": {},
     "output_type": "execute_result"
    }
   ],
   "source": [
    "q1 = df['KmDriven'].quantile(0.25)\n",
    "q3 = df['KmDriven'].quantile(0.75)\n",
    "\n",
    "iqr = q3-q1\n",
    "iqr"
   ]
  },
  {
   "cell_type": "code",
   "execution_count": 673,
   "id": "53ab6cb9-c538-4828-94cc-e24ab057e662",
   "metadata": {},
   "outputs": [],
   "source": [
    "# Removing outliers with formula\n",
    "\n",
    "upper_bound = q3+(1.5*iqr)\n",
    "lower_bound = q1-(1.5*iqr)\n",
    "\n",
    "df_new = df[(df['KmDriven'] > lower_bound) & (df['KmDriven'] < upper_bound)]"
   ]
  },
  {
   "cell_type": "code",
   "execution_count": 674,
   "id": "5dbe8710-8719-41e4-8d79-401f4f18480a",
   "metadata": {},
   "outputs": [
    {
     "data": {
      "text/plain": [
       "Text(0.5, 1.0, 'KmDriven Distribution After')"
      ]
     },
     "execution_count": 674,
     "metadata": {},
     "output_type": "execute_result"
    },
    {
     "data": {
      "image/png": "[encoded data removed]",
      "text/plain": [
       "<Figure size 1600x400 with 2 Axes>"
      ]
     },
     "metadata": {},
     "output_type": "display_data"
    }
   ],
   "source": [
    "plt.figure(figsize=(16,4))\n",
    "\n",
    "plt.subplot(1,2,1)\n",
    "sns.distplot(df['KmDriven'])\n",
    "plt.title('KmDriven Distribution Before')\n",
    "\n",
    "plt.subplot(1,2,2)\n",
    "sns.distplot(df_new['KmDriven'])\n",
    "plt.title('KmDriven Distribution After')"
   ]
  },
  {
   "cell_type": "markdown",
   "id": "76100df4-8e8b-4b1d-aafc-d4d5e1364912",
   "metadata": {},
   "source": [
    "#### Correlation"
   ]
  },
  {
   "cell_type": "code",
   "execution_count": 675,
   "id": "0e0a6b9c-74b2-42f8-bc59-3d7efedb125d",
   "metadata": {},
   "outputs": [
    {
     "data": {
      "text/plain": [
       "Text(0.5, 1.0, 'KmDriven vs Price')"
      ]
     },
     "execution_count": 675,
     "metadata": {},
     "output_type": "execute_result"
    },
    {
     "data": {
      "image/png": "[encoded data removed]",
      "text/plain": [
       "<Figure size 1600x400 with 2 Axes>"
      ]
     },
     "metadata": {},
     "output_type": "display_data"
    }
   ],
   "source": [
    "# Plotting all the numerical columns\n",
    "plt.figure(figsize=(16,4))\n",
    "\n",
    "plt.subplot(1,2,1)\n",
    "sns.scatterplot(x=df['Age'], y=df['Price'])\n",
    "plt.title('Age vs Price')\n",
    "\n",
    "plt.subplot(1,2,2)\n",
    "sns.scatterplot(x=df['KmDriven'], y=df['Price'])\n",
    "plt.title('KmDriven vs Price')"
   ]
  },
  {
   "cell_type": "markdown",
   "id": "9857b549-f510-4f9e-a9f0-abdb05425cd1",
   "metadata": {},
   "source": [
    "###### The relationship is not linear so Linear Regression will not be appropriate"
   ]
  },
  {
   "cell_type": "code",
   "execution_count": 676,
   "id": "a628a731-4036-4656-ae1b-4217566b5003",
   "metadata": {},
   "outputs": [
    {
     "data": {
      "text/plain": [
       "Text(0.5, 1.0, 'Price')"
      ]
     },
     "execution_count": 676,
     "metadata": {},
     "output_type": "execute_result"
    },
    {
     "data": {
      "image/png": "[encoded data removed]",
      "text/plain": [
       "<Figure size 640x480 with 1 Axes>"
      ]
     },
     "metadata": {},
     "output_type": "display_data"
    }
   ],
   "source": [
    "sns.distplot(df['Price'])\n",
    "plt.title('Price')"
   ]
  },
  {
   "cell_type": "markdown",
   "id": "58757f11-1a10-4be1-a4e0-cdb913ce666a",
   "metadata": {},
   "source": [
    "##### The price we have in the data is not linear\n",
    "##### We can use log transformation to see the relationship with price"
   ]
  },
  {
   "cell_type": "code",
   "execution_count": 677,
   "id": "9e55e0e4-74a6-47ec-8b7e-6bdf79e880f5",
   "metadata": {},
   "outputs": [
    {
     "data": {
      "text/html": [
       "<div>\n",
       "<style scoped>\n",
       "    .dataframe tbody tr th:only-of-type {\n",
       "        vertical-align: middle;\n",
       "    }\n",
       "\n",
       "    .dataframe tbody tr th {\n",
       "        vertical-align: top;\n",
       "    }\n",
       "\n",
       "    .dataframe thead th {\n",
       "        text-align: right;\n",
       "    }\n",
       "</style>\n",
       "<table border=\"1\" class=\"dataframe\">\n",
       "  <thead>\n",
       "    <tr style=\"text-align: right;\">\n",
       "      <th></th>\n",
       "      <th>Brand</th>\n",
       "      <th>Model</th>\n",
       "      <th>Age</th>\n",
       "      <th>KmDriven</th>\n",
       "      <th>Transmission</th>\n",
       "      <th>Owner</th>\n",
       "      <th>FuelType</th>\n",
       "      <th>Price</th>\n",
       "      <th>log_price</th>\n",
       "    </tr>\n",
       "  </thead>\n",
       "  <tbody>\n",
       "    <tr>\n",
       "      <th>0</th>\n",
       "      <td>Honda</td>\n",
       "      <td>City</td>\n",
       "      <td>276</td>\n",
       "      <td>98000.0</td>\n",
       "      <td>Manual</td>\n",
       "      <td>second</td>\n",
       "      <td>Petrol</td>\n",
       "      <td>195000.0</td>\n",
       "      <td>12.180755</td>\n",
       "    </tr>\n",
       "    <tr>\n",
       "      <th>1</th>\n",
       "      <td>Toyota</td>\n",
       "      <td>Innova</td>\n",
       "      <td>180</td>\n",
       "      <td>190000.0</td>\n",
       "      <td>Manual</td>\n",
       "      <td>second</td>\n",
       "      <td>Diesel</td>\n",
       "      <td>375000.0</td>\n",
       "      <td>12.834681</td>\n",
       "    </tr>\n",
       "    <tr>\n",
       "      <th>2</th>\n",
       "      <td>Volkswagen</td>\n",
       "      <td>VentoTest</td>\n",
       "      <td>168</td>\n",
       "      <td>77246.0</td>\n",
       "      <td>Manual</td>\n",
       "      <td>first</td>\n",
       "      <td>Diesel</td>\n",
       "      <td>184999.0</td>\n",
       "      <td>12.128106</td>\n",
       "    </tr>\n",
       "    <tr>\n",
       "      <th>3</th>\n",
       "      <td>Maruti Suzuki</td>\n",
       "      <td>Swift</td>\n",
       "      <td>84</td>\n",
       "      <td>83500.0</td>\n",
       "      <td>Manual</td>\n",
       "      <td>second</td>\n",
       "      <td>Diesel</td>\n",
       "      <td>565000.0</td>\n",
       "      <td>13.244581</td>\n",
       "    </tr>\n",
       "    <tr>\n",
       "      <th>4</th>\n",
       "      <td>Maruti Suzuki</td>\n",
       "      <td>Baleno</td>\n",
       "      <td>60</td>\n",
       "      <td>45000.0</td>\n",
       "      <td>Automatic</td>\n",
       "      <td>first</td>\n",
       "      <td>Petrol</td>\n",
       "      <td>685000.0</td>\n",
       "      <td>13.437174</td>\n",
       "    </tr>\n",
       "  </tbody>\n",
       "</table>\n",
       "</div>"
      ],
      "text/plain": [
       "           Brand      Model  Age  KmDriven Transmission   Owner FuelType  \\\n",
       "0          Honda       City  276   98000.0       Manual  second   Petrol   \n",
       "1         Toyota     Innova  180  190000.0       Manual  second   Diesel   \n",
       "2     Volkswagen  VentoTest  168   77246.0       Manual   first   Diesel   \n",
       "3  Maruti Suzuki      Swift   84   83500.0       Manual  second   Diesel   \n",
       "4  Maruti Suzuki     Baleno   60   45000.0    Automatic   first   Petrol   \n",
       "\n",
       "      Price  log_price  \n",
       "0  195000.0  12.180755  \n",
       "1  375000.0  12.834681  \n",
       "2  184999.0  12.128106  \n",
       "3  565000.0  13.244581  \n",
       "4  685000.0  13.437174  "
      ]
     },
     "execution_count": 677,
     "metadata": {},
     "output_type": "execute_result"
    }
   ],
   "source": [
    "log_price = np.log(df['Price'])\n",
    "\n",
    "df['log_price'] = log_price\n",
    "\n",
    "df.head()"
   ]
  },
  {
   "cell_type": "code",
   "execution_count": 678,
   "id": "b411b74c-b99d-427f-ac11-2752c1911d0e",
   "metadata": {},
   "outputs": [
    {
     "data": {
      "text/plain": [
       "Text(0.5, 1.0, 'KmDriven vs Log Price')"
      ]
     },
     "execution_count": 678,
     "metadata": {},
     "output_type": "execute_result"
    },
    {
     "data": {
      "image/png": "[encoded data removed]",
      "text/plain": [
       "<Figure size 1600x400 with 2 Axes>"
      ]
     },
     "metadata": {},
     "output_type": "display_data"
    }
   ],
   "source": [
    "# Plotting all the numerical columns\n",
    "plt.figure(figsize=(16,4))\n",
    "\n",
    "plt.subplot(1,2,1)\n",
    "sns.scatterplot(x=df['Age'], y=df['log_price'])\n",
    "plt.title('Age vs Log Price')\n",
    "\n",
    "plt.subplot(1,2,2)\n",
    "sns.scatterplot(x=df['KmDriven'], y=df['log_price'])\n",
    "plt.title('KmDriven vs Log Price')"
   ]
  },
  {
   "cell_type": "markdown",
   "id": "16587f39-a05e-43fe-92f1-49ec97527c44",
   "metadata": {},
   "source": [
    "##### Better but not that great"
   ]
  },
  {
   "cell_type": "code",
   "execution_count": 679,
   "id": "2e8a4cae-39a0-4dd0-86ef-6250b3326b50",
   "metadata": {},
   "outputs": [],
   "source": [
    "# Dropping the Price column as it's no longer needed\n",
    "\n",
    "df = df.drop('Price', axis=1)"
   ]
  },
  {
   "cell_type": "markdown",
   "id": "987be2b8-22e0-4b33-9fa4-2dbd6be544e0",
   "metadata": {},
   "source": [
    "#### Now checking the multicollinearity"
   ]
  },
  {
   "cell_type": "code",
   "execution_count": 680,
   "id": "b037edd1-1821-4f04-8786-d35e3f8e45a9",
   "metadata": {},
   "outputs": [
    {
     "data": {
      "text/plain": [
       "Index(['Brand', 'Model', 'Age', 'KmDriven', 'Transmission', 'Owner',\n",
       "       'FuelType', 'log_price'],\n",
       "      dtype='object')"
      ]
     },
     "execution_count": 680,
     "metadata": {},
     "output_type": "execute_result"
    }
   ],
   "source": [
    "df.columns"
   ]
  },
  {
   "cell_type": "code",
   "execution_count": 681,
   "id": "043b5781-43fc-462a-a905-ab69d14732f5",
   "metadata": {},
   "outputs": [
    {
     "data": {
      "text/html": [
       "<div>\n",
       "<style scoped>\n",
       "    .dataframe tbody tr th:only-of-type {\n",
       "        vertical-align: middle;\n",
       "    }\n",
       "\n",
       "    .dataframe tbody tr th {\n",
       "        vertical-align: top;\n",
       "    }\n",
       "\n",
       "    .dataframe thead th {\n",
       "        text-align: right;\n",
       "    }\n",
       "</style>\n",
       "<table border=\"1\" class=\"dataframe\">\n",
       "  <thead>\n",
       "    <tr style=\"text-align: right;\">\n",
       "      <th></th>\n",
       "      <th>VIF</th>\n",
       "      <th>features</th>\n",
       "    </tr>\n",
       "  </thead>\n",
       "  <tbody>\n",
       "    <tr>\n",
       "      <th>0</th>\n",
       "      <td>2.440252</td>\n",
       "      <td>Age</td>\n",
       "    </tr>\n",
       "    <tr>\n",
       "      <th>1</th>\n",
       "      <td>2.440252</td>\n",
       "      <td>KmDriven</td>\n",
       "    </tr>\n",
       "  </tbody>\n",
       "</table>\n",
       "</div>"
      ],
      "text/plain": [
       "        VIF  features\n",
       "0  2.440252       Age\n",
       "1  2.440252  KmDriven"
      ]
     },
     "execution_count": 681,
     "metadata": {},
     "output_type": "execute_result"
    }
   ],
   "source": [
    "from statsmodels.stats.outliers_influence import variance_inflation_factor as vif\n",
    "\n",
    "# Taking the numerical columns\n",
    "var = df[['Age', 'KmDriven']]\n",
    "\n",
    "# Create a df with only three column\n",
    "vif_df = pd.DataFrame()\n",
    "\n",
    "# Adding column\n",
    "vif_df['VIF'] = [vif(var.values, i) for i in range(var.shape[1])]\n",
    "vif_df['features'] = var.columns\n",
    "\n",
    "vif_df"
   ]
  },
  {
   "cell_type": "markdown",
   "id": "b7491e03-6036-40d9-b6db-0f159f28c951",
   "metadata": {},
   "source": [
    "##### The vif between 1-5 is generally okay"
   ]
  },
  {
   "cell_type": "markdown",
   "id": "a95786a9-f261-47d9-837e-9bb5858b37d4",
   "metadata": {},
   "source": [
    "#### Correcting the names of different models"
   ]
  },
  {
   "cell_type": "code",
   "execution_count": 682,
   "id": "48ec6487-a004-4fd5-99c9-2d3b21f373e1",
   "metadata": {},
   "outputs": [
    {
     "data": {
      "text/plain": [
       "array(['Honda', 'Toyota', 'Volkswagen', 'Maruti Suzuki', 'BMW', 'Ford',\n",
       "       'Kia', 'Mercedes-Benz', 'Hyundai', 'Audi', 'Renault', 'MG',\n",
       "       'Volvo', 'Skoda', 'Tata', 'Mahindra', 'Mini', 'Land Rover', 'Jeep',\n",
       "       'Chevrolet', 'Jaguar', 'Fiat', 'Aston Martin', 'Porsche', 'Nissan',\n",
       "       'Force', 'Mitsubishi', 'Lexus', 'Isuzu', 'Datsun', 'Ambassador',\n",
       "       'Rolls-Royce', 'Bajaj', 'Opel', 'Ashok', 'Bentley', 'Ssangyong',\n",
       "       'Maserati'], dtype=object)"
      ]
     },
     "execution_count": 682,
     "metadata": {},
     "output_type": "execute_result"
    }
   ],
   "source": [
    "df['Brand'].unique()"
   ]
  },
  {
   "cell_type": "markdown",
   "id": "4669a910-45d2-4911-9dcf-0b6091503789",
   "metadata": {},
   "source": [
    "##### Honda"
   ]
  },
  {
   "cell_type": "code",
   "execution_count": 778,
   "id": "c012e60f-ecfc-4ab8-b493-96f8a2091f48",
   "metadata": {},
   "outputs": [
    {
     "data": {
      "text/plain": [
       "array(['City', 'BRV', 'Brio', 'WRV', 'Amaze', 'Jazz', 'CRV', 'Civic',\n",
       "       'Accord', 'Mobilio', 'Elevate'], dtype=object)"
      ]
     },
     "execution_count": 778,
     "metadata": {},
     "output_type": "execute_result"
    }
   ],
   "source": [
    "df[df['Brand'] == 'Honda']['Model'].unique()"
   ]
  },
  {
   "cell_type": "code",
   "execution_count": 779,
   "id": "a3536481-6da5-447a-bc1a-85c4eb00554c",
   "metadata": {},
   "outputs": [],
   "source": [
    "df.replace('New Accord', 'Accord', inplace=True)\n",
    "df.replace('City ZX', 'City', inplace=True)\n",
    "df.replace('City Hybrid eHEV', 'City', inplace=True)\n",
    "df.replace('WR-V', 'WRV', inplace=True)\n",
    "df.replace('CR-V', 'CRV', inplace=True)"
   ]
  },
  {
   "cell_type": "markdown",
   "id": "a2974394-6b31-48d3-9489-841f406dd4e7",
   "metadata": {},
   "source": [
    "##### Tata"
   ]
  },
  {
   "cell_type": "code",
   "execution_count": 685,
   "id": "c4481417-9f81-4840-8478-2b56208dffad",
   "metadata": {},
   "outputs": [
    {
     "data": {
      "text/plain": [
       "array(['Safari', 'Nexon', 'Indigo Ecs', 'Harrier', 'Zest', 'Altroz',\n",
       "       'Hexa', 'Bolt', 'Tiago', 'Indigo Marina', 'Nano Genx', 'Manza',\n",
       "       'Tigor', 'Indigo Cs', 'Nano', 'Punch', 'Indica Vista',\n",
       "       'Safari Storme', 'Indica Ev2', 'Punch ', 'Sumo Grande MK II',\n",
       "       'Sumo Gold', 'Indica V2', 'Sumo Victa', 'Xenon XT', 'tata-punch',\n",
       "       'Venture', 'H5x', 'Indica', 'Sumo', 'Vista Tech', 'Curvv'],\n",
       "      dtype=object)"
      ]
     },
     "execution_count": 685,
     "metadata": {},
     "output_type": "execute_result"
    }
   ],
   "source": [
    "df[df['Brand'] == 'Tata']['Model'].unique()"
   ]
  },
  {
   "cell_type": "code",
   "execution_count": 686,
   "id": "c61bb4d6-44a8-4d2a-8014-9931bdef49c1",
   "metadata": {},
   "outputs": [],
   "source": [
    "df.replace('Indigo Ecs', 'Indigo', inplace=True)\n",
    "df.replace('Indica Vista', 'Indica', inplace=True)\n",
    "df.replace('tata-punch', 'Punch', inplace=True)\n",
    "df.replace('Indica Ev2', 'Indica', inplace=True)\n",
    "df.replace('Indica V2', 'Indica', inplace=True)\n",
    "df.replace('Nano Genx', 'Nano', inplace=True)\n",
    "df.replace('Sumo Grande MK II', 'Sumo Grande', inplace=True)\n",
    "df.replace('Indigo Cs', 'Indigo', inplace=True)\n",
    "df.replace('H5x', 'Harrier', inplace=True)\n",
    "df.replace('Indigo Marina', 'Indigo', inplace=True)\n",
    "df.replace('Sumo Victa', 'Sumo', inplace=True)\n",
    "df.replace('Sumo Gold', 'Sumo', inplace=True)\n",
    "df.replace('Xenon XT', 'Xenon', inplace=True)\n",
    "df.replace('Vista Tech', 'Vista', inplace=True)\n",
    "df.replace('Vista', 'Indica', inplace=True)"
   ]
  },
  {
   "cell_type": "markdown",
   "id": "ce55394e-3a30-4479-a4dc-8c33f2ce45c0",
   "metadata": {},
   "source": [
    "##### Maruti Suzuki"
   ]
  },
  {
   "cell_type": "code",
   "execution_count": 687,
   "id": "325c6708-9471-4f2c-bac5-891c7ef649c4",
   "metadata": {},
   "outputs": [
    {
     "data": {
      "text/plain": [
       "array(['Swift', 'Baleno', 'maruti-suzuki-dzire', 'Alto-K10',\n",
       "       'Swift-Dzire', 'Ertiga', 'Celerio', 'Vitara-Brezza', 'Ciaz',\n",
       "       'Wagon-R', 'Ignis', 'Ritz', 'Eeco', 'Swift Dzire', 'Sx4',\n",
       "       'Alto-800', 'Alto K10', 'Omni', 'S-Presso', 'Alto', 'Dzire',\n",
       "       'Grand Vitara', 'A-Star', 'Alto 800', 'maruti-suzuki-brezza',\n",
       "       'Swift-Dzire-Tour', 'XL6', 'Wagon R', 'S-Cross', 'Gypsy', 'Brezza',\n",
       "       'Zen-Estilo', 'Estilo', ' Wagon R', 'Celerio-X', 'S-Cross1',\n",
       "       '1000', 'Fronx', '800', 'Wagon-R-1-0', 'Esteem', 'Jimny',\n",
       "       'Vitara Brezza', 'Celerio X', 'Zen Estilo', 'Wagon R 1.0',\n",
       "       'New-gen Swift', 'SX4', 'Wagon-R-Stingray', 'Invicto', 'Baleno-RS',\n",
       "       'Stingray', 'Fronx '], dtype=object)"
      ]
     },
     "execution_count": 687,
     "metadata": {},
     "output_type": "execute_result"
    }
   ],
   "source": [
    "df[df['Brand'] == 'Maruti Suzuki']['Model'].unique()"
   ]
  },
  {
   "cell_type": "code",
   "execution_count": 688,
   "id": "94458406-99ac-4a19-8522-cb1e0ae91e64",
   "metadata": {},
   "outputs": [],
   "source": [
    "df.replace('maruti-suzuki-dzire', 'Swift Dzire', inplace=True)\n",
    "df.replace('Swift-Dzire-Tour', 'Swift Dzire', inplace=True)\n",
    "df.replace('Swift-Dzire', 'Swift Dzire', inplace=True)\n",
    "df.replace('Alto K10', 'Alto', inplace=True)\n",
    "df.replace('Alto 800', 'Alto', inplace=True)\n",
    "df.replace(' Wagon R', 'Wagon-R', inplace=True)\n",
    "df.replace('Wagon R', 'Wagon-R', inplace=True)\n",
    "df.replace('Alto-800', 'Alto', inplace=True)\n",
    "df.replace('Celerio-X', 'Celerio', inplace=True)\n",
    "df.replace('S-Cross1', 'S-Cross', inplace=True)\n",
    "df.replace('Wagon R 1.0', 'Wagon-R', inplace=True)\n",
    "df.replace('New-gen Swift', 'Swift', inplace=True)\n",
    "df.replace('Baleno-RS', 'Baleno', inplace=True)\n",
    "df.replace('maruti-suzuki-brezza', 'Vitara-Brezza', inplace=True)\n",
    "df.replace('Brezza', 'Vitara-Brezza', inplace=True)\n",
    "df.replace('Vitara Brezza', 'Vitara-Brezza', inplace=True)\n",
    "df.replace('Wagon-R-1-0', 'Wagon-R', inplace=True)\n",
    "df.replace('Wagon-R-Stingray', 'Wagon-R', inplace=True)\n",
    "df.replace('Stingray', 'Wagon-R', inplace=True)\n",
    "df.replace('Dzire', 'Swift Dzire', inplace=True)\n",
    "df.replace('Alto-K10', 'Alto', inplace=True)\n",
    "df.replace('Celerio X', 'Celerio', inplace=True)\n",
    "df.replace('Estilo', 'Zen-Estilo', inplace=True)\n",
    "df.replace('Zen Estilo', 'Zen-Estilo', inplace=True)\n",
    "df.replace('Sx4', 'SX4', inplace=True)"
   ]
  },
  {
   "cell_type": "markdown",
   "id": "4f80a1d3-c2e1-43dd-9abb-f6cc56812edb",
   "metadata": {},
   "source": [
    "##### Toyota"
   ]
  },
  {
   "cell_type": "code",
   "execution_count": 689,
   "id": "c5ccd91b-e9d3-4097-b837-dae57438dfeb",
   "metadata": {},
   "outputs": [
    {
     "data": {
      "text/plain": [
       "array(['Innova', 'Corolla', 'Innova Crysta', '2.8 Legender 4X2',\n",
       "       'Fortuner', 'Etios', 'Camry', 'Glanza', 'Etios Liva',\n",
       "       'Innova Hycross', 'Corolla Altis', 'Urban Cruiser', 'VELLFIRE',\n",
       "       'Land Cruiser', 'Etios Cross', 'Yaris', 'Urban Cruiser Hyryder',\n",
       "       'Land Cruiser Prado', 'Estima'], dtype=object)"
      ]
     },
     "execution_count": 689,
     "metadata": {},
     "output_type": "execute_result"
    }
   ],
   "source": [
    "df[df['Brand'] == 'Toyota']['Model'].unique()"
   ]
  },
  {
   "cell_type": "code",
   "execution_count": 690,
   "id": "3b3cffc3-398e-45c9-9e37-4fb942cd868d",
   "metadata": {},
   "outputs": [],
   "source": [
    "df.replace('Innova', 'Innova Crysta', inplace=True)\n",
    "df.replace('VELLFIRE', 'Vellfire', inplace=True)\n",
    "df.replace('Urban Cruiser', 'Urban Cruiser Hyryder', inplace=True)\n",
    "df.replace('2.8 Legender 4X2', 'Fortuner', inplace=True)\n",
    "df.replace('Land Cruiser Prado', 'Land Cruiser', inplace=True)"
   ]
  },
  {
   "cell_type": "markdown",
   "id": "5a3fb057-be47-410d-82b0-c933a7bcd3a4",
   "metadata": {},
   "source": [
    "##### Volkswagen"
   ]
  },
  {
   "cell_type": "code",
   "execution_count": 691,
   "id": "d5301452-3abc-43a1-999a-0aa7e00ae0a0",
   "metadata": {},
   "outputs": [
    {
     "data": {
      "text/plain": [
       "array(['VentoTest', 'Polo', 'CrossPolo', 'Vento', 'Tiguan', 'Polo GTI',\n",
       "       'Virtus', 'Passat', 'Ameo', 'Jetta', 'Taigun', 'Beetle',\n",
       "       'Tiguan All Space', 'GTI'], dtype=object)"
      ]
     },
     "execution_count": 691,
     "metadata": {},
     "output_type": "execute_result"
    }
   ],
   "source": [
    "df[df['Brand'] == 'Volkswagen']['Model'].unique()"
   ]
  },
  {
   "cell_type": "code",
   "execution_count": 692,
   "id": "094119b1-e5c0-47c0-a155-4d0eb67ca0ca",
   "metadata": {},
   "outputs": [],
   "source": [
    "df.replace('VentoTest', 'Vento', inplace=True)\n",
    "df.replace('CrossPolo', 'Polo', inplace=True)\n",
    "df.replace('Polo GTI', 'Polo', inplace=True)\n",
    "df.replace('GTI', 'Polo', inplace=True)\n",
    "df.replace('Tiguan All Space', 'Tiguan', inplace=True)"
   ]
  },
  {
   "cell_type": "markdown",
   "id": "ba1d3e2c-c921-4396-b421-e89c026b6383",
   "metadata": {},
   "source": [
    "##### BMW"
   ]
  },
  {
   "cell_type": "code",
   "execution_count": 693,
   "id": "105836f7-cfd9-48b0-b6d3-3eccc84799ba",
   "metadata": {},
   "outputs": [
    {
     "data": {
      "text/plain": [
       "array(['X3', '5 Series', '3 Series GT', 'X1', 'X5', '7 Series',\n",
       "       '3 Series', '6 Series GT', 'X7', 'Z4', 'X4', '2 Series',\n",
       "       '1 Series', '6 Series', '3 Series Gran Limousine', 'X6',\n",
       "       '5 Series Gt', 'M340i', 'X5 M'], dtype=object)"
      ]
     },
     "execution_count": 693,
     "metadata": {},
     "output_type": "execute_result"
    }
   ],
   "source": [
    "df[df['Brand'] == 'BMW']['Model'].unique()"
   ]
  },
  {
   "cell_type": "code",
   "execution_count": 694,
   "id": "da48abf5-d85d-4c77-90ad-6a52c4eda3d6",
   "metadata": {},
   "outputs": [],
   "source": [
    "df.replace('X5 M', 'X5', inplace=True)\n",
    "df.replace('6 Series GT', '6 Series', inplace=True)\n",
    "df.replace('3 Series GT', '3 Series', inplace=True)\n",
    "df.replace('3 Series Gran Limousine', '3 Series', inplace=True)\n",
    "df.replace('M340i', '3 Series', inplace=True)\n",
    "df.replace('5 Series Gt', '5 Series', inplace=True)"
   ]
  },
  {
   "cell_type": "markdown",
   "id": "4ca4e035-6c38-4f68-a3f3-2c7bde5a5acc",
   "metadata": {},
   "source": [
    "##### Ford"
   ]
  },
  {
   "cell_type": "code",
   "execution_count": 695,
   "id": "a86dae85-9df3-4492-82fd-cb212809e816",
   "metadata": {},
   "outputs": [
    {
     "data": {
      "text/plain": [
       "array(['Ecosport', 'Endeavour', 'Figo', 'Figo Aspire', 'Fiesta Classic',\n",
       "       'Fiesta', 'Aspire', 'Mustang', 'Free Style', 'Ikon'], dtype=object)"
      ]
     },
     "execution_count": 695,
     "metadata": {},
     "output_type": "execute_result"
    }
   ],
   "source": [
    "df[df['Brand'] == 'Ford']['Model'].unique()"
   ]
  },
  {
   "cell_type": "code",
   "execution_count": 696,
   "id": "d3d73180-05c2-4cfa-903d-e023365b6020",
   "metadata": {},
   "outputs": [],
   "source": [
    "df.replace('Figo Aspire', 'Aspire', inplace=True)\n",
    "df.replace('Fiesta Classic', 'Fiesta', inplace=True)"
   ]
  },
  {
   "cell_type": "markdown",
   "id": "405f0513-9196-4e10-9c29-5259770db556",
   "metadata": {},
   "source": [
    "##### Kia"
   ]
  },
  {
   "cell_type": "code",
   "execution_count": 697,
   "id": "4793456d-b171-46a8-9b3d-01234cd6d401",
   "metadata": {},
   "outputs": [
    {
     "data": {
      "text/plain": [
       "array(['Carnival', 'Seltos', 'Carens', 'Sonet', 'CERATO'], dtype=object)"
      ]
     },
     "execution_count": 697,
     "metadata": {},
     "output_type": "execute_result"
    }
   ],
   "source": [
    "df[df['Brand'] == 'Kia']['Model'].unique()"
   ]
  },
  {
   "cell_type": "code",
   "execution_count": 698,
   "id": "efd29106-b00f-4172-94db-7eec89ba0b07",
   "metadata": {},
   "outputs": [],
   "source": [
    "df.replace('CERATO', 'Cerato', inplace=True)"
   ]
  },
  {
   "cell_type": "markdown",
   "id": "dde3d88b-6da4-4a81-99ac-c50721585e67",
   "metadata": {},
   "source": [
    "##### Mercedes-Benz"
   ]
  },
  {
   "cell_type": "code",
   "execution_count": 709,
   "id": "816eae2f-a1c3-447b-9a1d-32707bb33243",
   "metadata": {},
   "outputs": [
    {
     "data": {
      "text/plain": [
       "array(['GLE', 'E-Class', 'C-Class', 'GLS', 'GLA', 'GLC', 'M-Class',\n",
       "       'G-Class', 'CLA', 'S-Class', 'GL-Class', 'CLS', 'V-Class',\n",
       "       'C Class', 'B-Class', 'A-Class', 'AMG C43', 'SLK-Class', 'AMG A35',\n",
       "       'SL-Class', 'AMG'], dtype=object)"
      ]
     },
     "execution_count": 709,
     "metadata": {},
     "output_type": "execute_result"
    }
   ],
   "source": [
    "df[df['Brand'] == 'Mercedes-Benz']['Model'].unique()"
   ]
  },
  {
   "cell_type": "code",
   "execution_count": 708,
   "id": "e6c97ba8-96ac-4fdb-b30d-26b1d9187c6e",
   "metadata": {},
   "outputs": [],
   "source": [
    "df.replace('GLE COUPE', 'GLE', inplace=True)\n",
    "df.replace('GLE Class', 'GLE', inplace=True)\n",
    "df.replace('GLE Coupe', 'GLE', inplace=True)\n",
    "df.replace('AMG GLE Coupe', 'GLE', inplace=True)\n",
    "df.replace('GLA Class', 'GLA', inplace=True)\n",
    "df.replace('GLC Coupe', 'GLC', inplace=True)\n",
    "df.replace('GLC Class', 'GLC', inplace=True)\n",
    "df.replace('G', 'G-Class', inplace=True)\n",
    "df.replace('G Class', 'G-Class', inplace=True)\n",
    "df.replace('CLS-Class', 'CLS', inplace=True)\n",
    "df.replace('B Class', 'B-Class', inplace=True)\n",
    "df.replace('A-Class Limousine', 'A-Class', inplace=True)\n",
    "df.replace('A-class Limousine', 'A-Class', inplace=True)\n",
    "df.replace('A Class', 'A-Class', inplace=True)\n",
    "df.replace('AMG C 43', 'AMG C43', inplace=True)"
   ]
  },
  {
   "cell_type": "markdown",
   "id": "b49b0188-ba37-40f4-8d37-c18a708eae65",
   "metadata": {},
   "source": [
    "##### Hyundai"
   ]
  },
  {
   "cell_type": "code",
   "execution_count": 718,
   "id": "7a4cdd05-57bc-4a6d-8442-5a81d2569dc3",
   "metadata": {
    "scrolled": true
   },
   "outputs": [
    {
     "data": {
      "text/plain": [
       "array(['Xcent', 'Venue', 'Creta', 'Alcazar', 'i20', 'Verna', 'Eon', 'i10',\n",
       "       'Getz', 'Tucson', 'Santa Fe', 'Santro', 'Elantra', 'Sonata',\n",
       "       'Accent', 'Aura', 'Exter'], dtype=object)"
      ]
     },
     "execution_count": 718,
     "metadata": {},
     "output_type": "execute_result"
    }
   ],
   "source": [
    "df[df['Brand'] == 'Hyundai']['Model'].unique()"
   ]
  },
  {
   "cell_type": "code",
   "execution_count": 713,
   "id": "0d6dd36f-a0fd-47da-9621-23f36e9c3d75",
   "metadata": {},
   "outputs": [],
   "source": [
    "df.replace('Xcent Prime', 'Xcent', inplace=True)\n",
    "df.replace('Venue N Line', 'Venue', inplace=True)\n",
    "df.replace('Creta Facelift', 'Creta', inplace=True)\n",
    "df.replace('New i20', 'i20', inplace=True)\n",
    "df.replace('Elite i20', 'i20', inplace=True)\n",
    "df.replace('i20 Active', 'i20', inplace=True)\n",
    "df.replace('i20 N Line', 'i20', inplace=True)\n",
    "df.replace('Fluidic Verna', 'Verna', inplace=True)\n",
    "df.replace('EON', 'Eon', inplace=True)\n",
    "df.replace('Grand i10', 'i10', inplace=True)\n",
    "df.replace('Grand i10 Nios', 'i10', inplace=True)\n",
    "df.replace('Grand i10 Prime', 'i10', inplace=True)\n",
    "df.replace('Getz Prime', 'Getz', inplace=True)\n",
    "df.replace('Santro Xing', 'Santro', inplace=True)\n",
    "df.replace('New Santro', 'Santro', inplace=True)\n",
    "df.replace('New Elantra', 'Elantra', inplace=True)\n",
    "df.replace('Sonata Embera', 'Sonata', inplace=True)\n",
    "df.replace('Accent Hatchback', 'Accent', inplace=True)"
   ]
  },
  {
   "cell_type": "markdown",
   "id": "afeb7eca-7e8f-4cc3-8ca2-8d9a8cffdf0f",
   "metadata": {},
   "source": [
    "##### Audi"
   ]
  },
  {
   "cell_type": "code",
   "execution_count": 717,
   "id": "96fb4303-7d0d-471f-a785-3f8eb97fcc63",
   "metadata": {},
   "outputs": [
    {
     "data": {
      "text/plain": [
       "array(['A3', 'A4', 'Q7', 'Q3', 'A6', 'A8', 'Q5', 'A5', 'RS5'],\n",
       "      dtype=object)"
      ]
     },
     "execution_count": 717,
     "metadata": {},
     "output_type": "execute_result"
    }
   ],
   "source": [
    "df[df['Brand'] == 'Audi']['Model'].unique()"
   ]
  },
  {
   "cell_type": "code",
   "execution_count": 716,
   "id": "0d672715-070f-4fef-98b7-81e2bbde21b0",
   "metadata": {},
   "outputs": [],
   "source": [
    "df.replace('A3 Cabriolet', 'A3', inplace=True)\n",
    "df.replace('A8 L', 'A8', inplace=True)\n",
    "df.replace('2.9 Sportback', 'RS5', inplace=True)"
   ]
  },
  {
   "cell_type": "markdown",
   "id": "0c4b366f-b362-4606-858f-dfdcc2d8684e",
   "metadata": {},
   "source": [
    "##### MG"
   ]
  },
  {
   "cell_type": "code",
   "execution_count": 724,
   "id": "f2a29bef-a490-4fab-8e9c-883fbe1e537c",
   "metadata": {},
   "outputs": [
    {
     "data": {
      "text/plain": [
       "array(['Hector', 'Astor', 'Gloster'], dtype=object)"
      ]
     },
     "execution_count": 724,
     "metadata": {},
     "output_type": "execute_result"
    }
   ],
   "source": [
    "df[df['Brand'] == 'MG']['Model'].unique()"
   ]
  },
  {
   "cell_type": "code",
   "execution_count": 726,
   "id": "5afaeacf-f8d2-4ccf-a28a-c7004ce38c4d",
   "metadata": {},
   "outputs": [],
   "source": [
    "df.replace('Hector Plus', 'Hector', inplace=True)\n",
    "df.replace('ASTOR', 'Astor', inplace=True)"
   ]
  },
  {
   "cell_type": "markdown",
   "id": "c878375b-e3e9-43b5-9053-f90cf7dc8db8",
   "metadata": {},
   "source": [
    "##### Volvo"
   ]
  },
  {
   "cell_type": "code",
   "execution_count": 729,
   "id": "0fe2e927-5c68-4956-985d-41ce8f0d8e44",
   "metadata": {},
   "outputs": [
    {
     "data": {
      "text/plain": [
       "array(['S90', 'XC90', 'V40', 'XC40', 'XC60', 'S60', 'S80'], dtype=object)"
      ]
     },
     "execution_count": 729,
     "metadata": {},
     "output_type": "execute_result"
    }
   ],
   "source": [
    "df[df['Brand'] == 'Volvo']['Model'].unique()"
   ]
  },
  {
   "cell_type": "code",
   "execution_count": 727,
   "id": "74ea4340-0197-40cc-9b3b-bebc87582953",
   "metadata": {},
   "outputs": [],
   "source": [
    "df.replace('XC 90', 'XC90', inplace=True)\n",
    "df.replace('V40 Cross Country', 'V40', inplace=True)\n",
    "df.replace('S60 Cross Country', 'S60', inplace=True)\n",
    "df.replace('S 80', 'S80', inplace=True)"
   ]
  },
  {
   "cell_type": "markdown",
   "id": "deff94e9-c19f-44de-a91c-b649a3779c30",
   "metadata": {},
   "source": [
    "##### Skoda"
   ]
  },
  {
   "cell_type": "code",
   "execution_count": 731,
   "id": "75584eed-21cd-4121-9c36-d0c5c6a562cd",
   "metadata": {},
   "outputs": [
    {
     "data": {
      "text/plain": [
       "array(['Kushaq', 'Kodiaq', 'Rapid', 'Octavia', 'Superb', 'Slavia',\n",
       "       'Laura', 'Fabia'], dtype=object)"
      ]
     },
     "execution_count": 731,
     "metadata": {},
     "output_type": "execute_result"
    }
   ],
   "source": [
    "df[df['Brand'] == 'Skoda']['Model'].unique()"
   ]
  },
  {
   "cell_type": "markdown",
   "id": "cea0cc47-dbc7-45c4-93a0-bbc2776339a2",
   "metadata": {},
   "source": [
    "##### Mahindra"
   ]
  },
  {
   "cell_type": "code",
   "execution_count": 745,
   "id": "66d2b599-4d17-4bdb-b187-f628d42182fc",
   "metadata": {},
   "outputs": [
    {
     "data": {
      "text/plain": [
       "array(['Bolero', 'XUV500', 'Scorpio', 'Thar', 'TUV300', 'XUV700',\n",
       "       'Alturas G4', 'KUV100', 'Xylo', 'Jeep', 'XUV300', 'Verito',\n",
       "       'Marazzo', 'Marshal', 'Quanto', 'E-20', 'Nuvosport', 'Rexton'],\n",
       "      dtype=object)"
      ]
     },
     "execution_count": 745,
     "metadata": {},
     "output_type": "execute_result"
    }
   ],
   "source": [
    "df[df['Brand'] == 'Mahindra']['Model'].unique()"
   ]
  },
  {
   "cell_type": "code",
   "execution_count": 744,
   "id": "301bdf42-8b50-4cac-b659-625148eb2cda",
   "metadata": {},
   "outputs": [],
   "source": [
    "df.replace('Bolero Power Plus', 'Bolero', inplace=True)\n",
    "df.replace('Bolero Neo', 'Bolero', inplace=True)\n",
    "df.replace('Bolero Neo Plus', 'Bolero', inplace=True)\n",
    "df.replace('Scorpio-N', 'Scorpio', inplace=True)\n",
    "df.replace('Scorpio N', 'Scorpio', inplace=True)\n",
    "df.replace('Scorpio Classic', 'Scorpio', inplace=True)\n",
    "df.replace('TUV', 'TUV300', inplace=True)\n",
    "df.replace('TUV 300', 'TUV300', inplace=True)\n",
    "df.replace('TUV 300-plus', 'TUV300', inplace=True)\n",
    "df.replace('KUV 100', 'KUV100', inplace=True)\n",
    "df.replace('XUV 300', 'XUV300', inplace=True)\n",
    "df.replace('KUV100 NXT', 'KUV100', inplace=True)"
   ]
  },
  {
   "cell_type": "markdown",
   "id": "62e89d7f-0000-46ca-9cec-1fbb73aa150d",
   "metadata": {},
   "source": [
    "##### Renault"
   ]
  },
  {
   "cell_type": "code",
   "execution_count": 746,
   "id": "44de0e27-2228-48e5-b748-4128dcf74080",
   "metadata": {},
   "outputs": [
    {
     "data": {
      "text/plain": [
       "array(['Kwid', 'Duster', 'Scala', 'Captur', 'Triber', 'Logan', 'Lodgy',\n",
       "       'Kiger', 'Fluence', 'Pulse'], dtype=object)"
      ]
     },
     "execution_count": 746,
     "metadata": {},
     "output_type": "execute_result"
    }
   ],
   "source": [
    "df[df['Brand'] == 'Renault']['Model'].unique()"
   ]
  },
  {
   "cell_type": "code",
   "execution_count": 747,
   "id": "bf73a98e-b905-46e0-80bc-9b89f57fcf2d",
   "metadata": {},
   "outputs": [],
   "source": [
    "df.loc[df['Model'] == 'Renault Logan', 'Brand'] = 'Renault'\n",
    "df.replace('KWID', 'Kwid', inplace=True)\n",
    "df.replace('Renault Logan', 'Logan', inplace=True)\n",
    "df.replace('New Duster', 'Duster', inplace=True)"
   ]
  },
  {
   "cell_type": "markdown",
   "id": "94e668fb-39f4-4a5c-8b36-c36bc5b2092b",
   "metadata": {},
   "source": [
    "##### Ssangyong"
   ]
  },
  {
   "cell_type": "code",
   "execution_count": 754,
   "id": "d6567aa9-7678-4570-8473-ce9175b56927",
   "metadata": {},
   "outputs": [
    {
     "data": {
      "text/plain": [
       "array(['Rexton'], dtype=object)"
      ]
     },
     "execution_count": 754,
     "metadata": {},
     "output_type": "execute_result"
    }
   ],
   "source": [
    "df[df['Brand'] == 'Ssangyong']['Model'].unique()"
   ]
  },
  {
   "cell_type": "code",
   "execution_count": 753,
   "id": "85576ed4-15bd-4dc4-b5e1-d3d340ca9bf0",
   "metadata": {},
   "outputs": [],
   "source": [
    "df.loc[df['Model'] == 'Ssangyong Rexton', 'Brand'] = 'Ssangyong'\n",
    "df.loc[df['Model'] == 'Ssangyong-Rexton', 'Brand'] = 'Ssangyong'\n",
    "df.replace('Ssangyong-Rexton', 'Rexton', inplace=True)\n",
    "df.replace('Ssangyong Rexton', 'Rexton', inplace=True)"
   ]
  },
  {
   "cell_type": "markdown",
   "id": "409bb4ae-b7f5-40d0-b476-e5ccbd055788",
   "metadata": {},
   "source": [
    "##### Mini"
   ]
  },
  {
   "cell_type": "code",
   "execution_count": 761,
   "id": "e68e061e-7d21-4d88-bf6a-35be36c4ac95",
   "metadata": {},
   "outputs": [
    {
     "data": {
      "text/plain": [
       "array(['Cooper 3', 'Cooper 5', 'Cooper S', 'Cooper Convertible', 'Cooper',\n",
       "       'Cooper Countryman', 'Cooper Clubman'], dtype=object)"
      ]
     },
     "execution_count": 761,
     "metadata": {},
     "output_type": "execute_result"
    }
   ],
   "source": [
    "df[df['Brand'] == 'Mini']['Model'].unique()"
   ]
  },
  {
   "cell_type": "code",
   "execution_count": 760,
   "id": "497bc00f-fbb3-42ff-8dd5-729a2ab5061b",
   "metadata": {},
   "outputs": [],
   "source": [
    "df.replace('Cooper 3 DOOR', 'Cooper 3', inplace=True)\n",
    "df.replace('Cooper 5 DOOR', 'Cooper 5', inplace=True)\n",
    "df.replace('3 DOOR', 'Cooper 3', inplace=True)\n",
    "df.replace('Countryman', 'Cooper Countryman', inplace=True)\n",
    "df.replace('5 DOOR', 'Cooper 5', inplace=True)"
   ]
  },
  {
   "cell_type": "markdown",
   "id": "0ade7b09-b557-49d6-8157-16b7140d99d0",
   "metadata": {},
   "source": [
    "##### Land Rover"
   ]
  },
  {
   "cell_type": "code",
   "execution_count": 764,
   "id": "7e625e85-e8bb-48ac-9d61-8d8221628f1b",
   "metadata": {},
   "outputs": [
    {
     "data": {
      "text/plain": [
       "array(['Range Rover Evoque', 'Discovery', 'Range Rover', 'Defender',\n",
       "       'Range Rover Velar', 'Freelander 2'], dtype=object)"
      ]
     },
     "execution_count": 764,
     "metadata": {},
     "output_type": "execute_result"
    }
   ],
   "source": [
    "df[df['Brand'] == 'Land Rover']['Model'].unique()"
   ]
  },
  {
   "cell_type": "code",
   "execution_count": 763,
   "id": "a7a0084b-17d8-4987-8e58-b496fe96de23",
   "metadata": {},
   "outputs": [],
   "source": [
    "df.replace('Discovery Sport', 'Discovery', inplace=True)\n",
    "df.replace('Range Rover Sport', 'Discovery', inplace=True)"
   ]
  },
  {
   "cell_type": "markdown",
   "id": "545cdf1f-e08b-4619-8b45-760ac442304c",
   "metadata": {},
   "source": [
    "##### Chevrolet"
   ]
  },
  {
   "cell_type": "code",
   "execution_count": 768,
   "id": "5e353b56-1422-42a7-8ef0-36da1bd7fbe7",
   "metadata": {},
   "outputs": [
    {
     "data": {
      "text/plain": [
       "array(['Cruze', 'Enjoy', 'Optra', 'Tavera', 'Beat', 'Spark', 'Sail U-VA',\n",
       "       'Sail', 'Trailblazer', 'Captiva'], dtype=object)"
      ]
     },
     "execution_count": 768,
     "metadata": {},
     "output_type": "execute_result"
    }
   ],
   "source": [
    "df[df['Brand'] == 'Chevrolet']['Model'].unique()"
   ]
  },
  {
   "cell_type": "code",
   "execution_count": 767,
   "id": "443588c2-b630-4b8d-8ecd-0b09647b5864",
   "metadata": {},
   "outputs": [],
   "source": [
    "df.replace('OptraSRV', 'Optra', inplace=True)\n",
    "df.replace('Optra Magnum', 'Optra', inplace=True)"
   ]
  },
  {
   "cell_type": "markdown",
   "id": "aed6a5b2-c0f2-4a87-90c5-bdeb03930184",
   "metadata": {},
   "source": [
    "##### Jaguar"
   ]
  },
  {
   "cell_type": "code",
   "execution_count": 770,
   "id": "26a9c620-f94a-406c-91d3-9e37278f5ca0",
   "metadata": {},
   "outputs": [
    {
     "data": {
      "text/plain": [
       "array(['XF', 'XJ', 'XE', 'F-Pace', 'Others'], dtype=object)"
      ]
     },
     "execution_count": 770,
     "metadata": {},
     "output_type": "execute_result"
    }
   ],
   "source": [
    "df[df['Brand'] == 'Jaguar']['Model'].unique()"
   ]
  },
  {
   "cell_type": "markdown",
   "id": "708ddc9c-97e3-4a87-a4ed-06455fd23e72",
   "metadata": {},
   "source": [
    "##### Fiat"
   ]
  },
  {
   "cell_type": "code",
   "execution_count": 773,
   "id": "480e6c8b-1b34-49aa-a85c-0e9f8709378d",
   "metadata": {},
   "outputs": [
    {
     "data": {
      "text/plain": [
       "array(['Linea', 'Punto', 'Avventura', 'Urban Cross'], dtype=object)"
      ]
     },
     "execution_count": 773,
     "metadata": {},
     "output_type": "execute_result"
    }
   ],
   "source": [
    "df[df['Brand'] == 'Fiat']['Model'].unique()"
   ]
  },
  {
   "cell_type": "code",
   "execution_count": 772,
   "id": "a334366e-74c0-48f2-994f-ba0d752001d1",
   "metadata": {},
   "outputs": [],
   "source": [
    "df.replace('Punto EVO', 'Punto', inplace=True)\n",
    "df.replace('Grand Punto', 'Punto', inplace=True)\n",
    "df.replace('Punto Pure', 'Punto', inplace=True)"
   ]
  },
  {
   "cell_type": "markdown",
   "id": "a77da11c-b8af-4fb5-b4f5-169a4202b657",
   "metadata": {},
   "source": [
    "##### Aston Martin"
   ]
  },
  {
   "cell_type": "code",
   "execution_count": 774,
   "id": "cdf04d72-8388-4ff4-a82b-cf550acb9167",
   "metadata": {},
   "outputs": [
    {
     "data": {
      "text/plain": [
       "array(['Vanquish'], dtype=object)"
      ]
     },
     "execution_count": 774,
     "metadata": {},
     "output_type": "execute_result"
    }
   ],
   "source": [
    "df[df['Brand'] == 'Aston Martin']['Model'].unique()"
   ]
  },
  {
   "cell_type": "markdown",
   "id": "68637eb0-0a40-4d73-96c5-d8852d91ca7b",
   "metadata": {},
   "source": [
    "##### Porsche"
   ]
  },
  {
   "cell_type": "code",
   "execution_count": 777,
   "id": "90204ce6-f943-4349-9909-3e4d0f005976",
   "metadata": {},
   "outputs": [
    {
     "data": {
      "text/plain": [
       "array(['Macan', '718', 'Boxster', 'Cayenne', 'Panamera', 'Cayman'],\n",
       "      dtype=object)"
      ]
     },
     "execution_count": 777,
     "metadata": {},
     "output_type": "execute_result"
    }
   ],
   "source": [
    "df[df['Brand'] == 'Porsche']['Model'].unique()"
   ]
  },
  {
   "cell_type": "code",
   "execution_count": 776,
   "id": "a7165eb7-6698-4fcf-ada3-f85aa19c1659",
   "metadata": {},
   "outputs": [],
   "source": [
    "df.replace('Cayenne Coupe', 'Cayenne', inplace=True)"
   ]
  },
  {
   "cell_type": "markdown",
   "id": "088ff758-0bb6-438f-a170-4660813991a3",
   "metadata": {},
   "source": [
    "##### Nissan"
   ]
  },
  {
   "cell_type": "code",
   "execution_count": 782,
   "id": "e188bb04-242e-4056-9309-90c9be18ec6c",
   "metadata": {},
   "outputs": [
    {
     "data": {
      "text/plain": [
       "array(['Terrano', 'Micra', 'Kicks', 'Patrol', 'Sunny', 'Magnite', 'Teana',\n",
       "       'Urvan'], dtype=object)"
      ]
     },
     "execution_count": 782,
     "metadata": {},
     "output_type": "execute_result"
    }
   ],
   "source": [
    "df[df['Brand'] == 'Nissan']['Model'].unique()"
   ]
  },
  {
   "cell_type": "code",
   "execution_count": 781,
   "id": "465574d0-cfbd-4ada-9744-6f53b55387ff",
   "metadata": {},
   "outputs": [],
   "source": [
    "df.replace('MICRA PRIMO', 'Micra', inplace=True)\n",
    "df.replace('Micra Active', 'Micra', inplace=True)\n",
    "df.replace('PATROL', 'Patrol', inplace=True)"
   ]
  },
  {
   "cell_type": "markdown",
   "id": "10ff7844-a6a8-4c03-a466-a99b600f5f9a",
   "metadata": {},
   "source": [
    "##### Force Motors"
   ]
  },
  {
   "cell_type": "code",
   "execution_count": 785,
   "id": "99002c16-cf6a-4495-9ae0-be55743e5953",
   "metadata": {},
   "outputs": [],
   "source": [
    "df.replace('Force', 'Force Motors', inplace=True)"
   ]
  },
  {
   "cell_type": "code",
   "execution_count": 789,
   "id": "eb11db2c-b46f-472f-870b-a9ed9bb5794c",
   "metadata": {},
   "outputs": [
    {
     "data": {
      "text/plain": [
       "array(['Gurkha', 'Trax Cruiser', 'Force One'], dtype=object)"
      ]
     },
     "execution_count": 789,
     "metadata": {},
     "output_type": "execute_result"
    }
   ],
   "source": [
    "df[df['Brand'] == 'Force Motors']['Model'].unique()"
   ]
  },
  {
   "cell_type": "code",
   "execution_count": 791,
   "id": "26012ccb-cd77-40ed-9f91-43836228e280",
   "metadata": {},
   "outputs": [],
   "source": [
    "df.replace('Motors FM Gurkha', 'Gurkha', inplace=True)\n",
    "df.replace('Motors FM Trax Cruiser', 'Trax Cruiser', inplace=True)\n",
    "df.replace('Motors FM Force One Test', 'Force One', inplace=True)"
   ]
  },
  {
   "cell_type": "markdown",
   "id": "eb5182dc-a576-4834-9bcf-fde66d3baec2",
   "metadata": {},
   "source": [
    "##### Mitsubishi"
   ]
  },
  {
   "cell_type": "code",
   "execution_count": 790,
   "id": "14ccd8d0-f8a8-41ad-b512-23f6bc38f914",
   "metadata": {},
   "outputs": [
    {
     "data": {
      "text/plain": [
       "array(['Pajero Sport', 'Cedia', 'Outlander', 'Lancer'], dtype=object)"
      ]
     },
     "execution_count": 790,
     "metadata": {},
     "output_type": "execute_result"
    }
   ],
   "source": [
    "df[df['Brand'] == 'Mitsubishi']['Model'].unique()"
   ]
  },
  {
   "cell_type": "markdown",
   "id": "ad9ce831-5167-4e60-89b7-f299db8bc1f8",
   "metadata": {},
   "source": [
    "##### Lexus"
   ]
  },
  {
   "cell_type": "code",
   "execution_count": 792,
   "id": "8790de71-8848-4edd-a5d5-929a2d25cea5",
   "metadata": {},
   "outputs": [
    {
     "data": {
      "text/plain": [
       "array(['ES', 'LX', 'NX', 'LS', 'RX'], dtype=object)"
      ]
     },
     "execution_count": 792,
     "metadata": {},
     "output_type": "execute_result"
    }
   ],
   "source": [
    "df[df['Brand'] == 'Lexus']['Model'].unique()"
   ]
  },
  {
   "cell_type": "markdown",
   "id": "c7dd8035-5050-4e38-b4f1-ce9b8eec0f8b",
   "metadata": {},
   "source": [
    "##### Isuzu"
   ]
  },
  {
   "cell_type": "code",
   "execution_count": 800,
   "id": "d698db4d-6b53-4bc8-b642-7f942ff54906",
   "metadata": {},
   "outputs": [
    {
     "data": {
      "text/plain": [
       "array(['D-Max', 'MUX', 'Hi-Lander'], dtype=object)"
      ]
     },
     "execution_count": 800,
     "metadata": {},
     "output_type": "execute_result"
    }
   ],
   "source": [
    "df[df['Brand'] == 'Isuzu']['Model'].unique()"
   ]
  },
  {
   "cell_type": "code",
   "execution_count": 799,
   "id": "db971682-0dcb-4530-a54a-eda915563edc",
   "metadata": {},
   "outputs": [],
   "source": [
    "df.replace('MAX', 'D-Max', inplace=True)\n",
    "df.replace('D-Max V-Cross', 'D-Max', inplace=True)\n",
    "df.replace('Hi-Lande Isuzu Hi-Lander', 'Hi-Lander', inplace=True)"
   ]
  },
  {
   "cell_type": "markdown",
   "id": "62ed7022-0b10-4733-af81-11a95b043d9b",
   "metadata": {},
   "source": [
    "##### Datsun"
   ]
  },
  {
   "cell_type": "code",
   "execution_count": 798,
   "id": "c2486dc3-2dc2-409d-bc90-5f92334f1a11",
   "metadata": {},
   "outputs": [
    {
     "data": {
      "text/plain": [
       "array(['Redi GO', 'GO', 'GO Plus'], dtype=object)"
      ]
     },
     "execution_count": 798,
     "metadata": {},
     "output_type": "execute_result"
    }
   ],
   "source": [
    "df[df['Brand'] == 'Datsun']['Model'].unique()"
   ]
  },
  {
   "cell_type": "code",
   "execution_count": 797,
   "id": "63458f2a-e7f8-4c6e-a889-00c81fe2e73d",
   "metadata": {},
   "outputs": [],
   "source": [
    "df.replace('RediGO', 'Redi GO', inplace=True)\n",
    "df.replace('Redi Go', 'Redi GO', inplace=True)"
   ]
  },
  {
   "cell_type": "markdown",
   "id": "5c5cce36-b4e5-4cd2-a39e-94c0a1720dbb",
   "metadata": {},
   "source": [
    "##### Ambassador"
   ]
  },
  {
   "cell_type": "code",
   "execution_count": 801,
   "id": "7fa5570e-229f-4b19-afb5-4f4f00a43efa",
   "metadata": {},
   "outputs": [
    {
     "data": {
      "text/plain": [
       "array(['Ambassador'], dtype=object)"
      ]
     },
     "execution_count": 801,
     "metadata": {},
     "output_type": "execute_result"
    }
   ],
   "source": [
    "df[df['Brand'] == 'Ambassador']['Model'].unique()"
   ]
  },
  {
   "cell_type": "markdown",
   "id": "3f51daf0-8575-45cb-834b-1648f3a902e8",
   "metadata": {},
   "source": [
    "##### Rolls-Royce"
   ]
  },
  {
   "cell_type": "code",
   "execution_count": 804,
   "id": "c954af8a-e2f2-4d32-acad-6c0cbbac3137",
   "metadata": {},
   "outputs": [
    {
     "data": {
      "text/plain": [
       "array(['Phantom'], dtype=object)"
      ]
     },
     "execution_count": 804,
     "metadata": {},
     "output_type": "execute_result"
    }
   ],
   "source": [
    "df[df['Brand'] == 'Rolls-Royce']['Model'].unique()"
   ]
  },
  {
   "cell_type": "code",
   "execution_count": 803,
   "id": "1fe133af-09ba-4ab7-bb86-eae86976ad4a",
   "metadata": {},
   "outputs": [],
   "source": [
    "df.replace('Phantom Series II', 'Phantom', inplace=True)\n",
    "df.replace('Phantom Drop HeadCoupe', 'Phantom', inplace=True)"
   ]
  },
  {
   "cell_type": "markdown",
   "id": "da0bbf8e-e644-4443-be0a-5f3a258bdfef",
   "metadata": {},
   "source": [
    "##### Bajaj"
   ]
  },
  {
   "cell_type": "code",
   "execution_count": 805,
   "id": "2c7b6069-d958-40dd-a527-fcf7b1ce4c5d",
   "metadata": {},
   "outputs": [
    {
     "data": {
      "text/plain": [
       "array(['RE60'], dtype=object)"
      ]
     },
     "execution_count": 805,
     "metadata": {},
     "output_type": "execute_result"
    }
   ],
   "source": [
    "df[df['Brand'] == 'Bajaj']['Model'].unique()"
   ]
  },
  {
   "cell_type": "markdown",
   "id": "8fe56271-77fb-4d67-b939-70923cf2e4aa",
   "metadata": {},
   "source": [
    "##### Opel"
   ]
  },
  {
   "cell_type": "code",
   "execution_count": 806,
   "id": "5862741c-b3a9-46fb-899e-c032baa86c79",
   "metadata": {},
   "outputs": [
    {
     "data": {
      "text/plain": [
       "array(['Corsa'], dtype=object)"
      ]
     },
     "execution_count": 806,
     "metadata": {},
     "output_type": "execute_result"
    }
   ],
   "source": [
    "df[df['Brand'] == 'Opel']['Model'].unique()"
   ]
  },
  {
   "cell_type": "markdown",
   "id": "a95f741c-ba02-4e2d-a90d-38b09b3e63b9",
   "metadata": {},
   "source": [
    "##### Ashok"
   ]
  },
  {
   "cell_type": "code",
   "execution_count": 807,
   "id": "2add7ba9-3f7a-43a9-ac3d-3cfc4199b148",
   "metadata": {},
   "outputs": [
    {
     "data": {
      "text/plain": [
       "array(['Leyland Stile'], dtype=object)"
      ]
     },
     "execution_count": 807,
     "metadata": {},
     "output_type": "execute_result"
    }
   ],
   "source": [
    "df[df['Brand'] == 'Ashok']['Model'].unique()"
   ]
  },
  {
   "cell_type": "markdown",
   "id": "837725ba-f958-428b-9e3b-58c46344e7b9",
   "metadata": {},
   "source": [
    "##### Bentley"
   ]
  },
  {
   "cell_type": "code",
   "execution_count": 808,
   "id": "9c87539c-d16e-4453-b7d3-5032bce966d2",
   "metadata": {},
   "outputs": [
    {
     "data": {
      "text/plain": [
       "array(['Flying Spur'], dtype=object)"
      ]
     },
     "execution_count": 808,
     "metadata": {},
     "output_type": "execute_result"
    }
   ],
   "source": [
    "df[df['Brand'] == 'Bentley']['Model'].unique()"
   ]
  },
  {
   "cell_type": "markdown",
   "id": "72411613-734c-4c85-811f-f85548ab9d7e",
   "metadata": {},
   "source": [
    "##### Maserati"
   ]
  },
  {
   "cell_type": "code",
   "execution_count": 809,
   "id": "a5f6fbd4-3bd6-47cb-96fe-647baf4de70c",
   "metadata": {},
   "outputs": [
    {
     "data": {
      "text/plain": [
       "array(['Gran Turismo'], dtype=object)"
      ]
     },
     "execution_count": 809,
     "metadata": {},
     "output_type": "execute_result"
    }
   ],
   "source": [
    "df[df['Brand'] == 'Maserati']['Model'].unique()"
   ]
  },
  {
   "cell_type": "markdown",
   "id": "4cc28f57-017e-40c8-a7d9-b9fa105f4ed8",
   "metadata": {},
   "source": [
    "### Encoding"
   ]
  },
  {
   "cell_type": "code",
   "execution_count": 524,
   "id": "bffd12e0-6077-44ef-ade6-b92886d89e2a",
   "metadata": {},
   "outputs": [],
   "source": [
    "# Creating dictionary for every categorical column\n",
    "\n",
    "Brand_dict = dict()\n",
    "Model_dict = dict()\n",
    "Transmission_dict = dict()\n",
    "Owner_dict = dict()\n",
    "FuelType_dict = dict()"
   ]
  },
  {
   "cell_type": "code",
   "execution_count": 525,
   "id": "87a965f9-a22d-401e-af79-cd95a97e82e2",
   "metadata": {},
   "outputs": [
    {
     "name": "stdout",
     "output_type": "stream",
     "text": [
      "Brand label saved\n",
      "Model label saved\n",
      "Transmission label saved\n",
      "Owner label saved\n",
      "FuelType label saved\n"
     ]
    }
   ],
   "source": [
    "from sklearn.preprocessing import LabelEncoder\n",
    "\n",
    "encoder = LabelEncoder()\n",
    "\n",
    "# Brand column\n",
    "df['Brand'] = encoder.fit_transform(df['Brand'])\n",
    "for num, lbl in enumerate(encoder.classes_):\n",
    "    Brand_dict[lbl] = num\n",
    "print('Brand label saved')\n",
    "\n",
    "# Model column\n",
    "df['Model'] = encoder.fit_transform(df['Model'])\n",
    "for num, lbl in enumerate(encoder.classes_):\n",
    "    Model_dict[lbl] = num\n",
    "print('Model label saved')\n",
    "\n",
    "# Transmission column\n",
    "df['Transmission'] = encoder.fit_transform(df['Transmission'])\n",
    "for num, lbl in enumerate(encoder.classes_):\n",
    "    Transmission_dict[lbl] = num\n",
    "print('Transmission label saved')\n",
    "\n",
    "# Owner column\n",
    "df['Owner'] = encoder.fit_transform(df['Owner'])\n",
    "for num, lbl in enumerate(encoder.classes_):\n",
    "    Owner_dict[lbl] = num\n",
    "print('Owner label saved')\n",
    "\n",
    "# Fuel Type column\n",
    "df['FuelType'] = encoder.fit_transform(df['FuelType'])\n",
    "for num, lbl in enumerate(encoder.classes_):\n",
    "    FuelType_dict[lbl] = num\n",
    "print('FuelType label saved')"
   ]
  },
  {
   "cell_type": "code",
   "execution_count": 526,
   "id": "454d27f5-53ef-49c1-b4c1-ba816b0dcf8d",
   "metadata": {},
   "outputs": [
    {
     "data": {
      "text/plain": [
       "{'Ambassador': 0,\n",
       " 'Ashok': 1,\n",
       " 'Aston Martin': 2,\n",
       " 'Audi': 3,\n",
       " 'BMW': 4,\n",
       " 'Bajaj': 5,\n",
       " 'Bentley': 6,\n",
       " 'Chevrolet': 7,\n",
       " 'Datsun': 8,\n",
       " 'Fiat': 9,\n",
       " 'Force': 10,\n",
       " 'Ford': 11,\n",
       " 'Honda': 12,\n",
       " 'Hyundai': 13,\n",
       " 'Isuzu': 14,\n",
       " 'Jaguar': 15,\n",
       " 'Jeep': 16,\n",
       " 'Kia': 17,\n",
       " 'Land Rover': 18,\n",
       " 'Lexus': 19,\n",
       " 'MG': 20,\n",
       " 'Mahindra': 21,\n",
       " 'Maruti Suzuki': 22,\n",
       " 'Maserati': 23,\n",
       " 'Mercedes-Benz': 24,\n",
       " 'Mini': 25,\n",
       " 'Mitsubishi': 26,\n",
       " 'Nissan': 27,\n",
       " 'Opel': 28,\n",
       " 'Porsche': 29,\n",
       " 'Renault': 30,\n",
       " 'Rolls-Royce': 31,\n",
       " 'Skoda': 32,\n",
       " 'Ssangyong': 33,\n",
       " 'Tata': 34,\n",
       " 'Toyota': 35,\n",
       " 'Volkswagen': 36,\n",
       " 'Volvo': 37}"
      ]
     },
     "execution_count": 526,
     "metadata": {},
     "output_type": "execute_result"
    }
   ],
   "source": [
    "Brand_dict"
   ]
  },
  {
   "cell_type": "code",
   "execution_count": 527,
   "id": "630417ed-2804-47b6-a93f-166c0c49d718",
   "metadata": {},
   "outputs": [],
   "source": [
    "# Putting all the encoded dict in txt file\n",
    "filename = 'categorical_mappings.txt'\n",
    "\n",
    "# Open the file in write mode\n",
    "with open(filename, 'w') as file:\n",
    "    # Write Brand_dict\n",
    "    file.write(\"Brand Dictionary:\\n\")\n",
    "    for brand, label in Brand_dict.items():\n",
    "        file.write(f\"'{brand}': {label},\\n\")\n",
    "    \n",
    "    # Write Model_dict\n",
    "    file.write(\"\\nModel Dictionary:\\n\")\n",
    "    for model, label in Model_dict.items():\n",
    "        file.write(f\"'{model}': {label},\\n\")\n",
    "\n",
    "    # Write Transmission_dict\n",
    "    file.write(\"\\nTransmission Dictionary:\\n\")\n",
    "    for transmission, label in Transmission_dict.items():\n",
    "        file.write(f\"'{transmission}': {label},\\n\")\n",
    "\n",
    "    # Write Owner_dict\n",
    "    file.write(\"\\nOwner Dictionary:\\n\")\n",
    "    for owner, label in Owner_dict.items():\n",
    "        file.write(f\"'{owner}': {label},\\n\")\n",
    "\n",
    "    # Write FuelType_dict\n",
    "    file.write(\"\\nFuel Type Dictionary:\\n\")\n",
    "    for fuel_type, label in FuelType_dict.items():\n",
    "        file.write(f\"'{fuel_type}': {label},\\n\")"
   ]
  },
  {
   "cell_type": "code",
   "execution_count": 528,
   "id": "bc783864-3e27-4dae-8c1d-22ac9a1282e0",
   "metadata": {},
   "outputs": [
    {
     "name": "stdout",
     "output_type": "stream",
     "text": [
      "<class 'pandas.core.frame.DataFrame'>\n",
      "Index: 8715 entries, 0 to 9581\n",
      "Data columns (total 8 columns):\n",
      " #   Column        Non-Null Count  Dtype  \n",
      "---  ------        --------------  -----  \n",
      " 0   Brand         8715 non-null   int64  \n",
      " 1   Model         8715 non-null   int64  \n",
      " 2   Age           8715 non-null   int64  \n",
      " 3   KmDriven      8715 non-null   float64\n",
      " 4   Transmission  8715 non-null   int64  \n",
      " 5   Owner         8715 non-null   int64  \n",
      " 6   FuelType      8715 non-null   int64  \n",
      " 7   log_price     8715 non-null   float64\n",
      "dtypes: float64(2), int64(6)\n",
      "memory usage: 612.8 KB\n"
     ]
    }
   ],
   "source": [
    "df.info()"
   ]
  },
  {
   "cell_type": "code",
   "execution_count": 529,
   "id": "ff3d00c5-6149-474a-b2c9-237aad7534d3",
   "metadata": {},
   "outputs": [
    {
     "data": {
      "text/html": [
       "<div>\n",
       "<style scoped>\n",
       "    .dataframe tbody tr th:only-of-type {\n",
       "        vertical-align: middle;\n",
       "    }\n",
       "\n",
       "    .dataframe tbody tr th {\n",
       "        vertical-align: top;\n",
       "    }\n",
       "\n",
       "    .dataframe thead th {\n",
       "        text-align: right;\n",
       "    }\n",
       "</style>\n",
       "<table border=\"1\" class=\"dataframe\">\n",
       "  <thead>\n",
       "    <tr style=\"text-align: right;\">\n",
       "      <th></th>\n",
       "      <th>Brand</th>\n",
       "      <th>Model</th>\n",
       "      <th>Age</th>\n",
       "      <th>KmDriven</th>\n",
       "      <th>Transmission</th>\n",
       "      <th>Owner</th>\n",
       "      <th>FuelType</th>\n",
       "      <th>log_price</th>\n",
       "    </tr>\n",
       "  </thead>\n",
       "  <tbody>\n",
       "    <tr>\n",
       "      <th>0</th>\n",
       "      <td>12</td>\n",
       "      <td>84</td>\n",
       "      <td>276</td>\n",
       "      <td>98000.0</td>\n",
       "      <td>1</td>\n",
       "      <td>1</td>\n",
       "      <td>2</td>\n",
       "      <td>12.180755</td>\n",
       "    </tr>\n",
       "    <tr>\n",
       "      <th>1</th>\n",
       "      <td>35</td>\n",
       "      <td>187</td>\n",
       "      <td>180</td>\n",
       "      <td>190000.0</td>\n",
       "      <td>1</td>\n",
       "      <td>1</td>\n",
       "      <td>0</td>\n",
       "      <td>12.834681</td>\n",
       "    </tr>\n",
       "    <tr>\n",
       "      <th>2</th>\n",
       "      <td>36</td>\n",
       "      <td>345</td>\n",
       "      <td>168</td>\n",
       "      <td>77246.0</td>\n",
       "      <td>1</td>\n",
       "      <td>0</td>\n",
       "      <td>0</td>\n",
       "      <td>12.128106</td>\n",
       "    </tr>\n",
       "    <tr>\n",
       "      <th>3</th>\n",
       "      <td>22</td>\n",
       "      <td>316</td>\n",
       "      <td>84</td>\n",
       "      <td>83500.0</td>\n",
       "      <td>1</td>\n",
       "      <td>1</td>\n",
       "      <td>0</td>\n",
       "      <td>13.244581</td>\n",
       "    </tr>\n",
       "    <tr>\n",
       "      <th>4</th>\n",
       "      <td>22</td>\n",
       "      <td>52</td>\n",
       "      <td>60</td>\n",
       "      <td>45000.0</td>\n",
       "      <td>0</td>\n",
       "      <td>0</td>\n",
       "      <td>2</td>\n",
       "      <td>13.437174</td>\n",
       "    </tr>\n",
       "    <tr>\n",
       "      <th>...</th>\n",
       "      <td>...</td>\n",
       "      <td>...</td>\n",
       "      <td>...</td>\n",
       "      <td>...</td>\n",
       "      <td>...</td>\n",
       "      <td>...</td>\n",
       "      <td>...</td>\n",
       "      <td>...</td>\n",
       "    </tr>\n",
       "    <tr>\n",
       "      <th>9576</th>\n",
       "      <td>29</td>\n",
       "      <td>76</td>\n",
       "      <td>12</td>\n",
       "      <td>7700.0</td>\n",
       "      <td>0</td>\n",
       "      <td>0</td>\n",
       "      <td>2</td>\n",
       "      <td>16.425580</td>\n",
       "    </tr>\n",
       "    <tr>\n",
       "      <th>9578</th>\n",
       "      <td>22</td>\n",
       "      <td>40</td>\n",
       "      <td>48</td>\n",
       "      <td>55000.0</td>\n",
       "      <td>1</td>\n",
       "      <td>0</td>\n",
       "      <td>1</td>\n",
       "      <td>12.834681</td>\n",
       "    </tr>\n",
       "    <tr>\n",
       "      <th>9579</th>\n",
       "      <td>22</td>\n",
       "      <td>276</td>\n",
       "      <td>132</td>\n",
       "      <td>92000.0</td>\n",
       "      <td>1</td>\n",
       "      <td>0</td>\n",
       "      <td>0</td>\n",
       "      <td>12.936034</td>\n",
       "    </tr>\n",
       "    <tr>\n",
       "      <th>9580</th>\n",
       "      <td>13</td>\n",
       "      <td>350</td>\n",
       "      <td>60</td>\n",
       "      <td>72000.0</td>\n",
       "      <td>0</td>\n",
       "      <td>0</td>\n",
       "      <td>2</td>\n",
       "      <td>13.658857</td>\n",
       "    </tr>\n",
       "    <tr>\n",
       "      <th>9581</th>\n",
       "      <td>13</td>\n",
       "      <td>236</td>\n",
       "      <td>36</td>\n",
       "      <td>83228.0</td>\n",
       "      <td>1</td>\n",
       "      <td>1</td>\n",
       "      <td>2</td>\n",
       "      <td>13.457406</td>\n",
       "    </tr>\n",
       "  </tbody>\n",
       "</table>\n",
       "<p>8715 rows × 8 columns</p>\n",
       "</div>"
      ],
      "text/plain": [
       "      Brand  Model  Age  KmDriven  Transmission  Owner  FuelType  log_price\n",
       "0        12     84  276   98000.0             1      1         2  12.180755\n",
       "1        35    187  180  190000.0             1      1         0  12.834681\n",
       "2        36    345  168   77246.0             1      0         0  12.128106\n",
       "3        22    316   84   83500.0             1      1         0  13.244581\n",
       "4        22     52   60   45000.0             0      0         2  13.437174\n",
       "...     ...    ...  ...       ...           ...    ...       ...        ...\n",
       "9576     29     76   12    7700.0             0      0         2  16.425580\n",
       "9578     22     40   48   55000.0             1      0         1  12.834681\n",
       "9579     22    276  132   92000.0             1      0         0  12.936034\n",
       "9580     13    350   60   72000.0             0      0         2  13.658857\n",
       "9581     13    236   36   83228.0             1      1         2  13.457406\n",
       "\n",
       "[8715 rows x 8 columns]"
      ]
     },
     "execution_count": 529,
     "metadata": {},
     "output_type": "execute_result"
    }
   ],
   "source": [
    "df"
   ]
  },
  {
   "cell_type": "code",
   "execution_count": null,
   "id": "e1a6cddd-5690-407a-af22-0fbf0c8fa686",
   "metadata": {},
   "outputs": [],
   "source": []
  },
  {
   "cell_type": "code",
   "execution_count": 530,
   "id": "26fa46e8-f0c8-4b49-a04d-677c2c481e5b",
   "metadata": {},
   "outputs": [
    {
     "name": "stdout",
     "output_type": "stream",
     "text": [
      "Training set shape: (6972, 7)\n",
      "Testing set shape: (1743, 7)\n"
     ]
    }
   ],
   "source": [
    "from sklearn.model_selection import train_test_split\n",
    "\n",
    "x = df.drop(['log_price'], axis=1)\n",
    "y = df['log_price']\n",
    "\n",
    "x_train, x_test, y_train, y_test = train_test_split(x, y, train_size=0.8, random_state=123456)\n",
    "\n",
    "print(\"Training set shape:\", x_train.shape)\n",
    "print(\"Testing set shape:\", x_test.shape)"
   ]
  },
  {
   "cell_type": "code",
   "execution_count": null,
   "id": "bf7e8039-bb0d-491d-8af8-693781a93cfb",
   "metadata": {},
   "outputs": [],
   "source": []
  },
  {
   "cell_type": "code",
   "execution_count": null,
   "id": "b79052fc-2a89-4187-888d-2a1c7cab540d",
   "metadata": {},
   "outputs": [],
   "source": []
  },
  {
   "cell_type": "code",
   "execution_count": 531,
   "id": "0de9c6e6-8c3e-4544-846d-2071e169070c",
   "metadata": {},
   "outputs": [],
   "source": [
    "from sklearn.metrics import mean_absolute_error, mean_squared_error, root_mean_squared_error, r2_score\n",
    "\n",
    "def metric_calc(x, y):\n",
    "    y_pred = model.predict(x)\n",
    "    y_true = y\n",
    "    \n",
    "    mae = mean_absolute_error(y_true, y_pred)\n",
    "    mse = mean_squared_error(y_true, y_pred)\n",
    "    rmse = root_mean_squared_error(y_true, y_pred)\n",
    "    r2 = r2_score(y_true, y_pred)\n",
    "    # adjusted r2\n",
    "    # number of values in the data set\n",
    "    n = y_true.size\n",
    "    # number of independent features\n",
    "    k = 7\n",
    "    adjusted_r2 = 1 - ((1-r2) * ((n - 1) / (n - (k + 1))))\n",
    "    adjusted_r2\n",
    "    \n",
    "    print(f\"Metrics:\\n mae = {mae}\\n mse = {mse}\\n rmse = {rmse}\\n r2 = {r2}\\n adjusted_r2 = {adjusted_r2}\")\n",
    "\n",
    "def print_metric(x_train, y_train, x_test, y_test):\n",
    "    print(f\"Training\")\n",
    "    metric_calc(x_train, y_train)\n",
    "    print()\n",
    "    print(f\"Testing\")\n",
    "    metric_calc(x_test, y_test)"
   ]
  },
  {
   "cell_type": "code",
   "execution_count": null,
   "id": "6e0ca53c-e04d-47a9-8fbc-20466e8368fc",
   "metadata": {},
   "outputs": [],
   "source": []
  },
  {
   "cell_type": "code",
   "execution_count": null,
   "id": "9622ed71-37f8-4470-87a0-4d3cb30c8d75",
   "metadata": {},
   "outputs": [],
   "source": []
  },
  {
   "cell_type": "code",
   "execution_count": 532,
   "id": "9673c1fb-1a39-439c-818d-9df72feafa0a",
   "metadata": {},
   "outputs": [
    {
     "data": {
      "text/html": [
       "<style>#sk-container-id-11 {\n",
       "  /* Definition of color scheme common for light and dark mode */\n",
       "  --sklearn-color-text: #000;\n",
       "  --sklearn-color-text-muted: #666;\n",
       "  --sklearn-color-line: gray;\n",
       "  /* Definition of color scheme for unfitted estimators */\n",
       "  --sklearn-color-unfitted-level-0: #fff5e6;\n",
       "  --sklearn-color-unfitted-level-1: #f6e4d2;\n",
       "  --sklearn-color-unfitted-level-2: #ffe0b3;\n",
       "  --sklearn-color-unfitted-level-3: chocolate;\n",
       "  /* Definition of color scheme for fitted estimators */\n",
       "  --sklearn-color-fitted-level-0: #f0f8ff;\n",
       "  --sklearn-color-fitted-level-1: #d4ebff;\n",
       "  --sklearn-color-fitted-level-2: #b3dbfd;\n",
       "  --sklearn-color-fitted-level-3: cornflowerblue;\n",
       "\n",
       "  /* Specific color for light theme */\n",
       "  --sklearn-color-text-on-default-background: var(--sg-text-color, var(--theme-code-foreground, var(--jp-content-font-color1, black)));\n",
       "  --sklearn-color-background: var(--sg-background-color, var(--theme-background, var(--jp-layout-color0, white)));\n",
       "  --sklearn-color-border-box: var(--sg-text-color, var(--theme-code-foreground, var(--jp-content-font-color1, black)));\n",
       "  --sklearn-color-icon: #696969;\n",
       "\n",
       "  @media (prefers-color-scheme: dark) {\n",
       "    /* Redefinition of color scheme for dark theme */\n",
       "    --sklearn-color-text-on-default-background: var(--sg-text-color, var(--theme-code-foreground, var(--jp-content-font-color1, white)));\n",
       "    --sklearn-color-background: var(--sg-background-color, var(--theme-background, var(--jp-layout-color0, #111)));\n",
       "    --sklearn-color-border-box: var(--sg-text-color, var(--theme-code-foreground, var(--jp-content-font-color1, white)));\n",
       "    --sklearn-color-icon: #878787;\n",
       "  }\n",
       "}\n",
       "\n",
       "#sk-container-id-11 {\n",
       "  color: var(--sklearn-color-text);\n",
       "}\n",
       "\n",
       "#sk-container-id-11 pre {\n",
       "  padding: 0;\n",
       "}\n",
       "\n",
       "#sk-container-id-11 input.sk-hidden--visually {\n",
       "  border: 0;\n",
       "  clip: rect(1px 1px 1px 1px);\n",
       "  clip: rect(1px, 1px, 1px, 1px);\n",
       "  height: 1px;\n",
       "  margin: -1px;\n",
       "  overflow: hidden;\n",
       "  padding: 0;\n",
       "  position: absolute;\n",
       "  width: 1px;\n",
       "}\n",
       "\n",
       "#sk-container-id-11 div.sk-dashed-wrapped {\n",
       "  border: 1px dashed var(--sklearn-color-line);\n",
       "  margin: 0 0.4em 0.5em 0.4em;\n",
       "  box-sizing: border-box;\n",
       "  padding-bottom: 0.4em;\n",
       "  background-color: var(--sklearn-color-background);\n",
       "}\n",
       "\n",
       "#sk-container-id-11 div.sk-container {\n",
       "  /* jupyter's `normalize.less` sets `[hidden] { display: none; }`\n",
       "     but bootstrap.min.css set `[hidden] { display: none !important; }`\n",
       "     so we also need the `!important` here to be able to override the\n",
       "     default hidden behavior on the sphinx rendered scikit-learn.org.\n",
       "     See: https://github.com/scikit-learn/scikit-learn/issues/21755 */\n",
       "  display: inline-block !important;\n",
       "  position: relative;\n",
       "}\n",
       "\n",
       "#sk-container-id-11 div.sk-text-repr-fallback {\n",
       "  display: none;\n",
       "}\n",
       "\n",
       "div.sk-parallel-item,\n",
       "div.sk-serial,\n",
       "div.sk-item {\n",
       "  /* draw centered vertical line to link estimators */\n",
       "  background-image: linear-gradient(var(--sklearn-color-text-on-default-background), var(--sklearn-color-text-on-default-background));\n",
       "  background-size: 2px 100%;\n",
       "  background-repeat: no-repeat;\n",
       "  background-position: center center;\n",
       "}\n",
       "\n",
       "/* Parallel-specific style estimator block */\n",
       "\n",
       "#sk-container-id-11 div.sk-parallel-item::after {\n",
       "  content: \"\";\n",
       "  width: 100%;\n",
       "  border-bottom: 2px solid var(--sklearn-color-text-on-default-background);\n",
       "  flex-grow: 1;\n",
       "}\n",
       "\n",
       "#sk-container-id-11 div.sk-parallel {\n",
       "  display: flex;\n",
       "  align-items: stretch;\n",
       "  justify-content: center;\n",
       "  background-color: var(--sklearn-color-background);\n",
       "  position: relative;\n",
       "}\n",
       "\n",
       "#sk-container-id-11 div.sk-parallel-item {\n",
       "  display: flex;\n",
       "  flex-direction: column;\n",
       "}\n",
       "\n",
       "#sk-container-id-11 div.sk-parallel-item:first-child::after {\n",
       "  align-self: flex-end;\n",
       "  width: 50%;\n",
       "}\n",
       "\n",
       "#sk-container-id-11 div.sk-parallel-item:last-child::after {\n",
       "  align-self: flex-start;\n",
       "  width: 50%;\n",
       "}\n",
       "\n",
       "#sk-container-id-11 div.sk-parallel-item:only-child::after {\n",
       "  width: 0;\n",
       "}\n",
       "\n",
       "/* Serial-specific style estimator block */\n",
       "\n",
       "#sk-container-id-11 div.sk-serial {\n",
       "  display: flex;\n",
       "  flex-direction: column;\n",
       "  align-items: center;\n",
       "  background-color: var(--sklearn-color-background);\n",
       "  padding-right: 1em;\n",
       "  padding-left: 1em;\n",
       "}\n",
       "\n",
       "\n",
       "/* Toggleable style: style used for estimator/Pipeline/ColumnTransformer box that is\n",
       "clickable and can be expanded/collapsed.\n",
       "- Pipeline and ColumnTransformer use this feature and define the default style\n",
       "- Estimators will overwrite some part of the style using the `sk-estimator` class\n",
       "*/\n",
       "\n",
       "/* Pipeline and ColumnTransformer style (default) */\n",
       "\n",
       "#sk-container-id-11 div.sk-toggleable {\n",
       "  /* Default theme specific background. It is overwritten whether we have a\n",
       "  specific estimator or a Pipeline/ColumnTransformer */\n",
       "  background-color: var(--sklearn-color-background);\n",
       "}\n",
       "\n",
       "/* Toggleable label */\n",
       "#sk-container-id-11 label.sk-toggleable__label {\n",
       "  cursor: pointer;\n",
       "  display: flex;\n",
       "  width: 100%;\n",
       "  margin-bottom: 0;\n",
       "  padding: 0.5em;\n",
       "  box-sizing: border-box;\n",
       "  text-align: center;\n",
       "  align-items: start;\n",
       "  justify-content: space-between;\n",
       "  gap: 0.5em;\n",
       "}\n",
       "\n",
       "#sk-container-id-11 label.sk-toggleable__label .caption {\n",
       "  font-size: 0.6rem;\n",
       "  font-weight: lighter;\n",
       "  color: var(--sklearn-color-text-muted);\n",
       "}\n",
       "\n",
       "#sk-container-id-11 label.sk-toggleable__label-arrow:before {\n",
       "  /* Arrow on the left of the label */\n",
       "  content: \"▸\";\n",
       "  float: left;\n",
       "  margin-right: 0.25em;\n",
       "  color: var(--sklearn-color-icon);\n",
       "}\n",
       "\n",
       "#sk-container-id-11 label.sk-toggleable__label-arrow:hover:before {\n",
       "  color: var(--sklearn-color-text);\n",
       "}\n",
       "\n",
       "/* Toggleable content - dropdown */\n",
       "\n",
       "#sk-container-id-11 div.sk-toggleable__content {\n",
       "  max-height: 0;\n",
       "  max-width: 0;\n",
       "  overflow: hidden;\n",
       "  text-align: left;\n",
       "  /* unfitted */\n",
       "  background-color: var(--sklearn-color-unfitted-level-0);\n",
       "}\n",
       "\n",
       "#sk-container-id-11 div.sk-toggleable__content.fitted {\n",
       "  /* fitted */\n",
       "  background-color: var(--sklearn-color-fitted-level-0);\n",
       "}\n",
       "\n",
       "#sk-container-id-11 div.sk-toggleable__content pre {\n",
       "  margin: 0.2em;\n",
       "  border-radius: 0.25em;\n",
       "  color: var(--sklearn-color-text);\n",
       "  /* unfitted */\n",
       "  background-color: var(--sklearn-color-unfitted-level-0);\n",
       "}\n",
       "\n",
       "#sk-container-id-11 div.sk-toggleable__content.fitted pre {\n",
       "  /* unfitted */\n",
       "  background-color: var(--sklearn-color-fitted-level-0);\n",
       "}\n",
       "\n",
       "#sk-container-id-11 input.sk-toggleable__control:checked~div.sk-toggleable__content {\n",
       "  /* Expand drop-down */\n",
       "  max-height: 200px;\n",
       "  max-width: 100%;\n",
       "  overflow: auto;\n",
       "}\n",
       "\n",
       "#sk-container-id-11 input.sk-toggleable__control:checked~label.sk-toggleable__label-arrow:before {\n",
       "  content: \"▾\";\n",
       "}\n",
       "\n",
       "/* Pipeline/ColumnTransformer-specific style */\n",
       "\n",
       "#sk-container-id-11 div.sk-label input.sk-toggleable__control:checked~label.sk-toggleable__label {\n",
       "  color: var(--sklearn-color-text);\n",
       "  background-color: var(--sklearn-color-unfitted-level-2);\n",
       "}\n",
       "\n",
       "#sk-container-id-11 div.sk-label.fitted input.sk-toggleable__control:checked~label.sk-toggleable__label {\n",
       "  background-color: var(--sklearn-color-fitted-level-2);\n",
       "}\n",
       "\n",
       "/* Estimator-specific style */\n",
       "\n",
       "/* Colorize estimator box */\n",
       "#sk-container-id-11 div.sk-estimator input.sk-toggleable__control:checked~label.sk-toggleable__label {\n",
       "  /* unfitted */\n",
       "  background-color: var(--sklearn-color-unfitted-level-2);\n",
       "}\n",
       "\n",
       "#sk-container-id-11 div.sk-estimator.fitted input.sk-toggleable__control:checked~label.sk-toggleable__label {\n",
       "  /* fitted */\n",
       "  background-color: var(--sklearn-color-fitted-level-2);\n",
       "}\n",
       "\n",
       "#sk-container-id-11 div.sk-label label.sk-toggleable__label,\n",
       "#sk-container-id-11 div.sk-label label {\n",
       "  /* The background is the default theme color */\n",
       "  color: var(--sklearn-color-text-on-default-background);\n",
       "}\n",
       "\n",
       "/* On hover, darken the color of the background */\n",
       "#sk-container-id-11 div.sk-label:hover label.sk-toggleable__label {\n",
       "  color: var(--sklearn-color-text);\n",
       "  background-color: var(--sklearn-color-unfitted-level-2);\n",
       "}\n",
       "\n",
       "/* Label box, darken color on hover, fitted */\n",
       "#sk-container-id-11 div.sk-label.fitted:hover label.sk-toggleable__label.fitted {\n",
       "  color: var(--sklearn-color-text);\n",
       "  background-color: var(--sklearn-color-fitted-level-2);\n",
       "}\n",
       "\n",
       "/* Estimator label */\n",
       "\n",
       "#sk-container-id-11 div.sk-label label {\n",
       "  font-family: monospace;\n",
       "  font-weight: bold;\n",
       "  display: inline-block;\n",
       "  line-height: 1.2em;\n",
       "}\n",
       "\n",
       "#sk-container-id-11 div.sk-label-container {\n",
       "  text-align: center;\n",
       "}\n",
       "\n",
       "/* Estimator-specific */\n",
       "#sk-container-id-11 div.sk-estimator {\n",
       "  font-family: monospace;\n",
       "  border: 1px dotted var(--sklearn-color-border-box);\n",
       "  border-radius: 0.25em;\n",
       "  box-sizing: border-box;\n",
       "  margin-bottom: 0.5em;\n",
       "  /* unfitted */\n",
       "  background-color: var(--sklearn-color-unfitted-level-0);\n",
       "}\n",
       "\n",
       "#sk-container-id-11 div.sk-estimator.fitted {\n",
       "  /* fitted */\n",
       "  background-color: var(--sklearn-color-fitted-level-0);\n",
       "}\n",
       "\n",
       "/* on hover */\n",
       "#sk-container-id-11 div.sk-estimator:hover {\n",
       "  /* unfitted */\n",
       "  background-color: var(--sklearn-color-unfitted-level-2);\n",
       "}\n",
       "\n",
       "#sk-container-id-11 div.sk-estimator.fitted:hover {\n",
       "  /* fitted */\n",
       "  background-color: var(--sklearn-color-fitted-level-2);\n",
       "}\n",
       "\n",
       "/* Specification for estimator info (e.g. \"i\" and \"?\") */\n",
       "\n",
       "/* Common style for \"i\" and \"?\" */\n",
       "\n",
       ".sk-estimator-doc-link,\n",
       "a:link.sk-estimator-doc-link,\n",
       "a:visited.sk-estimator-doc-link {\n",
       "  float: right;\n",
       "  font-size: smaller;\n",
       "  line-height: 1em;\n",
       "  font-family: monospace;\n",
       "  background-color: var(--sklearn-color-background);\n",
       "  border-radius: 1em;\n",
       "  height: 1em;\n",
       "  width: 1em;\n",
       "  text-decoration: none !important;\n",
       "  margin-left: 0.5em;\n",
       "  text-align: center;\n",
       "  /* unfitted */\n",
       "  border: var(--sklearn-color-unfitted-level-1) 1pt solid;\n",
       "  color: var(--sklearn-color-unfitted-level-1);\n",
       "}\n",
       "\n",
       ".sk-estimator-doc-link.fitted,\n",
       "a:link.sk-estimator-doc-link.fitted,\n",
       "a:visited.sk-estimator-doc-link.fitted {\n",
       "  /* fitted */\n",
       "  border: var(--sklearn-color-fitted-level-1) 1pt solid;\n",
       "  color: var(--sklearn-color-fitted-level-1);\n",
       "}\n",
       "\n",
       "/* On hover */\n",
       "div.sk-estimator:hover .sk-estimator-doc-link:hover,\n",
       ".sk-estimator-doc-link:hover,\n",
       "div.sk-label-container:hover .sk-estimator-doc-link:hover,\n",
       ".sk-estimator-doc-link:hover {\n",
       "  /* unfitted */\n",
       "  background-color: var(--sklearn-color-unfitted-level-3);\n",
       "  color: var(--sklearn-color-background);\n",
       "  text-decoration: none;\n",
       "}\n",
       "\n",
       "div.sk-estimator.fitted:hover .sk-estimator-doc-link.fitted:hover,\n",
       ".sk-estimator-doc-link.fitted:hover,\n",
       "div.sk-label-container:hover .sk-estimator-doc-link.fitted:hover,\n",
       ".sk-estimator-doc-link.fitted:hover {\n",
       "  /* fitted */\n",
       "  background-color: var(--sklearn-color-fitted-level-3);\n",
       "  color: var(--sklearn-color-background);\n",
       "  text-decoration: none;\n",
       "}\n",
       "\n",
       "/* Span, style for the box shown on hovering the info icon */\n",
       ".sk-estimator-doc-link span {\n",
       "  display: none;\n",
       "  z-index: 9999;\n",
       "  position: relative;\n",
       "  font-weight: normal;\n",
       "  right: .2ex;\n",
       "  padding: .5ex;\n",
       "  margin: .5ex;\n",
       "  width: min-content;\n",
       "  min-width: 20ex;\n",
       "  max-width: 50ex;\n",
       "  color: var(--sklearn-color-text);\n",
       "  box-shadow: 2pt 2pt 4pt #999;\n",
       "  /* unfitted */\n",
       "  background: var(--sklearn-color-unfitted-level-0);\n",
       "  border: .5pt solid var(--sklearn-color-unfitted-level-3);\n",
       "}\n",
       "\n",
       ".sk-estimator-doc-link.fitted span {\n",
       "  /* fitted */\n",
       "  background: var(--sklearn-color-fitted-level-0);\n",
       "  border: var(--sklearn-color-fitted-level-3);\n",
       "}\n",
       "\n",
       ".sk-estimator-doc-link:hover span {\n",
       "  display: block;\n",
       "}\n",
       "\n",
       "/* \"?\"-specific style due to the `<a>` HTML tag */\n",
       "\n",
       "#sk-container-id-11 a.estimator_doc_link {\n",
       "  float: right;\n",
       "  font-size: 1rem;\n",
       "  line-height: 1em;\n",
       "  font-family: monospace;\n",
       "  background-color: var(--sklearn-color-background);\n",
       "  border-radius: 1rem;\n",
       "  height: 1rem;\n",
       "  width: 1rem;\n",
       "  text-decoration: none;\n",
       "  /* unfitted */\n",
       "  color: var(--sklearn-color-unfitted-level-1);\n",
       "  border: var(--sklearn-color-unfitted-level-1) 1pt solid;\n",
       "}\n",
       "\n",
       "#sk-container-id-11 a.estimator_doc_link.fitted {\n",
       "  /* fitted */\n",
       "  border: var(--sklearn-color-fitted-level-1) 1pt solid;\n",
       "  color: var(--sklearn-color-fitted-level-1);\n",
       "}\n",
       "\n",
       "/* On hover */\n",
       "#sk-container-id-11 a.estimator_doc_link:hover {\n",
       "  /* unfitted */\n",
       "  background-color: var(--sklearn-color-unfitted-level-3);\n",
       "  color: var(--sklearn-color-background);\n",
       "  text-decoration: none;\n",
       "}\n",
       "\n",
       "#sk-container-id-11 a.estimator_doc_link.fitted:hover {\n",
       "  /* fitted */\n",
       "  background-color: var(--sklearn-color-fitted-level-3);\n",
       "}\n",
       "</style><div id=\"sk-container-id-11\" class=\"sk-top-container\"><div class=\"sk-text-repr-fallback\"><pre>LinearRegression()</pre><b>In a Jupyter environment, please rerun this cell to show the HTML representation or trust the notebook. <br />On GitHub, the HTML representation is unable to render, please try loading this page with nbviewer.org.</b></div><div class=\"sk-container\" hidden><div class=\"sk-item\"><div class=\"sk-estimator fitted sk-toggleable\"><input class=\"sk-toggleable__control sk-hidden--visually\" id=\"sk-estimator-id-11\" type=\"checkbox\" checked><label for=\"sk-estimator-id-11\" class=\"sk-toggleable__label fitted sk-toggleable__label-arrow\"><div><div>LinearRegression</div></div><div><a class=\"sk-estimator-doc-link fitted\" rel=\"noreferrer\" target=\"_blank\" href=\"https://scikit-learn.org/1.6/modules/generated/sklearn.linear_model.LinearRegression.html\">?<span>Documentation for LinearRegression</span></a><span class=\"sk-estimator-doc-link fitted\">i<span>Fitted</span></span></div></label><div class=\"sk-toggleable__content fitted\"><pre>LinearRegression()</pre></div> </div></div></div></div>"
      ],
      "text/plain": [
       "LinearRegression()"
      ]
     },
     "execution_count": 532,
     "metadata": {},
     "output_type": "execute_result"
    }
   ],
   "source": [
    "from sklearn.linear_model import LinearRegression\n",
    "\n",
    "model = LinearRegression()\n",
    "model.fit(x_train, y_train)"
   ]
  },
  {
   "cell_type": "code",
   "execution_count": 533,
   "id": "cddad2a4-2a7d-4f23-9473-2da4285143de",
   "metadata": {},
   "outputs": [
    {
     "name": "stdout",
     "output_type": "stream",
     "text": [
      "Training\n",
      "Metrics:\n",
      " mae = 0.468136303433661\n",
      " mse = 0.4113660446312931\n",
      " rmse = 0.6413782383518271\n",
      " r2 = 0.5220172893612929\n",
      " adjusted_r2 = 0.5215368357463488\n",
      "\n",
      "Testing\n",
      "Metrics:\n",
      " mae = 0.45171425398940906\n",
      " mse = 0.3790828050026165\n",
      " rmse = 0.6156970074660234\n",
      " r2 = 0.5489196137080143\n",
      " adjusted_r2 = 0.5470996928411302\n"
     ]
    }
   ],
   "source": [
    "print_metric(x_train, y_train, x_test, y_test)"
   ]
  },
  {
   "cell_type": "code",
   "execution_count": 534,
   "id": "919e9961-52e9-498b-8514-caa7598d0e6a",
   "metadata": {},
   "outputs": [
    {
     "data": {
      "text/html": [
       "<style>#sk-container-id-12 {\n",
       "  /* Definition of color scheme common for light and dark mode */\n",
       "  --sklearn-color-text: #000;\n",
       "  --sklearn-color-text-muted: #666;\n",
       "  --sklearn-color-line: gray;\n",
       "  /* Definition of color scheme for unfitted estimators */\n",
       "  --sklearn-color-unfitted-level-0: #fff5e6;\n",
       "  --sklearn-color-unfitted-level-1: #f6e4d2;\n",
       "  --sklearn-color-unfitted-level-2: #ffe0b3;\n",
       "  --sklearn-color-unfitted-level-3: chocolate;\n",
       "  /* Definition of color scheme for fitted estimators */\n",
       "  --sklearn-color-fitted-level-0: #f0f8ff;\n",
       "  --sklearn-color-fitted-level-1: #d4ebff;\n",
       "  --sklearn-color-fitted-level-2: #b3dbfd;\n",
       "  --sklearn-color-fitted-level-3: cornflowerblue;\n",
       "\n",
       "  /* Specific color for light theme */\n",
       "  --sklearn-color-text-on-default-background: var(--sg-text-color, var(--theme-code-foreground, var(--jp-content-font-color1, black)));\n",
       "  --sklearn-color-background: var(--sg-background-color, var(--theme-background, var(--jp-layout-color0, white)));\n",
       "  --sklearn-color-border-box: var(--sg-text-color, var(--theme-code-foreground, var(--jp-content-font-color1, black)));\n",
       "  --sklearn-color-icon: #696969;\n",
       "\n",
       "  @media (prefers-color-scheme: dark) {\n",
       "    /* Redefinition of color scheme for dark theme */\n",
       "    --sklearn-color-text-on-default-background: var(--sg-text-color, var(--theme-code-foreground, var(--jp-content-font-color1, white)));\n",
       "    --sklearn-color-background: var(--sg-background-color, var(--theme-background, var(--jp-layout-color0, #111)));\n",
       "    --sklearn-color-border-box: var(--sg-text-color, var(--theme-code-foreground, var(--jp-content-font-color1, white)));\n",
       "    --sklearn-color-icon: #878787;\n",
       "  }\n",
       "}\n",
       "\n",
       "#sk-container-id-12 {\n",
       "  color: var(--sklearn-color-text);\n",
       "}\n",
       "\n",
       "#sk-container-id-12 pre {\n",
       "  padding: 0;\n",
       "}\n",
       "\n",
       "#sk-container-id-12 input.sk-hidden--visually {\n",
       "  border: 0;\n",
       "  clip: rect(1px 1px 1px 1px);\n",
       "  clip: rect(1px, 1px, 1px, 1px);\n",
       "  height: 1px;\n",
       "  margin: -1px;\n",
       "  overflow: hidden;\n",
       "  padding: 0;\n",
       "  position: absolute;\n",
       "  width: 1px;\n",
       "}\n",
       "\n",
       "#sk-container-id-12 div.sk-dashed-wrapped {\n",
       "  border: 1px dashed var(--sklearn-color-line);\n",
       "  margin: 0 0.4em 0.5em 0.4em;\n",
       "  box-sizing: border-box;\n",
       "  padding-bottom: 0.4em;\n",
       "  background-color: var(--sklearn-color-background);\n",
       "}\n",
       "\n",
       "#sk-container-id-12 div.sk-container {\n",
       "  /* jupyter's `normalize.less` sets `[hidden] { display: none; }`\n",
       "     but bootstrap.min.css set `[hidden] { display: none !important; }`\n",
       "     so we also need the `!important` here to be able to override the\n",
       "     default hidden behavior on the sphinx rendered scikit-learn.org.\n",
       "     See: https://github.com/scikit-learn/scikit-learn/issues/21755 */\n",
       "  display: inline-block !important;\n",
       "  position: relative;\n",
       "}\n",
       "\n",
       "#sk-container-id-12 div.sk-text-repr-fallback {\n",
       "  display: none;\n",
       "}\n",
       "\n",
       "div.sk-parallel-item,\n",
       "div.sk-serial,\n",
       "div.sk-item {\n",
       "  /* draw centered vertical line to link estimators */\n",
       "  background-image: linear-gradient(var(--sklearn-color-text-on-default-background), var(--sklearn-color-text-on-default-background));\n",
       "  background-size: 2px 100%;\n",
       "  background-repeat: no-repeat;\n",
       "  background-position: center center;\n",
       "}\n",
       "\n",
       "/* Parallel-specific style estimator block */\n",
       "\n",
       "#sk-container-id-12 div.sk-parallel-item::after {\n",
       "  content: \"\";\n",
       "  width: 100%;\n",
       "  border-bottom: 2px solid var(--sklearn-color-text-on-default-background);\n",
       "  flex-grow: 1;\n",
       "}\n",
       "\n",
       "#sk-container-id-12 div.sk-parallel {\n",
       "  display: flex;\n",
       "  align-items: stretch;\n",
       "  justify-content: center;\n",
       "  background-color: var(--sklearn-color-background);\n",
       "  position: relative;\n",
       "}\n",
       "\n",
       "#sk-container-id-12 div.sk-parallel-item {\n",
       "  display: flex;\n",
       "  flex-direction: column;\n",
       "}\n",
       "\n",
       "#sk-container-id-12 div.sk-parallel-item:first-child::after {\n",
       "  align-self: flex-end;\n",
       "  width: 50%;\n",
       "}\n",
       "\n",
       "#sk-container-id-12 div.sk-parallel-item:last-child::after {\n",
       "  align-self: flex-start;\n",
       "  width: 50%;\n",
       "}\n",
       "\n",
       "#sk-container-id-12 div.sk-parallel-item:only-child::after {\n",
       "  width: 0;\n",
       "}\n",
       "\n",
       "/* Serial-specific style estimator block */\n",
       "\n",
       "#sk-container-id-12 div.sk-serial {\n",
       "  display: flex;\n",
       "  flex-direction: column;\n",
       "  align-items: center;\n",
       "  background-color: var(--sklearn-color-background);\n",
       "  padding-right: 1em;\n",
       "  padding-left: 1em;\n",
       "}\n",
       "\n",
       "\n",
       "/* Toggleable style: style used for estimator/Pipeline/ColumnTransformer box that is\n",
       "clickable and can be expanded/collapsed.\n",
       "- Pipeline and ColumnTransformer use this feature and define the default style\n",
       "- Estimators will overwrite some part of the style using the `sk-estimator` class\n",
       "*/\n",
       "\n",
       "/* Pipeline and ColumnTransformer style (default) */\n",
       "\n",
       "#sk-container-id-12 div.sk-toggleable {\n",
       "  /* Default theme specific background. It is overwritten whether we have a\n",
       "  specific estimator or a Pipeline/ColumnTransformer */\n",
       "  background-color: var(--sklearn-color-background);\n",
       "}\n",
       "\n",
       "/* Toggleable label */\n",
       "#sk-container-id-12 label.sk-toggleable__label {\n",
       "  cursor: pointer;\n",
       "  display: flex;\n",
       "  width: 100%;\n",
       "  margin-bottom: 0;\n",
       "  padding: 0.5em;\n",
       "  box-sizing: border-box;\n",
       "  text-align: center;\n",
       "  align-items: start;\n",
       "  justify-content: space-between;\n",
       "  gap: 0.5em;\n",
       "}\n",
       "\n",
       "#sk-container-id-12 label.sk-toggleable__label .caption {\n",
       "  font-size: 0.6rem;\n",
       "  font-weight: lighter;\n",
       "  color: var(--sklearn-color-text-muted);\n",
       "}\n",
       "\n",
       "#sk-container-id-12 label.sk-toggleable__label-arrow:before {\n",
       "  /* Arrow on the left of the label */\n",
       "  content: \"▸\";\n",
       "  float: left;\n",
       "  margin-right: 0.25em;\n",
       "  color: var(--sklearn-color-icon);\n",
       "}\n",
       "\n",
       "#sk-container-id-12 label.sk-toggleable__label-arrow:hover:before {\n",
       "  color: var(--sklearn-color-text);\n",
       "}\n",
       "\n",
       "/* Toggleable content - dropdown */\n",
       "\n",
       "#sk-container-id-12 div.sk-toggleable__content {\n",
       "  max-height: 0;\n",
       "  max-width: 0;\n",
       "  overflow: hidden;\n",
       "  text-align: left;\n",
       "  /* unfitted */\n",
       "  background-color: var(--sklearn-color-unfitted-level-0);\n",
       "}\n",
       "\n",
       "#sk-container-id-12 div.sk-toggleable__content.fitted {\n",
       "  /* fitted */\n",
       "  background-color: var(--sklearn-color-fitted-level-0);\n",
       "}\n",
       "\n",
       "#sk-container-id-12 div.sk-toggleable__content pre {\n",
       "  margin: 0.2em;\n",
       "  border-radius: 0.25em;\n",
       "  color: var(--sklearn-color-text);\n",
       "  /* unfitted */\n",
       "  background-color: var(--sklearn-color-unfitted-level-0);\n",
       "}\n",
       "\n",
       "#sk-container-id-12 div.sk-toggleable__content.fitted pre {\n",
       "  /* unfitted */\n",
       "  background-color: var(--sklearn-color-fitted-level-0);\n",
       "}\n",
       "\n",
       "#sk-container-id-12 input.sk-toggleable__control:checked~div.sk-toggleable__content {\n",
       "  /* Expand drop-down */\n",
       "  max-height: 200px;\n",
       "  max-width: 100%;\n",
       "  overflow: auto;\n",
       "}\n",
       "\n",
       "#sk-container-id-12 input.sk-toggleable__control:checked~label.sk-toggleable__label-arrow:before {\n",
       "  content: \"▾\";\n",
       "}\n",
       "\n",
       "/* Pipeline/ColumnTransformer-specific style */\n",
       "\n",
       "#sk-container-id-12 div.sk-label input.sk-toggleable__control:checked~label.sk-toggleable__label {\n",
       "  color: var(--sklearn-color-text);\n",
       "  background-color: var(--sklearn-color-unfitted-level-2);\n",
       "}\n",
       "\n",
       "#sk-container-id-12 div.sk-label.fitted input.sk-toggleable__control:checked~label.sk-toggleable__label {\n",
       "  background-color: var(--sklearn-color-fitted-level-2);\n",
       "}\n",
       "\n",
       "/* Estimator-specific style */\n",
       "\n",
       "/* Colorize estimator box */\n",
       "#sk-container-id-12 div.sk-estimator input.sk-toggleable__control:checked~label.sk-toggleable__label {\n",
       "  /* unfitted */\n",
       "  background-color: var(--sklearn-color-unfitted-level-2);\n",
       "}\n",
       "\n",
       "#sk-container-id-12 div.sk-estimator.fitted input.sk-toggleable__control:checked~label.sk-toggleable__label {\n",
       "  /* fitted */\n",
       "  background-color: var(--sklearn-color-fitted-level-2);\n",
       "}\n",
       "\n",
       "#sk-container-id-12 div.sk-label label.sk-toggleable__label,\n",
       "#sk-container-id-12 div.sk-label label {\n",
       "  /* The background is the default theme color */\n",
       "  color: var(--sklearn-color-text-on-default-background);\n",
       "}\n",
       "\n",
       "/* On hover, darken the color of the background */\n",
       "#sk-container-id-12 div.sk-label:hover label.sk-toggleable__label {\n",
       "  color: var(--sklearn-color-text);\n",
       "  background-color: var(--sklearn-color-unfitted-level-2);\n",
       "}\n",
       "\n",
       "/* Label box, darken color on hover, fitted */\n",
       "#sk-container-id-12 div.sk-label.fitted:hover label.sk-toggleable__label.fitted {\n",
       "  color: var(--sklearn-color-text);\n",
       "  background-color: var(--sklearn-color-fitted-level-2);\n",
       "}\n",
       "\n",
       "/* Estimator label */\n",
       "\n",
       "#sk-container-id-12 div.sk-label label {\n",
       "  font-family: monospace;\n",
       "  font-weight: bold;\n",
       "  display: inline-block;\n",
       "  line-height: 1.2em;\n",
       "}\n",
       "\n",
       "#sk-container-id-12 div.sk-label-container {\n",
       "  text-align: center;\n",
       "}\n",
       "\n",
       "/* Estimator-specific */\n",
       "#sk-container-id-12 div.sk-estimator {\n",
       "  font-family: monospace;\n",
       "  border: 1px dotted var(--sklearn-color-border-box);\n",
       "  border-radius: 0.25em;\n",
       "  box-sizing: border-box;\n",
       "  margin-bottom: 0.5em;\n",
       "  /* unfitted */\n",
       "  background-color: var(--sklearn-color-unfitted-level-0);\n",
       "}\n",
       "\n",
       "#sk-container-id-12 div.sk-estimator.fitted {\n",
       "  /* fitted */\n",
       "  background-color: var(--sklearn-color-fitted-level-0);\n",
       "}\n",
       "\n",
       "/* on hover */\n",
       "#sk-container-id-12 div.sk-estimator:hover {\n",
       "  /* unfitted */\n",
       "  background-color: var(--sklearn-color-unfitted-level-2);\n",
       "}\n",
       "\n",
       "#sk-container-id-12 div.sk-estimator.fitted:hover {\n",
       "  /* fitted */\n",
       "  background-color: var(--sklearn-color-fitted-level-2);\n",
       "}\n",
       "\n",
       "/* Specification for estimator info (e.g. \"i\" and \"?\") */\n",
       "\n",
       "/* Common style for \"i\" and \"?\" */\n",
       "\n",
       ".sk-estimator-doc-link,\n",
       "a:link.sk-estimator-doc-link,\n",
       "a:visited.sk-estimator-doc-link {\n",
       "  float: right;\n",
       "  font-size: smaller;\n",
       "  line-height: 1em;\n",
       "  font-family: monospace;\n",
       "  background-color: var(--sklearn-color-background);\n",
       "  border-radius: 1em;\n",
       "  height: 1em;\n",
       "  width: 1em;\n",
       "  text-decoration: none !important;\n",
       "  margin-left: 0.5em;\n",
       "  text-align: center;\n",
       "  /* unfitted */\n",
       "  border: var(--sklearn-color-unfitted-level-1) 1pt solid;\n",
       "  color: var(--sklearn-color-unfitted-level-1);\n",
       "}\n",
       "\n",
       ".sk-estimator-doc-link.fitted,\n",
       "a:link.sk-estimator-doc-link.fitted,\n",
       "a:visited.sk-estimator-doc-link.fitted {\n",
       "  /* fitted */\n",
       "  border: var(--sklearn-color-fitted-level-1) 1pt solid;\n",
       "  color: var(--sklearn-color-fitted-level-1);\n",
       "}\n",
       "\n",
       "/* On hover */\n",
       "div.sk-estimator:hover .sk-estimator-doc-link:hover,\n",
       ".sk-estimator-doc-link:hover,\n",
       "div.sk-label-container:hover .sk-estimator-doc-link:hover,\n",
       ".sk-estimator-doc-link:hover {\n",
       "  /* unfitted */\n",
       "  background-color: var(--sklearn-color-unfitted-level-3);\n",
       "  color: var(--sklearn-color-background);\n",
       "  text-decoration: none;\n",
       "}\n",
       "\n",
       "div.sk-estimator.fitted:hover .sk-estimator-doc-link.fitted:hover,\n",
       ".sk-estimator-doc-link.fitted:hover,\n",
       "div.sk-label-container:hover .sk-estimator-doc-link.fitted:hover,\n",
       ".sk-estimator-doc-link.fitted:hover {\n",
       "  /* fitted */\n",
       "  background-color: var(--sklearn-color-fitted-level-3);\n",
       "  color: var(--sklearn-color-background);\n",
       "  text-decoration: none;\n",
       "}\n",
       "\n",
       "/* Span, style for the box shown on hovering the info icon */\n",
       ".sk-estimator-doc-link span {\n",
       "  display: none;\n",
       "  z-index: 9999;\n",
       "  position: relative;\n",
       "  font-weight: normal;\n",
       "  right: .2ex;\n",
       "  padding: .5ex;\n",
       "  margin: .5ex;\n",
       "  width: min-content;\n",
       "  min-width: 20ex;\n",
       "  max-width: 50ex;\n",
       "  color: var(--sklearn-color-text);\n",
       "  box-shadow: 2pt 2pt 4pt #999;\n",
       "  /* unfitted */\n",
       "  background: var(--sklearn-color-unfitted-level-0);\n",
       "  border: .5pt solid var(--sklearn-color-unfitted-level-3);\n",
       "}\n",
       "\n",
       ".sk-estimator-doc-link.fitted span {\n",
       "  /* fitted */\n",
       "  background: var(--sklearn-color-fitted-level-0);\n",
       "  border: var(--sklearn-color-fitted-level-3);\n",
       "}\n",
       "\n",
       ".sk-estimator-doc-link:hover span {\n",
       "  display: block;\n",
       "}\n",
       "\n",
       "/* \"?\"-specific style due to the `<a>` HTML tag */\n",
       "\n",
       "#sk-container-id-12 a.estimator_doc_link {\n",
       "  float: right;\n",
       "  font-size: 1rem;\n",
       "  line-height: 1em;\n",
       "  font-family: monospace;\n",
       "  background-color: var(--sklearn-color-background);\n",
       "  border-radius: 1rem;\n",
       "  height: 1rem;\n",
       "  width: 1rem;\n",
       "  text-decoration: none;\n",
       "  /* unfitted */\n",
       "  color: var(--sklearn-color-unfitted-level-1);\n",
       "  border: var(--sklearn-color-unfitted-level-1) 1pt solid;\n",
       "}\n",
       "\n",
       "#sk-container-id-12 a.estimator_doc_link.fitted {\n",
       "  /* fitted */\n",
       "  border: var(--sklearn-color-fitted-level-1) 1pt solid;\n",
       "  color: var(--sklearn-color-fitted-level-1);\n",
       "}\n",
       "\n",
       "/* On hover */\n",
       "#sk-container-id-12 a.estimator_doc_link:hover {\n",
       "  /* unfitted */\n",
       "  background-color: var(--sklearn-color-unfitted-level-3);\n",
       "  color: var(--sklearn-color-background);\n",
       "  text-decoration: none;\n",
       "}\n",
       "\n",
       "#sk-container-id-12 a.estimator_doc_link.fitted:hover {\n",
       "  /* fitted */\n",
       "  background-color: var(--sklearn-color-fitted-level-3);\n",
       "}\n",
       "</style><div id=\"sk-container-id-12\" class=\"sk-top-container\"><div class=\"sk-text-repr-fallback\"><pre>RandomForestRegressor()</pre><b>In a Jupyter environment, please rerun this cell to show the HTML representation or trust the notebook. <br />On GitHub, the HTML representation is unable to render, please try loading this page with nbviewer.org.</b></div><div class=\"sk-container\" hidden><div class=\"sk-item\"><div class=\"sk-estimator fitted sk-toggleable\"><input class=\"sk-toggleable__control sk-hidden--visually\" id=\"sk-estimator-id-12\" type=\"checkbox\" checked><label for=\"sk-estimator-id-12\" class=\"sk-toggleable__label fitted sk-toggleable__label-arrow\"><div><div>RandomForestRegressor</div></div><div><a class=\"sk-estimator-doc-link fitted\" rel=\"noreferrer\" target=\"_blank\" href=\"https://scikit-learn.org/1.6/modules/generated/sklearn.ensemble.RandomForestRegressor.html\">?<span>Documentation for RandomForestRegressor</span></a><span class=\"sk-estimator-doc-link fitted\">i<span>Fitted</span></span></div></label><div class=\"sk-toggleable__content fitted\"><pre>RandomForestRegressor()</pre></div> </div></div></div></div>"
      ],
      "text/plain": [
       "RandomForestRegressor()"
      ]
     },
     "execution_count": 534,
     "metadata": {},
     "output_type": "execute_result"
    }
   ],
   "source": [
    "from sklearn.ensemble import RandomForestRegressor\n",
    "\n",
    "model = RandomForestRegressor()\n",
    "model.fit(x_train, y_train)"
   ]
  },
  {
   "cell_type": "code",
   "execution_count": 535,
   "id": "591f392e-fa48-4134-b13c-ef1cfc8dbf30",
   "metadata": {},
   "outputs": [
    {
     "name": "stdout",
     "output_type": "stream",
     "text": [
      "Training\n",
      "Metrics:\n",
      " mae = 0.08628393757013583\n",
      " mse = 0.0203279322237979\n",
      " rmse = 0.1425760576807968\n",
      " r2 = 0.9763801600233689\n",
      " adjusted_r2 = 0.9763564180819794\n",
      "\n",
      "Testing\n",
      "Metrics:\n",
      " mae = 0.22120994094094393\n",
      " mse = 0.1157338346863707\n",
      " rmse = 0.3401967587828707\n",
      " r2 = 0.8622853314145427\n",
      " adjusted_r2 = 0.8617297102732757\n"
     ]
    }
   ],
   "source": [
    "print_metric(x_train, y_train, x_test, y_test)"
   ]
  },
  {
   "cell_type": "code",
   "execution_count": null,
   "id": "8eb91116-70b9-4faf-b42b-70ce5badb040",
   "metadata": {},
   "outputs": [],
   "source": []
  },
  {
   "cell_type": "code",
   "execution_count": null,
   "id": "0c69e4a0-dba3-4efd-ae50-6c3799a3be6a",
   "metadata": {},
   "outputs": [],
   "source": []
  }
 ],
 "metadata": {
  "kernelspec": {
   "display_name": "Python 3 (ipykernel)",
   "language": "python",
   "name": "python3"
  },
  "language_info": {
   "codemirror_mode": {
    "name": "ipython",
    "version": 3
   },
   "file_extension": ".py",
   "mimetype": "text/x-python",
   "name": "python",
   "nbconvert_exporter": "python",
   "pygments_lexer": "ipython3",
   "version": "3.12.6"
  }
 },
 "nbformat": 4,
 "nbformat_minor": 5
}
