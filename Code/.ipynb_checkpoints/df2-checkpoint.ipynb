{
 "cells": [
  {
   "cell_type": "markdown",
   "id": "c9e11a33-24b6-4097-adc1-7cd6cf87c3bb",
   "metadata": {},
   "source": [
    "# Dataset 2 Cleaning"
   ]
  },
  {
   "cell_type": "markdown",
   "id": "283ba2d4-5b2a-48d1-9d7c-ab9902591be7",
   "metadata": {},
   "source": [
    "### Importing required libraries"
   ]
  },
  {
   "cell_type": "code",
   "execution_count": 1,
   "id": "0e31f764-f21f-43e4-86dd-6523b45aa928",
   "metadata": {},
   "outputs": [],
   "source": [
    "import numpy as np\n",
    "import pandas as pd\n",
    "import matplotlib.pyplot as plt\n",
    "import seaborn as sns\n",
    "import warnings\n",
    "warnings.filterwarnings(\"ignore\")"
   ]
  },
  {
   "cell_type": "markdown",
   "id": "968315cd-8d1a-4159-b286-ad75d644b121",
   "metadata": {},
   "source": [
    "### Loading data"
   ]
  },
  {
   "cell_type": "code",
   "execution_count": 2,
   "id": "6f9293b0-429e-49e3-8106-f41a3818b3e6",
   "metadata": {},
   "outputs": [
    {
     "data": {
      "text/html": [
       "<div>\n",
       "<style scoped>\n",
       "    .dataframe tbody tr th:only-of-type {\n",
       "        vertical-align: middle;\n",
       "    }\n",
       "\n",
       "    .dataframe tbody tr th {\n",
       "        vertical-align: top;\n",
       "    }\n",
       "\n",
       "    .dataframe thead th {\n",
       "        text-align: right;\n",
       "    }\n",
       "</style>\n",
       "<table border=\"1\" class=\"dataframe\">\n",
       "  <thead>\n",
       "    <tr style=\"text-align: right;\">\n",
       "      <th></th>\n",
       "      <th>car_name</th>\n",
       "      <th>car_age</th>\n",
       "      <th>car_make</th>\n",
       "      <th>car_model</th>\n",
       "      <th>car_spec</th>\n",
       "      <th>engine</th>\n",
       "      <th>fuel_type</th>\n",
       "      <th>kilometers_driven</th>\n",
       "      <th>location</th>\n",
       "      <th>mileage</th>\n",
       "      <th>mileage_unit</th>\n",
       "      <th>owner_type</th>\n",
       "      <th>power</th>\n",
       "      <th>price</th>\n",
       "      <th>region</th>\n",
       "      <th>seats</th>\n",
       "      <th>transmission</th>\n",
       "      <th>year</th>\n",
       "    </tr>\n",
       "  </thead>\n",
       "  <tbody>\n",
       "    <tr>\n",
       "      <th>0</th>\n",
       "      <td>AMBASSADOR CLASSIC</td>\n",
       "      <td>16</td>\n",
       "      <td>AMBASSADOR</td>\n",
       "      <td>CLASSIC</td>\n",
       "      <td>NOVA DIESEL</td>\n",
       "      <td>1489.0</td>\n",
       "      <td>Diesel</td>\n",
       "      <td>80000</td>\n",
       "      <td>Chennai</td>\n",
       "      <td>12.80</td>\n",
       "      <td>kmpl</td>\n",
       "      <td>Third</td>\n",
       "      <td>35.5</td>\n",
       "      <td>1.35</td>\n",
       "      <td>South</td>\n",
       "      <td>5.0</td>\n",
       "      <td>Manual</td>\n",
       "      <td>2003</td>\n",
       "    </tr>\n",
       "    <tr>\n",
       "      <th>1</th>\n",
       "      <td>AUDI A3</td>\n",
       "      <td>5</td>\n",
       "      <td>AUDI</td>\n",
       "      <td>A3</td>\n",
       "      <td>35 TDI ATTRACTION</td>\n",
       "      <td>1968.0</td>\n",
       "      <td>Diesel</td>\n",
       "      <td>79271</td>\n",
       "      <td>Chennai</td>\n",
       "      <td>20.38</td>\n",
       "      <td>kmpl</td>\n",
       "      <td>First</td>\n",
       "      <td>143.0</td>\n",
       "      <td>16.50</td>\n",
       "      <td>South</td>\n",
       "      <td>5.0</td>\n",
       "      <td>Automatic</td>\n",
       "      <td>2014</td>\n",
       "    </tr>\n",
       "    <tr>\n",
       "      <th>2</th>\n",
       "      <td>AUDI A3</td>\n",
       "      <td>2</td>\n",
       "      <td>AUDI</td>\n",
       "      <td>A3</td>\n",
       "      <td>35 TDI TECHNOLOGY</td>\n",
       "      <td>1968.0</td>\n",
       "      <td>Diesel</td>\n",
       "      <td>22000</td>\n",
       "      <td>Delhi</td>\n",
       "      <td>20.38</td>\n",
       "      <td>kmpl</td>\n",
       "      <td>Second</td>\n",
       "      <td>143.0</td>\n",
       "      <td>22.50</td>\n",
       "      <td>North</td>\n",
       "      <td>5.0</td>\n",
       "      <td>Automatic</td>\n",
       "      <td>2017</td>\n",
       "    </tr>\n",
       "    <tr>\n",
       "      <th>3</th>\n",
       "      <td>AUDI A3</td>\n",
       "      <td>3</td>\n",
       "      <td>AUDI</td>\n",
       "      <td>A3</td>\n",
       "      <td>35 TDI PREMIUM</td>\n",
       "      <td>1968.0</td>\n",
       "      <td>Diesel</td>\n",
       "      <td>20003</td>\n",
       "      <td>Mumbai</td>\n",
       "      <td>20.38</td>\n",
       "      <td>kmpl</td>\n",
       "      <td>First</td>\n",
       "      <td>143.0</td>\n",
       "      <td>19.25</td>\n",
       "      <td>West</td>\n",
       "      <td>5.0</td>\n",
       "      <td>Automatic</td>\n",
       "      <td>2016</td>\n",
       "    </tr>\n",
       "    <tr>\n",
       "      <th>4</th>\n",
       "      <td>AUDI A3</td>\n",
       "      <td>3</td>\n",
       "      <td>AUDI</td>\n",
       "      <td>A3</td>\n",
       "      <td>35 TDI PREMIUM PLUS</td>\n",
       "      <td>1968.0</td>\n",
       "      <td>Diesel</td>\n",
       "      <td>39000</td>\n",
       "      <td>Mumbai</td>\n",
       "      <td>20.38</td>\n",
       "      <td>kmpl</td>\n",
       "      <td>First</td>\n",
       "      <td>143.0</td>\n",
       "      <td>18.90</td>\n",
       "      <td>West</td>\n",
       "      <td>5.0</td>\n",
       "      <td>Automatic</td>\n",
       "      <td>2016</td>\n",
       "    </tr>\n",
       "    <tr>\n",
       "      <th>...</th>\n",
       "      <td>...</td>\n",
       "      <td>...</td>\n",
       "      <td>...</td>\n",
       "      <td>...</td>\n",
       "      <td>...</td>\n",
       "      <td>...</td>\n",
       "      <td>...</td>\n",
       "      <td>...</td>\n",
       "      <td>...</td>\n",
       "      <td>...</td>\n",
       "      <td>...</td>\n",
       "      <td>...</td>\n",
       "      <td>...</td>\n",
       "      <td>...</td>\n",
       "      <td>...</td>\n",
       "      <td>...</td>\n",
       "      <td>...</td>\n",
       "      <td>...</td>\n",
       "    </tr>\n",
       "    <tr>\n",
       "      <th>6011</th>\n",
       "      <td>VOLVO XC60</td>\n",
       "      <td>8</td>\n",
       "      <td>VOLVO</td>\n",
       "      <td>XC60</td>\n",
       "      <td>D5</td>\n",
       "      <td>2400.0</td>\n",
       "      <td>Diesel</td>\n",
       "      <td>173000</td>\n",
       "      <td>Ahmedabad</td>\n",
       "      <td>13.50</td>\n",
       "      <td>kmpl</td>\n",
       "      <td>First</td>\n",
       "      <td>215.0</td>\n",
       "      <td>12.00</td>\n",
       "      <td>West</td>\n",
       "      <td>5.0</td>\n",
       "      <td>Automatic</td>\n",
       "      <td>2011</td>\n",
       "    </tr>\n",
       "    <tr>\n",
       "      <th>6012</th>\n",
       "      <td>VOLVO XC60</td>\n",
       "      <td>7</td>\n",
       "      <td>VOLVO</td>\n",
       "      <td>XC60</td>\n",
       "      <td>D4 SUMMUM</td>\n",
       "      <td>1985.0</td>\n",
       "      <td>Diesel</td>\n",
       "      <td>86000</td>\n",
       "      <td>Hyderabad</td>\n",
       "      <td>14.70</td>\n",
       "      <td>kmpl</td>\n",
       "      <td>Second</td>\n",
       "      <td>163.0</td>\n",
       "      <td>18.25</td>\n",
       "      <td>South</td>\n",
       "      <td>5.0</td>\n",
       "      <td>Automatic</td>\n",
       "      <td>2012</td>\n",
       "    </tr>\n",
       "    <tr>\n",
       "      <th>6013</th>\n",
       "      <td>VOLVO XC60</td>\n",
       "      <td>5</td>\n",
       "      <td>VOLVO</td>\n",
       "      <td>XC60</td>\n",
       "      <td>D4 SUMMUM</td>\n",
       "      <td>1984.0</td>\n",
       "      <td>Diesel</td>\n",
       "      <td>93144</td>\n",
       "      <td>Kochi</td>\n",
       "      <td>14.70</td>\n",
       "      <td>kmpl</td>\n",
       "      <td>First</td>\n",
       "      <td>181.0</td>\n",
       "      <td>17.15</td>\n",
       "      <td>South</td>\n",
       "      <td>5.0</td>\n",
       "      <td>Automatic</td>\n",
       "      <td>2014</td>\n",
       "    </tr>\n",
       "    <tr>\n",
       "      <th>6014</th>\n",
       "      <td>VOLVO XC90</td>\n",
       "      <td>5</td>\n",
       "      <td>VOLVO</td>\n",
       "      <td>XC90</td>\n",
       "      <td>2007-2015 D5 AWD</td>\n",
       "      <td>2400.0</td>\n",
       "      <td>Diesel</td>\n",
       "      <td>89230</td>\n",
       "      <td>Kochi</td>\n",
       "      <td>11.10</td>\n",
       "      <td>kmpl</td>\n",
       "      <td>First</td>\n",
       "      <td>200.0</td>\n",
       "      <td>23.65</td>\n",
       "      <td>South</td>\n",
       "      <td>7.0</td>\n",
       "      <td>Manual</td>\n",
       "      <td>2014</td>\n",
       "    </tr>\n",
       "    <tr>\n",
       "      <th>6015</th>\n",
       "      <td>VOLVO XC90</td>\n",
       "      <td>5</td>\n",
       "      <td>VOLVO</td>\n",
       "      <td>XC90</td>\n",
       "      <td>2007-2015 D5 AT AWD</td>\n",
       "      <td>2400.0</td>\n",
       "      <td>Diesel</td>\n",
       "      <td>102001</td>\n",
       "      <td>Kochi</td>\n",
       "      <td>11.10</td>\n",
       "      <td>kmpl</td>\n",
       "      <td>First</td>\n",
       "      <td>200.0</td>\n",
       "      <td>23.58</td>\n",
       "      <td>South</td>\n",
       "      <td>7.0</td>\n",
       "      <td>Automatic</td>\n",
       "      <td>2014</td>\n",
       "    </tr>\n",
       "  </tbody>\n",
       "</table>\n",
       "<p>6016 rows × 18 columns</p>\n",
       "</div>"
      ],
      "text/plain": [
       "                car_name  car_age    car_make car_model             car_spec  \\\n",
       "0     AMBASSADOR CLASSIC       16  AMBASSADOR   CLASSIC          NOVA DIESEL   \n",
       "1                AUDI A3        5        AUDI        A3    35 TDI ATTRACTION   \n",
       "2                AUDI A3        2        AUDI        A3    35 TDI TECHNOLOGY   \n",
       "3                AUDI A3        3        AUDI        A3       35 TDI PREMIUM   \n",
       "4                AUDI A3        3        AUDI        A3  35 TDI PREMIUM PLUS   \n",
       "...                  ...      ...         ...       ...                  ...   \n",
       "6011          VOLVO XC60        8       VOLVO      XC60                   D5   \n",
       "6012          VOLVO XC60        7       VOLVO      XC60            D4 SUMMUM   \n",
       "6013          VOLVO XC60        5       VOLVO      XC60            D4 SUMMUM   \n",
       "6014          VOLVO XC90        5       VOLVO      XC90     2007-2015 D5 AWD   \n",
       "6015          VOLVO XC90        5       VOLVO      XC90  2007-2015 D5 AT AWD   \n",
       "\n",
       "      engine fuel_type  kilometers_driven   location  mileage mileage_unit  \\\n",
       "0     1489.0    Diesel              80000    Chennai    12.80         kmpl   \n",
       "1     1968.0    Diesel              79271    Chennai    20.38         kmpl   \n",
       "2     1968.0    Diesel              22000      Delhi    20.38         kmpl   \n",
       "3     1968.0    Diesel              20003     Mumbai    20.38         kmpl   \n",
       "4     1968.0    Diesel              39000     Mumbai    20.38         kmpl   \n",
       "...      ...       ...                ...        ...      ...          ...   \n",
       "6011  2400.0    Diesel             173000  Ahmedabad    13.50         kmpl   \n",
       "6012  1985.0    Diesel              86000  Hyderabad    14.70         kmpl   \n",
       "6013  1984.0    Diesel              93144      Kochi    14.70         kmpl   \n",
       "6014  2400.0    Diesel              89230      Kochi    11.10         kmpl   \n",
       "6015  2400.0    Diesel             102001      Kochi    11.10         kmpl   \n",
       "\n",
       "     owner_type  power  price region  seats transmission  year  \n",
       "0         Third   35.5   1.35  South    5.0       Manual  2003  \n",
       "1         First  143.0  16.50  South    5.0    Automatic  2014  \n",
       "2        Second  143.0  22.50  North    5.0    Automatic  2017  \n",
       "3         First  143.0  19.25   West    5.0    Automatic  2016  \n",
       "4         First  143.0  18.90   West    5.0    Automatic  2016  \n",
       "...         ...    ...    ...    ...    ...          ...   ...  \n",
       "6011      First  215.0  12.00   West    5.0    Automatic  2011  \n",
       "6012     Second  163.0  18.25  South    5.0    Automatic  2012  \n",
       "6013      First  181.0  17.15  South    5.0    Automatic  2014  \n",
       "6014      First  200.0  23.65  South    7.0       Manual  2014  \n",
       "6015      First  200.0  23.58  South    7.0    Automatic  2014  \n",
       "\n",
       "[6016 rows x 18 columns]"
      ]
     },
     "execution_count": 2,
     "metadata": {},
     "output_type": "execute_result"
    }
   ],
   "source": [
    "df_raw = pd.read_csv(\"D:/Code/Projects/Used_Car_Price/Dataset/Extra/used_cars_data_1.csv\")\n",
    "df_raw"
   ]
  },
  {
   "cell_type": "markdown",
   "id": "726e3a6f-c313-47ef-8f7b-3134d767fd7d",
   "metadata": {},
   "source": [
    "### EDA"
   ]
  },
  {
   "cell_type": "code",
   "execution_count": 3,
   "id": "cd9384e9-9a4a-4c0c-8872-814f8599b9ad",
   "metadata": {},
   "outputs": [],
   "source": [
    "# Keeping only required columns\n",
    "df = df_raw[['car_make', 'car_model', 'car_age', 'kilometers_driven', 'transmission', 'owner_type', 'fuel_type', 'price']].copy()\n",
    "\n",
    "# Renaming the columns\n",
    "df.columns = ['Brand', 'Model', 'Age', 'KmDriven', 'Transmission', 'Owner', 'FuelType', 'Price']"
   ]
  },
  {
   "cell_type": "code",
   "execution_count": 4,
   "id": "91960967-811d-4c82-bf49-9b2706add71b",
   "metadata": {},
   "outputs": [
    {
     "data": {
      "text/html": [
       "<div>\n",
       "<style scoped>\n",
       "    .dataframe tbody tr th:only-of-type {\n",
       "        vertical-align: middle;\n",
       "    }\n",
       "\n",
       "    .dataframe tbody tr th {\n",
       "        vertical-align: top;\n",
       "    }\n",
       "\n",
       "    .dataframe thead th {\n",
       "        text-align: right;\n",
       "    }\n",
       "</style>\n",
       "<table border=\"1\" class=\"dataframe\">\n",
       "  <thead>\n",
       "    <tr style=\"text-align: right;\">\n",
       "      <th></th>\n",
       "      <th>Brand</th>\n",
       "      <th>Model</th>\n",
       "      <th>Age</th>\n",
       "      <th>KmDriven</th>\n",
       "      <th>Transmission</th>\n",
       "      <th>Owner</th>\n",
       "      <th>FuelType</th>\n",
       "      <th>Price</th>\n",
       "    </tr>\n",
       "  </thead>\n",
       "  <tbody>\n",
       "    <tr>\n",
       "      <th>0</th>\n",
       "      <td>AMBASSADOR</td>\n",
       "      <td>CLASSIC</td>\n",
       "      <td>16</td>\n",
       "      <td>80000</td>\n",
       "      <td>Manual</td>\n",
       "      <td>Third</td>\n",
       "      <td>Diesel</td>\n",
       "      <td>1.35</td>\n",
       "    </tr>\n",
       "    <tr>\n",
       "      <th>1</th>\n",
       "      <td>AUDI</td>\n",
       "      <td>A3</td>\n",
       "      <td>5</td>\n",
       "      <td>79271</td>\n",
       "      <td>Automatic</td>\n",
       "      <td>First</td>\n",
       "      <td>Diesel</td>\n",
       "      <td>16.50</td>\n",
       "    </tr>\n",
       "    <tr>\n",
       "      <th>2</th>\n",
       "      <td>AUDI</td>\n",
       "      <td>A3</td>\n",
       "      <td>2</td>\n",
       "      <td>22000</td>\n",
       "      <td>Automatic</td>\n",
       "      <td>Second</td>\n",
       "      <td>Diesel</td>\n",
       "      <td>22.50</td>\n",
       "    </tr>\n",
       "    <tr>\n",
       "      <th>3</th>\n",
       "      <td>AUDI</td>\n",
       "      <td>A3</td>\n",
       "      <td>3</td>\n",
       "      <td>20003</td>\n",
       "      <td>Automatic</td>\n",
       "      <td>First</td>\n",
       "      <td>Diesel</td>\n",
       "      <td>19.25</td>\n",
       "    </tr>\n",
       "    <tr>\n",
       "      <th>4</th>\n",
       "      <td>AUDI</td>\n",
       "      <td>A3</td>\n",
       "      <td>3</td>\n",
       "      <td>39000</td>\n",
       "      <td>Automatic</td>\n",
       "      <td>First</td>\n",
       "      <td>Diesel</td>\n",
       "      <td>18.90</td>\n",
       "    </tr>\n",
       "    <tr>\n",
       "      <th>...</th>\n",
       "      <td>...</td>\n",
       "      <td>...</td>\n",
       "      <td>...</td>\n",
       "      <td>...</td>\n",
       "      <td>...</td>\n",
       "      <td>...</td>\n",
       "      <td>...</td>\n",
       "      <td>...</td>\n",
       "    </tr>\n",
       "    <tr>\n",
       "      <th>6011</th>\n",
       "      <td>VOLVO</td>\n",
       "      <td>XC60</td>\n",
       "      <td>8</td>\n",
       "      <td>173000</td>\n",
       "      <td>Automatic</td>\n",
       "      <td>First</td>\n",
       "      <td>Diesel</td>\n",
       "      <td>12.00</td>\n",
       "    </tr>\n",
       "    <tr>\n",
       "      <th>6012</th>\n",
       "      <td>VOLVO</td>\n",
       "      <td>XC60</td>\n",
       "      <td>7</td>\n",
       "      <td>86000</td>\n",
       "      <td>Automatic</td>\n",
       "      <td>Second</td>\n",
       "      <td>Diesel</td>\n",
       "      <td>18.25</td>\n",
       "    </tr>\n",
       "    <tr>\n",
       "      <th>6013</th>\n",
       "      <td>VOLVO</td>\n",
       "      <td>XC60</td>\n",
       "      <td>5</td>\n",
       "      <td>93144</td>\n",
       "      <td>Automatic</td>\n",
       "      <td>First</td>\n",
       "      <td>Diesel</td>\n",
       "      <td>17.15</td>\n",
       "    </tr>\n",
       "    <tr>\n",
       "      <th>6014</th>\n",
       "      <td>VOLVO</td>\n",
       "      <td>XC90</td>\n",
       "      <td>5</td>\n",
       "      <td>89230</td>\n",
       "      <td>Manual</td>\n",
       "      <td>First</td>\n",
       "      <td>Diesel</td>\n",
       "      <td>23.65</td>\n",
       "    </tr>\n",
       "    <tr>\n",
       "      <th>6015</th>\n",
       "      <td>VOLVO</td>\n",
       "      <td>XC90</td>\n",
       "      <td>5</td>\n",
       "      <td>102001</td>\n",
       "      <td>Automatic</td>\n",
       "      <td>First</td>\n",
       "      <td>Diesel</td>\n",
       "      <td>23.58</td>\n",
       "    </tr>\n",
       "  </tbody>\n",
       "</table>\n",
       "<p>6016 rows × 8 columns</p>\n",
       "</div>"
      ],
      "text/plain": [
       "           Brand    Model  Age  KmDriven Transmission   Owner FuelType  Price\n",
       "0     AMBASSADOR  CLASSIC   16     80000       Manual   Third   Diesel   1.35\n",
       "1           AUDI       A3    5     79271    Automatic   First   Diesel  16.50\n",
       "2           AUDI       A3    2     22000    Automatic  Second   Diesel  22.50\n",
       "3           AUDI       A3    3     20003    Automatic   First   Diesel  19.25\n",
       "4           AUDI       A3    3     39000    Automatic   First   Diesel  18.90\n",
       "...          ...      ...  ...       ...          ...     ...      ...    ...\n",
       "6011       VOLVO     XC60    8    173000    Automatic   First   Diesel  12.00\n",
       "6012       VOLVO     XC60    7     86000    Automatic  Second   Diesel  18.25\n",
       "6013       VOLVO     XC60    5     93144    Automatic   First   Diesel  17.15\n",
       "6014       VOLVO     XC90    5     89230       Manual   First   Diesel  23.65\n",
       "6015       VOLVO     XC90    5    102001    Automatic   First   Diesel  23.58\n",
       "\n",
       "[6016 rows x 8 columns]"
      ]
     },
     "execution_count": 4,
     "metadata": {},
     "output_type": "execute_result"
    }
   ],
   "source": [
    "df"
   ]
  },
  {
   "cell_type": "code",
   "execution_count": 5,
   "id": "be9ed403-b331-40ce-a35b-b50385b94e2f",
   "metadata": {},
   "outputs": [
    {
     "name": "stdout",
     "output_type": "stream",
     "text": [
      "<class 'pandas.core.frame.DataFrame'>\n",
      "RangeIndex: 6016 entries, 0 to 6015\n",
      "Data columns (total 8 columns):\n",
      " #   Column        Non-Null Count  Dtype  \n",
      "---  ------        --------------  -----  \n",
      " 0   Brand         6016 non-null   object \n",
      " 1   Model         6016 non-null   object \n",
      " 2   Age           6016 non-null   int64  \n",
      " 3   KmDriven      6016 non-null   int64  \n",
      " 4   Transmission  6016 non-null   object \n",
      " 5   Owner         6016 non-null   object \n",
      " 6   FuelType      6016 non-null   object \n",
      " 7   Price         6016 non-null   float64\n",
      "dtypes: float64(1), int64(2), object(5)\n",
      "memory usage: 376.1+ KB\n"
     ]
    }
   ],
   "source": [
    "df.info()"
   ]
  },
  {
   "cell_type": "code",
   "execution_count": 6,
   "id": "1dbb097c-497e-43c4-ac35-6d5451450c7e",
   "metadata": {},
   "outputs": [
    {
     "data": {
      "text/html": [
       "<div>\n",
       "<style scoped>\n",
       "    .dataframe tbody tr th:only-of-type {\n",
       "        vertical-align: middle;\n",
       "    }\n",
       "\n",
       "    .dataframe tbody tr th {\n",
       "        vertical-align: top;\n",
       "    }\n",
       "\n",
       "    .dataframe thead th {\n",
       "        text-align: right;\n",
       "    }\n",
       "</style>\n",
       "<table border=\"1\" class=\"dataframe\">\n",
       "  <thead>\n",
       "    <tr style=\"text-align: right;\">\n",
       "      <th></th>\n",
       "      <th>Age</th>\n",
       "      <th>KmDriven</th>\n",
       "      <th>Price</th>\n",
       "    </tr>\n",
       "  </thead>\n",
       "  <tbody>\n",
       "    <tr>\n",
       "      <th>count</th>\n",
       "      <td>6016.000000</td>\n",
       "      <td>6.016000e+03</td>\n",
       "      <td>6016.000000</td>\n",
       "    </tr>\n",
       "    <tr>\n",
       "      <th>mean</th>\n",
       "      <td>5.640791</td>\n",
       "      <td>5.874337e+04</td>\n",
       "      <td>9.479624</td>\n",
       "    </tr>\n",
       "    <tr>\n",
       "      <th>std</th>\n",
       "      <td>3.269211</td>\n",
       "      <td>9.129129e+04</td>\n",
       "      <td>11.190091</td>\n",
       "    </tr>\n",
       "    <tr>\n",
       "      <th>min</th>\n",
       "      <td>0.000000</td>\n",
       "      <td>1.710000e+02</td>\n",
       "      <td>0.440000</td>\n",
       "    </tr>\n",
       "    <tr>\n",
       "      <th>25%</th>\n",
       "      <td>3.000000</td>\n",
       "      <td>3.400000e+04</td>\n",
       "      <td>3.500000</td>\n",
       "    </tr>\n",
       "    <tr>\n",
       "      <th>50%</th>\n",
       "      <td>5.000000</td>\n",
       "      <td>5.300000e+04</td>\n",
       "      <td>5.640000</td>\n",
       "    </tr>\n",
       "    <tr>\n",
       "      <th>75%</th>\n",
       "      <td>8.000000</td>\n",
       "      <td>7.300000e+04</td>\n",
       "      <td>9.950000</td>\n",
       "    </tr>\n",
       "    <tr>\n",
       "      <th>max</th>\n",
       "      <td>21.000000</td>\n",
       "      <td>6.500000e+06</td>\n",
       "      <td>160.000000</td>\n",
       "    </tr>\n",
       "  </tbody>\n",
       "</table>\n",
       "</div>"
      ],
      "text/plain": [
       "               Age      KmDriven        Price\n",
       "count  6016.000000  6.016000e+03  6016.000000\n",
       "mean      5.640791  5.874337e+04     9.479624\n",
       "std       3.269211  9.129129e+04    11.190091\n",
       "min       0.000000  1.710000e+02     0.440000\n",
       "25%       3.000000  3.400000e+04     3.500000\n",
       "50%       5.000000  5.300000e+04     5.640000\n",
       "75%       8.000000  7.300000e+04     9.950000\n",
       "max      21.000000  6.500000e+06   160.000000"
      ]
     },
     "execution_count": 6,
     "metadata": {},
     "output_type": "execute_result"
    }
   ],
   "source": [
    "df.describe()"
   ]
  },
  {
   "cell_type": "code",
   "execution_count": 7,
   "id": "4d4af368-9b4e-4c6c-bcfc-f71a17887a38",
   "metadata": {},
   "outputs": [
    {
     "data": {
      "text/plain": [
       "Brand           0\n",
       "Model           0\n",
       "Age             0\n",
       "KmDriven        0\n",
       "Transmission    0\n",
       "Owner           0\n",
       "FuelType        0\n",
       "Price           0\n",
       "dtype: int64"
      ]
     },
     "execution_count": 7,
     "metadata": {},
     "output_type": "execute_result"
    }
   ],
   "source": [
    "df.isna().sum()"
   ]
  },
  {
   "cell_type": "code",
   "execution_count": 8,
   "id": "97febf2d-97ee-45e8-969b-6e9cd63d7a9b",
   "metadata": {},
   "outputs": [],
   "source": [
    "# Changing the price format from 1.35L to 135000\n",
    "df['Price'] = df['Price']*100000\n",
    "# Convert to float\n",
    "df['Price'] = df['Price'].astype(float)"
   ]
  },
  {
   "cell_type": "code",
   "execution_count": 9,
   "id": "901e5d15-fb75-40e8-9b7e-50d7a8dd7d81",
   "metadata": {},
   "outputs": [
    {
     "data": {
      "text/html": [
       "<div>\n",
       "<style scoped>\n",
       "    .dataframe tbody tr th:only-of-type {\n",
       "        vertical-align: middle;\n",
       "    }\n",
       "\n",
       "    .dataframe tbody tr th {\n",
       "        vertical-align: top;\n",
       "    }\n",
       "\n",
       "    .dataframe thead th {\n",
       "        text-align: right;\n",
       "    }\n",
       "</style>\n",
       "<table border=\"1\" class=\"dataframe\">\n",
       "  <thead>\n",
       "    <tr style=\"text-align: right;\">\n",
       "      <th></th>\n",
       "      <th>Brand</th>\n",
       "      <th>Model</th>\n",
       "      <th>Age</th>\n",
       "      <th>KmDriven</th>\n",
       "      <th>Transmission</th>\n",
       "      <th>Owner</th>\n",
       "      <th>FuelType</th>\n",
       "      <th>Price</th>\n",
       "    </tr>\n",
       "  </thead>\n",
       "  <tbody>\n",
       "    <tr>\n",
       "      <th>0</th>\n",
       "      <td>AMBASSADOR</td>\n",
       "      <td>CLASSIC</td>\n",
       "      <td>16</td>\n",
       "      <td>80000</td>\n",
       "      <td>Manual</td>\n",
       "      <td>Third</td>\n",
       "      <td>Diesel</td>\n",
       "      <td>135000.0</td>\n",
       "    </tr>\n",
       "    <tr>\n",
       "      <th>1</th>\n",
       "      <td>AUDI</td>\n",
       "      <td>A3</td>\n",
       "      <td>5</td>\n",
       "      <td>79271</td>\n",
       "      <td>Automatic</td>\n",
       "      <td>First</td>\n",
       "      <td>Diesel</td>\n",
       "      <td>1650000.0</td>\n",
       "    </tr>\n",
       "    <tr>\n",
       "      <th>2</th>\n",
       "      <td>AUDI</td>\n",
       "      <td>A3</td>\n",
       "      <td>2</td>\n",
       "      <td>22000</td>\n",
       "      <td>Automatic</td>\n",
       "      <td>Second</td>\n",
       "      <td>Diesel</td>\n",
       "      <td>2250000.0</td>\n",
       "    </tr>\n",
       "    <tr>\n",
       "      <th>3</th>\n",
       "      <td>AUDI</td>\n",
       "      <td>A3</td>\n",
       "      <td>3</td>\n",
       "      <td>20003</td>\n",
       "      <td>Automatic</td>\n",
       "      <td>First</td>\n",
       "      <td>Diesel</td>\n",
       "      <td>1925000.0</td>\n",
       "    </tr>\n",
       "    <tr>\n",
       "      <th>4</th>\n",
       "      <td>AUDI</td>\n",
       "      <td>A3</td>\n",
       "      <td>3</td>\n",
       "      <td>39000</td>\n",
       "      <td>Automatic</td>\n",
       "      <td>First</td>\n",
       "      <td>Diesel</td>\n",
       "      <td>1890000.0</td>\n",
       "    </tr>\n",
       "  </tbody>\n",
       "</table>\n",
       "</div>"
      ],
      "text/plain": [
       "        Brand    Model  Age  KmDriven Transmission   Owner FuelType      Price\n",
       "0  AMBASSADOR  CLASSIC   16     80000       Manual   Third   Diesel   135000.0\n",
       "1        AUDI       A3    5     79271    Automatic   First   Diesel  1650000.0\n",
       "2        AUDI       A3    2     22000    Automatic  Second   Diesel  2250000.0\n",
       "3        AUDI       A3    3     20003    Automatic   First   Diesel  1925000.0\n",
       "4        AUDI       A3    3     39000    Automatic   First   Diesel  1890000.0"
      ]
     },
     "execution_count": 9,
     "metadata": {},
     "output_type": "execute_result"
    }
   ],
   "source": [
    "df.head()"
   ]
  },
  {
   "cell_type": "code",
   "execution_count": 10,
   "id": "e383ee99-a365-46ab-8c0c-69e05057fef4",
   "metadata": {},
   "outputs": [],
   "source": [
    "# Change the names of brand from AUDI to Audi\n",
    "df['Brand'] = df['Brand'].str.title()\n",
    "\n",
    "# Change the names of brand from AUDI to Audi\n",
    "df['Model'] = df['Model'].str.title()"
   ]
  },
  {
   "cell_type": "code",
   "execution_count": 11,
   "id": "9eba8995-02b5-477a-b3b6-df4149bb98f6",
   "metadata": {},
   "outputs": [],
   "source": [
    "# Changing the Age from Years to Months\n",
    "df['Age'] = df['Age']*12"
   ]
  },
  {
   "cell_type": "code",
   "execution_count": 12,
   "id": "1299b01b-f566-4edd-9492-dd4105f4f054",
   "metadata": {},
   "outputs": [],
   "source": [
    "df['Owner'] = df['Owner'].str.lower()"
   ]
  },
  {
   "cell_type": "code",
   "execution_count": 13,
   "id": "6e62ef05-bd05-4786-9bc4-f1a701605150",
   "metadata": {},
   "outputs": [
    {
     "data": {
      "text/html": [
       "<div>\n",
       "<style scoped>\n",
       "    .dataframe tbody tr th:only-of-type {\n",
       "        vertical-align: middle;\n",
       "    }\n",
       "\n",
       "    .dataframe tbody tr th {\n",
       "        vertical-align: top;\n",
       "    }\n",
       "\n",
       "    .dataframe thead th {\n",
       "        text-align: right;\n",
       "    }\n",
       "</style>\n",
       "<table border=\"1\" class=\"dataframe\">\n",
       "  <thead>\n",
       "    <tr style=\"text-align: right;\">\n",
       "      <th></th>\n",
       "      <th>Brand</th>\n",
       "      <th>Model</th>\n",
       "      <th>Age</th>\n",
       "      <th>KmDriven</th>\n",
       "      <th>Transmission</th>\n",
       "      <th>Owner</th>\n",
       "      <th>FuelType</th>\n",
       "      <th>Price</th>\n",
       "    </tr>\n",
       "  </thead>\n",
       "  <tbody>\n",
       "    <tr>\n",
       "      <th>0</th>\n",
       "      <td>Ambassador</td>\n",
       "      <td>Classic</td>\n",
       "      <td>192</td>\n",
       "      <td>80000</td>\n",
       "      <td>Manual</td>\n",
       "      <td>third</td>\n",
       "      <td>Diesel</td>\n",
       "      <td>135000.0</td>\n",
       "    </tr>\n",
       "    <tr>\n",
       "      <th>1</th>\n",
       "      <td>Audi</td>\n",
       "      <td>A3</td>\n",
       "      <td>60</td>\n",
       "      <td>79271</td>\n",
       "      <td>Automatic</td>\n",
       "      <td>first</td>\n",
       "      <td>Diesel</td>\n",
       "      <td>1650000.0</td>\n",
       "    </tr>\n",
       "    <tr>\n",
       "      <th>2</th>\n",
       "      <td>Audi</td>\n",
       "      <td>A3</td>\n",
       "      <td>24</td>\n",
       "      <td>22000</td>\n",
       "      <td>Automatic</td>\n",
       "      <td>second</td>\n",
       "      <td>Diesel</td>\n",
       "      <td>2250000.0</td>\n",
       "    </tr>\n",
       "    <tr>\n",
       "      <th>3</th>\n",
       "      <td>Audi</td>\n",
       "      <td>A3</td>\n",
       "      <td>36</td>\n",
       "      <td>20003</td>\n",
       "      <td>Automatic</td>\n",
       "      <td>first</td>\n",
       "      <td>Diesel</td>\n",
       "      <td>1925000.0</td>\n",
       "    </tr>\n",
       "    <tr>\n",
       "      <th>4</th>\n",
       "      <td>Audi</td>\n",
       "      <td>A3</td>\n",
       "      <td>36</td>\n",
       "      <td>39000</td>\n",
       "      <td>Automatic</td>\n",
       "      <td>first</td>\n",
       "      <td>Diesel</td>\n",
       "      <td>1890000.0</td>\n",
       "    </tr>\n",
       "  </tbody>\n",
       "</table>\n",
       "</div>"
      ],
      "text/plain": [
       "        Brand    Model  Age  KmDriven Transmission   Owner FuelType      Price\n",
       "0  Ambassador  Classic  192     80000       Manual   third   Diesel   135000.0\n",
       "1        Audi       A3   60     79271    Automatic   first   Diesel  1650000.0\n",
       "2        Audi       A3   24     22000    Automatic  second   Diesel  2250000.0\n",
       "3        Audi       A3   36     20003    Automatic   first   Diesel  1925000.0\n",
       "4        Audi       A3   36     39000    Automatic   first   Diesel  1890000.0"
      ]
     },
     "execution_count": 13,
     "metadata": {},
     "output_type": "execute_result"
    }
   ],
   "source": [
    "df.head()"
   ]
  },
  {
   "cell_type": "code",
   "execution_count": 14,
   "id": "f16fee6d-3672-49fa-b261-8a545c6bd544",
   "metadata": {},
   "outputs": [
    {
     "data": {
      "text/plain": [
       "np.int64(7)"
      ]
     },
     "execution_count": 14,
     "metadata": {},
     "output_type": "execute_result"
    }
   ],
   "source": [
    "df.duplicated().sum()"
   ]
  },
  {
   "cell_type": "code",
   "execution_count": 15,
   "id": "e391f6ef-542c-45d0-bbee-ef9c6a9aef5b",
   "metadata": {
    "scrolled": true
   },
   "outputs": [
    {
     "data": {
      "text/html": [
       "<div>\n",
       "<style scoped>\n",
       "    .dataframe tbody tr th:only-of-type {\n",
       "        vertical-align: middle;\n",
       "    }\n",
       "\n",
       "    .dataframe tbody tr th {\n",
       "        vertical-align: top;\n",
       "    }\n",
       "\n",
       "    .dataframe thead th {\n",
       "        text-align: right;\n",
       "    }\n",
       "</style>\n",
       "<table border=\"1\" class=\"dataframe\">\n",
       "  <thead>\n",
       "    <tr style=\"text-align: right;\">\n",
       "      <th></th>\n",
       "      <th>Brand</th>\n",
       "      <th>Model</th>\n",
       "      <th>Age</th>\n",
       "      <th>KmDriven</th>\n",
       "      <th>Transmission</th>\n",
       "      <th>Owner</th>\n",
       "      <th>FuelType</th>\n",
       "      <th>Price</th>\n",
       "    </tr>\n",
       "  </thead>\n",
       "  <tbody>\n",
       "    <tr>\n",
       "      <th>0</th>\n",
       "      <td>Ambassador</td>\n",
       "      <td>Classic</td>\n",
       "      <td>192</td>\n",
       "      <td>80000</td>\n",
       "      <td>Manual</td>\n",
       "      <td>third</td>\n",
       "      <td>Diesel</td>\n",
       "      <td>135000.0</td>\n",
       "    </tr>\n",
       "    <tr>\n",
       "      <th>1</th>\n",
       "      <td>Audi</td>\n",
       "      <td>A3</td>\n",
       "      <td>60</td>\n",
       "      <td>79271</td>\n",
       "      <td>Automatic</td>\n",
       "      <td>first</td>\n",
       "      <td>Diesel</td>\n",
       "      <td>1650000.0</td>\n",
       "    </tr>\n",
       "    <tr>\n",
       "      <th>2</th>\n",
       "      <td>Audi</td>\n",
       "      <td>A3</td>\n",
       "      <td>24</td>\n",
       "      <td>22000</td>\n",
       "      <td>Automatic</td>\n",
       "      <td>second</td>\n",
       "      <td>Diesel</td>\n",
       "      <td>2250000.0</td>\n",
       "    </tr>\n",
       "    <tr>\n",
       "      <th>3</th>\n",
       "      <td>Audi</td>\n",
       "      <td>A3</td>\n",
       "      <td>36</td>\n",
       "      <td>20003</td>\n",
       "      <td>Automatic</td>\n",
       "      <td>first</td>\n",
       "      <td>Diesel</td>\n",
       "      <td>1925000.0</td>\n",
       "    </tr>\n",
       "    <tr>\n",
       "      <th>4</th>\n",
       "      <td>Audi</td>\n",
       "      <td>A3</td>\n",
       "      <td>36</td>\n",
       "      <td>39000</td>\n",
       "      <td>Automatic</td>\n",
       "      <td>first</td>\n",
       "      <td>Diesel</td>\n",
       "      <td>1890000.0</td>\n",
       "    </tr>\n",
       "    <tr>\n",
       "      <th>...</th>\n",
       "      <td>...</td>\n",
       "      <td>...</td>\n",
       "      <td>...</td>\n",
       "      <td>...</td>\n",
       "      <td>...</td>\n",
       "      <td>...</td>\n",
       "      <td>...</td>\n",
       "      <td>...</td>\n",
       "    </tr>\n",
       "    <tr>\n",
       "      <th>6011</th>\n",
       "      <td>Volvo</td>\n",
       "      <td>Xc60</td>\n",
       "      <td>96</td>\n",
       "      <td>173000</td>\n",
       "      <td>Automatic</td>\n",
       "      <td>first</td>\n",
       "      <td>Diesel</td>\n",
       "      <td>1200000.0</td>\n",
       "    </tr>\n",
       "    <tr>\n",
       "      <th>6012</th>\n",
       "      <td>Volvo</td>\n",
       "      <td>Xc60</td>\n",
       "      <td>84</td>\n",
       "      <td>86000</td>\n",
       "      <td>Automatic</td>\n",
       "      <td>second</td>\n",
       "      <td>Diesel</td>\n",
       "      <td>1825000.0</td>\n",
       "    </tr>\n",
       "    <tr>\n",
       "      <th>6013</th>\n",
       "      <td>Volvo</td>\n",
       "      <td>Xc60</td>\n",
       "      <td>60</td>\n",
       "      <td>93144</td>\n",
       "      <td>Automatic</td>\n",
       "      <td>first</td>\n",
       "      <td>Diesel</td>\n",
       "      <td>1715000.0</td>\n",
       "    </tr>\n",
       "    <tr>\n",
       "      <th>6014</th>\n",
       "      <td>Volvo</td>\n",
       "      <td>Xc90</td>\n",
       "      <td>60</td>\n",
       "      <td>89230</td>\n",
       "      <td>Manual</td>\n",
       "      <td>first</td>\n",
       "      <td>Diesel</td>\n",
       "      <td>2365000.0</td>\n",
       "    </tr>\n",
       "    <tr>\n",
       "      <th>6015</th>\n",
       "      <td>Volvo</td>\n",
       "      <td>Xc90</td>\n",
       "      <td>60</td>\n",
       "      <td>102001</td>\n",
       "      <td>Automatic</td>\n",
       "      <td>first</td>\n",
       "      <td>Diesel</td>\n",
       "      <td>2358000.0</td>\n",
       "    </tr>\n",
       "  </tbody>\n",
       "</table>\n",
       "<p>6009 rows × 8 columns</p>\n",
       "</div>"
      ],
      "text/plain": [
       "           Brand    Model  Age  KmDriven Transmission   Owner FuelType  \\\n",
       "0     Ambassador  Classic  192     80000       Manual   third   Diesel   \n",
       "1           Audi       A3   60     79271    Automatic   first   Diesel   \n",
       "2           Audi       A3   24     22000    Automatic  second   Diesel   \n",
       "3           Audi       A3   36     20003    Automatic   first   Diesel   \n",
       "4           Audi       A3   36     39000    Automatic   first   Diesel   \n",
       "...          ...      ...  ...       ...          ...     ...      ...   \n",
       "6011       Volvo     Xc60   96    173000    Automatic   first   Diesel   \n",
       "6012       Volvo     Xc60   84     86000    Automatic  second   Diesel   \n",
       "6013       Volvo     Xc60   60     93144    Automatic   first   Diesel   \n",
       "6014       Volvo     Xc90   60     89230       Manual   first   Diesel   \n",
       "6015       Volvo     Xc90   60    102001    Automatic   first   Diesel   \n",
       "\n",
       "          Price  \n",
       "0      135000.0  \n",
       "1     1650000.0  \n",
       "2     2250000.0  \n",
       "3     1925000.0  \n",
       "4     1890000.0  \n",
       "...         ...  \n",
       "6011  1200000.0  \n",
       "6012  1825000.0  \n",
       "6013  1715000.0  \n",
       "6014  2365000.0  \n",
       "6015  2358000.0  \n",
       "\n",
       "[6009 rows x 8 columns]"
      ]
     },
     "execution_count": 15,
     "metadata": {},
     "output_type": "execute_result"
    }
   ],
   "source": [
    "# Dropping duplicate values\n",
    "\n",
    "df = df.drop_duplicates()\n",
    "df"
   ]
  },
  {
   "cell_type": "markdown",
   "id": "d4193d59-9002-4a30-a843-5f30a4607e21",
   "metadata": {},
   "source": [
    "#### Correcting the names of different models"
   ]
  },
  {
   "cell_type": "code",
   "execution_count": 16,
   "id": "48ec6487-a004-4fd5-99c9-2d3b21f373e1",
   "metadata": {},
   "outputs": [
    {
     "data": {
      "text/plain": [
       "array(['Ambassador', 'Audi', 'Bentley', 'Bmw', 'Chevrolet', 'Datsun',\n",
       "       'Fiat', 'Force', 'Ford', 'Honda', 'Hyundai', 'Isuzu', 'Jaguar',\n",
       "       'Jeep', 'Lamborghini', 'Land', 'Mahindra', 'Maruti',\n",
       "       'Mercedes-Benz', 'Mini', 'Mitsubishi', 'Nissan', 'Porsche',\n",
       "       'Renault', 'Skoda', 'Smart', 'Tata', 'Toyota', 'Volkswagen',\n",
       "       'Volvo'], dtype=object)"
      ]
     },
     "execution_count": 16,
     "metadata": {},
     "output_type": "execute_result"
    }
   ],
   "source": [
    "df['Brand'].unique()"
   ]
  },
  {
   "cell_type": "code",
   "execution_count": 17,
   "id": "817fcdba-0533-4fc2-af4b-645ccb1ac6da",
   "metadata": {},
   "outputs": [
    {
     "data": {
      "text/plain": [
       "30"
      ]
     },
     "execution_count": 17,
     "metadata": {},
     "output_type": "execute_result"
    }
   ],
   "source": [
    "df['Brand'].nunique()"
   ]
  },
  {
   "cell_type": "markdown",
   "id": "4669a910-45d2-4911-9dcf-0b6091503789",
   "metadata": {},
   "source": [
    "##### 1. Honda"
   ]
  },
  {
   "cell_type": "code",
   "execution_count": 18,
   "id": "c012e60f-ecfc-4ab8-b493-96f8a2091f48",
   "metadata": {},
   "outputs": [
    {
     "data": {
      "text/plain": [
       "array(['Accord', 'Amaze', 'Br-V', 'Brio', 'Brv', 'City', 'Civic', 'Cr-V',\n",
       "       'Jazz', 'Mobilio', 'Wr-V', 'Wrv'], dtype=object)"
      ]
     },
     "execution_count": 18,
     "metadata": {},
     "output_type": "execute_result"
    }
   ],
   "source": [
    "df[df['Brand'] == 'Honda']['Model'].unique()"
   ]
  },
  {
   "cell_type": "code",
   "execution_count": 19,
   "id": "a3536481-6da5-447a-bc1a-85c4eb00554c",
   "metadata": {},
   "outputs": [],
   "source": [
    "df.replace('Br-V', 'BRV', inplace=True)\n",
    "df.replace('Brv', 'BRV', inplace=True)\n",
    "df.replace('Cr-V', 'CRV', inplace=True)\n",
    "df.replace('Wr-V', 'WRV', inplace=True)\n",
    "df.replace('Wrv', 'WRV', inplace=True)"
   ]
  },
  {
   "cell_type": "code",
   "execution_count": 20,
   "id": "946b5faa-b57b-4191-9446-2debc724efb3",
   "metadata": {},
   "outputs": [
    {
     "data": {
      "text/plain": [
       "array(['Accord', 'Amaze', 'BRV', 'Brio', 'City', 'Civic', 'CRV', 'Jazz',\n",
       "       'Mobilio', 'WRV'], dtype=object)"
      ]
     },
     "execution_count": 20,
     "metadata": {},
     "output_type": "execute_result"
    }
   ],
   "source": [
    "df[df['Brand'] == 'Honda']['Model'].unique()"
   ]
  },
  {
   "cell_type": "markdown",
   "id": "a2974394-6b31-48d3-9489-841f406dd4e7",
   "metadata": {},
   "source": [
    "##### 2. Tata"
   ]
  },
  {
   "cell_type": "code",
   "execution_count": 21,
   "id": "c4481417-9f81-4840-8478-2b56208dffad",
   "metadata": {},
   "outputs": [
    {
     "data": {
      "text/plain": [
       "array(['Bolt', 'Hexa', 'Indica', 'Indigo', 'Manza', 'Nano', 'New',\n",
       "       'Nexon', 'Safari', 'Sumo', 'Tiago', 'Tigor', 'Venture', 'Xenon',\n",
       "       'Zest'], dtype=object)"
      ]
     },
     "execution_count": 21,
     "metadata": {},
     "output_type": "execute_result"
    }
   ],
   "source": [
    "df[df['Brand'] == 'Tata']['Model'].unique()"
   ]
  },
  {
   "cell_type": "code",
   "execution_count": 22,
   "id": "c61bb4d6-44a8-4d2a-8014-9931bdef49c1",
   "metadata": {},
   "outputs": [],
   "source": [
    "# Dropping 'New' as there is no car with this name\n",
    "df = df[df['Model'] != 'New']"
   ]
  },
  {
   "cell_type": "code",
   "execution_count": 23,
   "id": "86484a73-766c-403d-9409-28224f46a26e",
   "metadata": {},
   "outputs": [
    {
     "data": {
      "text/plain": [
       "array(['Bolt', 'Hexa', 'Indica', 'Indigo', 'Manza', 'Nano', 'Nexon',\n",
       "       'Safari', 'Sumo', 'Tiago', 'Tigor', 'Venture', 'Xenon', 'Zest'],\n",
       "      dtype=object)"
      ]
     },
     "execution_count": 23,
     "metadata": {},
     "output_type": "execute_result"
    }
   ],
   "source": [
    "df[df['Brand'] == 'Tata']['Model'].unique()"
   ]
  },
  {
   "cell_type": "markdown",
   "id": "ce55394e-3a30-4479-a4dc-8c33f2ce45c0",
   "metadata": {},
   "source": [
    "##### 3. Maruti Suzuki"
   ]
  },
  {
   "cell_type": "code",
   "execution_count": 24,
   "id": "14381636-d787-4f31-ae03-92daaec68e74",
   "metadata": {},
   "outputs": [],
   "source": [
    "df.replace('Maruti', 'Maruti Suzuki', inplace=True)"
   ]
  },
  {
   "cell_type": "code",
   "execution_count": 25,
   "id": "325c6708-9471-4f2c-bac5-891c7ef649c4",
   "metadata": {},
   "outputs": [
    {
     "data": {
      "text/plain": [
       "array(['1000', '800', 'A-Star', 'Alto', 'Baleno', 'Celerio', 'Ciaz',\n",
       "       'Dzire', 'Eeco', 'Ertiga', 'Esteem', 'Estilo', 'Grand', 'Ignis',\n",
       "       'Omni', 'Ritz', 'S', 'S-Cross', 'Swift', 'Sx4', 'Versa', 'Vitara',\n",
       "       'Wagon', 'Zen'], dtype=object)"
      ]
     },
     "execution_count": 25,
     "metadata": {},
     "output_type": "execute_result"
    }
   ],
   "source": [
    "df[df['Brand'] == 'Maruti Suzuki']['Model'].unique()"
   ]
  },
  {
   "cell_type": "code",
   "execution_count": 26,
   "id": "94458406-99ac-4a19-8522-cb1e0ae91e64",
   "metadata": {},
   "outputs": [],
   "source": [
    "df.replace('S', 'S-Cross', inplace=True)\n",
    "df.replace('Wagon', 'Wagon-R', inplace=True)\n",
    "df.replace('Sx4', 'SX4', inplace=True)\n",
    "df.replace('Dzire', 'Swift Dzire', inplace=True)\n",
    "df.replace('Vitara', 'Vitara-Brezza', inplace=True)\n",
    "df.replace('Grand', 'Grand Vitara', inplace=True)\n",
    "df.replace('Estilo', 'Zen-Estilo', inplace=True)\n",
    "df.replace('Versa', 'Eeco', inplace=True)"
   ]
  },
  {
   "cell_type": "code",
   "execution_count": 27,
   "id": "ee951334-f30b-4add-bc6f-30e721539c8b",
   "metadata": {},
   "outputs": [
    {
     "data": {
      "text/plain": [
       "array(['1000', '800', 'A-Star', 'Alto', 'Baleno', 'Celerio', 'Ciaz',\n",
       "       'Swift Dzire', 'Eeco', 'Ertiga', 'Esteem', 'Zen-Estilo',\n",
       "       'Grand Vitara', 'Ignis', 'Omni', 'Ritz', 'S-Cross', 'Swift', 'SX4',\n",
       "       'Vitara-Brezza', 'Wagon-R', 'Zen'], dtype=object)"
      ]
     },
     "execution_count": 27,
     "metadata": {},
     "output_type": "execute_result"
    }
   ],
   "source": [
    "df[df['Brand'] == 'Maruti Suzuki']['Model'].unique()"
   ]
  },
  {
   "cell_type": "markdown",
   "id": "4f80a1d3-c2e1-43dd-9abb-f6cc56812edb",
   "metadata": {},
   "source": [
    "##### 4. Toyota"
   ]
  },
  {
   "cell_type": "code",
   "execution_count": 28,
   "id": "c5ccd91b-e9d3-4097-b837-dae57438dfeb",
   "metadata": {},
   "outputs": [
    {
     "data": {
      "text/plain": [
       "array(['Camry', 'Corolla', 'Etios', 'Fortuner', 'Innova', 'Platinum',\n",
       "       'Qualis'], dtype=object)"
      ]
     },
     "execution_count": 28,
     "metadata": {},
     "output_type": "execute_result"
    }
   ],
   "source": [
    "df[df['Brand'] == 'Toyota']['Model'].unique()"
   ]
  },
  {
   "cell_type": "code",
   "execution_count": 29,
   "id": "3b3cffc3-398e-45c9-9e37-4fb942cd868d",
   "metadata": {},
   "outputs": [],
   "source": [
    "df.replace('Platinum', 'Etios', inplace=True)"
   ]
  },
  {
   "cell_type": "code",
   "execution_count": 30,
   "id": "0f67ac38-89ed-44ec-8b41-19ce7df0e22e",
   "metadata": {},
   "outputs": [
    {
     "data": {
      "text/plain": [
       "array(['Camry', 'Corolla', 'Etios', 'Fortuner', 'Innova', 'Qualis'],\n",
       "      dtype=object)"
      ]
     },
     "execution_count": 30,
     "metadata": {},
     "output_type": "execute_result"
    }
   ],
   "source": [
    "df[df['Brand'] == 'Toyota']['Model'].unique()"
   ]
  },
  {
   "cell_type": "markdown",
   "id": "5a3fb057-be47-410d-82b0-c933a7bcd3a4",
   "metadata": {},
   "source": [
    "##### 5. Volkswagen"
   ]
  },
  {
   "cell_type": "code",
   "execution_count": 31,
   "id": "d5301452-3abc-43a1-999a-0aa7e00ae0a0",
   "metadata": {},
   "outputs": [
    {
     "data": {
      "text/plain": [
       "array(['Ameo', 'Beetle', 'Crosspolo', 'Jetta', 'Passat', 'Polo', 'Tiguan',\n",
       "       'Vento'], dtype=object)"
      ]
     },
     "execution_count": 31,
     "metadata": {},
     "output_type": "execute_result"
    }
   ],
   "source": [
    "df[df['Brand'] == 'Volkswagen']['Model'].unique()"
   ]
  },
  {
   "cell_type": "code",
   "execution_count": 32,
   "id": "094119b1-e5c0-47c0-a155-4d0eb67ca0ca",
   "metadata": {},
   "outputs": [],
   "source": [
    "df.replace('Crosspolo', 'Polo', inplace=True)"
   ]
  },
  {
   "cell_type": "code",
   "execution_count": 33,
   "id": "97444f1e-a575-4318-81a6-60347e2867cb",
   "metadata": {},
   "outputs": [
    {
     "data": {
      "text/plain": [
       "array(['Ameo', 'Beetle', 'Polo', 'Jetta', 'Passat', 'Tiguan', 'Vento'],\n",
       "      dtype=object)"
      ]
     },
     "execution_count": 33,
     "metadata": {},
     "output_type": "execute_result"
    }
   ],
   "source": [
    "df[df['Brand'] == 'Volkswagen']['Model'].unique()"
   ]
  },
  {
   "cell_type": "markdown",
   "id": "ba1d3e2c-c921-4396-b421-e89c026b6383",
   "metadata": {},
   "source": [
    "##### 6. BMW"
   ]
  },
  {
   "cell_type": "code",
   "execution_count": 34,
   "id": "2b1d416c-5e10-4a90-af51-ef1b14b39eca",
   "metadata": {},
   "outputs": [],
   "source": [
    "df.replace('Bmw', 'BMW', inplace=True)"
   ]
  },
  {
   "cell_type": "code",
   "execution_count": 35,
   "id": "105836f7-cfd9-48b0-b6d3-3eccc84799ba",
   "metadata": {},
   "outputs": [
    {
     "data": {
      "text/plain": [
       "array(['1', '3', '5', '6', '7', 'X1', 'X3', 'X5', 'X6', 'Z4'],\n",
       "      dtype=object)"
      ]
     },
     "execution_count": 35,
     "metadata": {},
     "output_type": "execute_result"
    }
   ],
   "source": [
    "df[df['Brand'] == 'BMW']['Model'].unique()"
   ]
  },
  {
   "cell_type": "code",
   "execution_count": 36,
   "id": "da48abf5-d85d-4c77-90ad-6a52c4eda3d6",
   "metadata": {},
   "outputs": [],
   "source": [
    "df.replace('1', '1 Series', inplace=True)\n",
    "df.replace('3', '3 Series', inplace=True)\n",
    "df.replace('5', '5 Series', inplace=True)\n",
    "df.replace('6', '6 Series', inplace=True)\n",
    "df.replace('7', '7 Series', inplace=True)"
   ]
  },
  {
   "cell_type": "code",
   "execution_count": 37,
   "id": "2a52b739-eb60-4763-849d-95d3a813d709",
   "metadata": {},
   "outputs": [
    {
     "data": {
      "text/plain": [
       "array(['1 Series', '3 Series', '5 Series', '6 Series', '7 Series', 'X1',\n",
       "       'X3', 'X5', 'X6', 'Z4'], dtype=object)"
      ]
     },
     "execution_count": 37,
     "metadata": {},
     "output_type": "execute_result"
    }
   ],
   "source": [
    "df[df['Brand'] == 'BMW']['Model'].unique()"
   ]
  },
  {
   "cell_type": "markdown",
   "id": "4ca4e035-6c38-4f68-a3f3-2c7bde5a5acc",
   "metadata": {},
   "source": [
    "##### 7. Ford"
   ]
  },
  {
   "cell_type": "code",
   "execution_count": 38,
   "id": "a86dae85-9df3-4492-82fd-cb212809e816",
   "metadata": {},
   "outputs": [
    {
     "data": {
      "text/plain": [
       "array(['Aspire', 'Classic', 'Ecosport', 'Endeavour', 'Fiesta', 'Figo',\n",
       "       'Freestyle', 'Fusion', 'Ikon', 'Mustang'], dtype=object)"
      ]
     },
     "execution_count": 38,
     "metadata": {},
     "output_type": "execute_result"
    }
   ],
   "source": [
    "df[df['Brand'] == 'Ford']['Model'].unique()"
   ]
  },
  {
   "cell_type": "markdown",
   "id": "dde3d88b-6da4-4a81-99ac-c50721585e67",
   "metadata": {},
   "source": [
    "##### 8. Mercedes-Benz"
   ]
  },
  {
   "cell_type": "code",
   "execution_count": 39,
   "id": "816eae2f-a1c3-447b-9a1d-32707bb33243",
   "metadata": {},
   "outputs": [
    {
     "data": {
      "text/plain": [
       "array(['A', 'B', 'C-Class', 'Cla', 'Cls-Class', 'E-Class', 'Gl-Class',\n",
       "       'Gla', 'Glc', 'Gle', 'Gls', 'M-Class', 'R-Class', 'S-Cross',\n",
       "       'S-Class', 'Sl-Class', 'Slc', 'Slk-Class'], dtype=object)"
      ]
     },
     "execution_count": 39,
     "metadata": {},
     "output_type": "execute_result"
    }
   ],
   "source": [
    "df[df['Brand'] == 'Mercedes-Benz']['Model'].unique()"
   ]
  },
  {
   "cell_type": "code",
   "execution_count": 40,
   "id": "e6c97ba8-96ac-4fdb-b30d-26b1d9187c6e",
   "metadata": {},
   "outputs": [],
   "source": [
    "# S-Cross is a car from Maruti Suzuki not Merc\n",
    "df.loc[df['Model'] == 'S-Cross', 'Brand'] = 'Maruti Suzuki'\n",
    "\n",
    "df.replace('A', 'A-Class', inplace=True)\n",
    "df.replace('B', 'B-Class', inplace=True)\n",
    "df.replace('Cla', 'CLA', inplace=True)\n",
    "df.replace('Cls-Class', 'CLS', inplace=True)\n",
    "df.replace('Gl-Class', 'GL-Class', inplace=True)\n",
    "df.replace('Gla', 'GLA', inplace=True)\n",
    "df.replace('Glc', 'GLC', inplace=True)\n",
    "df.replace('Gle', 'GLE', inplace=True)\n",
    "df.replace('Gls', 'GLS', inplace=True)\n",
    "df.replace('Sl-Class', 'SL-Class', inplace=True)\n",
    "df.replace('Slc', 'SL-Class', inplace=True)\n",
    "df.replace('Slk-Class', 'SLK-Class', inplace=True)"
   ]
  },
  {
   "cell_type": "code",
   "execution_count": 41,
   "id": "2aa95686-b44b-4a95-81a0-325a7454bc1d",
   "metadata": {},
   "outputs": [
    {
     "data": {
      "text/plain": [
       "array(['A-Class', 'B-Class', 'C-Class', 'CLA', 'CLS', 'E-Class',\n",
       "       'GL-Class', 'GLA', 'GLC', 'GLE', 'GLS', 'M-Class', 'R-Class',\n",
       "       'S-Class', 'SL-Class', 'SLK-Class'], dtype=object)"
      ]
     },
     "execution_count": 41,
     "metadata": {},
     "output_type": "execute_result"
    }
   ],
   "source": [
    "df[df['Brand'] == 'Mercedes-Benz']['Model'].unique()"
   ]
  },
  {
   "cell_type": "markdown",
   "id": "b49b0188-ba37-40f4-8d37-c18a708eae65",
   "metadata": {},
   "source": [
    "##### 9. Hyundai"
   ]
  },
  {
   "cell_type": "code",
   "execution_count": 42,
   "id": "7a4cdd05-57bc-4a6d-8442-5a81d2569dc3",
   "metadata": {
    "scrolled": true
   },
   "outputs": [
    {
     "data": {
      "text/plain": [
       "array(['Accent', 'Creta', 'Elantra', 'Elite', 'Eon', 'Getz',\n",
       "       'Grand Vitara', 'I10', 'I20', 'Santa', 'Santro', 'Sonata',\n",
       "       'Tucson', 'Verna', 'Xcent'], dtype=object)"
      ]
     },
     "execution_count": 42,
     "metadata": {},
     "output_type": "execute_result"
    }
   ],
   "source": [
    "df[df['Brand'] == 'Hyundai']['Model'].unique()"
   ]
  },
  {
   "cell_type": "code",
   "execution_count": 43,
   "id": "0d6dd36f-a0fd-47da-9621-23f36e9c3d75",
   "metadata": {},
   "outputs": [],
   "source": [
    "# Grand Vitara is a car from Maruti Suzuki not Hyundai\n",
    "df.loc[df['Model'] == 'Grand Vitara', 'Brand'] = 'Maruti Suzuki'\n",
    "\n",
    "df.replace('I20', 'i20', inplace=True)\n",
    "df.replace('Elite', 'i20', inplace=True)\n",
    "df.replace('I10', 'i10', inplace=True)\n",
    "df.replace('Santa', 'Santa Fe', inplace=True)"
   ]
  },
  {
   "cell_type": "code",
   "execution_count": 44,
   "id": "4130da83-bebc-4796-aab7-6d68c495fa15",
   "metadata": {
    "scrolled": true
   },
   "outputs": [
    {
     "data": {
      "text/plain": [
       "array(['Accent', 'Creta', 'Elantra', 'i20', 'Eon', 'Getz', 'i10',\n",
       "       'Santa Fe', 'Santro', 'Sonata', 'Tucson', 'Verna', 'Xcent'],\n",
       "      dtype=object)"
      ]
     },
     "execution_count": 44,
     "metadata": {},
     "output_type": "execute_result"
    }
   ],
   "source": [
    "df[df['Brand'] == 'Hyundai']['Model'].unique()"
   ]
  },
  {
   "cell_type": "markdown",
   "id": "afeb7eca-7e8f-4cc3-8ca2-8d9a8cffdf0f",
   "metadata": {},
   "source": [
    "##### 10. Audi"
   ]
  },
  {
   "cell_type": "code",
   "execution_count": 45,
   "id": "96fb4303-7d0d-471f-a785-3f8eb97fcc63",
   "metadata": {},
   "outputs": [
    {
     "data": {
      "text/plain": [
       "array(['A3', 'A4', 'A6', 'A7', 'A8', 'Q3', 'Q5', 'Q7', 'Rs5', 'Tt'],\n",
       "      dtype=object)"
      ]
     },
     "execution_count": 45,
     "metadata": {},
     "output_type": "execute_result"
    }
   ],
   "source": [
    "df[df['Brand'] == 'Audi']['Model'].unique()"
   ]
  },
  {
   "cell_type": "code",
   "execution_count": 46,
   "id": "0d672715-070f-4fef-98b7-81e2bbde21b0",
   "metadata": {},
   "outputs": [],
   "source": [
    "df.replace('Tt', 'TT', inplace=True)\n",
    "df.replace('Rs5', 'RS5', inplace=True)"
   ]
  },
  {
   "cell_type": "code",
   "execution_count": 47,
   "id": "69318346-e8c8-464c-bdf6-f6a6dbece816",
   "metadata": {},
   "outputs": [
    {
     "data": {
      "text/plain": [
       "array(['A3', 'A4', 'A6', 'A7', 'A8', 'Q3', 'Q5', 'Q7', 'RS5', 'TT'],\n",
       "      dtype=object)"
      ]
     },
     "execution_count": 47,
     "metadata": {},
     "output_type": "execute_result"
    }
   ],
   "source": [
    "df[df['Brand'] == 'Audi']['Model'].unique()"
   ]
  },
  {
   "cell_type": "markdown",
   "id": "c878375b-e3e9-43b5-9053-f90cf7dc8db8",
   "metadata": {},
   "source": [
    "##### 11. Volvo"
   ]
  },
  {
   "cell_type": "code",
   "execution_count": 48,
   "id": "0fe2e927-5c68-4956-985d-41ce8f0d8e44",
   "metadata": {},
   "outputs": [
    {
     "data": {
      "text/plain": [
       "array(['S60', 'S80', 'V40', 'Xc60', 'Xc90'], dtype=object)"
      ]
     },
     "execution_count": 48,
     "metadata": {},
     "output_type": "execute_result"
    }
   ],
   "source": [
    "df[df['Brand'] == 'Volvo']['Model'].unique()"
   ]
  },
  {
   "cell_type": "code",
   "execution_count": 49,
   "id": "74ea4340-0197-40cc-9b3b-bebc87582953",
   "metadata": {},
   "outputs": [],
   "source": [
    "df.replace('Xc90', 'XC90', inplace=True)\n",
    "df.replace('Xc60', 'XC60', inplace=True)"
   ]
  },
  {
   "cell_type": "code",
   "execution_count": 50,
   "id": "90938013-38d0-40da-af2f-638a471fccaa",
   "metadata": {},
   "outputs": [
    {
     "data": {
      "text/plain": [
       "array(['S60', 'S80', 'V40', 'XC60', 'XC90'], dtype=object)"
      ]
     },
     "execution_count": 50,
     "metadata": {},
     "output_type": "execute_result"
    }
   ],
   "source": [
    "df[df['Brand'] == 'Volvo']['Model'].unique()"
   ]
  },
  {
   "cell_type": "markdown",
   "id": "deff94e9-c19f-44de-a91c-b649a3779c30",
   "metadata": {},
   "source": [
    "##### 12. Skoda"
   ]
  },
  {
   "cell_type": "code",
   "execution_count": 51,
   "id": "75584eed-21cd-4121-9c36-d0c5c6a562cd",
   "metadata": {},
   "outputs": [
    {
     "data": {
      "text/plain": [
       "array(['Fabia', 'Laura', 'Octavia', 'Rapid', 'Superb', 'Yeti'],\n",
       "      dtype=object)"
      ]
     },
     "execution_count": 51,
     "metadata": {},
     "output_type": "execute_result"
    }
   ],
   "source": [
    "df[df['Brand'] == 'Skoda']['Model'].unique()"
   ]
  },
  {
   "cell_type": "markdown",
   "id": "cea0cc47-dbc7-45c4-93a0-bbc2776339a2",
   "metadata": {},
   "source": [
    "##### 13. Mahindra"
   ]
  },
  {
   "cell_type": "code",
   "execution_count": 52,
   "id": "66d2b599-4d17-4bdb-b187-f628d42182fc",
   "metadata": {},
   "outputs": [
    {
     "data": {
      "text/plain": [
       "array(['Bolero', 'Jeep', 'Kuv', 'Logan', 'Nuvosport', 'Quanto', 'Renault',\n",
       "       'Scorpio', 'Ssangyong', 'Thar', 'Tuv', 'Verito', 'Xuv300',\n",
       "       'Xuv500', 'Xylo'], dtype=object)"
      ]
     },
     "execution_count": 52,
     "metadata": {},
     "output_type": "execute_result"
    }
   ],
   "source": [
    "df[df['Brand'] == 'Mahindra']['Model'].unique()"
   ]
  },
  {
   "cell_type": "code",
   "execution_count": 53,
   "id": "301bdf42-8b50-4cac-b659-625148eb2cda",
   "metadata": {},
   "outputs": [],
   "source": [
    "df.replace('Tuv', 'TUV300', inplace=True)\n",
    "df.replace('Xuv300', 'XUV300', inplace=True)\n",
    "df.replace('Xuv500', 'XUV500', inplace=True)\n",
    "df.replace('Kuv', 'KUV100', inplace=True)"
   ]
  },
  {
   "cell_type": "code",
   "execution_count": 54,
   "id": "10465eb9-9394-4e02-ad62-976c72dc654a",
   "metadata": {},
   "outputs": [
    {
     "data": {
      "text/plain": [
       "array(['Bolero', 'Jeep', 'KUV100', 'Logan', 'Nuvosport', 'Quanto',\n",
       "       'Renault', 'Scorpio', 'Ssangyong', 'Thar', 'TUV300', 'Verito',\n",
       "       'XUV300', 'XUV500', 'Xylo'], dtype=object)"
      ]
     },
     "execution_count": 54,
     "metadata": {},
     "output_type": "execute_result"
    }
   ],
   "source": [
    "df[df['Brand'] == 'Mahindra']['Model'].unique()"
   ]
  },
  {
   "cell_type": "markdown",
   "id": "62e89d7f-0000-46ca-9cec-1fbb73aa150d",
   "metadata": {},
   "source": [
    "##### 14. Renault"
   ]
  },
  {
   "cell_type": "code",
   "execution_count": 55,
   "id": "44de0e27-2228-48e5-b748-4128dcf74080",
   "metadata": {},
   "outputs": [
    {
     "data": {
      "text/plain": [
       "array(['Captur', 'Duster', 'Fluence', 'Koleos', 'Kwid', 'Lodgy', 'Pulse',\n",
       "       'Scala'], dtype=object)"
      ]
     },
     "execution_count": 55,
     "metadata": {},
     "output_type": "execute_result"
    }
   ],
   "source": [
    "df[df['Brand'] == 'Renault']['Model'].unique()"
   ]
  },
  {
   "cell_type": "code",
   "execution_count": 56,
   "id": "bf73a98e-b905-46e0-80bc-9b89f57fcf2d",
   "metadata": {},
   "outputs": [],
   "source": [
    "df.loc[df['Model'] == 'Logan', 'Brand'] = 'Renault'\n",
    "df.loc[df['Model'] == 'Renault', 'Brand'] = 'Renault'"
   ]
  },
  {
   "cell_type": "code",
   "execution_count": 57,
   "id": "88a89de9-5db1-404c-95e6-17ef641a3af7",
   "metadata": {},
   "outputs": [],
   "source": [
    "df.loc[df['Model'] == 'Renault', 'Model'] = 'Logan'"
   ]
  },
  {
   "cell_type": "code",
   "execution_count": 58,
   "id": "21187e60-d8bc-4d98-8274-12b25514d34c",
   "metadata": {},
   "outputs": [
    {
     "data": {
      "text/plain": [
       "array(['Logan', 'Captur', 'Duster', 'Fluence', 'Koleos', 'Kwid', 'Lodgy',\n",
       "       'Pulse', 'Scala'], dtype=object)"
      ]
     },
     "execution_count": 58,
     "metadata": {},
     "output_type": "execute_result"
    }
   ],
   "source": [
    "df[df['Brand'] == 'Renault']['Model'].unique()"
   ]
  },
  {
   "cell_type": "markdown",
   "id": "94e668fb-39f4-4a5c-8b36-c36bc5b2092b",
   "metadata": {},
   "source": [
    "##### 15. Ssangyong"
   ]
  },
  {
   "cell_type": "code",
   "execution_count": 59,
   "id": "d6567aa9-7678-4570-8473-ce9175b56927",
   "metadata": {},
   "outputs": [
    {
     "data": {
      "text/plain": [
       "array([], dtype=object)"
      ]
     },
     "execution_count": 59,
     "metadata": {},
     "output_type": "execute_result"
    }
   ],
   "source": [
    "df[df['Brand'] == 'Ssangyong']['Model'].unique()"
   ]
  },
  {
   "cell_type": "code",
   "execution_count": 60,
   "id": "85576ed4-15bd-4dc4-b5e1-d3d340ca9bf0",
   "metadata": {},
   "outputs": [],
   "source": [
    "df.loc[df['Model'] == 'Ssangyong', 'Brand'] = 'Ssangyong'\n",
    "df.loc[df['Model'] == 'Ssangyong', 'Model'] = 'Rexton'"
   ]
  },
  {
   "cell_type": "code",
   "execution_count": 61,
   "id": "8705ef71-2a9d-4caf-8dc9-600f30e7af7b",
   "metadata": {},
   "outputs": [
    {
     "data": {
      "text/plain": [
       "array(['Rexton'], dtype=object)"
      ]
     },
     "execution_count": 61,
     "metadata": {},
     "output_type": "execute_result"
    }
   ],
   "source": [
    "df[df['Brand'] == 'Ssangyong']['Model'].unique()"
   ]
  },
  {
   "cell_type": "markdown",
   "id": "409bb4ae-b7f5-40d0-b476-e5ccbd055788",
   "metadata": {},
   "source": [
    "##### 16. Mini"
   ]
  },
  {
   "cell_type": "code",
   "execution_count": 62,
   "id": "e68e061e-7d21-4d88-bf6a-35be36c4ac95",
   "metadata": {},
   "outputs": [
    {
     "data": {
      "text/plain": [
       "array(['Clubman', 'Cooper', 'Countryman'], dtype=object)"
      ]
     },
     "execution_count": 62,
     "metadata": {},
     "output_type": "execute_result"
    }
   ],
   "source": [
    "df[df['Brand'] == 'Mini']['Model'].unique()"
   ]
  },
  {
   "cell_type": "code",
   "execution_count": 63,
   "id": "497bc00f-fbb3-42ff-8dd5-729a2ab5061b",
   "metadata": {},
   "outputs": [],
   "source": [
    "df.replace('Countryman', 'Cooper Countryman', inplace=True)\n",
    "df.replace('Clubman', 'Cooper Clubman', inplace=True)"
   ]
  },
  {
   "cell_type": "code",
   "execution_count": 64,
   "id": "eba907dc-43f8-4f3d-8a67-1b0bca1f2b3c",
   "metadata": {},
   "outputs": [
    {
     "data": {
      "text/plain": [
       "array(['Cooper Clubman', 'Cooper', 'Cooper Countryman'], dtype=object)"
      ]
     },
     "execution_count": 64,
     "metadata": {},
     "output_type": "execute_result"
    }
   ],
   "source": [
    "df[df['Brand'] == 'Mini']['Model'].unique()"
   ]
  },
  {
   "cell_type": "markdown",
   "id": "545cdf1f-e08b-4619-8b45-760ac442304c",
   "metadata": {},
   "source": [
    "##### 17. Chevrolet"
   ]
  },
  {
   "cell_type": "code",
   "execution_count": 65,
   "id": "5e353b56-1422-42a7-8ef0-36da1bd7fbe7",
   "metadata": {},
   "outputs": [
    {
     "data": {
      "text/plain": [
       "array(['Aveo', 'Beat', 'Captiva', 'Cruze', 'Enjoy', 'Optra', 'Sail',\n",
       "       'Spark', 'Tavera'], dtype=object)"
      ]
     },
     "execution_count": 65,
     "metadata": {},
     "output_type": "execute_result"
    }
   ],
   "source": [
    "df[df['Brand'] == 'Chevrolet']['Model'].unique()"
   ]
  },
  {
   "cell_type": "markdown",
   "id": "aed6a5b2-c0f2-4a87-90c5-bdeb03930184",
   "metadata": {},
   "source": [
    "##### 18. Jaguar"
   ]
  },
  {
   "cell_type": "code",
   "execution_count": 66,
   "id": "26a9c620-f94a-406c-91d3-9e37278f5ca0",
   "metadata": {},
   "outputs": [
    {
     "data": {
      "text/plain": [
       "array(['F', 'Xe', 'Xf', 'Xj'], dtype=object)"
      ]
     },
     "execution_count": 66,
     "metadata": {},
     "output_type": "execute_result"
    }
   ],
   "source": [
    "df[df['Brand'] == 'Jaguar']['Model'].unique()"
   ]
  },
  {
   "cell_type": "code",
   "execution_count": 67,
   "id": "c2dcf618-4366-4d43-a559-4e92908f8a7f",
   "metadata": {},
   "outputs": [],
   "source": [
    "df.replace('Xe', 'XE', inplace=True)\n",
    "df.replace('Xf', 'XF', inplace=True)\n",
    "df.replace('Xj', 'XJ', inplace=True)"
   ]
  },
  {
   "cell_type": "code",
   "execution_count": 68,
   "id": "db1179cf-bc35-4cc5-8852-5ebb22dd8187",
   "metadata": {},
   "outputs": [
    {
     "data": {
      "text/plain": [
       "array(['F', 'XE', 'XF', 'XJ'], dtype=object)"
      ]
     },
     "execution_count": 68,
     "metadata": {},
     "output_type": "execute_result"
    }
   ],
   "source": [
    "df[df['Brand'] == 'Jaguar']['Model'].unique()"
   ]
  },
  {
   "cell_type": "markdown",
   "id": "708ddc9c-97e3-4a87-a4ed-06455fd23e72",
   "metadata": {},
   "source": [
    "##### 19. Fiat"
   ]
  },
  {
   "cell_type": "code",
   "execution_count": 69,
   "id": "480e6c8b-1b34-49aa-a85c-0e9f8709378d",
   "metadata": {},
   "outputs": [
    {
     "data": {
      "text/plain": [
       "array(['Avventura', 'Grande', 'Linea', 'Petra', 'Punto', 'Siena'],\n",
       "      dtype=object)"
      ]
     },
     "execution_count": 69,
     "metadata": {},
     "output_type": "execute_result"
    }
   ],
   "source": [
    "df[df['Brand'] == 'Fiat']['Model'].unique()"
   ]
  },
  {
   "cell_type": "markdown",
   "id": "68637eb0-0a40-4d73-96c5-d8852d91ca7b",
   "metadata": {},
   "source": [
    "##### 20. Porsche"
   ]
  },
  {
   "cell_type": "code",
   "execution_count": 70,
   "id": "90204ce6-f943-4349-9909-3e4d0f005976",
   "metadata": {},
   "outputs": [
    {
     "data": {
      "text/plain": [
       "array(['Boxster', 'Cayenne', 'Cayman', 'Panamera'], dtype=object)"
      ]
     },
     "execution_count": 70,
     "metadata": {},
     "output_type": "execute_result"
    }
   ],
   "source": [
    "df[df['Brand'] == 'Porsche']['Model'].unique()"
   ]
  },
  {
   "cell_type": "code",
   "execution_count": 71,
   "id": "a7165eb7-6698-4fcf-ada3-f85aa19c1659",
   "metadata": {},
   "outputs": [],
   "source": [
    "df.replace('Boxster', '718 Boxster', inplace=True)"
   ]
  },
  {
   "cell_type": "code",
   "execution_count": 72,
   "id": "52e4e0d4-b3be-4644-a63d-5291f654f992",
   "metadata": {},
   "outputs": [
    {
     "data": {
      "text/plain": [
       "array(['718 Boxster', 'Cayenne', 'Cayman', 'Panamera'], dtype=object)"
      ]
     },
     "execution_count": 72,
     "metadata": {},
     "output_type": "execute_result"
    }
   ],
   "source": [
    "df[df['Brand'] == 'Porsche']['Model'].unique()"
   ]
  },
  {
   "cell_type": "markdown",
   "id": "088ff758-0bb6-438f-a170-4660813991a3",
   "metadata": {},
   "source": [
    "##### 21. Nissan"
   ]
  },
  {
   "cell_type": "code",
   "execution_count": 73,
   "id": "e188bb04-242e-4056-9309-90c9be18ec6c",
   "metadata": {},
   "outputs": [
    {
     "data": {
      "text/plain": [
       "array(['Evalia', 'Micra', 'Sunny', 'Teana', 'Terrano', 'X-Trail'],\n",
       "      dtype=object)"
      ]
     },
     "execution_count": 73,
     "metadata": {},
     "output_type": "execute_result"
    }
   ],
   "source": [
    "df[df['Brand'] == 'Nissan']['Model'].unique()"
   ]
  },
  {
   "cell_type": "markdown",
   "id": "10ff7844-a6a8-4c03-a466-a99b600f5f9a",
   "metadata": {},
   "source": [
    "##### 22. Force Motors"
   ]
  },
  {
   "cell_type": "code",
   "execution_count": 74,
   "id": "99002c16-cf6a-4495-9ae0-be55743e5953",
   "metadata": {},
   "outputs": [],
   "source": [
    "df.replace('Force', 'Force Motors', inplace=True)"
   ]
  },
  {
   "cell_type": "code",
   "execution_count": 75,
   "id": "eb11db2c-b46f-472f-870b-a9ed9bb5794c",
   "metadata": {},
   "outputs": [
    {
     "data": {
      "text/plain": [
       "array(['One'], dtype=object)"
      ]
     },
     "execution_count": 75,
     "metadata": {},
     "output_type": "execute_result"
    }
   ],
   "source": [
    "df[df['Brand'] == 'Force Motors']['Model'].unique()"
   ]
  },
  {
   "cell_type": "code",
   "execution_count": 76,
   "id": "26012ccb-cd77-40ed-9f91-43836228e280",
   "metadata": {},
   "outputs": [],
   "source": [
    "df.replace('One', 'Force One', inplace=True)"
   ]
  },
  {
   "cell_type": "code",
   "execution_count": 77,
   "id": "0930894f-4e03-4a8a-831c-8cc5ba018fbc",
   "metadata": {},
   "outputs": [
    {
     "data": {
      "text/plain": [
       "array(['Force One'], dtype=object)"
      ]
     },
     "execution_count": 77,
     "metadata": {},
     "output_type": "execute_result"
    }
   ],
   "source": [
    "df[df['Brand'] == 'Force Motors']['Model'].unique()"
   ]
  },
  {
   "cell_type": "markdown",
   "id": "eb5182dc-a576-4834-9bcf-fde66d3baec2",
   "metadata": {},
   "source": [
    "##### 23. Mitsubishi"
   ]
  },
  {
   "cell_type": "code",
   "execution_count": 78,
   "id": "14ccd8d0-f8a8-41ad-b512-23f6bc38f914",
   "metadata": {},
   "outputs": [
    {
     "data": {
      "text/plain": [
       "array(['Cedia', 'Lancer', 'Montero', 'Outlander', 'Pajero'], dtype=object)"
      ]
     },
     "execution_count": 78,
     "metadata": {},
     "output_type": "execute_result"
    }
   ],
   "source": [
    "df[df['Brand'] == 'Mitsubishi']['Model'].unique()"
   ]
  },
  {
   "cell_type": "markdown",
   "id": "c7dd8035-5050-4e38-b4f1-ce9b8eec0f8b",
   "metadata": {},
   "source": [
    "##### 24. Isuzu"
   ]
  },
  {
   "cell_type": "code",
   "execution_count": 79,
   "id": "d698db4d-6b53-4bc8-b642-7f942ff54906",
   "metadata": {},
   "outputs": [
    {
     "data": {
      "text/plain": [
       "array(['D-Max', 'Mux'], dtype=object)"
      ]
     },
     "execution_count": 79,
     "metadata": {},
     "output_type": "execute_result"
    }
   ],
   "source": [
    "df[df['Brand'] == 'Isuzu']['Model'].unique()"
   ]
  },
  {
   "cell_type": "code",
   "execution_count": 80,
   "id": "db971682-0dcb-4530-a54a-eda915563edc",
   "metadata": {},
   "outputs": [],
   "source": [
    "df.replace('Mux', 'MUX', inplace=True)"
   ]
  },
  {
   "cell_type": "code",
   "execution_count": 81,
   "id": "1046ae36-4af2-43e8-a55d-a0dc4450db2d",
   "metadata": {},
   "outputs": [
    {
     "data": {
      "text/plain": [
       "array(['D-Max', 'MUX'], dtype=object)"
      ]
     },
     "execution_count": 81,
     "metadata": {},
     "output_type": "execute_result"
    }
   ],
   "source": [
    "df[df['Brand'] == 'Isuzu']['Model'].unique()"
   ]
  },
  {
   "cell_type": "markdown",
   "id": "62ed7022-0b10-4733-af81-11a95b043d9b",
   "metadata": {},
   "source": [
    "##### 25. Datsun"
   ]
  },
  {
   "cell_type": "code",
   "execution_count": 82,
   "id": "c2486dc3-2dc2-409d-bc90-5f92334f1a11",
   "metadata": {},
   "outputs": [
    {
     "data": {
      "text/plain": [
       "array(['Go', 'Redi', 'Redi-Go'], dtype=object)"
      ]
     },
     "execution_count": 82,
     "metadata": {},
     "output_type": "execute_result"
    }
   ],
   "source": [
    "df[df['Brand'] == 'Datsun']['Model'].unique()"
   ]
  },
  {
   "cell_type": "code",
   "execution_count": 83,
   "id": "63458f2a-e7f8-4c6e-a889-00c81fe2e73d",
   "metadata": {},
   "outputs": [],
   "source": [
    "df.replace('Redi-Go', 'Redi GO', inplace=True)\n",
    "df.replace('Redi', 'Redi GO', inplace=True)"
   ]
  },
  {
   "cell_type": "code",
   "execution_count": 84,
   "id": "6611023a-9e2b-41ab-b060-44b7f4743f28",
   "metadata": {},
   "outputs": [
    {
     "data": {
      "text/plain": [
       "array(['Go', 'Redi GO'], dtype=object)"
      ]
     },
     "execution_count": 84,
     "metadata": {},
     "output_type": "execute_result"
    }
   ],
   "source": [
    "df[df['Brand'] == 'Datsun']['Model'].unique()"
   ]
  },
  {
   "cell_type": "markdown",
   "id": "5c5cce36-b4e5-4cd2-a39e-94c0a1720dbb",
   "metadata": {},
   "source": [
    "##### 26. Ambassador"
   ]
  },
  {
   "cell_type": "code",
   "execution_count": 85,
   "id": "7fa5570e-229f-4b19-afb5-4f4f00a43efa",
   "metadata": {},
   "outputs": [
    {
     "data": {
      "text/plain": [
       "array(['Classic'], dtype=object)"
      ]
     },
     "execution_count": 85,
     "metadata": {},
     "output_type": "execute_result"
    }
   ],
   "source": [
    "df[df['Brand'] == 'Ambassador']['Model'].unique()"
   ]
  },
  {
   "cell_type": "markdown",
   "id": "837725ba-f958-428b-9e3b-58c46344e7b9",
   "metadata": {},
   "source": [
    "##### 27. Bentley"
   ]
  },
  {
   "cell_type": "code",
   "execution_count": 86,
   "id": "9c87539c-d16e-4453-b7d3-5032bce966d2",
   "metadata": {},
   "outputs": [
    {
     "data": {
      "text/plain": [
       "array(['Continental'], dtype=object)"
      ]
     },
     "execution_count": 86,
     "metadata": {},
     "output_type": "execute_result"
    }
   ],
   "source": [
    "df[df['Brand'] == 'Bentley']['Model'].unique()"
   ]
  },
  {
   "cell_type": "markdown",
   "id": "f654c921-f178-46da-9df6-d49f0ca5e425",
   "metadata": {},
   "source": [
    "##### 28. Smart"
   ]
  },
  {
   "cell_type": "code",
   "execution_count": 87,
   "id": "5737bd8c-3a26-451e-9938-f277049c9137",
   "metadata": {},
   "outputs": [
    {
     "data": {
      "text/plain": [
       "array(['Fortwo'], dtype=object)"
      ]
     },
     "execution_count": 87,
     "metadata": {},
     "output_type": "execute_result"
    }
   ],
   "source": [
    "df[df['Brand'] == 'Smart']['Model'].unique()"
   ]
  },
  {
   "cell_type": "markdown",
   "id": "1d30bc43-d092-42af-aeed-54eac81a1f21",
   "metadata": {},
   "source": [
    "##### 29. Jeep"
   ]
  },
  {
   "cell_type": "code",
   "execution_count": 88,
   "id": "57b1fc03-fe67-4cb8-95b4-355e93128f1e",
   "metadata": {},
   "outputs": [
    {
     "data": {
      "text/plain": [
       "array(['Compass'], dtype=object)"
      ]
     },
     "execution_count": 88,
     "metadata": {},
     "output_type": "execute_result"
    }
   ],
   "source": [
    "df[df['Brand'] == 'Jeep']['Model'].unique()"
   ]
  },
  {
   "cell_type": "markdown",
   "id": "2a9f6074-44bd-4cbb-8daf-800289443dec",
   "metadata": {},
   "source": [
    "##### 30. Lamborghini"
   ]
  },
  {
   "cell_type": "code",
   "execution_count": 89,
   "id": "9d0b0a1a-67c6-4b7b-b5a0-453c549f9cb4",
   "metadata": {},
   "outputs": [
    {
     "data": {
      "text/plain": [
       "array(['Gallardo'], dtype=object)"
      ]
     },
     "execution_count": 89,
     "metadata": {},
     "output_type": "execute_result"
    }
   ],
   "source": [
    "df[df['Brand'] == 'Lamborghini']['Model'].unique()"
   ]
  },
  {
   "cell_type": "markdown",
   "id": "516cec72-471c-49dc-baf7-dabd00b20aef",
   "metadata": {},
   "source": [
    "##### 31. Land Rover"
   ]
  },
  {
   "cell_type": "code",
   "execution_count": 90,
   "id": "489589c8-f300-4d52-bc6d-0358ca06177c",
   "metadata": {},
   "outputs": [
    {
     "data": {
      "text/plain": [
       "array(['Rover'], dtype=object)"
      ]
     },
     "execution_count": 90,
     "metadata": {},
     "output_type": "execute_result"
    }
   ],
   "source": [
    "df[df['Brand'] == 'Land']['Model'].unique()"
   ]
  },
  {
   "cell_type": "code",
   "execution_count": 91,
   "id": "38792847-eeda-4479-88ef-6903b20947d6",
   "metadata": {},
   "outputs": [],
   "source": [
    "df.replace('Rover', 'Range Rover', inplace=True)"
   ]
  },
  {
   "cell_type": "markdown",
   "id": "22d6608f-a6b4-4eb5-a6cf-c29b52487026",
   "metadata": {},
   "source": [
    "### Saving the cleaned dataset for further use"
   ]
  },
  {
   "cell_type": "code",
   "execution_count": 92,
   "id": "d1029ef4-5ce7-4b3d-beb9-3a24adf9e7c5",
   "metadata": {},
   "outputs": [
    {
     "data": {
      "text/plain": [
       "(5907, 8)"
      ]
     },
     "execution_count": 92,
     "metadata": {},
     "output_type": "execute_result"
    }
   ],
   "source": [
    "df.shape"
   ]
  },
  {
   "cell_type": "code",
   "execution_count": 93,
   "id": "3ebab357-c794-42db-9059-7a009acd50ce",
   "metadata": {},
   "outputs": [],
   "source": [
    "df.to_csv('../Dataset/Used_Car_Df2.csv', index=False)"
   ]
  }
 ],
 "metadata": {
  "kernelspec": {
   "display_name": "Python 3 (ipykernel)",
   "language": "python",
   "name": "python3"
  },
  "language_info": {
   "codemirror_mode": {
    "name": "ipython",
    "version": 3
   },
   "file_extension": ".py",
   "mimetype": "text/x-python",
   "name": "python",
   "nbconvert_exporter": "python",
   "pygments_lexer": "ipython3",
   "version": "3.12.6"
  }
 },
 "nbformat": 4,
 "nbformat_minor": 5
}
